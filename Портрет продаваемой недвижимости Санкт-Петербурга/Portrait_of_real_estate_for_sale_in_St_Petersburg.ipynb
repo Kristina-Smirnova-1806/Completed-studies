{
  "cells": [
    {
      "cell_type": "markdown",
      "metadata": {
        "id": "ji8zf31eqpvn"
      },
      "source": [
        "### Получение данных\n"
      ]
    },
    {
      "cell_type": "code",
      "execution_count": null,
      "metadata": {
        "scrolled": false,
        "id": "W1TzP2dIqpvn"
      },
      "outputs": [],
      "source": [
        "#импортируем сразу все библиотеки, которые нам могут понадобиться\n",
        "\n",
        "import pandas as pd\n",
        "import numpy as np\n",
        "import matplotlib.pyplot as plt\n",
        "import seaborn as sns\n"
      ]
    },
    {
      "cell_type": "code",
      "execution_count": null,
      "metadata": {
        "scrolled": true,
        "id": "APWfw2nCqpvq",
        "outputId": "2aa1aa54-cde0-44db-9237-639b0f01b748"
      },
      "outputs": [
        {
          "name": "stdout",
          "output_type": "stream",
          "text": [
            "<class 'pandas.core.frame.DataFrame'>\n",
            "RangeIndex: 23699 entries, 0 to 23698\n",
            "Data columns (total 22 columns):\n",
            " #   Column                Non-Null Count  Dtype  \n",
            "---  ------                --------------  -----  \n",
            " 0   total_images          23699 non-null  int64  \n",
            " 1   last_price            23699 non-null  float64\n",
            " 2   total_area            23699 non-null  float64\n",
            " 3   first_day_exposition  23699 non-null  object \n",
            " 4   rooms                 23699 non-null  int64  \n",
            " 5   ceiling_height        14504 non-null  float64\n",
            " 6   floors_total          23613 non-null  float64\n",
            " 7   living_area           21796 non-null  float64\n",
            " 8   floor                 23699 non-null  int64  \n",
            " 9   is_apartment          2775 non-null   object \n",
            " 10  studio                23699 non-null  bool   \n",
            " 11  open_plan             23699 non-null  bool   \n",
            " 12  kitchen_area          21421 non-null  float64\n",
            " 13  balcony               12180 non-null  float64\n",
            " 14  locality_name         23650 non-null  object \n",
            " 15  airports_nearest      18157 non-null  float64\n",
            " 16  cityCenters_nearest   18180 non-null  float64\n",
            " 17  parks_around3000      18181 non-null  float64\n",
            " 18  parks_nearest         8079 non-null   float64\n",
            " 19  ponds_around3000      18181 non-null  float64\n",
            " 20  ponds_nearest         9110 non-null   float64\n",
            " 21  days_exposition       20518 non-null  float64\n",
            "dtypes: bool(2), float64(14), int64(3), object(3)\n",
            "memory usage: 3.7+ MB\n"
          ]
        }
      ],
      "source": [
        "data.info()"
      ]
    },
    {
      "cell_type": "code",
      "execution_count": null,
      "metadata": {
        "scrolled": true,
        "id": "9jlFJPotqpvq",
        "outputId": "bdc13333-cd0d-480c-8c3c-acea7dda96fe"
      },
      "outputs": [
        {
          "data": {
            "text/html": [
              "<div>\n",
              "<style scoped>\n",
              "    .dataframe tbody tr th:only-of-type {\n",
              "        vertical-align: middle;\n",
              "    }\n",
              "\n",
              "    .dataframe tbody tr th {\n",
              "        vertical-align: top;\n",
              "    }\n",
              "\n",
              "    .dataframe thead th {\n",
              "        text-align: right;\n",
              "    }\n",
              "</style>\n",
              "<table border=\"1\" class=\"dataframe\">\n",
              "  <thead>\n",
              "    <tr style=\"text-align: right;\">\n",
              "      <th></th>\n",
              "      <th>total_images</th>\n",
              "      <th>last_price</th>\n",
              "      <th>total_area</th>\n",
              "      <th>rooms</th>\n",
              "      <th>ceiling_height</th>\n",
              "      <th>floors_total</th>\n",
              "      <th>living_area</th>\n",
              "      <th>floor</th>\n",
              "      <th>kitchen_area</th>\n",
              "      <th>balcony</th>\n",
              "      <th>airports_nearest</th>\n",
              "      <th>cityCenters_nearest</th>\n",
              "      <th>parks_around3000</th>\n",
              "      <th>parks_nearest</th>\n",
              "      <th>ponds_around3000</th>\n",
              "      <th>ponds_nearest</th>\n",
              "      <th>days_exposition</th>\n",
              "    </tr>\n",
              "  </thead>\n",
              "  <tbody>\n",
              "    <tr>\n",
              "      <th>count</th>\n",
              "      <td>23699.000000</td>\n",
              "      <td>2.369900e+04</td>\n",
              "      <td>23699.000000</td>\n",
              "      <td>23699.000000</td>\n",
              "      <td>14504.000000</td>\n",
              "      <td>23613.000000</td>\n",
              "      <td>21796.000000</td>\n",
              "      <td>23699.000000</td>\n",
              "      <td>21421.000000</td>\n",
              "      <td>12180.000000</td>\n",
              "      <td>18157.000000</td>\n",
              "      <td>18180.000000</td>\n",
              "      <td>18181.000000</td>\n",
              "      <td>8079.000000</td>\n",
              "      <td>18181.000000</td>\n",
              "      <td>9110.000000</td>\n",
              "      <td>20518.000000</td>\n",
              "    </tr>\n",
              "    <tr>\n",
              "      <th>mean</th>\n",
              "      <td>9.858475</td>\n",
              "      <td>6.541549e+06</td>\n",
              "      <td>60.348651</td>\n",
              "      <td>2.070636</td>\n",
              "      <td>2.771499</td>\n",
              "      <td>10.673824</td>\n",
              "      <td>34.457852</td>\n",
              "      <td>5.892358</td>\n",
              "      <td>10.569807</td>\n",
              "      <td>1.150082</td>\n",
              "      <td>28793.672193</td>\n",
              "      <td>14191.277833</td>\n",
              "      <td>0.611408</td>\n",
              "      <td>490.804555</td>\n",
              "      <td>0.770255</td>\n",
              "      <td>517.980900</td>\n",
              "      <td>180.888634</td>\n",
              "    </tr>\n",
              "    <tr>\n",
              "      <th>std</th>\n",
              "      <td>5.682529</td>\n",
              "      <td>1.088701e+07</td>\n",
              "      <td>35.654083</td>\n",
              "      <td>1.078405</td>\n",
              "      <td>1.261056</td>\n",
              "      <td>6.597173</td>\n",
              "      <td>22.030445</td>\n",
              "      <td>4.885249</td>\n",
              "      <td>5.905438</td>\n",
              "      <td>1.071300</td>\n",
              "      <td>12630.880622</td>\n",
              "      <td>8608.386210</td>\n",
              "      <td>0.802074</td>\n",
              "      <td>342.317995</td>\n",
              "      <td>0.938346</td>\n",
              "      <td>277.720643</td>\n",
              "      <td>219.727988</td>\n",
              "    </tr>\n",
              "    <tr>\n",
              "      <th>min</th>\n",
              "      <td>0.000000</td>\n",
              "      <td>1.219000e+04</td>\n",
              "      <td>12.000000</td>\n",
              "      <td>0.000000</td>\n",
              "      <td>1.000000</td>\n",
              "      <td>1.000000</td>\n",
              "      <td>2.000000</td>\n",
              "      <td>1.000000</td>\n",
              "      <td>1.300000</td>\n",
              "      <td>0.000000</td>\n",
              "      <td>0.000000</td>\n",
              "      <td>181.000000</td>\n",
              "      <td>0.000000</td>\n",
              "      <td>1.000000</td>\n",
              "      <td>0.000000</td>\n",
              "      <td>13.000000</td>\n",
              "      <td>1.000000</td>\n",
              "    </tr>\n",
              "    <tr>\n",
              "      <th>25%</th>\n",
              "      <td>6.000000</td>\n",
              "      <td>3.400000e+06</td>\n",
              "      <td>40.000000</td>\n",
              "      <td>1.000000</td>\n",
              "      <td>2.520000</td>\n",
              "      <td>5.000000</td>\n",
              "      <td>18.600000</td>\n",
              "      <td>2.000000</td>\n",
              "      <td>7.000000</td>\n",
              "      <td>0.000000</td>\n",
              "      <td>18585.000000</td>\n",
              "      <td>9238.000000</td>\n",
              "      <td>0.000000</td>\n",
              "      <td>288.000000</td>\n",
              "      <td>0.000000</td>\n",
              "      <td>294.000000</td>\n",
              "      <td>45.000000</td>\n",
              "    </tr>\n",
              "    <tr>\n",
              "      <th>50%</th>\n",
              "      <td>9.000000</td>\n",
              "      <td>4.650000e+06</td>\n",
              "      <td>52.000000</td>\n",
              "      <td>2.000000</td>\n",
              "      <td>2.650000</td>\n",
              "      <td>9.000000</td>\n",
              "      <td>30.000000</td>\n",
              "      <td>4.000000</td>\n",
              "      <td>9.100000</td>\n",
              "      <td>1.000000</td>\n",
              "      <td>26726.000000</td>\n",
              "      <td>13098.500000</td>\n",
              "      <td>0.000000</td>\n",
              "      <td>455.000000</td>\n",
              "      <td>1.000000</td>\n",
              "      <td>502.000000</td>\n",
              "      <td>95.000000</td>\n",
              "    </tr>\n",
              "    <tr>\n",
              "      <th>75%</th>\n",
              "      <td>14.000000</td>\n",
              "      <td>6.800000e+06</td>\n",
              "      <td>69.900000</td>\n",
              "      <td>3.000000</td>\n",
              "      <td>2.800000</td>\n",
              "      <td>16.000000</td>\n",
              "      <td>42.300000</td>\n",
              "      <td>8.000000</td>\n",
              "      <td>12.000000</td>\n",
              "      <td>2.000000</td>\n",
              "      <td>37273.000000</td>\n",
              "      <td>16293.000000</td>\n",
              "      <td>1.000000</td>\n",
              "      <td>612.000000</td>\n",
              "      <td>1.000000</td>\n",
              "      <td>729.000000</td>\n",
              "      <td>232.000000</td>\n",
              "    </tr>\n",
              "    <tr>\n",
              "      <th>max</th>\n",
              "      <td>50.000000</td>\n",
              "      <td>7.630000e+08</td>\n",
              "      <td>900.000000</td>\n",
              "      <td>19.000000</td>\n",
              "      <td>100.000000</td>\n",
              "      <td>60.000000</td>\n",
              "      <td>409.700000</td>\n",
              "      <td>33.000000</td>\n",
              "      <td>112.000000</td>\n",
              "      <td>5.000000</td>\n",
              "      <td>84869.000000</td>\n",
              "      <td>65968.000000</td>\n",
              "      <td>3.000000</td>\n",
              "      <td>3190.000000</td>\n",
              "      <td>3.000000</td>\n",
              "      <td>1344.000000</td>\n",
              "      <td>1580.000000</td>\n",
              "    </tr>\n",
              "  </tbody>\n",
              "</table>\n",
              "</div>"
            ],
            "text/plain": [
              "       total_images    last_price    total_area         rooms  ceiling_height  \\\n",
              "count  23699.000000  2.369900e+04  23699.000000  23699.000000    14504.000000   \n",
              "mean       9.858475  6.541549e+06     60.348651      2.070636        2.771499   \n",
              "std        5.682529  1.088701e+07     35.654083      1.078405        1.261056   \n",
              "min        0.000000  1.219000e+04     12.000000      0.000000        1.000000   \n",
              "25%        6.000000  3.400000e+06     40.000000      1.000000        2.520000   \n",
              "50%        9.000000  4.650000e+06     52.000000      2.000000        2.650000   \n",
              "75%       14.000000  6.800000e+06     69.900000      3.000000        2.800000   \n",
              "max       50.000000  7.630000e+08    900.000000     19.000000      100.000000   \n",
              "\n",
              "       floors_total   living_area         floor  kitchen_area       balcony  \\\n",
              "count  23613.000000  21796.000000  23699.000000  21421.000000  12180.000000   \n",
              "mean      10.673824     34.457852      5.892358     10.569807      1.150082   \n",
              "std        6.597173     22.030445      4.885249      5.905438      1.071300   \n",
              "min        1.000000      2.000000      1.000000      1.300000      0.000000   \n",
              "25%        5.000000     18.600000      2.000000      7.000000      0.000000   \n",
              "50%        9.000000     30.000000      4.000000      9.100000      1.000000   \n",
              "75%       16.000000     42.300000      8.000000     12.000000      2.000000   \n",
              "max       60.000000    409.700000     33.000000    112.000000      5.000000   \n",
              "\n",
              "       airports_nearest  cityCenters_nearest  parks_around3000  parks_nearest  \\\n",
              "count      18157.000000         18180.000000      18181.000000    8079.000000   \n",
              "mean       28793.672193         14191.277833          0.611408     490.804555   \n",
              "std        12630.880622          8608.386210          0.802074     342.317995   \n",
              "min            0.000000           181.000000          0.000000       1.000000   \n",
              "25%        18585.000000          9238.000000          0.000000     288.000000   \n",
              "50%        26726.000000         13098.500000          0.000000     455.000000   \n",
              "75%        37273.000000         16293.000000          1.000000     612.000000   \n",
              "max        84869.000000         65968.000000          3.000000    3190.000000   \n",
              "\n",
              "       ponds_around3000  ponds_nearest  days_exposition  \n",
              "count      18181.000000    9110.000000     20518.000000  \n",
              "mean           0.770255     517.980900       180.888634  \n",
              "std            0.938346     277.720643       219.727988  \n",
              "min            0.000000      13.000000         1.000000  \n",
              "25%            0.000000     294.000000        45.000000  \n",
              "50%            1.000000     502.000000        95.000000  \n",
              "75%            1.000000     729.000000       232.000000  \n",
              "max            3.000000    1344.000000      1580.000000  "
            ]
          },
          "execution_count": 4,
          "metadata": {},
          "output_type": "execute_result"
        }
      ],
      "source": [
        "# посмотрим на общее описание числовых данных\n",
        "# помним, что\n",
        "\n",
        "#count     # количество наблюдений в наборе данных\n",
        "#mean      # среднее арифметическое\n",
        "#std       # стандартное отклонение\n",
        "#min       # минимальное значение\n",
        "#25%       # первый квартиль\n",
        "#50%       # медиана, или второй квартиль\n",
        "#75%       # третий квартиль\n",
        "#max       # максимальное значение\n",
        "#dtype:    # тип данных\n",
        "\n",
        "\n",
        "data.describe()"
      ]
    },
    {
      "cell_type": "code",
      "execution_count": null,
      "metadata": {
        "scrolled": true,
        "id": "AZPzxuVZqpvr",
        "outputId": "ef44c1e5-e0f0-4224-dd3a-20a8db1f54d1"
      },
      "outputs": [
        {
          "data": {
            "image/png": "[encoded data removed]",
            "text/plain": [
              "<Figure size 1296x1296 with 20 Axes>"
            ]
          },
          "metadata": {
            "needs_background": "light"
          },
          "output_type": "display_data"
        }
      ],
      "source": [
        "#построим гистрограмму для всех столбцов датафрейма\n",
        "\n",
        "data.hist(figsize=(18, 18))\n",
        "plt.show()\n"
      ]
    },
    {
      "cell_type": "markdown",
      "metadata": {
        "id": "kaptSRaMqpvs"
      },
      "source": [
        "\n",
        "\n",
        "```\n",
        "# Выбран кодовый формат\n",
        "```\n",
        "\n",
        "### Предобработка данных"
      ]
    },
    {
      "cell_type": "code",
      "execution_count": null,
      "metadata": {
        "id": "le5_MO6yqpvs",
        "outputId": "df17ecec-e3f9-4e01-9207-50b05ba68cb4"
      },
      "outputs": [
        {
          "data": {
            "text/plain": [
              "total_images                0\n",
              "last_price                  0\n",
              "total_area                  0\n",
              "first_day_exposition        0\n",
              "rooms                       0\n",
              "ceiling_height           9195\n",
              "floors_total               86\n",
              "living_area              1903\n",
              "floor                       0\n",
              "is_apartment            20924\n",
              "studio                      0\n",
              "open_plan                   0\n",
              "kitchen_area             2278\n",
              "balcony                 11519\n",
              "locality_name              49\n",
              "airports_nearest         5542\n",
              "cityCenters_nearest      5519\n",
              "parks_around3000         5518\n",
              "parks_nearest           15620\n",
              "ponds_around3000         5518\n",
              "ponds_nearest           14589\n",
              "days_exposition          3181\n",
              "dtype: int64"
            ]
          },
          "execution_count": 6,
          "metadata": {},
          "output_type": "execute_result"
        }
      ],
      "source": [
        "#выведем количество пропущенных значений для каждого столбца\n",
        "\n",
        "data.isna().sum()"
      ]
    },
    {
      "cell_type": "code",
      "execution_count": null,
      "metadata": {
        "id": "OhgBbo6hqpvs",
        "outputId": "f1c1f968-917e-4488-9367-dce70f2b4719"
      },
      "outputs": [
        {
          "data": {
            "text/plain": [
              "0"
            ]
          },
          "execution_count": 7,
          "metadata": {},
          "output_type": "execute_result"
        }
      ],
      "source": [
        "# проверим на наличие дубликатов\n",
        "\n",
        "data.duplicated().sum()"
      ]
    },
    {
      "cell_type": "markdown",
      "metadata": {
        "id": "2cpcg7jGqpvs"
      },
      "source": [
        "Посмотрим, что можно сделать с пропусками в разных столбцах:\n",
        "\n",
        "\n",
        "ceiling_height - высота потолков в м - заполним с учетом максимальной и минимальной высоты\n",
        "living_area - жилая площадь в квадратных метрах (м²) - заполним с помощью соотношения общей площади к известным данным\n",
        "is_apartment   -  апартаменты (булев тип) -            заменим тип данных на bool\n",
        "kitchen_area - площадь кухни в квадратных метрах (м²) - заполним с помощью соотношения общей площади к известным данным\n",
        "balcony - число балконов -                             заменить на  0\n",
        "locality_name - название населённого пункта         - оставим так, нет объективных данных для заполнения\n",
        "airports_nearest - расстояние до ближайшего аэропорта в метрах (м) - оставим так,нет объективных данных для заполнения\n",
        "cityCenters_nearest  - расстояние до центра города (м)   -  оставим так, нет объективных данных для заполнения\n",
        "parks_around3000 - число парков в радиусе 3 км    -    оставим таr, нет объективных данных для заполнения    \n",
        "parks_nearest - расстояние до ближайшего парка (м)  -  оставим так, нет объективных данных для заполнения          \n",
        "ponds_around3000  - число водоёмов в радиусе 3 км   -  оставим так, нет объективных данных для заполнения   \n",
        "ponds_nearest  - расстояние до ближайшего водоёма (м)     -  оставим так, нет объективных данных для заполнения\n",
        "days_exposition - сколько дней было размещено объявление (от публикации до снятия)  - оставим так     \n"
      ]
    },
    {
      "cell_type": "code",
      "execution_count": null,
      "metadata": {
        "id": "9c8iZ6k_qpvt",
        "outputId": "193c1af3-1e90-409a-a883-3f4e80d6dd54"
      },
      "outputs": [
        {
          "data": {
            "text/plain": [
              "0     0.0\n",
              "1     2.0\n",
              "2     0.0\n",
              "3     0.0\n",
              "4     0.0\n",
              "5     0.0\n",
              "6     1.0\n",
              "7     2.0\n",
              "8     0.0\n",
              "9     2.0\n",
              "10    0.0\n",
              "11    1.0\n",
              "12    0.0\n",
              "13    1.0\n",
              "14    0.0\n",
              "15    1.0\n",
              "16    0.0\n",
              "17    1.0\n",
              "18    1.0\n",
              "19    0.0\n",
              "Name: balcony, dtype: float64"
            ]
          },
          "metadata": {},
          "output_type": "display_data"
        },
        {
          "data": {
            "text/plain": [
              "0"
            ]
          },
          "execution_count": 8,
          "metadata": {},
          "output_type": "execute_result"
        }
      ],
      "source": [
        "# заполним кол-во пропущенных значений на 0 в столбце balcony, скорее всего их не указали в связи с отсутствием\n",
        "# проверим, что количество балконов осталось прежним, где было указано, заменилось на 0, где отсутствовало,\n",
        "# а все пропуски заполнены\n",
        "\n",
        "data['balcony'] = data['balcony'].fillna(0)\n",
        "display(data['balcony'].head(20))\n",
        "data['balcony'].isna().sum()"
      ]
    },
    {
      "cell_type": "code",
      "execution_count": null,
      "metadata": {
        "id": "h6H7iatGqpvt",
        "outputId": "0253cb0f-7959-4718-a739-790b89d9cf92"
      },
      "outputs": [
        {
          "data": {
            "text/plain": [
              "0      True\n",
              "1      True\n",
              "2      True\n",
              "3      True\n",
              "4      True\n",
              "5      True\n",
              "6      True\n",
              "7      True\n",
              "8      True\n",
              "9      True\n",
              "10     True\n",
              "11    False\n",
              "12     True\n",
              "13     True\n",
              "14     True\n",
              "15     True\n",
              "16     True\n",
              "17     True\n",
              "18     True\n",
              "19     True\n",
              "Name: is_apartment, dtype: bool"
            ]
          },
          "metadata": {},
          "output_type": "display_data"
        },
        {
          "data": {
            "text/plain": [
              "0"
            ]
          },
          "execution_count": 9,
          "metadata": {},
          "output_type": "execute_result"
        }
      ],
      "source": [
        "# в столбце is_apartment значения заполнены булевым типом данных, апартаменты (булев тип), заменим тип данных на bool\n",
        "# проверим, что все пропуски заполнены\n",
        "\n",
        "data['is_apartment'] = data['is_apartment'].astype('bool')\n",
        "display(data['is_apartment'].head(20))\n",
        "data['balcony'].isna().sum()\n"
      ]
    },
    {
      "cell_type": "code",
      "execution_count": null,
      "metadata": {
        "id": "F8aUusugqpvt"
      },
      "outputs": [],
      "source": [
        "#заполним пропуски в столбце living_area - жилая площадь в квадратных метрах (м²)\n",
        "\n",
        "#создадим новую переменную, которая сохранит все значения столбца с жилой площадью, не больше 0\n",
        "\n",
        "living_area_Nan = data[~(data['living_area'] > 0)]['living_area']\n",
        "#display(living_area_Nan)\n"
      ]
    },
    {
      "cell_type": "code",
      "execution_count": null,
      "metadata": {
        "id": "uIAxOGZ-qpvt"
      },
      "outputs": [],
      "source": [
        "#и переменную, которая сохранит все значения столбца с жилой площадью, отличной от 0\n",
        "\n",
        "living_area_norm = data[(data['living_area'] > 0)]['living_area']\n"
      ]
    },
    {
      "cell_type": "code",
      "execution_count": null,
      "metadata": {
        "scrolled": true,
        "id": "vOhEmz9jqpvu"
      },
      "outputs": [],
      "source": [
        "#найдем соотношение средней общей площади к средней жилой площади там, где значения имеются - оно равно 1,74\n",
        "\n",
        "a = data['total_area'].mean() / living_area_norm.mean()"
      ]
    },
    {
      "cell_type": "code",
      "execution_count": null,
      "metadata": {
        "id": "FtcN70lxqpvu",
        "outputId": "047f4132-8688-49d2-b69e-fe6c45e7db87"
      },
      "outputs": [
        {
          "data": {
            "text/plain": [
              "0        51.0\n",
              "1        18.6\n",
              "2        34.3\n",
              "3         NaN\n",
              "4        32.0\n",
              "         ... \n",
              "23694    73.3\n",
              "23695    38.0\n",
              "23696    29.7\n",
              "23697     NaN\n",
              "23698    12.3\n",
              "Name: living_area, Length: 23699, dtype: float64"
            ]
          },
          "execution_count": 13,
          "metadata": {},
          "output_type": "execute_result"
        }
      ],
      "source": [
        "data['living_area']"
      ]
    },
    {
      "cell_type": "code",
      "execution_count": null,
      "metadata": {
        "scrolled": false,
        "id": "1lH8Ui6hqpvu",
        "outputId": "725fd0b4-7c7b-4d77-c7a4-6e18a5ed023b"
      },
      "outputs": [
        {
          "data": {
            "text/plain": [
              "0    51.000000\n",
              "1    18.600000\n",
              "2    34.300000\n",
              "3    90.785766\n",
              "4    32.000000\n",
              "5    14.400000\n",
              "6    10.600000\n",
              "7    40.882144\n",
              "8    15.430000\n",
              "9    43.600000\n",
              "Name: living_area, dtype: float64"
            ]
          },
          "metadata": {},
          "output_type": "display_data"
        }
      ],
      "source": [
        "# напишем цикл, который пройдется по всем значениям столбца жилой площади, и если они Nan, 0 или отрицательные,\n",
        "# их заменят на соотношение 1,74\n",
        "\n",
        "#for index in range(len(data['living_area'])):\n",
        "    #if (~(data['living_area'][index] > 0)):\n",
        "        #data['living_area'][index] = data['total_area'][index] / a\n",
        "\n",
        "data['living_area']=data['living_area'].fillna(data['total_area']/a)\n",
        "display(data['living_area'].head(10))"
      ]
    },
    {
      "cell_type": "code",
      "execution_count": null,
      "metadata": {
        "id": "EGxmCsTAqpvv",
        "outputId": "19c889ce-11ed-4a3f-e8f6-b8f91e2c9233"
      },
      "outputs": [
        {
          "data": {
            "text/plain": [
              "0"
            ]
          },
          "execution_count": 15,
          "metadata": {},
          "output_type": "execute_result"
        }
      ],
      "source": [
        "# проверим, что все пропуски заполнены\n",
        "\n",
        "data['living_area'].isna().sum()"
      ]
    },
    {
      "cell_type": "code",
      "execution_count": null,
      "metadata": {
        "id": "cL3FuDs3qpvv"
      },
      "outputs": [],
      "source": [
        "# аналогично заполним пропуски в столбце kitchen_area - площадь кухни в квадратных метрах (м²)\n",
        "#создадим новую переменную, которая сохранит все значения столбца с площадью кухни, не больше 0\n",
        "\n",
        "kitchen_area_Nan = data[~(data['kitchen_area'] > 0)]['kitchen_area']\n",
        "#display(kitchen_area_Nan)\n"
      ]
    },
    {
      "cell_type": "code",
      "execution_count": null,
      "metadata": {
        "id": "UoX9C1nnqpvv"
      },
      "outputs": [],
      "source": [
        "#и переменную, которая сохранит все значения столбца с кухни площадью, отличной от 0\n",
        "\n",
        "kitchen_area_norm = data[(data['kitchen_area'] > 0)]['kitchen_area']\n",
        "#display(kitchen_area_norm)"
      ]
    },
    {
      "cell_type": "code",
      "execution_count": null,
      "metadata": {
        "id": "2sqwxO92qpvv",
        "outputId": "9bab1764-4852-44a7-a99f-8e36e3672cdf"
      },
      "outputs": [
        {
          "data": {
            "text/plain": [
              "5.709531864143031"
            ]
          },
          "metadata": {},
          "output_type": "display_data"
        }
      ],
      "source": [
        "#найдем соотношение средней общей площади к плоащиди кухни там, где значения имеются - оно равно 5,7\n",
        "\n",
        "b = data['total_area'].mean() / kitchen_area_norm.mean()\n",
        "display(b)"
      ]
    },
    {
      "cell_type": "code",
      "execution_count": null,
      "metadata": {
        "scrolled": true,
        "id": "Ke4eBtqSqpvv",
        "outputId": "69176f49-9361-49d8-fd3b-c407eafb267e"
      },
      "outputs": [
        {
          "data": {
            "text/plain": [
              "0    25.000000\n",
              "1    11.000000\n",
              "2     8.300000\n",
              "3    27.848168\n",
              "4    41.000000\n",
              "5     9.100000\n",
              "6    14.400000\n",
              "7    18.900000\n",
              "8     8.810000\n",
              "9     6.500000\n",
              "Name: kitchen_area, dtype: float64"
            ]
          },
          "metadata": {},
          "output_type": "display_data"
        }
      ],
      "source": [
        "# напишем цикл, который пройдется по всем значениям столбца площади кухни, и если они Nan, 0 или отрицательные,\n",
        "# их заменят на соотношение 5,7\n",
        "\n",
        "#for index in range(len(data['kitchen_area'])):\n",
        "    #if (~(data['kitchen_area'][index] > 0)):\n",
        "        #data['kitchen_area'][index] = data['total_area'][index] / b\n",
        "\n",
        "data['kitchen_area']=data['kitchen_area'].fillna(data['total_area']/b)\n",
        "display(data['kitchen_area'].head(10))"
      ]
    },
    {
      "cell_type": "code",
      "execution_count": null,
      "metadata": {
        "id": "VtrNUJYfqpwA",
        "outputId": "8f6410b0-de65-4311-825c-60b70b663dac"
      },
      "outputs": [
        {
          "data": {
            "text/plain": [
              "0"
            ]
          },
          "metadata": {},
          "output_type": "display_data"
        },
        {
          "data": {
            "text/plain": [
              "0     25.000000\n",
              "1     11.000000\n",
              "2      8.300000\n",
              "3     27.848168\n",
              "4     41.000000\n",
              "5      9.100000\n",
              "6     14.400000\n",
              "7     18.900000\n",
              "8      8.810000\n",
              "9      6.500000\n",
              "10     8.500000\n",
              "11     6.000000\n",
              "12     9.000000\n",
              "13     5.200000\n",
              "14     8.000000\n",
              "15     7.600000\n",
              "16     9.000000\n",
              "17    11.000000\n",
              "18     5.600000\n",
              "19    12.000000\n",
              "Name: kitchen_area, dtype: float64"
            ]
          },
          "metadata": {},
          "output_type": "display_data"
        }
      ],
      "source": [
        "# проверим, что все пропуски заполнены\n",
        "\n",
        "display(data['kitchen_area'].isna().sum())\n",
        "display(data['kitchen_area'].head(20))"
      ]
    },
    {
      "cell_type": "code",
      "execution_count": null,
      "metadata": {
        "id": "A-YAYRTHqpwA",
        "outputId": "7e0d56ee-5073-4476-ef7f-86e3d4e77102"
      },
      "outputs": [
        {
          "data": {
            "text/plain": [
              "2296    -1.776357e-15\n",
              "4930    -2.835128e-02\n",
              "6432    -2.835128e-02\n",
              "8455    -1.053576e-02\n",
              "12634   -1.421085e-14\n",
              "22399   -3.552714e-15\n",
              "Name: area_check, dtype: float64"
            ]
          },
          "metadata": {},
          "output_type": "display_data"
        }
      ],
      "source": [
        "# создадим новый столбец, который покажет разницу общей площади и суммы площадей жилой и кухни\n",
        "# уберем все строки, где это значение неверное, оставив малую погрешность\n",
        "\n",
        "data['area_check'] = data['total_area'] - data['living_area'] - data['kitchen_area']\n",
        "data = data.loc[data['area_check'] > -0.1]\n",
        "display(data[data['area_check'] < 0]['area_check'])"
      ]
    },
    {
      "cell_type": "code",
      "execution_count": null,
      "metadata": {
        "id": "473JTeQaqpwA",
        "outputId": "3851f4fc-b9b7-41b8-cb2b-22d3156c4548"
      },
      "outputs": [
        {
          "data": {
            "text/plain": [
              "count    14441.000000\n",
              "mean         2.767748\n",
              "std          1.230053\n",
              "min          1.000000\n",
              "25%          2.510000\n",
              "50%          2.650000\n",
              "75%          2.800000\n",
              "max        100.000000\n",
              "Name: ceiling_height, dtype: float64"
            ]
          },
          "metadata": {},
          "output_type": "display_data"
        },
        {
          "data": {
            "text/plain": [
              "9142"
            ]
          },
          "metadata": {},
          "output_type": "display_data"
        }
      ],
      "source": [
        "#ceiling_height - высота потолков в м\n",
        "#посмотрим на минимальное, максимальное и медианное значение через describe()\n",
        "# заполним медианным значением пропуски\n",
        "\n",
        "\n",
        "display(data['ceiling_height'].describe())\n",
        "display(data['ceiling_height'].isna().sum())"
      ]
    },
    {
      "cell_type": "code",
      "execution_count": null,
      "metadata": {
        "id": "3jQYZBvfqpwB",
        "outputId": "baf8834b-3d09-49e2-d1a2-fee58e2c4546"
      },
      "outputs": [
        {
          "data": {
            "text/plain": [
              "'Минимальная высота потолков составляет: '"
            ]
          },
          "metadata": {},
          "output_type": "display_data"
        },
        {
          "data": {
            "text/plain": [
              "1.0"
            ]
          },
          "metadata": {},
          "output_type": "display_data"
        },
        {
          "data": {
            "text/plain": [
              "'Максимальная высота потолков составляет: '"
            ]
          },
          "metadata": {},
          "output_type": "display_data"
        },
        {
          "data": {
            "text/plain": [
              "100.0"
            ]
          },
          "metadata": {},
          "output_type": "display_data"
        }
      ],
      "source": [
        "display('Минимальная высота потолков составляет: ', data['ceiling_height'].min())\n",
        "display('Максимальная высота потолков составляет: ', data['ceiling_height'].max())"
      ]
    },
    {
      "cell_type": "code",
      "execution_count": null,
      "metadata": {
        "id": "btytCXCuqpwB",
        "outputId": "719c351e-40ad-4ac0-f685-13c2122e63d8"
      },
      "outputs": [
        {
          "data": {
            "text/plain": [
              "'Процент пропущенных значений высоты потолков: '"
            ]
          },
          "metadata": {},
          "output_type": "display_data"
        },
        {
          "data": {
            "text/plain": [
              "38.76521222914811"
            ]
          },
          "metadata": {},
          "output_type": "display_data"
        }
      ],
      "source": [
        "#пропуски в высоте квартир составляют 38% от всех данных, это очень много, удалять нельзя\n",
        "\n",
        "height_na = data['ceiling_height'].isna().sum()\n",
        "height_total = len(data['ceiling_height'])\n",
        "\n",
        "p = 100.0 * height_na / height_total\n",
        "display('Процент пропущенных значений высоты потолков: ', p)"
      ]
    },
    {
      "cell_type": "code",
      "execution_count": null,
      "metadata": {
        "id": "Na7AfE6RqpwB"
      },
      "outputs": [],
      "source": [
        "#попробуем привести в порядок выбивающиеся значения - если высота потолка больше или равна 10м - разделим на 10\n",
        "#если высота потолка меньше или равна 2 м - пока запишем как Nan\n",
        "\n",
        "data.loc[data['ceiling_height'] >= 10, 'ceiling_height'] = data[data['ceiling_height'] >= 10]['ceiling_height']/10\n",
        "data.loc[data['ceiling_height'] <= 2, 'ceiling_height'] = np.nan\n",
        "\n",
        "#фактически мы убрали всего лишь один метровый потолок, одно минимальное значение"
      ]
    },
    {
      "cell_type": "code",
      "execution_count": null,
      "metadata": {
        "id": "bDAV9ItsqpwC"
      },
      "outputs": [],
      "source": [
        "#напишем цикл, который в случае нахождения пропуска заменит его на медианное значение\n",
        "\n",
        "median = data['ceiling_height'].median()\n",
        "data['ceiling_height']=data['ceiling_height'].fillna(median)\n",
        "\n",
        "\n",
        "#for index in range(len(data['ceiling_height'])):\n",
        "#    if (~(data['ceiling_height'][index] > 0)):\n",
        "#        data['ceiling_height'][index] = median\n"
      ]
    },
    {
      "cell_type": "code",
      "execution_count": null,
      "metadata": {
        "id": "LO4_B39QqpwD",
        "outputId": "aa4826f5-2ed1-4484-fa8c-3b6945e91511"
      },
      "outputs": [
        {
          "data": {
            "text/plain": [
              "0     2.70\n",
              "1     2.65\n",
              "2     2.65\n",
              "3     2.65\n",
              "4     3.03\n",
              "5     2.65\n",
              "6     2.65\n",
              "7     2.65\n",
              "8     2.65\n",
              "9     2.50\n",
              "10    2.67\n",
              "11    2.65\n",
              "12    2.65\n",
              "13    2.56\n",
              "14    2.65\n",
              "15    2.65\n",
              "16    3.05\n",
              "17    2.65\n",
              "18    2.50\n",
              "19    2.75\n",
              "Name: ceiling_height, dtype: float64"
            ]
          },
          "metadata": {},
          "output_type": "display_data"
        },
        {
          "data": {
            "text/plain": [
              "count    23583.000000\n",
              "mean         2.698113\n",
              "std          0.235162\n",
              "min          2.200000\n",
              "25%          2.600000\n",
              "50%          2.650000\n",
              "75%          2.700000\n",
              "max         10.000000\n",
              "Name: ceiling_height, dtype: float64"
            ]
          },
          "metadata": {},
          "output_type": "display_data"
        },
        {
          "data": {
            "text/plain": [
              "0"
            ]
          },
          "metadata": {},
          "output_type": "display_data"
        }
      ],
      "source": [
        "#проверим полученную таблицу с данными по потолкам, наличие пропусков\n",
        "\n",
        "display(data['ceiling_height'].head(20))\n",
        "\n",
        "display(data['ceiling_height'].describe())\n",
        "display(data['ceiling_height'].isna().sum())"
      ]
    },
    {
      "cell_type": "markdown",
      "metadata": {
        "id": "8SPRgrOIqpwD"
      },
      "source": [
        "Возможные причины пропуска в данных.\n",
        "\n",
        "Обычно причинами пропуска в данных являются человеческий фактор, технический сбой, появление пропусков может быть связано со значениями в других столбцах либо пропуск зависит от значений собственного столбца.\n",
        "\n",
        "На основании полученных данных, можно сделать вывод о том, что пропуски в столбцах связаны с:\n",
        "\n",
        "со значениями собственного столбца:\n",
        "\n",
        "is_apartment  -  апартаменты (булев тип) - не заполняется, потому что нет четких рекомендаций при заполнении формы - указывать ли значение либо оставлять пропуск, возможно необходимо дополнить форму столбцом с выбором одного обязательного значения из перечисленных;\n",
        "\n",
        "со значениями других столбцов:\n",
        "\n",
        "в столбце balcony скорее всего не указали количество балконов в связи с их отсутствием, однако, этого нельзя точно утверждать, потому как и в однокомнатных квартирах бывают балконы, так и весь дом может быть без балконов, при том, что там есть разные планировки, как 1-2-3-4-комнатные квартиры, но все без балконов. Возможно, необходимо дополнить форму столбцом с выбором обязательного числового значения балконов, в котором будет присутствовать и 0 как значение.\n",
        "\n",
        "\n",
        "в столбцах living_area (жилая площадь) и kitchen_area (площадь кухни) площадь значений однозначно будет меньше общей площади квартиры, здесь, скорее всего, человек не располагает при заполнении точными сведениями, поэтому предпочитает оставить это поле пустым, тогда как можно предложить ему вариант площади, рассчитанный по медиане заполненных значений.\n",
        "\n",
        "так и в столбце ceiling_height (высота потолков) - аналогичная ситуация, возможно, будет уместным добавить в форму минимальное значение 2м, значение, утвержденное в регионе по СанПину, максимальное значение в 4м или графу иное с числовым форматом, где человеком будут указаны какие-то нестандартные варианты.\n",
        "\n",
        "столбцы locality_name (наименование населенного пункта),\n",
        "airports_nearest (расстояние до ближайшего аэропорта),\n",
        "cityCenters_nearest (расстояние до центра города),\n",
        "parks_around3000 (число парков в радиусе 3 км),\n",
        "parks_nearest (расстояние до ближайшего парка),\n",
        "ponds_around3000 (число водоёмов в радиусе 3 км),\n",
        "ponds_nearest (расстояние до ближайшего водоёма) - географические, здесь возможна привязка к карте, на которой будет нанесены все указанные объекты, для автоматического рассчета показателей исходя из заполненного адреса (адреса тоже при этом придется выбирать только из имеющегося списка), потому что при заполнении объявления человеку самостоятельно очень долго рассчитывать по карте такие значения и проще пропустить, однако, на ценник квадратного метра данные показатели могут влиять.\n",
        "\n",
        "в стоблце days_exposition (сколько дней было размещено объявление (от публикации до снятия) - скорее всего пропуски связаны с техническим сбоем, потому что форма заполняется автоматически, очень сомнительно, что при снятии объявления продавца спрашивают, сколько дней он продавал квартиру и имеется возможность поставить рандомное число. Поэтому необходимо выяснить у отдела разработки причины такого технического сбоя.\n",
        "\n"
      ]
    },
    {
      "cell_type": "markdown",
      "metadata": {
        "id": "eomcKSwIqpwD"
      },
      "source": [
        "Проверим, в каких столбцах необходимо заменить тип данных и почему:\n",
        "\n",
        "\n",
        "first_day_exposition — дата публикации - указан тип данных int64  - заменим на datetime - чтобы разделить дату и время;\n",
        "\n",
        "days_exposition — сколько дней было размещено объявление (от публикации до снятия) - заменим на datetime - чтобы разделить дату и время;\n",
        "\n",
        "floors_total - всего этажей в доме - указан тип данных float64 - заменим на int64 - число этажей не может быть не целым\n",
        "\n",
        "balcony - количество балконов - указан тип данных float64 - заменим на int64 - число этажей не может быть не целым\n",
        "\n",
        "is_apartment  - апартаменты(булев тип) - указан тип данных object - заменим на bool - позволит выбрать из двух вариантов\n"
      ]
    },
    {
      "cell_type": "code",
      "execution_count": null,
      "metadata": {
        "id": "Ka2hOMXmqpwD",
        "outputId": "55ac130d-a48e-42d0-c946-e062345ceae1"
      },
      "outputs": [
        {
          "data": {
            "text/plain": [
              "0        16.0\n",
              "1        11.0\n",
              "2         5.0\n",
              "3        14.0\n",
              "4        14.0\n",
              "         ... \n",
              "23694     5.0\n",
              "23695     5.0\n",
              "23696     3.0\n",
              "23697    17.0\n",
              "23698     5.0\n",
              "Name: floors_total, Length: 23583, dtype: float64"
            ]
          },
          "execution_count": 28,
          "metadata": {},
          "output_type": "execute_result"
        }
      ],
      "source": [
        "# Заменим вещественный тип данных в столбце floors_total, balcony на целочисленный с помощью метода astype()\n",
        "\n",
        "# в стоблце floors_total заменим на целые число, но в этом столбце есть пропуски, сразу на целочисленный не заменить\n",
        "\n",
        "pd.to_numeric(data['floors_total'], downcast ='signed')\n",
        "\n"
      ]
    },
    {
      "cell_type": "code",
      "execution_count": null,
      "metadata": {
        "id": "sd-y3C9PqpwD",
        "outputId": "163045c5-e478-498a-8565-a57253ed3dce"
      },
      "outputs": [
        {
          "name": "stdout",
          "output_type": "stream",
          "text": [
            "<class 'pandas.core.frame.DataFrame'>\n",
            "Int64Index: 23497 entries, 0 to 23698\n",
            "Data columns (total 23 columns):\n",
            " #   Column                Non-Null Count  Dtype  \n",
            "---  ------                --------------  -----  \n",
            " 0   total_images          23497 non-null  int64  \n",
            " 1   last_price            23497 non-null  float64\n",
            " 2   total_area            23497 non-null  float64\n",
            " 3   first_day_exposition  23497 non-null  object \n",
            " 4   rooms                 23497 non-null  int64  \n",
            " 5   ceiling_height        23497 non-null  float64\n",
            " 6   floors_total          23497 non-null  int64  \n",
            " 7   living_area           23497 non-null  float64\n",
            " 8   floor                 23497 non-null  int64  \n",
            " 9   is_apartment          23497 non-null  bool   \n",
            " 10  studio                23497 non-null  bool   \n",
            " 11  open_plan             23497 non-null  bool   \n",
            " 12  kitchen_area          23497 non-null  float64\n",
            " 13  balcony               23497 non-null  float64\n",
            " 14  locality_name         23449 non-null  object \n",
            " 15  airports_nearest      17999 non-null  float64\n",
            " 16  cityCenters_nearest   18022 non-null  float64\n",
            " 17  parks_around3000      18023 non-null  float64\n",
            " 18  parks_nearest         8011 non-null   float64\n",
            " 19  ponds_around3000      18023 non-null  float64\n",
            " 20  ponds_nearest         9019 non-null   float64\n",
            " 21  days_exposition       20337 non-null  float64\n",
            " 22  area_check            23497 non-null  float64\n",
            "dtypes: bool(3), float64(14), int64(4), object(2)\n",
            "memory usage: 3.8+ MB\n"
          ]
        }
      ],
      "source": [
        "#в столбце floors_total всего 86 пропущенных значений их 23 тысяч, то есть всего 0,3 процента\n",
        "#их можно удалить и затем заменить на целочисленный формат\n",
        "\n",
        "data = data.dropna(subset=['floors_total'])\n",
        "\n",
        "data['floors_total'] = data['floors_total'].astype(int)\n",
        "\n",
        "data.info()"
      ]
    },
    {
      "cell_type": "code",
      "execution_count": null,
      "metadata": {
        "id": "ISEF7EtZqpwE"
      },
      "outputs": [],
      "source": [
        "# в стоблце balcony аналогично заменим значения на целые цисла datetime64, возможно,\n",
        "# когда-то понадобится посчитать не только сколько дней, но и сколько часов висело объявление\n",
        "\n",
        "data['balcony'] = data['balcony'].astype(int)\n"
      ]
    },
    {
      "cell_type": "code",
      "execution_count": null,
      "metadata": {
        "id": "nEarrdXmqpwF"
      },
      "outputs": [],
      "source": [
        "# в столбце first_day_exposition аналогично заменим тип данных на datetime, возможно, когда-то посчитаем и часы\n",
        "\n",
        "data['first_day_exposition'] = pd.to_datetime(data['first_day_exposition'], format='%Y-%m-%d %H:%M')\n"
      ]
    },
    {
      "cell_type": "code",
      "execution_count": null,
      "metadata": {
        "id": "5KCcGnWjqpwF"
      },
      "outputs": [],
      "source": [
        "# в столбце is_apartment заменим тип данных на bool\n",
        "\n",
        "data['is_apartment'] = data['is_apartment'].astype(bool)"
      ]
    },
    {
      "cell_type": "code",
      "execution_count": null,
      "metadata": {
        "id": "4tLtxYb-qpwF",
        "outputId": "4801b987-dabf-48b9-fa9d-858bbe735e89"
      },
      "outputs": [
        {
          "name": "stdout",
          "output_type": "stream",
          "text": [
            "<class 'pandas.core.frame.DataFrame'>\n",
            "Int64Index: 23497 entries, 0 to 23698\n",
            "Data columns (total 23 columns):\n",
            " #   Column                Non-Null Count  Dtype         \n",
            "---  ------                --------------  -----         \n",
            " 0   total_images          23497 non-null  int64         \n",
            " 1   last_price            23497 non-null  float64       \n",
            " 2   total_area            23497 non-null  float64       \n",
            " 3   first_day_exposition  23497 non-null  datetime64[ns]\n",
            " 4   rooms                 23497 non-null  int64         \n",
            " 5   ceiling_height        23497 non-null  float64       \n",
            " 6   floors_total          23497 non-null  int64         \n",
            " 7   living_area           23497 non-null  float64       \n",
            " 8   floor                 23497 non-null  int64         \n",
            " 9   is_apartment          23497 non-null  bool          \n",
            " 10  studio                23497 non-null  bool          \n",
            " 11  open_plan             23497 non-null  bool          \n",
            " 12  kitchen_area          23497 non-null  float64       \n",
            " 13  balcony               23497 non-null  int64         \n",
            " 14  locality_name         23449 non-null  object        \n",
            " 15  airports_nearest      17999 non-null  float64       \n",
            " 16  cityCenters_nearest   18022 non-null  float64       \n",
            " 17  parks_around3000      18023 non-null  float64       \n",
            " 18  parks_nearest         8011 non-null   float64       \n",
            " 19  ponds_around3000      18023 non-null  float64       \n",
            " 20  ponds_nearest         9019 non-null   float64       \n",
            " 21  days_exposition       20337 non-null  float64       \n",
            " 22  area_check            23497 non-null  float64       \n",
            "dtypes: bool(3), datetime64[ns](1), float64(13), int64(5), object(1)\n",
            "memory usage: 3.8+ MB\n"
          ]
        }
      ],
      "source": [
        "#выведем итоговую таблицу и еще раз все проверим\n",
        "\n",
        "data.info()"
      ]
    },
    {
      "cell_type": "code",
      "execution_count": null,
      "metadata": {
        "id": "B6ENjdZoqpwF",
        "outputId": "297e1b9e-6d35-40b2-d779-d87e88abf047"
      },
      "outputs": [
        {
          "data": {
            "text/plain": [
              "array(['Санкт-Петербург', 'посёлок Шушары', 'городской посёлок Янино-1',\n",
              "       'посёлок Парголово', 'посёлок Мурино', 'Ломоносов', 'Сертолово',\n",
              "       'Петергоф', 'Пушкин', 'деревня Кудрово', 'Коммунар', 'Колпино',\n",
              "       'поселок городского типа Красный Бор', 'Гатчина', 'поселок Мурино',\n",
              "       'деревня Фёдоровское', 'Выборг', 'Кронштадт', 'Кировск',\n",
              "       'деревня Новое Девяткино', 'посёлок Металлострой',\n",
              "       'посёлок городского типа Лебяжье',\n",
              "       'посёлок городского типа Сиверский', 'поселок Молодцово',\n",
              "       'поселок городского типа Кузьмоловский',\n",
              "       'садовое товарищество Новая Ропша', 'Павловск',\n",
              "       'деревня Пикколово', 'Всеволожск', 'Волхов', 'Кингисепп',\n",
              "       'Приозерск', 'Сестрорецк', 'деревня Куттузи', 'посёлок Аннино',\n",
              "       'поселок городского типа Ефимовский', 'посёлок Плодовое',\n",
              "       'деревня Заклинье', 'поселок Торковичи', 'поселок Первомайское',\n",
              "       'Красное Село', 'посёлок Понтонный', 'Сясьстрой', 'деревня Старая',\n",
              "       'деревня Лесколово', 'посёлок Новый Свет', 'Сланцы',\n",
              "       'село Путилово', 'Ивангород', 'Мурино', 'Шлиссельбург',\n",
              "       'Никольское', 'Зеленогорск', 'Сосновый Бор', 'поселок Новый Свет',\n",
              "       'деревня Оржицы', 'деревня Кальтино', 'Кудрово',\n",
              "       'поселок Романовка', 'посёлок Бугры', 'поселок Бугры',\n",
              "       'поселок городского типа Рощино', 'Кириши', 'Луга', 'Волосово',\n",
              "       'Отрадное', 'село Павлово', 'поселок Оредеж', 'село Копорье',\n",
              "       'посёлок городского типа Красный Бор', 'посёлок Молодёжное',\n",
              "       'Тихвин', 'посёлок Победа', 'деревня Нурма',\n",
              "       'поселок городского типа Синявино', 'Тосно',\n",
              "       'посёлок городского типа Кузьмоловский', 'посёлок Стрельна',\n",
              "       'Бокситогорск', 'посёлок Александровская', 'деревня Лопухинка',\n",
              "       'Пикалёво', 'поселок Терволово',\n",
              "       'поселок городского типа Советский', 'Подпорожье',\n",
              "       'посёлок Петровское', 'посёлок городского типа Токсово',\n",
              "       'поселок Сельцо', 'посёлок городского типа Вырица',\n",
              "       'деревня Кипень', 'деревня Келози', 'деревня Вартемяги',\n",
              "       'посёлок Тельмана', 'поселок Севастьяново',\n",
              "       'городской поселок Большая Ижора', nan,\n",
              "       'городской посёлок Павлово', 'деревня Агалатово',\n",
              "       'посёлок Новогорелово', 'городской посёлок Лесогорский',\n",
              "       'деревня Лаголово', 'поселок Цвелодубово',\n",
              "       'поселок городского типа Рахья', 'поселок городского типа Вырица',\n",
              "       'деревня Белогорка', 'поселок Заводской',\n",
              "       'городской посёлок Новоселье', 'деревня Большие Колпаны',\n",
              "       'деревня Горбунки', 'деревня Батово', 'деревня Заневка',\n",
              "       'деревня Иссад', 'Приморск', 'городской посёлок Фёдоровское',\n",
              "       'деревня Мистолово', 'Новая Ладога', 'поселок Зимитицы',\n",
              "       'поселок Барышево', 'деревня Разметелево',\n",
              "       'поселок городского типа имени Свердлова', 'деревня Пеники',\n",
              "       'поселок Рябово', 'деревня Пудомяги', 'поселок станции Корнево',\n",
              "       'деревня Низино', 'деревня Бегуницы', 'посёлок Поляны',\n",
              "       'городской посёлок Мга', 'поселок Елизаветино',\n",
              "       'посёлок городского типа Кузнечное', 'деревня Колтуши',\n",
              "       'поселок Запорожское', 'посёлок городского типа Рощино',\n",
              "       'деревня Гостилицы', 'деревня Малое Карлино',\n",
              "       'посёлок Мичуринское', 'посёлок городского типа имени Морозова',\n",
              "       'посёлок Песочный', 'посёлок Сосново', 'деревня Аро',\n",
              "       'поселок Ильичёво', 'посёлок городского типа Тайцы',\n",
              "       'деревня Малое Верево', 'деревня Извара', 'поселок станции Вещево',\n",
              "       'село Паша', 'деревня Калитино',\n",
              "       'посёлок городского типа Ульяновка', 'деревня Чудской Бор',\n",
              "       'поселок городского типа Дубровка', 'деревня Мины',\n",
              "       'поселок Войсковицы', 'посёлок городского типа имени Свердлова',\n",
              "       'деревня Коркино', 'посёлок Ропша',\n",
              "       'поселок городского типа Приладожский', 'посёлок Щеглово',\n",
              "       'посёлок Гаврилово', 'Лодейное Поле', 'деревня Рабитицы',\n",
              "       'поселок городского типа Никольский', 'деревня Кузьмолово',\n",
              "       'деревня Малые Колпаны', 'поселок Тельмана',\n",
              "       'посёлок Петро-Славянка', 'городской посёлок Назия',\n",
              "       'посёлок Репино', 'посёлок Ильичёво', 'поселок Углово',\n",
              "       'поселок Старая Малукса', 'садовое товарищество Рахья',\n",
              "       'поселок Аннино', 'поселок Победа', 'деревня Меньково',\n",
              "       'деревня Старые Бегуницы', 'посёлок Сапёрный', 'поселок Семрино',\n",
              "       'поселок Гаврилово', 'поселок Глажево', 'поселок Кобринское',\n",
              "       'деревня Гарболово', 'деревня Юкки',\n",
              "       'поселок станции Приветнинское', 'деревня Мануйлово',\n",
              "       'деревня Пчева', 'поселок Поляны', 'поселок Цвылёво',\n",
              "       'поселок Мельниково', 'посёлок Пудость', 'посёлок Усть-Луга',\n",
              "       'Светогорск', 'поселок Селезнёво',\n",
              "       'поселок городского типа Рябово', 'Каменногорск', 'деревня Кривко',\n",
              "       'поселок Глебычево', 'деревня Парицы', 'поселок Жилпосёлок',\n",
              "       'посёлок городского типа Мга', 'городской поселок Янино-1',\n",
              "       'посёлок Войскорово', 'село Никольское', 'посёлок Терволово',\n",
              "       'поселок Стеклянный', 'посёлок городского типа Важины',\n",
              "       'посёлок Мыза-Ивановка', 'село Русско-Высоцкое',\n",
              "       'поселок городского типа Лебяжье',\n",
              "       'поселок городского типа Форносово', 'село Старая Ладога',\n",
              "       'поселок Житково', 'городской посёлок Виллози', 'деревня Лампово',\n",
              "       'деревня Шпаньково', 'деревня Лаврики', 'посёлок Сумино',\n",
              "       'посёлок Возрождение', 'деревня Старосиверская',\n",
              "       'посёлок Кикерино', 'поселок Возрождение',\n",
              "       'деревня Старое Хинколово', 'посёлок Пригородный',\n",
              "       'посёлок Торфяное', 'Любань', 'городской посёлок Будогощь',\n",
              "       'поселок Суходолье', 'поселок Красная Долина', 'деревня Хапо-Ое',\n",
              "       'поселок городского типа Дружная Горка', 'поселок Лисий Нос',\n",
              "       'деревня Яльгелево', 'посёлок Стеклянный', 'село Рождествено',\n",
              "       'деревня Старополье', 'посёлок Левашово', 'деревня Сяськелево',\n",
              "       'деревня Камышовка',\n",
              "       'садоводческое некоммерческое товарищество Лесная Поляна',\n",
              "       'деревня Хязельки', 'поселок Жилгородок',\n",
              "       'посёлок городского типа Павлово', 'деревня Ялгино',\n",
              "       'поселок Новый Учхоз', 'городской посёлок Рощино',\n",
              "       'поселок Гончарово', 'поселок Почап', 'посёлок Сапёрное',\n",
              "       'посёлок Платформа 69-й километр', 'поселок Каложицы',\n",
              "       'деревня Фалилеево', 'деревня Пельгора',\n",
              "       'поселок городского типа Лесогорский', 'деревня Торошковичи',\n",
              "       'посёлок Белоостров', 'посёлок Алексеевка', 'поселок Серебрянский',\n",
              "       'поселок Лукаши', 'поселок Петровское', 'деревня Щеглово',\n",
              "       'поселок Мичуринское', 'деревня Тарасово', 'поселок Кингисеппский',\n",
              "       'посёлок при железнодорожной станции Вещево', 'поселок Ушаки',\n",
              "       'деревня Котлы', 'деревня Сижно', 'деревня Торосово',\n",
              "       'посёлок Форт Красная Горка', 'деревня Новолисино',\n",
              "       'посёлок станции Громово', 'деревня Глинка', 'посёлок Мельниково',\n",
              "       'поселок городского типа Назия', 'деревня Старая Пустошь',\n",
              "       'поселок Коммунары', 'поселок Починок',\n",
              "       'посёлок городского типа Вознесенье', 'деревня Разбегаево',\n",
              "       'посёлок городского типа Рябово', 'поселок Гладкое',\n",
              "       'посёлок при железнодорожной станции Приветнинское',\n",
              "       'поселок Тёсово-4', 'посёлок Жилгородок', 'деревня Бор',\n",
              "       'посёлок Коробицыно', 'деревня Большая Вруда', 'деревня Курковицы',\n",
              "       'посёлок Лисий Нос', 'городской посёлок Советский',\n",
              "       'посёлок Кобралово', 'деревня Суоранда', 'поселок Кобралово',\n",
              "       'поселок городского типа Кондратьево',\n",
              "       'коттеджный поселок Счастье', 'поселок Любань', 'деревня Реброво',\n",
              "       'деревня Зимитицы', 'деревня Тойворово', 'поселок Семиозерье',\n",
              "       'поселок Лесное', 'поселок Совхозный', 'поселок Усть-Луга',\n",
              "       'посёлок Ленинское', 'посёлок Суйда',\n",
              "       'посёлок городского типа Форносово', 'деревня Нижние Осельки',\n",
              "       'посёлок станции Свирь', 'поселок Перово', 'Высоцк',\n",
              "       'поселок Гарболово', 'село Шум', 'поселок Котельский',\n",
              "       'поселок станции Лужайка', 'деревня Большая Пустомержа',\n",
              "       'поселок Красносельское', 'деревня Вахнова Кара', 'деревня Пижма',\n",
              "       'коттеджный поселок Кивеннапа Север', 'поселок Коробицыно',\n",
              "       'поселок Ромашки', 'посёлок Перово', 'деревня Каськово',\n",
              "       'деревня Куровицы', 'посёлок Плоское', 'поселок Сумино',\n",
              "       'поселок городского типа Большая Ижора', 'поселок Кирпичное',\n",
              "       'деревня Ям-Тесово', 'деревня Раздолье', 'деревня Терпилицы',\n",
              "       'поселок городского типа Токсово', 'посёлок Шугозеро',\n",
              "       'деревня Ваганово', 'поселок Пушное', 'садовое товарищество Садко',\n",
              "       'посёлок Усть-Ижора', 'деревня Выскатка',\n",
              "       'городской посёлок Свирьстрой', 'поселок Громово',\n",
              "       'деревня Кисельня', 'посёлок Старая Малукса',\n",
              "       'деревня Трубников Бор', 'поселок Калитино',\n",
              "       'посёлок Высокоключевой', 'садовое товарищество Приладожский',\n",
              "       'посёлок Пансионат Зелёный Бор', 'деревня Ненимяки',\n",
              "       'поселок Пансионат Зелёный Бор', 'деревня Снегирёвка',\n",
              "       'деревня Рапполово', 'деревня Пустынка', 'поселок Рабитицы',\n",
              "       'деревня Большой Сабск', 'деревня Русско', 'деревня Лупполово',\n",
              "       'деревня Большое Рейзино', 'деревня Малая Романовка',\n",
              "       'поселок Дружноселье', 'поселок Пчевжа', 'поселок Володарское',\n",
              "       'деревня Нижняя', 'коттеджный посёлок Лесное', 'деревня Тихковицы',\n",
              "       'деревня Борисова Грива', 'посёлок Дзержинского'], dtype=object)"
            ]
          },
          "execution_count": 34,
          "metadata": {},
          "output_type": "execute_result"
        }
      ],
      "source": [
        "# изучим уникальные значения в стоблце с названиями\n",
        "\n",
        "data['locality_name'].unique()\n"
      ]
    },
    {
      "cell_type": "code",
      "execution_count": null,
      "metadata": {
        "id": "RAZKZ47AqpwF"
      },
      "outputs": [],
      "source": [
        "# есть пропуски, их всего 49 из 23 тысяч, можно удалить\n",
        "\n",
        "data = data.dropna(subset=['locality_name'])"
      ]
    },
    {
      "cell_type": "code",
      "execution_count": null,
      "metadata": {
        "scrolled": true,
        "id": "QbB3W2qoqpwG"
      },
      "outputs": [],
      "source": [
        "# не будем удалять все виды населенных пунктов, хотя где-то они и отсутствуют, единообразия нет,\n",
        "# эту проблему можно доработать после привязки к карте, пока это информация как минимум о количестве жителей в населенном пункте\n",
        "# что может нам помочь в дальнейшем анализе за\n",
        "# но заменим видимые ё на е\n",
        "\n",
        "data['locality_name'] = data['locality_name'].str.replace('ё','е',regex=True)\n",
        "replace_list = ['городской поселок', 'поселок городского типа']\n",
        "for i in replace_list:\n",
        "    data['locality_name'] = data['locality_name'].str.replace(i,'поселок')\n"
      ]
    },
    {
      "cell_type": "code",
      "execution_count": null,
      "metadata": {
        "id": "w6w1ty3VqpwG",
        "outputId": "e10bbac7-fa93-4b01-8a3e-4aef00a7ff50"
      },
      "outputs": [
        {
          "data": {
            "text/html": [
              "<div>\n",
              "<style scoped>\n",
              "    .dataframe tbody tr th:only-of-type {\n",
              "        vertical-align: middle;\n",
              "    }\n",
              "\n",
              "    .dataframe tbody tr th {\n",
              "        vertical-align: top;\n",
              "    }\n",
              "\n",
              "    .dataframe thead th {\n",
              "        text-align: right;\n",
              "    }\n",
              "</style>\n",
              "<table border=\"1\" class=\"dataframe\">\n",
              "  <thead>\n",
              "    <tr style=\"text-align: right;\">\n",
              "      <th></th>\n",
              "      <th>total_images</th>\n",
              "      <th>last_price</th>\n",
              "      <th>total_area</th>\n",
              "      <th>rooms</th>\n",
              "      <th>ceiling_height</th>\n",
              "      <th>floors_total</th>\n",
              "      <th>living_area</th>\n",
              "      <th>floor</th>\n",
              "      <th>kitchen_area</th>\n",
              "      <th>balcony</th>\n",
              "      <th>airports_nearest</th>\n",
              "      <th>cityCenters_nearest</th>\n",
              "      <th>parks_around3000</th>\n",
              "      <th>parks_nearest</th>\n",
              "      <th>ponds_around3000</th>\n",
              "      <th>ponds_nearest</th>\n",
              "      <th>days_exposition</th>\n",
              "      <th>area_check</th>\n",
              "    </tr>\n",
              "  </thead>\n",
              "  <tbody>\n",
              "    <tr>\n",
              "      <th>count</th>\n",
              "      <td>23449.000000</td>\n",
              "      <td>2.344900e+04</td>\n",
              "      <td>23449.000000</td>\n",
              "      <td>23449.000000</td>\n",
              "      <td>23449.000000</td>\n",
              "      <td>23449.000000</td>\n",
              "      <td>23449.000000</td>\n",
              "      <td>23449.000000</td>\n",
              "      <td>23449.000000</td>\n",
              "      <td>23449.000000</td>\n",
              "      <td>17959.000000</td>\n",
              "      <td>17982.000000</td>\n",
              "      <td>17983.000000</td>\n",
              "      <td>7996.000000</td>\n",
              "      <td>17983.000000</td>\n",
              "      <td>8994.000000</td>\n",
              "      <td>20290.000000</td>\n",
              "      <td>23449.000000</td>\n",
              "    </tr>\n",
              "    <tr>\n",
              "      <th>mean</th>\n",
              "      <td>9.881999</td>\n",
              "      <td>6.537338e+06</td>\n",
              "      <td>60.375024</td>\n",
              "      <td>2.073010</td>\n",
              "      <td>2.698136</td>\n",
              "      <td>10.664677</td>\n",
              "      <td>34.556989</td>\n",
              "      <td>5.870314</td>\n",
              "      <td>10.485274</td>\n",
              "      <td>0.592520</td>\n",
              "      <td>28805.349964</td>\n",
              "      <td>14199.048048</td>\n",
              "      <td>0.611077</td>\n",
              "      <td>490.981116</td>\n",
              "      <td>0.768782</td>\n",
              "      <td>518.173004</td>\n",
              "      <td>180.947215</td>\n",
              "      <td>15.332761</td>\n",
              "    </tr>\n",
              "    <tr>\n",
              "      <th>std</th>\n",
              "      <td>5.680600</td>\n",
              "      <td>1.088518e+07</td>\n",
              "      <td>35.665793</td>\n",
              "      <td>1.077059</td>\n",
              "      <td>0.235512</td>\n",
              "      <td>6.586687</td>\n",
              "      <td>22.330820</td>\n",
              "      <td>4.864904</td>\n",
              "      <td>6.005057</td>\n",
              "      <td>0.960396</td>\n",
              "      <td>12631.406497</td>\n",
              "      <td>8616.306380</td>\n",
              "      <td>0.801229</td>\n",
              "      <td>341.272695</td>\n",
              "      <td>0.937859</td>\n",
              "      <td>277.989446</td>\n",
              "      <td>219.930139</td>\n",
              "      <td>12.191689</td>\n",
              "    </tr>\n",
              "    <tr>\n",
              "      <th>min</th>\n",
              "      <td>0.000000</td>\n",
              "      <td>1.219000e+04</td>\n",
              "      <td>13.000000</td>\n",
              "      <td>0.000000</td>\n",
              "      <td>2.200000</td>\n",
              "      <td>1.000000</td>\n",
              "      <td>2.000000</td>\n",
              "      <td>1.000000</td>\n",
              "      <td>1.300000</td>\n",
              "      <td>0.000000</td>\n",
              "      <td>0.000000</td>\n",
              "      <td>181.000000</td>\n",
              "      <td>0.000000</td>\n",
              "      <td>1.000000</td>\n",
              "      <td>0.000000</td>\n",
              "      <td>13.000000</td>\n",
              "      <td>1.000000</td>\n",
              "      <td>-0.028351</td>\n",
              "    </tr>\n",
              "    <tr>\n",
              "      <th>25%</th>\n",
              "      <td>6.000000</td>\n",
              "      <td>3.420000e+06</td>\n",
              "      <td>40.000000</td>\n",
              "      <td>1.000000</td>\n",
              "      <td>2.600000</td>\n",
              "      <td>5.000000</td>\n",
              "      <td>19.000000</td>\n",
              "      <td>2.000000</td>\n",
              "      <td>7.000000</td>\n",
              "      <td>0.000000</td>\n",
              "      <td>18574.500000</td>\n",
              "      <td>9238.000000</td>\n",
              "      <td>0.000000</td>\n",
              "      <td>288.000000</td>\n",
              "      <td>0.000000</td>\n",
              "      <td>293.000000</td>\n",
              "      <td>45.000000</td>\n",
              "      <td>9.300000</td>\n",
              "    </tr>\n",
              "    <tr>\n",
              "      <th>50%</th>\n",
              "      <td>9.000000</td>\n",
              "      <td>4.650000e+06</td>\n",
              "      <td>52.000000</td>\n",
              "      <td>2.000000</td>\n",
              "      <td>2.650000</td>\n",
              "      <td>9.000000</td>\n",
              "      <td>30.000000</td>\n",
              "      <td>4.000000</td>\n",
              "      <td>9.000000</td>\n",
              "      <td>0.000000</td>\n",
              "      <td>26764.000000</td>\n",
              "      <td>13094.500000</td>\n",
              "      <td>0.000000</td>\n",
              "      <td>455.000000</td>\n",
              "      <td>1.000000</td>\n",
              "      <td>503.000000</td>\n",
              "      <td>95.000000</td>\n",
              "      <td>12.600000</td>\n",
              "    </tr>\n",
              "    <tr>\n",
              "      <th>75%</th>\n",
              "      <td>14.000000</td>\n",
              "      <td>6.799000e+06</td>\n",
              "      <td>69.750000</td>\n",
              "      <td>3.000000</td>\n",
              "      <td>2.700000</td>\n",
              "      <td>16.000000</td>\n",
              "      <td>42.100000</td>\n",
              "      <td>8.000000</td>\n",
              "      <td>12.000000</td>\n",
              "      <td>1.000000</td>\n",
              "      <td>37274.000000</td>\n",
              "      <td>16293.000000</td>\n",
              "      <td>1.000000</td>\n",
              "      <td>612.000000</td>\n",
              "      <td>1.000000</td>\n",
              "      <td>730.000000</td>\n",
              "      <td>232.000000</td>\n",
              "      <td>17.700000</td>\n",
              "    </tr>\n",
              "    <tr>\n",
              "      <th>max</th>\n",
              "      <td>50.000000</td>\n",
              "      <td>7.630000e+08</td>\n",
              "      <td>900.000000</td>\n",
              "      <td>19.000000</td>\n",
              "      <td>10.000000</td>\n",
              "      <td>60.000000</td>\n",
              "      <td>409.700000</td>\n",
              "      <td>33.000000</td>\n",
              "      <td>112.000000</td>\n",
              "      <td>5.000000</td>\n",
              "      <td>84869.000000</td>\n",
              "      <td>65968.000000</td>\n",
              "      <td>3.000000</td>\n",
              "      <td>3190.000000</td>\n",
              "      <td>3.000000</td>\n",
              "      <td>1344.000000</td>\n",
              "      <td>1580.000000</td>\n",
              "      <td>378.300000</td>\n",
              "    </tr>\n",
              "  </tbody>\n",
              "</table>\n",
              "</div>"
            ],
            "text/plain": [
              "       total_images    last_price    total_area         rooms  ceiling_height  \\\n",
              "count  23449.000000  2.344900e+04  23449.000000  23449.000000    23449.000000   \n",
              "mean       9.881999  6.537338e+06     60.375024      2.073010        2.698136   \n",
              "std        5.680600  1.088518e+07     35.665793      1.077059        0.235512   \n",
              "min        0.000000  1.219000e+04     13.000000      0.000000        2.200000   \n",
              "25%        6.000000  3.420000e+06     40.000000      1.000000        2.600000   \n",
              "50%        9.000000  4.650000e+06     52.000000      2.000000        2.650000   \n",
              "75%       14.000000  6.799000e+06     69.750000      3.000000        2.700000   \n",
              "max       50.000000  7.630000e+08    900.000000     19.000000       10.000000   \n",
              "\n",
              "       floors_total   living_area         floor  kitchen_area       balcony  \\\n",
              "count  23449.000000  23449.000000  23449.000000  23449.000000  23449.000000   \n",
              "mean      10.664677     34.556989      5.870314     10.485274      0.592520   \n",
              "std        6.586687     22.330820      4.864904      6.005057      0.960396   \n",
              "min        1.000000      2.000000      1.000000      1.300000      0.000000   \n",
              "25%        5.000000     19.000000      2.000000      7.000000      0.000000   \n",
              "50%        9.000000     30.000000      4.000000      9.000000      0.000000   \n",
              "75%       16.000000     42.100000      8.000000     12.000000      1.000000   \n",
              "max       60.000000    409.700000     33.000000    112.000000      5.000000   \n",
              "\n",
              "       airports_nearest  cityCenters_nearest  parks_around3000  parks_nearest  \\\n",
              "count      17959.000000         17982.000000      17983.000000    7996.000000   \n",
              "mean       28805.349964         14199.048048          0.611077     490.981116   \n",
              "std        12631.406497          8616.306380          0.801229     341.272695   \n",
              "min            0.000000           181.000000          0.000000       1.000000   \n",
              "25%        18574.500000          9238.000000          0.000000     288.000000   \n",
              "50%        26764.000000         13094.500000          0.000000     455.000000   \n",
              "75%        37274.000000         16293.000000          1.000000     612.000000   \n",
              "max        84869.000000         65968.000000          3.000000    3190.000000   \n",
              "\n",
              "       ponds_around3000  ponds_nearest  days_exposition    area_check  \n",
              "count      17983.000000    8994.000000     20290.000000  23449.000000  \n",
              "mean           0.768782     518.173004       180.947215     15.332761  \n",
              "std            0.937859     277.989446       219.930139     12.191689  \n",
              "min            0.000000      13.000000         1.000000     -0.028351  \n",
              "25%            0.000000     293.000000        45.000000      9.300000  \n",
              "50%            1.000000     503.000000        95.000000     12.600000  \n",
              "75%            1.000000     730.000000       232.000000     17.700000  \n",
              "max            3.000000    1344.000000      1580.000000    378.300000  "
            ]
          },
          "metadata": {},
          "output_type": "display_data"
        }
      ],
      "source": [
        "# найдем и устраним редкие и выбивающиеся значения\n",
        "# со столбцом ceiling_height (высота потолков) мы работали выше, поэтому теперь значения в пределах разумных\n",
        "\n",
        "display(data.describe())\n",
        "\n"
      ]
    },
    {
      "cell_type": "code",
      "execution_count": null,
      "metadata": {
        "scrolled": true,
        "id": "rHma7HKzqpwH",
        "outputId": "b028a900-e164-4d7e-9cb7-b656157cef3a"
      },
      "outputs": [
        {
          "data": {
            "text/html": [
              "<div>\n",
              "<style scoped>\n",
              "    .dataframe tbody tr th:only-of-type {\n",
              "        vertical-align: middle;\n",
              "    }\n",
              "\n",
              "    .dataframe tbody tr th {\n",
              "        vertical-align: top;\n",
              "    }\n",
              "\n",
              "    .dataframe thead th {\n",
              "        text-align: right;\n",
              "    }\n",
              "</style>\n",
              "<table border=\"1\" class=\"dataframe\">\n",
              "  <thead>\n",
              "    <tr style=\"text-align: right;\">\n",
              "      <th></th>\n",
              "      <th>total_images</th>\n",
              "      <th>last_price</th>\n",
              "      <th>total_area</th>\n",
              "      <th>rooms</th>\n",
              "      <th>ceiling_height</th>\n",
              "      <th>floors_total</th>\n",
              "      <th>living_area</th>\n",
              "      <th>floor</th>\n",
              "      <th>kitchen_area</th>\n",
              "      <th>balcony</th>\n",
              "      <th>airports_nearest</th>\n",
              "      <th>cityCenters_nearest</th>\n",
              "      <th>parks_around3000</th>\n",
              "      <th>parks_nearest</th>\n",
              "      <th>ponds_around3000</th>\n",
              "      <th>ponds_nearest</th>\n",
              "      <th>days_exposition</th>\n",
              "      <th>area_check</th>\n",
              "    </tr>\n",
              "  </thead>\n",
              "  <tbody>\n",
              "    <tr>\n",
              "      <th>count</th>\n",
              "      <td>23449.000000</td>\n",
              "      <td>2.344900e+04</td>\n",
              "      <td>23449.000000</td>\n",
              "      <td>23449.000000</td>\n",
              "      <td>23449.000000</td>\n",
              "      <td>23449.000000</td>\n",
              "      <td>23449.000000</td>\n",
              "      <td>23449.000000</td>\n",
              "      <td>23449.000000</td>\n",
              "      <td>23449.000000</td>\n",
              "      <td>17959.000000</td>\n",
              "      <td>17982.000000</td>\n",
              "      <td>17983.000000</td>\n",
              "      <td>7996.000000</td>\n",
              "      <td>17983.000000</td>\n",
              "      <td>8994.000000</td>\n",
              "      <td>20290.000000</td>\n",
              "      <td>23449.000000</td>\n",
              "    </tr>\n",
              "    <tr>\n",
              "      <th>mean</th>\n",
              "      <td>9.881999</td>\n",
              "      <td>6.537338e+06</td>\n",
              "      <td>60.375024</td>\n",
              "      <td>2.080558</td>\n",
              "      <td>2.698136</td>\n",
              "      <td>10.664677</td>\n",
              "      <td>34.556989</td>\n",
              "      <td>5.870314</td>\n",
              "      <td>10.485274</td>\n",
              "      <td>0.592520</td>\n",
              "      <td>28805.349964</td>\n",
              "      <td>14199.048048</td>\n",
              "      <td>0.611077</td>\n",
              "      <td>490.981116</td>\n",
              "      <td>0.768782</td>\n",
              "      <td>518.173004</td>\n",
              "      <td>180.947215</td>\n",
              "      <td>15.332761</td>\n",
              "    </tr>\n",
              "    <tr>\n",
              "      <th>std</th>\n",
              "      <td>5.680600</td>\n",
              "      <td>1.088518e+07</td>\n",
              "      <td>35.665793</td>\n",
              "      <td>1.065951</td>\n",
              "      <td>0.235512</td>\n",
              "      <td>6.586687</td>\n",
              "      <td>22.330820</td>\n",
              "      <td>4.864904</td>\n",
              "      <td>6.005057</td>\n",
              "      <td>0.960396</td>\n",
              "      <td>12631.406497</td>\n",
              "      <td>8616.306380</td>\n",
              "      <td>0.801229</td>\n",
              "      <td>341.272695</td>\n",
              "      <td>0.937859</td>\n",
              "      <td>277.989446</td>\n",
              "      <td>219.930139</td>\n",
              "      <td>12.191689</td>\n",
              "    </tr>\n",
              "    <tr>\n",
              "      <th>min</th>\n",
              "      <td>0.000000</td>\n",
              "      <td>1.219000e+04</td>\n",
              "      <td>13.000000</td>\n",
              "      <td>1.000000</td>\n",
              "      <td>2.200000</td>\n",
              "      <td>1.000000</td>\n",
              "      <td>2.000000</td>\n",
              "      <td>1.000000</td>\n",
              "      <td>1.300000</td>\n",
              "      <td>0.000000</td>\n",
              "      <td>0.000000</td>\n",
              "      <td>181.000000</td>\n",
              "      <td>0.000000</td>\n",
              "      <td>1.000000</td>\n",
              "      <td>0.000000</td>\n",
              "      <td>13.000000</td>\n",
              "      <td>1.000000</td>\n",
              "      <td>-0.028351</td>\n",
              "    </tr>\n",
              "    <tr>\n",
              "      <th>25%</th>\n",
              "      <td>6.000000</td>\n",
              "      <td>3.420000e+06</td>\n",
              "      <td>40.000000</td>\n",
              "      <td>1.000000</td>\n",
              "      <td>2.600000</td>\n",
              "      <td>5.000000</td>\n",
              "      <td>19.000000</td>\n",
              "      <td>2.000000</td>\n",
              "      <td>7.000000</td>\n",
              "      <td>0.000000</td>\n",
              "      <td>18574.500000</td>\n",
              "      <td>9238.000000</td>\n",
              "      <td>0.000000</td>\n",
              "      <td>288.000000</td>\n",
              "      <td>0.000000</td>\n",
              "      <td>293.000000</td>\n",
              "      <td>45.000000</td>\n",
              "      <td>9.300000</td>\n",
              "    </tr>\n",
              "    <tr>\n",
              "      <th>50%</th>\n",
              "      <td>9.000000</td>\n",
              "      <td>4.650000e+06</td>\n",
              "      <td>52.000000</td>\n",
              "      <td>2.000000</td>\n",
              "      <td>2.650000</td>\n",
              "      <td>9.000000</td>\n",
              "      <td>30.000000</td>\n",
              "      <td>4.000000</td>\n",
              "      <td>9.000000</td>\n",
              "      <td>0.000000</td>\n",
              "      <td>26764.000000</td>\n",
              "      <td>13094.500000</td>\n",
              "      <td>0.000000</td>\n",
              "      <td>455.000000</td>\n",
              "      <td>1.000000</td>\n",
              "      <td>503.000000</td>\n",
              "      <td>95.000000</td>\n",
              "      <td>12.600000</td>\n",
              "    </tr>\n",
              "    <tr>\n",
              "      <th>75%</th>\n",
              "      <td>14.000000</td>\n",
              "      <td>6.799000e+06</td>\n",
              "      <td>69.750000</td>\n",
              "      <td>3.000000</td>\n",
              "      <td>2.700000</td>\n",
              "      <td>16.000000</td>\n",
              "      <td>42.100000</td>\n",
              "      <td>8.000000</td>\n",
              "      <td>12.000000</td>\n",
              "      <td>1.000000</td>\n",
              "      <td>37274.000000</td>\n",
              "      <td>16293.000000</td>\n",
              "      <td>1.000000</td>\n",
              "      <td>612.000000</td>\n",
              "      <td>1.000000</td>\n",
              "      <td>730.000000</td>\n",
              "      <td>232.000000</td>\n",
              "      <td>17.700000</td>\n",
              "    </tr>\n",
              "    <tr>\n",
              "      <th>max</th>\n",
              "      <td>50.000000</td>\n",
              "      <td>7.630000e+08</td>\n",
              "      <td>900.000000</td>\n",
              "      <td>19.000000</td>\n",
              "      <td>10.000000</td>\n",
              "      <td>60.000000</td>\n",
              "      <td>409.700000</td>\n",
              "      <td>33.000000</td>\n",
              "      <td>112.000000</td>\n",
              "      <td>5.000000</td>\n",
              "      <td>84869.000000</td>\n",
              "      <td>65968.000000</td>\n",
              "      <td>3.000000</td>\n",
              "      <td>3190.000000</td>\n",
              "      <td>3.000000</td>\n",
              "      <td>1344.000000</td>\n",
              "      <td>1580.000000</td>\n",
              "      <td>378.300000</td>\n",
              "    </tr>\n",
              "  </tbody>\n",
              "</table>\n",
              "</div>"
            ],
            "text/plain": [
              "       total_images    last_price    total_area         rooms  ceiling_height  \\\n",
              "count  23449.000000  2.344900e+04  23449.000000  23449.000000    23449.000000   \n",
              "mean       9.881999  6.537338e+06     60.375024      2.080558        2.698136   \n",
              "std        5.680600  1.088518e+07     35.665793      1.065951        0.235512   \n",
              "min        0.000000  1.219000e+04     13.000000      1.000000        2.200000   \n",
              "25%        6.000000  3.420000e+06     40.000000      1.000000        2.600000   \n",
              "50%        9.000000  4.650000e+06     52.000000      2.000000        2.650000   \n",
              "75%       14.000000  6.799000e+06     69.750000      3.000000        2.700000   \n",
              "max       50.000000  7.630000e+08    900.000000     19.000000       10.000000   \n",
              "\n",
              "       floors_total   living_area         floor  kitchen_area       balcony  \\\n",
              "count  23449.000000  23449.000000  23449.000000  23449.000000  23449.000000   \n",
              "mean      10.664677     34.556989      5.870314     10.485274      0.592520   \n",
              "std        6.586687     22.330820      4.864904      6.005057      0.960396   \n",
              "min        1.000000      2.000000      1.000000      1.300000      0.000000   \n",
              "25%        5.000000     19.000000      2.000000      7.000000      0.000000   \n",
              "50%        9.000000     30.000000      4.000000      9.000000      0.000000   \n",
              "75%       16.000000     42.100000      8.000000     12.000000      1.000000   \n",
              "max       60.000000    409.700000     33.000000    112.000000      5.000000   \n",
              "\n",
              "       airports_nearest  cityCenters_nearest  parks_around3000  parks_nearest  \\\n",
              "count      17959.000000         17982.000000      17983.000000    7996.000000   \n",
              "mean       28805.349964         14199.048048          0.611077     490.981116   \n",
              "std        12631.406497          8616.306380          0.801229     341.272695   \n",
              "min            0.000000           181.000000          0.000000       1.000000   \n",
              "25%        18574.500000          9238.000000          0.000000     288.000000   \n",
              "50%        26764.000000         13094.500000          0.000000     455.000000   \n",
              "75%        37274.000000         16293.000000          1.000000     612.000000   \n",
              "max        84869.000000         65968.000000          3.000000    3190.000000   \n",
              "\n",
              "       ponds_around3000  ponds_nearest  days_exposition    area_check  \n",
              "count      17983.000000    8994.000000     20290.000000  23449.000000  \n",
              "mean           0.768782     518.173004       180.947215     15.332761  \n",
              "std            0.937859     277.989446       219.930139     12.191689  \n",
              "min            0.000000      13.000000         1.000000     -0.028351  \n",
              "25%            0.000000     293.000000        45.000000      9.300000  \n",
              "50%            1.000000     503.000000        95.000000     12.600000  \n",
              "75%            1.000000     730.000000       232.000000     17.700000  \n",
              "max            3.000000    1344.000000      1580.000000    378.300000  "
            ]
          },
          "metadata": {},
          "output_type": "display_data"
        }
      ],
      "source": [
        "# в столбце rooms (количество комнат) есть значения, равные 0, такого кол-ва комнат быть не может, заменим на 1\n",
        "\n",
        "data['rooms'] = data['rooms'].replace(0.0, 1.0)\n",
        "\n",
        "display(data.describe())"
      ]
    },
    {
      "cell_type": "code",
      "execution_count": null,
      "metadata": {
        "id": "XPm8Y2AsqpwH",
        "outputId": "a56cb3de-8af0-4221-eb4f-0805085bf3cc"
      },
      "outputs": [
        {
          "data": {
            "text/plain": [
              "13915      2.000000\n",
              "21758      2.000000\n",
              "3242       3.000000\n",
              "23574      3.000000\n",
              "17582      5.000000\n",
              "            ...    \n",
              "4237     332.000000\n",
              "12401    347.500000\n",
              "3117     360.288168\n",
              "5358     409.000000\n",
              "19540    409.700000\n",
              "Name: living_area, Length: 23449, dtype: float64"
            ]
          },
          "execution_count": 39,
          "metadata": {},
          "output_type": "execute_result"
        }
      ],
      "source": [
        "# в столбце living_area (жилая площадь) есть минимальное значение в 2м, посмотрим, сколько строчек во всем датафрейме с\n",
        "# с минимальной жилой площадью в 7м (меньшем, чем для студий)\n",
        "\n",
        "data['living_area'].sort_values()\n"
      ]
    },
    {
      "cell_type": "code",
      "execution_count": null,
      "metadata": {
        "id": "r3Q04atsqpwH"
      },
      "outputs": [],
      "source": [
        "# таких строк всего 8, можно их удалить\n",
        "\n",
        "data = data.loc[data['living_area'] >= 7.0]\n"
      ]
    },
    {
      "cell_type": "markdown",
      "metadata": {
        "id": "rw7TivDbqpwI"
      },
      "source": [
        "Редкие и выбивающиеся значения, которые были обнаружены.\n",
        "\n",
        "В столбце с видами населенных пунктов не хватает единообразия или  привязки к встроенной карте, заменили ё на е для улучшения читаемости  + чтобы анализировать эти виды поселков как одинаковые.\n",
        "\n",
        "В столбце высота потолков значения приведены к разумным, если высота потолка была больше или равна 10м - разделили значения на на 10, скорее всего техническая ошибка, если высота потолка была меньше или равна 2 м  - записали как Nan и удалили, потому что точная информация неизвестна, а имеющаяся противоречит здравому смыслу.\n",
        "\n",
        "В столбце количество комнат были значения, равные 0, такого кол-ва комнат быть не может, заменили на 1.\n",
        "\n",
        "В столбце жилая площадь были минимальные значения в 2 м, проверили, сколько строчек до разумного минимума жилой площади студии в 7 м, таких строчек оказалось всего 8, их удалили.\n",
        "\n"
      ]
    },
    {
      "cell_type": "code",
      "execution_count": null,
      "metadata": {
        "scrolled": true,
        "id": "C4ydGMIFqpwI",
        "outputId": "3207e358-c8a1-4a16-cd56-b0a5b13bbe08"
      },
      "outputs": [
        {
          "data": {
            "text/plain": [
              "0        254901.960784\n",
              "1        180107.526882\n",
              "2        151486.880466\n",
              "3        714869.770085\n",
              "4        312500.000000\n",
              "             ...      \n",
              "23694    132332.878581\n",
              "23695     81578.947368\n",
              "23696     84175.084175\n",
              "23697    261850.658194\n",
              "23698    109756.097561\n",
              "Length: 23441, dtype: float64"
            ]
          },
          "metadata": {},
          "output_type": "display_data"
        },
        {
          "data": {
            "text/html": [
              "<div>\n",
              "<style scoped>\n",
              "    .dataframe tbody tr th:only-of-type {\n",
              "        vertical-align: middle;\n",
              "    }\n",
              "\n",
              "    .dataframe tbody tr th {\n",
              "        vertical-align: top;\n",
              "    }\n",
              "\n",
              "    .dataframe thead th {\n",
              "        text-align: right;\n",
              "    }\n",
              "</style>\n",
              "<table border=\"1\" class=\"dataframe\">\n",
              "  <thead>\n",
              "    <tr style=\"text-align: right;\">\n",
              "      <th></th>\n",
              "      <th>total_images</th>\n",
              "      <th>last_price</th>\n",
              "      <th>total_area</th>\n",
              "      <th>first_day_exposition</th>\n",
              "      <th>rooms</th>\n",
              "      <th>ceiling_height</th>\n",
              "      <th>floors_total</th>\n",
              "      <th>living_area</th>\n",
              "      <th>floor</th>\n",
              "      <th>is_apartment</th>\n",
              "      <th>...</th>\n",
              "      <th>locality_name</th>\n",
              "      <th>airports_nearest</th>\n",
              "      <th>cityCenters_nearest</th>\n",
              "      <th>parks_around3000</th>\n",
              "      <th>parks_nearest</th>\n",
              "      <th>ponds_around3000</th>\n",
              "      <th>ponds_nearest</th>\n",
              "      <th>days_exposition</th>\n",
              "      <th>area_check</th>\n",
              "      <th>metre_price</th>\n",
              "    </tr>\n",
              "  </thead>\n",
              "  <tbody>\n",
              "    <tr>\n",
              "      <th>0</th>\n",
              "      <td>20</td>\n",
              "      <td>13000000.0</td>\n",
              "      <td>108.00</td>\n",
              "      <td>2019-03-07</td>\n",
              "      <td>3</td>\n",
              "      <td>2.70</td>\n",
              "      <td>16</td>\n",
              "      <td>51.000000</td>\n",
              "      <td>8</td>\n",
              "      <td>True</td>\n",
              "      <td>...</td>\n",
              "      <td>Санкт-Петербург</td>\n",
              "      <td>18863.0</td>\n",
              "      <td>16028.0</td>\n",
              "      <td>1.0</td>\n",
              "      <td>482.0</td>\n",
              "      <td>2.0</td>\n",
              "      <td>755.0</td>\n",
              "      <td>NaN</td>\n",
              "      <td>32.000000</td>\n",
              "      <td>254901.960784</td>\n",
              "    </tr>\n",
              "    <tr>\n",
              "      <th>1</th>\n",
              "      <td>7</td>\n",
              "      <td>3350000.0</td>\n",
              "      <td>40.40</td>\n",
              "      <td>2018-12-04</td>\n",
              "      <td>1</td>\n",
              "      <td>2.65</td>\n",
              "      <td>11</td>\n",
              "      <td>18.600000</td>\n",
              "      <td>1</td>\n",
              "      <td>True</td>\n",
              "      <td>...</td>\n",
              "      <td>поселок Шушары</td>\n",
              "      <td>12817.0</td>\n",
              "      <td>18603.0</td>\n",
              "      <td>0.0</td>\n",
              "      <td>NaN</td>\n",
              "      <td>0.0</td>\n",
              "      <td>NaN</td>\n",
              "      <td>81.0</td>\n",
              "      <td>10.800000</td>\n",
              "      <td>180107.526882</td>\n",
              "    </tr>\n",
              "    <tr>\n",
              "      <th>2</th>\n",
              "      <td>10</td>\n",
              "      <td>5196000.0</td>\n",
              "      <td>56.00</td>\n",
              "      <td>2015-08-20</td>\n",
              "      <td>2</td>\n",
              "      <td>2.65</td>\n",
              "      <td>5</td>\n",
              "      <td>34.300000</td>\n",
              "      <td>4</td>\n",
              "      <td>True</td>\n",
              "      <td>...</td>\n",
              "      <td>Санкт-Петербург</td>\n",
              "      <td>21741.0</td>\n",
              "      <td>13933.0</td>\n",
              "      <td>1.0</td>\n",
              "      <td>90.0</td>\n",
              "      <td>2.0</td>\n",
              "      <td>574.0</td>\n",
              "      <td>558.0</td>\n",
              "      <td>13.400000</td>\n",
              "      <td>151486.880466</td>\n",
              "    </tr>\n",
              "    <tr>\n",
              "      <th>3</th>\n",
              "      <td>0</td>\n",
              "      <td>64900000.0</td>\n",
              "      <td>159.00</td>\n",
              "      <td>2015-07-24</td>\n",
              "      <td>3</td>\n",
              "      <td>2.65</td>\n",
              "      <td>14</td>\n",
              "      <td>90.785766</td>\n",
              "      <td>9</td>\n",
              "      <td>True</td>\n",
              "      <td>...</td>\n",
              "      <td>Санкт-Петербург</td>\n",
              "      <td>28098.0</td>\n",
              "      <td>6800.0</td>\n",
              "      <td>2.0</td>\n",
              "      <td>84.0</td>\n",
              "      <td>3.0</td>\n",
              "      <td>234.0</td>\n",
              "      <td>424.0</td>\n",
              "      <td>40.366066</td>\n",
              "      <td>714869.770085</td>\n",
              "    </tr>\n",
              "    <tr>\n",
              "      <th>4</th>\n",
              "      <td>2</td>\n",
              "      <td>10000000.0</td>\n",
              "      <td>100.00</td>\n",
              "      <td>2018-06-19</td>\n",
              "      <td>2</td>\n",
              "      <td>3.03</td>\n",
              "      <td>14</td>\n",
              "      <td>32.000000</td>\n",
              "      <td>13</td>\n",
              "      <td>True</td>\n",
              "      <td>...</td>\n",
              "      <td>Санкт-Петербург</td>\n",
              "      <td>31856.0</td>\n",
              "      <td>8098.0</td>\n",
              "      <td>2.0</td>\n",
              "      <td>112.0</td>\n",
              "      <td>1.0</td>\n",
              "      <td>48.0</td>\n",
              "      <td>121.0</td>\n",
              "      <td>27.000000</td>\n",
              "      <td>312500.000000</td>\n",
              "    </tr>\n",
              "    <tr>\n",
              "      <th>...</th>\n",
              "      <td>...</td>\n",
              "      <td>...</td>\n",
              "      <td>...</td>\n",
              "      <td>...</td>\n",
              "      <td>...</td>\n",
              "      <td>...</td>\n",
              "      <td>...</td>\n",
              "      <td>...</td>\n",
              "      <td>...</td>\n",
              "      <td>...</td>\n",
              "      <td>...</td>\n",
              "      <td>...</td>\n",
              "      <td>...</td>\n",
              "      <td>...</td>\n",
              "      <td>...</td>\n",
              "      <td>...</td>\n",
              "      <td>...</td>\n",
              "      <td>...</td>\n",
              "      <td>...</td>\n",
              "      <td>...</td>\n",
              "      <td>...</td>\n",
              "    </tr>\n",
              "    <tr>\n",
              "      <th>23694</th>\n",
              "      <td>9</td>\n",
              "      <td>9700000.0</td>\n",
              "      <td>133.81</td>\n",
              "      <td>2017-03-21</td>\n",
              "      <td>3</td>\n",
              "      <td>3.70</td>\n",
              "      <td>5</td>\n",
              "      <td>73.300000</td>\n",
              "      <td>3</td>\n",
              "      <td>True</td>\n",
              "      <td>...</td>\n",
              "      <td>Санкт-Петербург</td>\n",
              "      <td>24665.0</td>\n",
              "      <td>4232.0</td>\n",
              "      <td>1.0</td>\n",
              "      <td>796.0</td>\n",
              "      <td>3.0</td>\n",
              "      <td>381.0</td>\n",
              "      <td>NaN</td>\n",
              "      <td>46.680000</td>\n",
              "      <td>132332.878581</td>\n",
              "    </tr>\n",
              "    <tr>\n",
              "      <th>23695</th>\n",
              "      <td>14</td>\n",
              "      <td>3100000.0</td>\n",
              "      <td>59.00</td>\n",
              "      <td>2018-01-15</td>\n",
              "      <td>3</td>\n",
              "      <td>2.65</td>\n",
              "      <td>5</td>\n",
              "      <td>38.000000</td>\n",
              "      <td>4</td>\n",
              "      <td>True</td>\n",
              "      <td>...</td>\n",
              "      <td>Тосно</td>\n",
              "      <td>NaN</td>\n",
              "      <td>NaN</td>\n",
              "      <td>NaN</td>\n",
              "      <td>NaN</td>\n",
              "      <td>NaN</td>\n",
              "      <td>NaN</td>\n",
              "      <td>45.0</td>\n",
              "      <td>12.500000</td>\n",
              "      <td>81578.947368</td>\n",
              "    </tr>\n",
              "    <tr>\n",
              "      <th>23696</th>\n",
              "      <td>18</td>\n",
              "      <td>2500000.0</td>\n",
              "      <td>56.70</td>\n",
              "      <td>2018-02-11</td>\n",
              "      <td>2</td>\n",
              "      <td>2.65</td>\n",
              "      <td>3</td>\n",
              "      <td>29.700000</td>\n",
              "      <td>1</td>\n",
              "      <td>True</td>\n",
              "      <td>...</td>\n",
              "      <td>село Рождествено</td>\n",
              "      <td>NaN</td>\n",
              "      <td>NaN</td>\n",
              "      <td>NaN</td>\n",
              "      <td>NaN</td>\n",
              "      <td>NaN</td>\n",
              "      <td>NaN</td>\n",
              "      <td>NaN</td>\n",
              "      <td>17.069238</td>\n",
              "      <td>84175.084175</td>\n",
              "    </tr>\n",
              "    <tr>\n",
              "      <th>23697</th>\n",
              "      <td>13</td>\n",
              "      <td>11475000.0</td>\n",
              "      <td>76.75</td>\n",
              "      <td>2017-03-28</td>\n",
              "      <td>2</td>\n",
              "      <td>3.00</td>\n",
              "      <td>17</td>\n",
              "      <td>43.822689</td>\n",
              "      <td>12</td>\n",
              "      <td>True</td>\n",
              "      <td>...</td>\n",
              "      <td>Санкт-Петербург</td>\n",
              "      <td>39140.0</td>\n",
              "      <td>10364.0</td>\n",
              "      <td>2.0</td>\n",
              "      <td>173.0</td>\n",
              "      <td>3.0</td>\n",
              "      <td>196.0</td>\n",
              "      <td>602.0</td>\n",
              "      <td>9.627311</td>\n",
              "      <td>261850.658194</td>\n",
              "    </tr>\n",
              "    <tr>\n",
              "      <th>23698</th>\n",
              "      <td>4</td>\n",
              "      <td>1350000.0</td>\n",
              "      <td>32.30</td>\n",
              "      <td>2017-07-21</td>\n",
              "      <td>1</td>\n",
              "      <td>2.50</td>\n",
              "      <td>5</td>\n",
              "      <td>12.300000</td>\n",
              "      <td>1</td>\n",
              "      <td>True</td>\n",
              "      <td>...</td>\n",
              "      <td>поселок Новый Учхоз</td>\n",
              "      <td>NaN</td>\n",
              "      <td>NaN</td>\n",
              "      <td>NaN</td>\n",
              "      <td>NaN</td>\n",
              "      <td>NaN</td>\n",
              "      <td>NaN</td>\n",
              "      <td>NaN</td>\n",
              "      <td>11.000000</td>\n",
              "      <td>109756.097561</td>\n",
              "    </tr>\n",
              "  </tbody>\n",
              "</table>\n",
              "<p>23441 rows × 24 columns</p>\n",
              "</div>"
            ],
            "text/plain": [
              "       total_images  last_price  total_area first_day_exposition  rooms  \\\n",
              "0                20  13000000.0      108.00           2019-03-07      3   \n",
              "1                 7   3350000.0       40.40           2018-12-04      1   \n",
              "2                10   5196000.0       56.00           2015-08-20      2   \n",
              "3                 0  64900000.0      159.00           2015-07-24      3   \n",
              "4                 2  10000000.0      100.00           2018-06-19      2   \n",
              "...             ...         ...         ...                  ...    ...   \n",
              "23694             9   9700000.0      133.81           2017-03-21      3   \n",
              "23695            14   3100000.0       59.00           2018-01-15      3   \n",
              "23696            18   2500000.0       56.70           2018-02-11      2   \n",
              "23697            13  11475000.0       76.75           2017-03-28      2   \n",
              "23698             4   1350000.0       32.30           2017-07-21      1   \n",
              "\n",
              "       ceiling_height  floors_total  living_area  floor  is_apartment  ...  \\\n",
              "0                2.70            16    51.000000      8          True  ...   \n",
              "1                2.65            11    18.600000      1          True  ...   \n",
              "2                2.65             5    34.300000      4          True  ...   \n",
              "3                2.65            14    90.785766      9          True  ...   \n",
              "4                3.03            14    32.000000     13          True  ...   \n",
              "...               ...           ...          ...    ...           ...  ...   \n",
              "23694            3.70             5    73.300000      3          True  ...   \n",
              "23695            2.65             5    38.000000      4          True  ...   \n",
              "23696            2.65             3    29.700000      1          True  ...   \n",
              "23697            3.00            17    43.822689     12          True  ...   \n",
              "23698            2.50             5    12.300000      1          True  ...   \n",
              "\n",
              "             locality_name  airports_nearest  cityCenters_nearest  \\\n",
              "0          Санкт-Петербург           18863.0              16028.0   \n",
              "1           поселок Шушары           12817.0              18603.0   \n",
              "2          Санкт-Петербург           21741.0              13933.0   \n",
              "3          Санкт-Петербург           28098.0               6800.0   \n",
              "4          Санкт-Петербург           31856.0               8098.0   \n",
              "...                    ...               ...                  ...   \n",
              "23694      Санкт-Петербург           24665.0               4232.0   \n",
              "23695                Тосно               NaN                  NaN   \n",
              "23696     село Рождествено               NaN                  NaN   \n",
              "23697      Санкт-Петербург           39140.0              10364.0   \n",
              "23698  поселок Новый Учхоз               NaN                  NaN   \n",
              "\n",
              "       parks_around3000 parks_nearest  ponds_around3000  ponds_nearest  \\\n",
              "0                   1.0         482.0               2.0          755.0   \n",
              "1                   0.0           NaN               0.0            NaN   \n",
              "2                   1.0          90.0               2.0          574.0   \n",
              "3                   2.0          84.0               3.0          234.0   \n",
              "4                   2.0         112.0               1.0           48.0   \n",
              "...                 ...           ...               ...            ...   \n",
              "23694               1.0         796.0               3.0          381.0   \n",
              "23695               NaN           NaN               NaN            NaN   \n",
              "23696               NaN           NaN               NaN            NaN   \n",
              "23697               2.0         173.0               3.0          196.0   \n",
              "23698               NaN           NaN               NaN            NaN   \n",
              "\n",
              "       days_exposition  area_check    metre_price  \n",
              "0                  NaN   32.000000  254901.960784  \n",
              "1                 81.0   10.800000  180107.526882  \n",
              "2                558.0   13.400000  151486.880466  \n",
              "3                424.0   40.366066  714869.770085  \n",
              "4                121.0   27.000000  312500.000000  \n",
              "...                ...         ...            ...  \n",
              "23694              NaN   46.680000  132332.878581  \n",
              "23695             45.0   12.500000   81578.947368  \n",
              "23696              NaN   17.069238   84175.084175  \n",
              "23697            602.0    9.627311  261850.658194  \n",
              "23698              NaN   11.000000  109756.097561  \n",
              "\n",
              "[23441 rows x 24 columns]"
            ]
          },
          "metadata": {},
          "output_type": "display_data"
        },
        {
          "data": {
            "text/plain": [
              "0    254901.960784\n",
              "1    180107.526882\n",
              "2    151486.880466\n",
              "3    714869.770085\n",
              "4    312500.000000\n",
              "5    200694.444444\n",
              "6    349056.603774\n",
              "7    193605.306532\n",
              "8    187945.560596\n",
              "9    123853.211009\n",
              "Name: metre_price, dtype: float64"
            ]
          },
          "metadata": {},
          "output_type": "display_data"
        }
      ],
      "source": [
        "# Добавим в статью новые столбцы\n",
        "\n",
        "#цена одного квадратного метра\n",
        "\n",
        "a = data['last_price'] / data['living_area']\n",
        "display(a)\n",
        "\n",
        "data['metre_price'] = a\n",
        "display(data)\n",
        "\n",
        "display(data['metre_price'].head(10))\n",
        "\n",
        "\n",
        "#last_price — цена на момент снятия с публикации / living_area — жилая площадь в квадратных метрах (м²)\n",
        "\n",
        "#таблица['новый столбец с категорией'] = таблица.apply(название функции, axis=1)\n"
      ]
    },
    {
      "cell_type": "code",
      "execution_count": null,
      "metadata": {
        "id": "WGHuXqFzqpwJ",
        "outputId": "7f31072c-e7fa-4ead-87ea-705088c4e873"
      },
      "outputs": [
        {
          "name": "stdout",
          "output_type": "stream",
          "text": [
            "0        3\n",
            "1        1\n",
            "2        3\n",
            "3        4\n",
            "4        1\n",
            "        ..\n",
            "23694    1\n",
            "23695    0\n",
            "23696    6\n",
            "23697    1\n",
            "23698    4\n",
            "Name: weekday, Length: 23441, dtype: int64\n"
          ]
        }
      ],
      "source": [
        "#день недели публикации объявления (0 — понедельник, 1 — вторник и так далее)\n",
        "\n",
        "data['first_day_exposition'] = pd.to_datetime(data['first_day_exposition'], format='%Y-%m-%d %H:%M')\n",
        "data['weekday'] = data['first_day_exposition'].dt.weekday\n",
        "print(data['weekday'])\n"
      ]
    },
    {
      "cell_type": "code",
      "execution_count": null,
      "metadata": {
        "id": "lCFjs48jqpwJ",
        "outputId": "06940ccf-ffed-4595-d2c5-8501c0fe3f8e"
      },
      "outputs": [
        {
          "data": {
            "text/plain": [
              "0         3\n",
              "1        12\n",
              "2         8\n",
              "3         7\n",
              "4         6\n",
              "         ..\n",
              "23694     3\n",
              "23695     1\n",
              "23696     2\n",
              "23697     3\n",
              "23698     7\n",
              "Name: month, Length: 23441, dtype: int64"
            ]
          },
          "metadata": {},
          "output_type": "display_data"
        }
      ],
      "source": [
        "#месяц публикации объявления\n",
        "\n",
        "data['first_day_exposition'] = pd.to_datetime(data['first_day_exposition'], format='%Y-%m-%d %H:%M')\n",
        "data['month'] = data['first_day_exposition'].dt.month\n",
        "display(data['month'])"
      ]
    },
    {
      "cell_type": "code",
      "execution_count": null,
      "metadata": {
        "scrolled": true,
        "id": "aGqX42YhqpwJ",
        "outputId": "8fa3d8c9-92ae-42f4-8144-5b79c8fb53d0"
      },
      "outputs": [
        {
          "data": {
            "text/plain": [
              "0        2019\n",
              "1        2018\n",
              "2        2015\n",
              "3        2015\n",
              "4        2018\n",
              "         ... \n",
              "23694    2017\n",
              "23695    2018\n",
              "23696    2018\n",
              "23697    2017\n",
              "23698    2017\n",
              "Name: year, Length: 23441, dtype: int64"
            ]
          },
          "metadata": {},
          "output_type": "display_data"
        }
      ],
      "source": [
        "#год публикации объявления\n",
        "\n",
        "data['first_day_exposition'] = pd.to_datetime(data['first_day_exposition'], format='%Y-%m-%d %H:%M')\n",
        "data['year'] = data['first_day_exposition'].dt.year\n",
        "display(data['year'])"
      ]
    },
    {
      "cell_type": "code",
      "execution_count": null,
      "metadata": {
        "id": "3KQZpUF8qpwJ",
        "outputId": "aa4e46f1-89ee-4336-c9e5-9e596a858129"
      },
      "outputs": [
        {
          "data": {
            "text/plain": [
              "0    другой\n",
              "1    первый\n",
              "2    другой\n",
              "3    другой\n",
              "4    другой\n",
              "5    другой\n",
              "6    другой\n",
              "7    другой\n",
              "8    другой\n",
              "9    другой\n",
              "Name: floor_type, dtype: object"
            ]
          },
          "metadata": {},
          "output_type": "display_data"
        },
        {
          "data": {
            "text/plain": [
              "0     8\n",
              "1     1\n",
              "2     4\n",
              "3     9\n",
              "4    13\n",
              "5     5\n",
              "6     6\n",
              "7    22\n",
              "8    26\n",
              "9     7\n",
              "Name: floor, dtype: int64"
            ]
          },
          "metadata": {},
          "output_type": "display_data"
        },
        {
          "data": {
            "text/plain": [
              "0    16\n",
              "1    11\n",
              "2     5\n",
              "3    14\n",
              "4    14\n",
              "5    12\n",
              "6    26\n",
              "7    24\n",
              "8    27\n",
              "9     9\n",
              "Name: floors_total, dtype: int64"
            ]
          },
          "metadata": {},
          "output_type": "display_data"
        }
      ],
      "source": [
        "#тип этажа квартиры\n",
        "\n",
        "def floor_type(row):\n",
        "    try:\n",
        "        if row['floor'] == 1:\n",
        "            return 'первый'\n",
        "        elif row['floor'] == row['floors_total']:\n",
        "            return 'последний'\n",
        "        else:\n",
        "            return 'другой'\n",
        "    except:\n",
        "        return 'ошибка!'\n",
        "\n",
        "data['floor_type'] = data.apply(floor_type, axis=1)\n",
        "display(data['floor_type'].head(10))\n",
        "display(data['floor'].head(10))\n",
        "display(data['floors_total'].head(10))"
      ]
    },
    {
      "cell_type": "code",
      "execution_count": null,
      "metadata": {
        "id": "T8P7_TbIqpwJ",
        "outputId": "6c03ce8b-0526-4d00-cd1b-4096db9641af"
      },
      "outputs": [
        {
          "data": {
            "text/plain": [
              "0        16.0\n",
              "1        19.0\n",
              "2        14.0\n",
              "3         7.0\n",
              "4         8.0\n",
              "         ... \n",
              "23694     4.0\n",
              "23695     NaN\n",
              "23696     NaN\n",
              "23697    10.0\n",
              "23698     NaN\n",
              "Name: cityCenters_km, Length: 23441, dtype: float64"
            ]
          },
          "metadata": {},
          "output_type": "display_data"
        }
      ],
      "source": [
        "#расстояние до центра города в километрах (переведите из м в км и округлите до целых значений)\n",
        "\n",
        "data['cityCenters_km'] = (data['cityCenters_nearest'] / 1000).round(0)\n",
        "display(data['cityCenters_km'])\n",
        "\n"
      ]
    },
    {
      "cell_type": "markdown",
      "metadata": {
        "id": "Bf8KxMIuqpwK"
      },
      "source": [
        "### Проведем исследовательский анализ данных"
      ]
    },
    {
      "cell_type": "code",
      "execution_count": null,
      "metadata": {
        "scrolled": true,
        "id": "AnxR1iGfqpwK",
        "outputId": "e2983687-9bc1-4d68-d118-7fde637cc33e"
      },
      "outputs": [
        {
          "data": {
            "image/png": "[encoded data removed]",
            "text/plain": [
              "<Figure size 576x360 with 1 Axes>"
            ]
          },
          "metadata": {
            "needs_background": "light"
          },
          "output_type": "display_data"
        },
        {
          "data": {
            "text/plain": [
              "count    23441.000000\n",
              "mean        60.377771\n",
              "std         35.665058\n",
              "min         13.000000\n",
              "25%         40.000000\n",
              "50%         52.000000\n",
              "75%         69.750000\n",
              "max        900.000000\n",
              "Name: total_area, dtype: float64"
            ]
          },
          "metadata": {},
          "output_type": "display_data"
        }
      ],
      "source": [
        "# Изучим следующие параметры объектов и построим гистрограммы для каждого из них:\n",
        "\n",
        "# общая площадь\n",
        "\n",
        "\n",
        "data['total_area'].hist(figsize=(8, 5), bins=50, range=(0, 200))\n",
        "\n",
        "# Добавим подписи к графику\n",
        "plt.title('total_area')\n",
        "plt.xlabel('total_area')\n",
        "plt.ylabel('count')\n",
        "\n",
        "plt.show()\n",
        "\n",
        "F(data['total_area'].describe())\n"
      ]
    },
    {
      "cell_type": "markdown",
      "metadata": {
        "id": "RNK0I8UNqpwL"
      },
      "source": [
        "В целом на гистограмме общей площади объектов видно, что распределение нормальное, большинство объектов расположены в пределах 40-60 кв.м., объектов до 20 кв.м. очень мало, как и свыше 100 кв.м."
      ]
    },
    {
      "cell_type": "code",
      "execution_count": null,
      "metadata": {
        "scrolled": true,
        "id": "MVY7qwPCqpwL",
        "outputId": "e24014b1-84f5-4415-afe7-f241fc852501"
      },
      "outputs": [
        {
          "data": {
            "image/png": "[encoded data removed]",
            "text/plain": [
              "<Figure size 576x360 with 1 Axes>"
            ]
          },
          "metadata": {
            "needs_background": "light"
          },
          "output_type": "display_data"
        },
        {
          "data": {
            "text/plain": [
              "count    23441.000000\n",
              "mean        34.567379\n",
              "std         22.327523\n",
              "min          7.422736\n",
              "25%         19.000000\n",
              "50%         30.000000\n",
              "75%         42.100000\n",
              "max        409.700000\n",
              "Name: living_area, dtype: float64"
            ]
          },
          "metadata": {},
          "output_type": "display_data"
        }
      ],
      "source": [
        "# жилая площадь\n",
        "\n",
        "\n",
        "data['living_area'].hist(figsize=(8, 5), bins=50, range=(0, 200))\n",
        "\n",
        "# Добавим подписи к графику\n",
        "plt.title('living_area')\n",
        "plt.xlabel('living_area')\n",
        "plt.ylabel('count')\n",
        "\n",
        "plt.show()\n",
        "\n",
        "display(data['living_area'].describe())\n"
      ]
    },
    {
      "cell_type": "markdown",
      "metadata": {
        "id": "Wlr6XZ-eqpwL"
      },
      "source": [
        "В столбце жилой площади распределение также нормальное, есть значительные выбросы в районе 20 кв.м. и 35 кв.м., что в целом совпадает с медианой, маленьких жилых площадей, до 10 кв.м., в объявлениях очень мало, в том числе и потому, что мы выше почистили такие не совпадающие с действительностью данные."
      ]
    },
    {
      "cell_type": "code",
      "execution_count": null,
      "metadata": {
        "id": "Kvkxm7rgqpwL",
        "outputId": "45da4860-7e1f-499e-dc3f-d816b0d29d28"
      },
      "outputs": [
        {
          "data": {
            "image/png": "[encoded data removed]",
            "text/plain": [
              "<Figure size 576x360 with 1 Axes>"
            ]
          },
          "metadata": {
            "needs_background": "light"
          },
          "output_type": "display_data"
        },
        {
          "data": {
            "text/plain": [
              "count    23441.000000\n",
              "mean        10.485069\n",
              "std          6.005307\n",
              "min          1.300000\n",
              "25%          7.000000\n",
              "50%          9.000000\n",
              "75%         12.000000\n",
              "max        112.000000\n",
              "Name: kitchen_area, dtype: float64"
            ]
          },
          "metadata": {},
          "output_type": "display_data"
        }
      ],
      "source": [
        "# площадь кухни\n",
        "\n",
        "data['kitchen_area'].hist(figsize=(8, 5), bins=50, range=(0, 100))\n",
        "\n",
        "# Добавим подписи к графику\n",
        "plt.title('kitchen_area')\n",
        "plt.xlabel('kitchen_area')\n",
        "plt.ylabel('count')\n",
        "\n",
        "plt.show()\n",
        "\n",
        "display(data['kitchen_area'].describe())"
      ]
    },
    {
      "cell_type": "markdown",
      "metadata": {
        "id": "JhDVVEv2qpwL"
      },
      "source": [
        "Гисторамма по параметрам площади кухни тоже попадает в нормальное распределение, медианная площадь кухни в пределах 10 кв.м., не наблюдается выбросов очень маленьких кухонь. Так кухонь менее 1 метра крайне мало, можно было бы удалить такие данные, но в выбросы они не попадают, как и крайне большие, более 100 метров."
      ]
    },
    {
      "cell_type": "code",
      "execution_count": null,
      "metadata": {
        "id": "HasWevXeqpwL",
        "outputId": "a853b083-bc63-40ea-df0d-72496048be93"
      },
      "outputs": [
        {
          "data": {
            "image/png": "[encoded data removed]",
            "text/plain": [
              "<Figure size 576x360 with 1 Axes>"
            ]
          },
          "metadata": {
            "needs_background": "light"
          },
          "output_type": "display_data"
        },
        {
          "data": {
            "text/plain": [
              "count    2.344100e+04\n",
              "mean     6.535528e+06\n",
              "std      1.088024e+07\n",
              "min      1.219000e+04\n",
              "25%      3.420000e+06\n",
              "50%      4.650000e+06\n",
              "75%      6.799000e+06\n",
              "max      7.630000e+08\n",
              "Name: last_price, dtype: float64"
            ]
          },
          "metadata": {},
          "output_type": "display_data"
        }
      ],
      "source": [
        "# цена объекта\n",
        "\n",
        "data['last_price'].hist(figsize=(8, 5), bins=50, range=(0, 20000000))\n",
        "\n",
        "# Добавим подписи к графику\n",
        "plt.title('last_price')\n",
        "plt.xlabel('last_price')\n",
        "plt.ylabel('count')\n",
        "\n",
        "plt.show()\n",
        "\n",
        "display(data['last_price'].describe())"
      ]
    },
    {
      "cell_type": "markdown",
      "metadata": {
        "id": "F69vrdKoqpwM"
      },
      "source": [
        "Распределение цены объектов тоже выглядит нормально, нет выбросов очень дешевых квартир, менее 1 млн рублей, либо крайне дорогих, они есть на гистограмме, но число объявлений с такими квартирами единично.\n",
        "В основном в представленном датафрейме квартиры снимаются с продажи с ценой в районе 4-6 млн рублей."
      ]
    },
    {
      "cell_type": "code",
      "execution_count": null,
      "metadata": {
        "id": "u4Y394UsqpwM",
        "outputId": "1905fc05-9ca1-4e00-80af-5593b89f3176"
      },
      "outputs": [
        {
          "data": {
            "image/png": "[encoded data removed]",
            "text/plain": [
              "<Figure size 576x360 with 1 Axes>"
            ]
          },
          "metadata": {
            "needs_background": "light"
          },
          "output_type": "display_data"
        },
        {
          "data": {
            "text/plain": [
              "count    23441.000000\n",
              "mean         2.080671\n",
              "std          1.065925\n",
              "min          1.000000\n",
              "25%          1.000000\n",
              "50%          2.000000\n",
              "75%          3.000000\n",
              "max         19.000000\n",
              "Name: rooms, dtype: float64"
            ]
          },
          "metadata": {},
          "output_type": "display_data"
        }
      ],
      "source": [
        "# количество комнат\n",
        "\n",
        "data['rooms'].hist(figsize=(8, 5), bins=50, range=(0, 8))\n",
        "\n",
        "# Добавим подписи к графику\n",
        "plt.title('rooms')\n",
        "plt.xlabel('rooms')\n",
        "plt.ylabel('count')\n",
        "\n",
        "plt.show()\n",
        "\n",
        "\n",
        "display(data['rooms'].describe())"
      ]
    },
    {
      "cell_type": "markdown",
      "metadata": {
        "id": "XOrIAX_gqpwM"
      },
      "source": [
        "Количество комнат на графике распределено в виде одиночных столбцов, потому что мы приводили число комнат к целому значению, а также отсутствуют нулевые комнаты, мы ранее заменили их на 1, потому что нуля комнат в квартире быть не может.\n",
        "В среднем в датафрейме представлено больше всего объявлений о продаже однокомнатных квартир, двухкомнатных почти столько же, трехкомнатных меньше примерно в полтора раза, а квартиры 4 и более комнат выкладываются на продажу гораздо реже."
      ]
    },
    {
      "cell_type": "code",
      "execution_count": null,
      "metadata": {
        "id": "az_cp4oRqpwM",
        "outputId": "d33e4394-6895-4a31-fee0-a190ecc43bd0"
      },
      "outputs": [
        {
          "data": {
            "image/png": "[encoded data removed]",
            "text/plain": [
              "<Figure size 576x360 with 1 Axes>"
            ]
          },
          "metadata": {
            "needs_background": "light"
          },
          "output_type": "display_data"
        },
        {
          "data": {
            "text/plain": [
              "count    23441.000000\n",
              "mean         2.698137\n",
              "std          0.235527\n",
              "min          2.200000\n",
              "25%          2.600000\n",
              "50%          2.650000\n",
              "75%          2.700000\n",
              "max         10.000000\n",
              "Name: ceiling_height, dtype: float64"
            ]
          },
          "metadata": {},
          "output_type": "display_data"
        }
      ],
      "source": [
        "# высота потолков\n",
        "\n",
        "data['ceiling_height'].hist(figsize=(8, 5), bins=50, range=(0, 5))\n",
        "\n",
        "# Добавим подписи к графику\n",
        "plt.title('ceiling_height')\n",
        "plt.xlabel('ceiling_height')\n",
        "plt.ylabel('count')\n",
        "\n",
        "plt.show()\n",
        "\n",
        "display(data['ceiling_height'].describe())"
      ]
    },
    {
      "cell_type": "markdown",
      "metadata": {
        "id": "n0xMuvzVqpwN"
      },
      "source": [
        "Распределение высоты потолков выглядит на гистограмме тоже правдоподобно, мы исключили потолки менее 2 м, но даже потолков с высотой 2,2 м на графике очень мало, в основной высота потолков колеблется в районе 2,6 м, потолков выше 3 метров мало, а потолки выше 4 метров встречается совсем редко в представленных данных.  "
      ]
    },
    {
      "cell_type": "code",
      "execution_count": null,
      "metadata": {
        "scrolled": true,
        "id": "ej8Vomy6qpwN",
        "outputId": "3fab8fce-df8e-40bf-f82a-ca2028e17895"
      },
      "outputs": [
        {
          "data": {
            "image/png": "[encoded data removed]",
            "text/plain": [
              "<Figure size 576x360 with 1 Axes>"
            ]
          },
          "metadata": {
            "needs_background": "light"
          },
          "output_type": "display_data"
        },
        {
          "data": {
            "text/plain": [
              "count    23441.000000\n",
              "mean         5.868905\n",
              "std          4.862732\n",
              "min          1.000000\n",
              "25%          2.000000\n",
              "50%          4.000000\n",
              "75%          8.000000\n",
              "max         33.000000\n",
              "Name: floor, dtype: float64"
            ]
          },
          "metadata": {},
          "output_type": "display_data"
        }
      ],
      "source": [
        "# этаж квартиры\n",
        "\n",
        "data['floor'].hist(figsize=(8, 5), bins=50, range=(0, 10))\n",
        "\n",
        "# Добавим подписи к графику\n",
        "plt.title('floor')\n",
        "plt.xlabel('floor')\n",
        "plt.ylabel('count')\n",
        "\n",
        "plt.show()\n",
        "\n",
        "\n",
        "display(data['floor'].describe())"
      ]
    },
    {
      "cell_type": "markdown",
      "metadata": {
        "id": "tmG3lQN0qpwN"
      },
      "source": [
        "Этаж квартиры в данных чаще всего представлен второй, также немало квартир продается на 1,3,4 и 5 этажах. А вот квартиры выше 6 этаже выставляются на продажу гораздо слабее, квартир выше 9 этажа совсем мало."
      ]
    },
    {
      "cell_type": "code",
      "execution_count": null,
      "metadata": {
        "scrolled": true,
        "id": "KBgswEU1qpwN",
        "outputId": "35536e60-c6b5-4657-ccbd-1d0fc24fdb7f"
      },
      "outputs": [
        {
          "data": {
            "image/png": "[encoded data removed]",
            "text/plain": [
              "<Figure size 576x360 with 1 Axes>"
            ]
          },
          "metadata": {
            "needs_background": "light"
          },
          "output_type": "display_data"
        },
        {
          "data": {
            "image/png": "[encoded data removed]",
            "text/plain": [
              "<Figure size 432x288 with 1 Axes>"
            ]
          },
          "metadata": {
            "needs_background": "light"
          },
          "output_type": "display_data"
        },
        {
          "data": {
            "text/plain": [
              "count      23441\n",
              "unique         3\n",
              "top       другой\n",
              "freq       17242\n",
              "Name: floor_type, dtype: object"
            ]
          },
          "metadata": {},
          "output_type": "display_data"
        }
      ],
      "source": [
        "# тип этажа квартиры («первый», «последний», «другой»)\n",
        "\n",
        "data['floor_type'].hist(figsize=(8, 5), bins=50, range=(0, 3))\n",
        "plt.show()\n",
        "\n",
        "# Добавим подписи к графику\n",
        "plt.title('floor_type')\n",
        "plt.xlabel('floor_type')\n",
        "plt.ylabel('count')\n",
        "\n",
        "plt.show()\n",
        "\n",
        "display(data['floor_type'].describe())"
      ]
    },
    {
      "cell_type": "markdown",
      "metadata": {
        "id": "C1oe1p7jqpwN"
      },
      "source": [
        "Чаще всего квартиры продаются на этаже, отличном от первого или последнего, таких квартир в данных подавляющее большинство.\n",
        "А меньше всего квартир представлено на первом этаже, хотя их всего чуть меньше по сравнению с продажами на последнем этаже, объявлений о продаже квартир на котором также немного."
      ]
    },
    {
      "cell_type": "code",
      "execution_count": null,
      "metadata": {
        "id": "ns8fa_DmqpwN",
        "outputId": "223ff9d3-aea2-41bf-8e4c-e08683ad6812"
      },
      "outputs": [
        {
          "data": {
            "text/plain": [
              "count    23441.000000\n",
              "mean        10.663368\n",
              "std          6.585817\n",
              "min          1.000000\n",
              "25%          5.000000\n",
              "50%          9.000000\n",
              "75%         16.000000\n",
              "max         60.000000\n",
              "Name: floors_total, dtype: float64"
            ]
          },
          "metadata": {},
          "output_type": "display_data"
        },
        {
          "data": {
            "image/png": "[encoded data removed]",
            "text/plain": [
              "<Figure size 576x360 with 1 Axes>"
            ]
          },
          "metadata": {
            "needs_background": "light"
          },
          "output_type": "display_data"
        }
      ],
      "source": [
        "# общее количество этажей в доме\n",
        "\n",
        "data['floors_total'].hist(figsize=(8, 5), bins=50, range=(0, 30))\n",
        "\n",
        "# Добавим подписи к графику\n",
        "plt.title('floors_total')\n",
        "plt.xlabel('floors_total')\n",
        "plt.ylabel('count')\n",
        "\n",
        "display(data['floors_total'].describe())"
      ]
    },
    {
      "cell_type": "markdown",
      "metadata": {
        "id": "t9M-0dbeqpwO"
      },
      "source": [
        "На гистограмме распределения общего числа этажей в доме наглядно видно, что есть выбросы пятиэтажек и девятиэтажек, что характерно для типовой застройки Москвы и Санкт-Петербурга. Домов малой этажности, до 3 этажа, как и высоток от 25 этажей и выше в данных представлено крайне мало."
      ]
    },
    {
      "cell_type": "code",
      "execution_count": null,
      "metadata": {
        "scrolled": true,
        "id": "sp649rd2qpwO",
        "outputId": "c0437bf1-265d-4902-acd6-f2614aceed6e"
      },
      "outputs": [
        {
          "data": {
            "text/plain": [
              "count    17975.000000\n",
              "mean     14201.024033\n",
              "std       8617.196289\n",
              "min        181.000000\n",
              "25%       9238.000000\n",
              "50%      13099.000000\n",
              "75%      16293.000000\n",
              "max      65968.000000\n",
              "Name: cityCenters_nearest, dtype: float64"
            ]
          },
          "metadata": {},
          "output_type": "display_data"
        },
        {
          "data": {
            "image/png": "[encoded data removed]",
            "text/plain": [
              "<Figure size 576x360 with 1 Axes>"
            ]
          },
          "metadata": {
            "needs_background": "light"
          },
          "output_type": "display_data"
        }
      ],
      "source": [
        "# расстояние до центра города в метрах\n",
        "\n",
        "data['cityCenters_nearest'].hist(figsize=(8, 5), bins=50, range=(0, 70000))\n",
        "\n",
        "# Добавим подписи к графику\n",
        "plt.title('cityCenters_nearest')\n",
        "plt.xlabel('cityCenters_nearest')\n",
        "plt.ylabel('count')\n",
        "\n",
        "display(data['cityCenters_nearest'].describe())"
      ]
    },
    {
      "cell_type": "markdown",
      "metadata": {
        "id": "qL7i7HS6qpwO"
      },
      "source": [
        "Чаще всего квартиры продают на расстоянии 1-2 км от центра города, особых счастливчиков, которые живут на расстоянии менее 1 километра до центра немного, но все же больше, чем жителей, продающих квартиры на расстоянии 4 км от центра.\n",
        "Интересно, что на расстоянии 5 км от центра наблюдается некоторый всплеск, возможно, это новостройки в новых районах Санкт-Петербурга и Москвы, которые только начинают застраиваться."
      ]
    },
    {
      "cell_type": "code",
      "execution_count": null,
      "metadata": {
        "id": "4IJ2G1VEqpwO",
        "outputId": "a96dd07e-9efd-4a0d-9c7c-b2ba6c5b06cd"
      },
      "outputs": [
        {
          "data": {
            "text/plain": [
              "count    17952.000000\n",
              "mean     28806.639483\n",
              "std      12632.646253\n",
              "min          0.000000\n",
              "25%      18574.000000\n",
              "50%      26763.500000\n",
              "75%      37278.750000\n",
              "max      84869.000000\n",
              "Name: airports_nearest, dtype: float64"
            ]
          },
          "metadata": {},
          "output_type": "display_data"
        },
        {
          "data": {
            "image/png": "[encoded data removed]",
            "text/plain": [
              "<Figure size 576x360 with 1 Axes>"
            ]
          },
          "metadata": {
            "needs_background": "light"
          },
          "output_type": "display_data"
        }
      ],
      "source": [
        "# расстояние до ближайшего аэропорта\n",
        "\n",
        "data['airports_nearest'].hist(legend='airports_nearest', figsize=(8, 5), bins=50, range=(0, 70000))\n",
        "\n",
        "# Добавим подписи к графику\n",
        "plt.title('airports_nearest')\n",
        "plt.xlabel('airports_nearest')\n",
        "plt.ylabel('count')\n",
        "\n",
        "display(data['airports_nearest'].describe())"
      ]
    },
    {
      "cell_type": "markdown",
      "metadata": {
        "id": "FXfzDxRwqpwP"
      },
      "source": [
        "Большинство квартир в представленных объявлений расположены на расстоянии 2-3 км от аэропорта, крайне мало людей живут вблизи аэропорта на расстоянии 1 км, и еще меньше продают свои квартиры очень далеко от аэропорта, на расстоянии свыше 6 км."
      ]
    },
    {
      "cell_type": "code",
      "execution_count": null,
      "metadata": {
        "id": "asWgmAETqpwP",
        "outputId": "78e434b5-c7cf-40ae-ee65-ffc3106d0e80"
      },
      "outputs": [
        {
          "data": {
            "text/plain": [
              "count    7991.000000\n",
              "mean      490.920786\n",
              "std       341.351749\n",
              "min         1.000000\n",
              "25%       288.000000\n",
              "50%       455.000000\n",
              "75%       612.000000\n",
              "max      3190.000000\n",
              "Name: parks_nearest, dtype: float64"
            ]
          },
          "metadata": {},
          "output_type": "display_data"
        },
        {
          "data": {
            "image/png": "[encoded data removed]",
            "text/plain": [
              "<Figure size 576x360 with 1 Axes>"
            ]
          },
          "metadata": {
            "needs_background": "light"
          },
          "output_type": "display_data"
        }
      ],
      "source": [
        "# расстояние до ближайшего парка\n",
        "\n",
        "data['parks_nearest'].hist(figsize=(8, 5), bins=50, range=(0, 3000))\n",
        "\n",
        "# Добавим подписи к графику\n",
        "plt.title('parks_nearest')\n",
        "plt.xlabel('parks_nearest')\n",
        "plt.ylabel('count')\n",
        "\n",
        "display(data['parks_nearest'].describe())"
      ]
    },
    {
      "cell_type": "markdown",
      "metadata": {
        "id": "TgUUlk-UqpwP"
      },
      "source": [
        "Чаще всего квартиры, представленные в объявлениях, расположены в 400-500 метрах от ближайшего парка, есть особые счастливцы, которые живут менее чем в 300 метрах, но их меньше чем тех, кто живет дальше 600 метров от парков. Однако, почти у каждого жителя есть хоть какой-нибудь парк на расстоянии 1 км от дома, количество квартир, совсем удаленных от парков, невелико."
      ]
    },
    {
      "cell_type": "code",
      "execution_count": null,
      "metadata": {
        "id": "fV1J5gYNqpwP",
        "outputId": "2a032fd5-7ab1-4904-b4de-a5051e2ac8ff"
      },
      "outputs": [
        {
          "data": {
            "text/plain": [
              "count    23441.000000\n",
              "mean         2.568065\n",
              "std          1.787872\n",
              "min          0.000000\n",
              "25%          1.000000\n",
              "50%          3.000000\n",
              "75%          4.000000\n",
              "max          6.000000\n",
              "Name: weekday, dtype: float64"
            ]
          },
          "metadata": {},
          "output_type": "display_data"
        },
        {
          "data": {
            "image/png": "[encoded data removed]",
            "text/plain": [
              "<Figure size 576x360 with 1 Axes>"
            ]
          },
          "metadata": {
            "needs_background": "light"
          },
          "output_type": "display_data"
        }
      ],
      "source": [
        "# день публикации объявления\n",
        "\n",
        "data['weekday'].hist(figsize=(8, 5), bins=50)\n",
        "\n",
        "# Добавим подписи к графику\n",
        "plt.title('weekday')\n",
        "plt.xlabel('weekday')\n",
        "plt.ylabel('count')\n",
        "\n",
        "display(data['weekday'].describe())"
      ]
    },
    {
      "cell_type": "markdown",
      "metadata": {
        "id": "GzbFFakdqpwP"
      },
      "source": [
        "Пик выкладывания квартир на продажу пришелся на четверг, в целом и в остальные будние дни недели объявления выкладывают на продажу часто. А вот в выходные дни, субботу и воскресенье, количество объявлений сокращается вдвое."
      ]
    },
    {
      "cell_type": "code",
      "execution_count": null,
      "metadata": {
        "id": "JuiOWzn1qpwP",
        "outputId": "82c8da80-dc50-4e3e-ce19-f34bbfeab8b6"
      },
      "outputs": [
        {
          "data": {
            "text/plain": [
              "count    23441.000000\n",
              "mean         6.401433\n",
              "std          3.493537\n",
              "min          1.000000\n",
              "25%          3.000000\n",
              "50%          6.000000\n",
              "75%         10.000000\n",
              "max         12.000000\n",
              "Name: month, dtype: float64"
            ]
          },
          "metadata": {},
          "output_type": "display_data"
        },
        {
          "data": {
            "image/png": "[encoded data removed]",
            "text/plain": [
              "<Figure size 576x360 with 1 Axes>"
            ]
          },
          "metadata": {
            "needs_background": "light"
          },
          "output_type": "display_data"
        }
      ],
      "source": [
        "#месяц публикации объявления\n",
        "\n",
        "\n",
        "data['month'].hist(figsize=(8, 5), bins=50)\n",
        "\n",
        "# Добавим подписи к графику\n",
        "plt.title('month')\n",
        "plt.xlabel('month')\n",
        "plt.ylabel('count')\n",
        "\n",
        "display(data['month'].describe())\n"
      ]
    },
    {
      "cell_type": "markdown",
      "metadata": {
        "id": "WxksxJ4sqpwQ"
      },
      "source": [
        "Чаще всего в Москве и Санкт-Петербурге объявления о продажи квартир выкладывают в феврале, марте и апреле, а вот летом и в январские праздники наблюдается заметный спад объявлений о продаже квартир. Осенью попытки продаж начинают возрастать и к ноябрю достигают апрелького уровня."
      ]
    },
    {
      "cell_type": "code",
      "execution_count": null,
      "metadata": {
        "id": "Ms8FRxwsqpwQ",
        "outputId": "da0b4eac-88af-469b-d75a-fd2102a3105e"
      },
      "outputs": [
        {
          "data": {
            "text/plain": [
              "count    20282.000000\n",
              "mean       180.970861\n",
              "std        219.963931\n",
              "min          1.000000\n",
              "25%         45.000000\n",
              "50%         95.000000\n",
              "75%        232.000000\n",
              "max       1580.000000\n",
              "Name: days_exposition, dtype: float64"
            ]
          },
          "metadata": {},
          "output_type": "display_data"
        },
        {
          "data": {
            "image/png": "[encoded data removed]",
            "text/plain": [
              "<Figure size 576x360 with 1 Axes>"
            ]
          },
          "metadata": {
            "needs_background": "light"
          },
          "output_type": "display_data"
        }
      ],
      "source": [
        "# Изучим, как быстро продавались квартиры. Этот параметр показывает, сколько дней было размещено каждое объявление.\n",
        "# постройте гистограмму, посмотрим на среднее и медиану.\n",
        "\n",
        "data['days_exposition'].hist(figsize=(8, 5), bins=100)\n",
        "\n",
        "# Добавим подписи к графику\n",
        "plt.title('days_exposition')\n",
        "plt.xlabel('days_exposition')\n",
        "plt.ylabel('count')\n",
        "\n",
        "display(data['days_exposition'].describe())\n",
        "\n"
      ]
    },
    {
      "cell_type": "markdown",
      "metadata": {
        "id": "SiAg9pBLqpwQ"
      },
      "source": [
        "Обычно продажа занимает от 45 до 230 дней, в этом периоде тоже есть определенные пики в районе пятидесятого и сотого дня, но, скорее всего, они связаны с продажей квартир агентствами и одновременным снятием неактуальных объявлений.\n",
        "\n",
        "Быстрой продажей квартиры можно считать продажу от 1 до 45 дней, крайне медленной - от 231 дня и выше.\n"
      ]
    },
    {
      "cell_type": "code",
      "execution_count": null,
      "metadata": {
        "id": "KJGcMomjqpwQ",
        "outputId": "a3e60c4c-77fd-4146-8432-eea648977d81"
      },
      "outputs": [
        {
          "data": {
            "text/plain": [
              "<AxesSubplot:xlabel='total_area', ylabel='last_price'>"
            ]
          },
          "execution_count": 62,
          "metadata": {},
          "output_type": "execute_result"
        },
        {
          "data": {
            "image/png": "[encoded data removed]",
            "text/plain": [
              "<Figure size 432x288 with 1 Axes>"
            ]
          },
          "metadata": {
            "needs_background": "light"
          },
          "output_type": "display_data"
        }
      ],
      "source": [
        "#Изучим, какие факторы больше всего влияют на общую (полную) стоимость объекта?\n",
        "#общая стоимость - общая площадь;\n",
        "\n",
        "\n",
        "data.plot(y='last_price', x='total_area', kind='scatter', alpha=0.5)\n"
      ]
    },
    {
      "cell_type": "markdown",
      "metadata": {
        "id": "FP6J7LXhqpwR"
      },
      "source": [
        "Видна корреляция для квартир меньше 200 кв.м, а жилье с большей площадью уже не подвержено зависимости цена - общая площадь"
      ]
    },
    {
      "cell_type": "code",
      "execution_count": null,
      "metadata": {
        "id": "dV4gKCSpqpwR",
        "outputId": "e20f8532-3576-4216-e9d8-db22122c0023"
      },
      "outputs": [
        {
          "data": {
            "text/plain": [
              "<AxesSubplot:xlabel='living_area', ylabel='last_price'>"
            ]
          },
          "execution_count": 63,
          "metadata": {},
          "output_type": "execute_result"
        },
        {
          "data": {
            "image/png": "[encoded data removed]",
            "text/plain": [
              "<Figure size 432x288 with 1 Axes>"
            ]
          },
          "metadata": {
            "needs_background": "light"
          },
          "output_type": "display_data"
        }
      ],
      "source": [
        "#общая стоимость - жилая площадь;\n",
        "\n",
        "data.plot(y='last_price', x='living_area', kind='scatter', alpha=0.5)"
      ]
    },
    {
      "cell_type": "markdown",
      "metadata": {
        "id": "-SF8jkjbqpwR"
      },
      "source": [
        "У жилой стоимости зависимость со стоимостью примерно такая же, после 100 кв.м. жилой площади начитается сильный разброс"
      ]
    },
    {
      "cell_type": "code",
      "execution_count": null,
      "metadata": {
        "id": "YJLRpCi7qpwR",
        "outputId": "914f094e-e0b6-4008-ea02-09246a051fff"
      },
      "outputs": [
        {
          "data": {
            "text/plain": [
              "<AxesSubplot:xlabel='kitchen_area', ylabel='last_price'>"
            ]
          },
          "execution_count": 64,
          "metadata": {},
          "output_type": "execute_result"
        },
        {
          "data": {
            "image/png": "[encoded data removed]",
            "text/plain": [
              "<Figure size 432x288 with 1 Axes>"
            ]
          },
          "metadata": {
            "needs_background": "light"
          },
          "output_type": "display_data"
        }
      ],
      "source": [
        "#общая стоимость - площадь кухни;\n",
        "\n",
        "data.plot(y='last_price', x='kitchen_area', kind='scatter', alpha=0.5)"
      ]
    },
    {
      "cell_type": "markdown",
      "metadata": {
        "id": "HqK6koJiqpwR"
      },
      "source": [
        "Наблюдаем все тоже самое, видимо, все из-за того, что процент жилой площади и процент площади кухни относительно общей площади примерно одинаков"
      ]
    },
    {
      "cell_type": "code",
      "execution_count": null,
      "metadata": {
        "id": "cr1aaj5jqpwS",
        "outputId": "fa6ae23a-4269-4c30-9c72-5ff5fc8d4680"
      },
      "outputs": [
        {
          "data": {
            "text/plain": [
              "<AxesSubplot:xlabel='rooms', ylabel='last_price'>"
            ]
          },
          "execution_count": 65,
          "metadata": {},
          "output_type": "execute_result"
        },
        {
          "data": {
            "image/png": "[encoded data removed]",
            "text/plain": [
              "<Figure size 432x288 with 1 Axes>"
            ]
          },
          "metadata": {
            "needs_background": "light"
          },
          "output_type": "display_data"
        }
      ],
      "source": [
        "#общая стоимость - количество комнат;\n",
        "\n",
        "data.plot(y='last_price', x='rooms', kind='scatter', alpha=0.5)"
      ]
    },
    {
      "cell_type": "code",
      "execution_count": null,
      "metadata": {
        "scrolled": true,
        "id": "yCKBiQIEqpwS",
        "outputId": "4ae4bb76-da63-4dde-db75-d56b52c48f31"
      },
      "outputs": [
        {
          "data": {
            "text/html": [
              "<div>\n",
              "<style scoped>\n",
              "    .dataframe tbody tr th:only-of-type {\n",
              "        vertical-align: middle;\n",
              "    }\n",
              "\n",
              "    .dataframe tbody tr th {\n",
              "        vertical-align: top;\n",
              "    }\n",
              "\n",
              "    .dataframe thead th {\n",
              "        text-align: right;\n",
              "    }\n",
              "</style>\n",
              "<table border=\"1\" class=\"dataframe\">\n",
              "  <thead>\n",
              "    <tr style=\"text-align: right;\">\n",
              "      <th></th>\n",
              "      <th>total_area</th>\n",
              "      <th>last_price</th>\n",
              "      <th>kitchen_area</th>\n",
              "      <th>living_area</th>\n",
              "    </tr>\n",
              "  </thead>\n",
              "  <tbody>\n",
              "    <tr>\n",
              "      <th>total_area</th>\n",
              "      <td>1.000000</td>\n",
              "      <td>0.653332</td>\n",
              "      <td>0.662749</td>\n",
              "      <td>0.947724</td>\n",
              "    </tr>\n",
              "    <tr>\n",
              "      <th>last_price</th>\n",
              "      <td>0.653332</td>\n",
              "      <td>1.000000</td>\n",
              "      <td>0.515316</td>\n",
              "      <td>0.584662</td>\n",
              "    </tr>\n",
              "    <tr>\n",
              "      <th>kitchen_area</th>\n",
              "      <td>0.662749</td>\n",
              "      <td>0.515316</td>\n",
              "      <td>1.000000</td>\n",
              "      <td>0.502570</td>\n",
              "    </tr>\n",
              "    <tr>\n",
              "      <th>living_area</th>\n",
              "      <td>0.947724</td>\n",
              "      <td>0.584662</td>\n",
              "      <td>0.502570</td>\n",
              "      <td>1.000000</td>\n",
              "    </tr>\n",
              "  </tbody>\n",
              "</table>\n",
              "</div>"
            ],
            "text/plain": [
              "              total_area  last_price  kitchen_area  living_area\n",
              "total_area      1.000000    0.653332      0.662749     0.947724\n",
              "last_price      0.653332    1.000000      0.515316     0.584662\n",
              "kitchen_area    0.662749    0.515316      1.000000     0.502570\n",
              "living_area     0.947724    0.584662      0.502570     1.000000"
            ]
          },
          "execution_count": 66,
          "metadata": {},
          "output_type": "execute_result"
        }
      ],
      "source": [
        "data[['total_area', 'last_price', 'kitchen_area', 'living_area']].corr()"
      ]
    },
    {
      "cell_type": "markdown",
      "metadata": {
        "id": "91NF9BXIqpwS"
      },
      "source": [
        "Особой зависимости не наблюдается, в каждой категории по количеству комнат есть выбросы относительно цены"
      ]
    },
    {
      "cell_type": "code",
      "execution_count": null,
      "metadata": {
        "scrolled": true,
        "id": "jg9P1r7OqpwV",
        "outputId": "d867374f-66bf-4f44-9960-9cf0dea18923"
      },
      "outputs": [
        {
          "data": {
            "text/plain": [
              "<AxesSubplot:xlabel='floor_type'>"
            ]
          },
          "execution_count": 67,
          "metadata": {},
          "output_type": "execute_result"
        },
        {
          "data": {
            "image/png": "[encoded data removed]",
            "text/plain": [
              "<Figure size 432x288 with 1 Axes>"
            ]
          },
          "metadata": {
            "needs_background": "light"
          },
          "output_type": "display_data"
        }
      ],
      "source": [
        "#общая стоимость - этажа, на котором расположена квартира (первый, последний, другой);\n",
        "#display(data)\n",
        "\n",
        "data.groupby('floor_type')['last_price'].mean().plot.bar()\n",
        "\n"
      ]
    },
    {
      "cell_type": "markdown",
      "metadata": {
        "id": "5iGX8mf9qpwV"
      },
      "source": [
        "Дороже всего стоят квартиры на последнем этаже доме, а дешевле всего - на первом, все ожидаемо."
      ]
    },
    {
      "cell_type": "code",
      "execution_count": null,
      "metadata": {
        "id": "Zp6qlGy9qpwV",
        "outputId": "f935b14e-6268-4c8c-a35f-f19d3012e307"
      },
      "outputs": [
        {
          "data": {
            "image/png": "[encoded data removed]",
            "text/plain": [
              "<Figure size 432x288 with 1 Axes>"
            ]
          },
          "metadata": {
            "needs_background": "light"
          },
          "output_type": "display_data"
        },
        {
          "data": {
            "image/png": "[encoded data removed]",
            "text/plain": [
              "<Figure size 432x288 with 1 Axes>"
            ]
          },
          "metadata": {
            "needs_background": "light"
          },
          "output_type": "display_data"
        },
        {
          "data": {
            "image/png": "[encoded data removed]",
            "text/plain": [
              "<Figure size 432x288 with 1 Axes>"
            ]
          },
          "metadata": {
            "needs_background": "light"
          },
          "output_type": "display_data"
        },
        {
          "data": {
            "image/png": "[encoded data removed]",
            "text/plain": [
              "<Figure size 432x288 with 1 Axes>"
            ]
          },
          "metadata": {
            "needs_background": "light"
          },
          "output_type": "display_data"
        },
        {
          "data": {
            "image/png": "[encoded data removed]",
            "text/plain": [
              "<Figure size 432x288 with 1 Axes>"
            ]
          },
          "metadata": {
            "needs_background": "light"
          },
          "output_type": "display_data"
        }
      ],
      "source": [
        "#общая стоимость - даты размещения (день недели, месяц, год);\n",
        "\n",
        "data.groupby('weekday')['last_price'].mean().plot.bar()\n",
        "\n",
        "# Добавим подписи к графику\n",
        "plt.title('days_exposition')\n",
        "plt.xlabel('days_exposition')\n",
        "plt.ylabel('last_price')\n",
        "plt.show()\n",
        "\n",
        "\n",
        "data.groupby('month')['last_price'].mean().plot.bar()\n",
        "\n",
        "# Добавим подписи к графику\n",
        "plt.title('month')\n",
        "plt.xlabel('month')\n",
        "plt.ylabel('last_price')\n",
        "plt.show()\n",
        "\n",
        "\n",
        "data.groupby('year')['last_price'].mean().plot.bar()\n",
        "\n",
        "# Добавим подписи к графику\n",
        "plt.title('year')\n",
        "plt.xlabel('year')\n",
        "plt.ylabel('last_price')\n",
        "plt.show()\n",
        "\n",
        "#построим зависимости от года - к цене площади; от года - к цене одного метра\n",
        "\n",
        "data.groupby('year')['total_area'].mean().plot.bar()\n",
        "\n",
        "# Добавим подписи к графику\n",
        "plt.title('year_total_area')\n",
        "plt.xlabel('year')\n",
        "plt.ylabel('total_area')\n",
        "plt.show()\n",
        "\n",
        "data.groupby('year')['metre_price'].mean().plot.bar()\n",
        "# Добавим подписи к графику\n",
        "plt.title('year_metre_price')\n",
        "plt.xlabel('year')\n",
        "plt.ylabel('metre_price')\n",
        "plt.show()\n"
      ]
    },
    {
      "cell_type": "markdown",
      "metadata": {
        "id": "PEYbM_r7qpwW"
      },
      "source": [
        "Зависимости от дня или месяца размещения не наблюдается, а вот год размещения существенно влиял на стоимость - так, самые дорогие квартиры продавались в 2014 году, дальше до 2018 год шел спад, а в 2019 году начался некоторый рост на стоимость жилья, однако, на уровне только половины цен 2014 года. При этом с 2014 года наблюдается еще и спад площади продаваемых квартир."
      ]
    },
    {
      "cell_type": "markdown",
      "metadata": {
        "id": "Yj826FfrqpwW"
      },
      "source": [
        "Посчитаем среднюю цену одного квадратного метра в 10 населённых пунктах с наибольшим числом объявлений.\n",
        "\n",
        "Выделиv населённые пункты с самой высокой и низкой стоимостью квадратного метра. Эти данные можно найти по имени в столбце locality_name\n",
        "\n"
      ]
    },
    {
      "cell_type": "code",
      "execution_count": null,
      "metadata": {
        "id": "sl6Ek5xlqpwW",
        "outputId": "afb2c540-f476-48fd-e0c1-ae48b601dd6a"
      },
      "outputs": [
        {
          "data": {
            "text/plain": [
              "'Санкт-Петербург'"
            ]
          },
          "metadata": {},
          "output_type": "display_data"
        },
        {
          "data": {
            "text/plain": [
              "213462.0"
            ]
          },
          "metadata": {},
          "output_type": "display_data"
        },
        {
          "data": {
            "text/plain": [
              "'поселок Мурино'"
            ]
          },
          "metadata": {},
          "output_type": "display_data"
        },
        {
          "data": {
            "text/plain": [
              "171951.0"
            ]
          },
          "metadata": {},
          "output_type": "display_data"
        },
        {
          "data": {
            "text/plain": [
              "'поселок Шушары'"
            ]
          },
          "metadata": {},
          "output_type": "display_data"
        },
        {
          "data": {
            "text/plain": [
              "154525.0"
            ]
          },
          "metadata": {},
          "output_type": "display_data"
        },
        {
          "data": {
            "text/plain": [
              "'Всеволожск'"
            ]
          },
          "metadata": {},
          "output_type": "display_data"
        },
        {
          "data": {
            "text/plain": [
              "132899.0"
            ]
          },
          "metadata": {},
          "output_type": "display_data"
        },
        {
          "data": {
            "text/plain": [
              "'Пушкин'"
            ]
          },
          "metadata": {},
          "output_type": "display_data"
        },
        {
          "data": {
            "text/plain": [
              "191001.0"
            ]
          },
          "metadata": {},
          "output_type": "display_data"
        },
        {
          "data": {
            "text/plain": [
              "'Колпино'"
            ]
          },
          "metadata": {},
          "output_type": "display_data"
        },
        {
          "data": {
            "text/plain": [
              "132343.0"
            ]
          },
          "metadata": {},
          "output_type": "display_data"
        },
        {
          "data": {
            "text/plain": [
              "'поселок Парголово'"
            ]
          },
          "metadata": {},
          "output_type": "display_data"
        },
        {
          "data": {
            "text/plain": [
              "197165.0"
            ]
          },
          "metadata": {},
          "output_type": "display_data"
        },
        {
          "data": {
            "text/plain": [
              "'Гатчина'"
            ]
          },
          "metadata": {},
          "output_type": "display_data"
        },
        {
          "data": {
            "text/plain": [
              "122259.0"
            ]
          },
          "metadata": {},
          "output_type": "display_data"
        },
        {
          "data": {
            "text/plain": [
              "'деревня Кудрово'"
            ]
          },
          "metadata": {},
          "output_type": "display_data"
        },
        {
          "data": {
            "text/plain": [
              "185199.0"
            ]
          },
          "metadata": {},
          "output_type": "display_data"
        },
        {
          "data": {
            "text/plain": [
              "'Выборг'"
            ]
          },
          "metadata": {},
          "output_type": "display_data"
        },
        {
          "data": {
            "text/plain": [
              "99453.0"
            ]
          },
          "metadata": {},
          "output_type": "display_data"
        }
      ],
      "source": [
        "data10 = data.groupby('locality_name').count().sort_values(by = 'metre_price', ascending=False).head(10)\n",
        "\n",
        "for l in data10.index:\n",
        "    display(l, data[data['locality_name'] == l]['metre_price'].mean().round(0))\n",
        "\n",
        "#создадим списки для графика визуализации\n",
        "\n",
        "x = [] #создадим списки для графика визуализации\n",
        "y = []\n",
        "\n",
        "# напишем цикл, который пройдется по каждой строке датафрейма, сократит кол-во знаков\n"
      ]
    },
    {
      "cell_type": "code",
      "execution_count": null,
      "metadata": {
        "id": "BmkSergnqpwX",
        "outputId": "31696616-c213-48a7-fa85-478b47e7b776"
      },
      "outputs": [
        {
          "data": {
            "text/plain": [
              "locality_name\n",
              "садовое товарищество Новая Ропша    250000.000000\n",
              "Зеленогорск                         218860.191692\n",
              "Санкт-Петербург                     213462.425549\n",
              "Кудрово                             206548.206946\n",
              "Сестрорецк                          198717.273746\n",
              "Name: metre_price, dtype: float64"
            ]
          },
          "metadata": {},
          "output_type": "display_data"
        },
        {
          "data": {
            "text/plain": [
              "locality_name\n",
              "деревня Малая Романовка    14808.362369\n",
              "деревня Старополье         18523.657980\n",
              "деревня Выскатка           18856.907895\n",
              "поселок станции Свирь      18973.070562\n",
              "деревня Вахнова Кара       20470.626958\n",
              "Name: metre_price, dtype: float64"
            ]
          },
          "metadata": {},
          "output_type": "display_data"
        }
      ],
      "source": [
        "display(data.groupby('locality_name')['metre_price'].mean().sort_values(ascending=False).head(5))\n",
        "display(data.groupby('locality_name')['metre_price'].mean().sort_values(ascending=True).head(5))\n",
        "#by='median_time'"
      ]
    },
    {
      "cell_type": "markdown",
      "metadata": {
        "id": "dWDmyd9eqpwX"
      },
      "source": [
        "Среди десяти населенных пунктов с бОльшим числом объявлений в датафрейме, самая высокая цена квадратного метра в Санкт-Петербурге и она составляет 213 тыс. за кв. м., а самая низкая - в Выборге, где цена квадратного метра составляет 99 тыс. за кв.м."
      ]
    },
    {
      "cell_type": "markdown",
      "metadata": {
        "id": "MAQc4DQIqpwX"
      },
      "source": [
        "Ранее мы посчитали расстояние до центра в километрах.\n",
        "Теперь выделим квартиры в Санкт-Петербурге с помощью столбца locality_name и вычислим среднюю цену каждого километра. Опишим, как стоимость объектов зависит от расстояния до центра города."
      ]
    },
    {
      "cell_type": "code",
      "execution_count": null,
      "metadata": {
        "id": "8see-u5mqpwX",
        "outputId": "ad2c0087-d9c0-4b9e-b0d3-e9606fb806f1"
      },
      "outputs": [
        {
          "data": {
            "text/plain": [
              "<AxesSubplot:xlabel='cityCenters_km'>"
            ]
          },
          "execution_count": 71,
          "metadata": {},
          "output_type": "execute_result"
        },
        {
          "data": {
            "image/png": "[encoded data removed]",
            "text/plain": [
              "<Figure size 432x288 with 1 Axes>"
            ]
          },
          "metadata": {
            "needs_background": "light"
          },
          "output_type": "display_data"
        }
      ],
      "source": [
        "#cityCenters_km\n",
        "#last_price\n",
        "data['price_per_km'] = data['last_price'] / data['cityCenters_km']\n",
        "\n",
        "data[data['locality_name'] == 'Санкт-Петербург'].groupby('cityCenters_km')['last_price'].mean().plot.bar()"
      ]
    },
    {
      "cell_type": "markdown",
      "metadata": {
        "id": "AIbvp13CqpwX"
      },
      "source": [
        "Наблюдается явная зависимость цены квартра от расстояния до центра города - чем ближе квартира к центру, тем выше стоимость квадратного метра жилья."
      ]
    },
    {
      "cell_type": "markdown",
      "metadata": {
        "id": "SKJSOL9TqpwY"
      },
      "source": [
        "### Итоговые наблюдения"
      ]
    },
    {
      "cell_type": "markdown",
      "metadata": {
        "id": "VOzN9oftqpwY"
      },
      "source": [
        "Исследование архива объявлений за 2014-2019 годы о продаже квартир в Санкт-Петербурге и соседних населённых пунктах завершено.\n",
        "\n",
        "Отметим интересные особенности и зависимости, которые существовали на рынке недвижимости в рассматриваемый период.\n",
        "\n",
        "Портрет наиболее характерного для исследуемого датафрейма объекта недвижимости получился следующий:\n",
        "\n",
        "это квартира 50-60 кв.м., с жилой площадью около 34 кв.м., площадью кухни в пределах 10 кв.м. и ценой в районе 4-6 млн рублей.\n",
        "Скорее всего это однокомнатная или двухкомнатная квартира, с потолком около 2,6 м, которая находится на 2 этаже пятиэтажного дома.\n",
        "Дом расположен на расстоянии 1-2 км от центра города и 2-3 км от аэропорта, а также в пределах 500 м от квартиры есть парк.\n",
        "Вероятно, что объвление о продаже квартиры выложили в какой-нибудь из четвергов февраля, а продавали ее около 180 дней.\n",
        "\n",
        "Зависимость цены от общей, жилой или площади кухни квартир прямая, а вот зависимости от дня или месяца размещения не наблюдается, тогда как год размещения существенно влиял на стоимость - так, самые дорогие квартиры продавались в 2014 году, дальше до 2018 год шел спад цен, а в 2019 году начался некоторый рост на стоимость жилья, однако, на уровне только половины цен 2014 года. При этом с 2014 года наблюдается еще и спад площади продаваемых квартир.\n",
        "\n",
        "\n",
        "Дороже всего стоят квартиры на последнем этаже доме, а дешевле всего - на первом, все ожидаемо.\n",
        "\n",
        "\n",
        "Среди десяти населенных пунктов с бОльшим числом объявлений в датафрейме самая высокая цена квадратного метра -  в Санкт-Петербурге и она составляет 213 тыс. за кв. м., а самая низкая - в Выборге, где цена квадратного метра около 99 тыс. за кв.м.\n",
        "\n",
        "Наблюдается явная зависимость цены квартиры от расстояния до центра города - чем ближе квартира к центру, тем выше стоимость квадратного метра жилья.\n",
        "\n",
        "\n",
        "При исследовании были обнаружены пропуски, на некоторых из которых хочется остановиться подробнее:\n",
        "\n",
        "\n",
        "обычно причинами пропуска в данных являются человеческий фактор, технический сбой, появление пропусков может быть связано со значениями в других столбцах либо пропуск зависит от значений собственного столбца.\n",
        "\n",
        "На основании полученных данных, можно сделать вывод о том, что пропуски в столбцах связаны с:\n",
        "\n",
        "со значениями собственного столбца:\n",
        "\n",
        "is_apartment - апартаменты (булев тип) - не заполняется, потому что нет четких рекомендаций при заполнении формы - указывать ли значение либо оставлять пропуск, возможно необходимо дополнить форму столбцом с выбором одного обязательного значения из перечисленных;\n",
        "\n",
        "со значениями других столбцов:\n",
        "\n",
        "в столбце balcony скорее всего не указали количество балконов в связи с их отсутствием, однако, этого нельзя точно утверждать, потому как и в однокомнатных квартирах бывают балконы, так и весь дом может быть без балконов, при том, что там есть разные планировки, как 1-2-3-4-комнатные квартиры, но все без балконов. Возможно, необходимо дополнить форму столбцом с выбором обязательного числового значения балконов, в котором будет присутствовать и 0 как значение.\n",
        "\n",
        "в столбцах living_area (жилая площадь) и kitchen_area (площадь кухни) площадь значений однозначно будет меньше общей площади квартиры, здесь, скорее всего, человек не располагает при заполнении точными сведениями, поэтому предпочитает оставить это поле пустым, тогда как можно предложить ему вариант площади, рассчитанный по медиане заполненных значений.\n",
        "\n",
        "так и в столбце ceiling_height (высота потолков) - аналогичная ситуация, возможно, будет уместным добавить в форму минимальное значение 2м, значение, утвержденное в регионе по СанПину, максимальное значение в 4м или графу иное с числовым форматом, где человеком будут указаны какие-то нестандартные варианты.\n",
        "\n",
        "столбцы locality_name (наименование населенного пункта), airports_nearest (расстояние до ближайшего аэропорта), cityCenters_nearest (расстояние до центра города), parks_around3000 (число парков в радиусе 3 км), parks_nearest (расстояние до ближайшего парка), ponds_around3000 (число водоёмов в радиусе 3 км), ponds_nearest (расстояние до ближайшего водоёма) - географические, здесь возможна привязка к карте, на которой будет нанесены все указанные объекты, для автоматического рассчета показателей исходя из заполненного адреса (адреса тоже при этом придется выбирать только из имеющегося списка), потому что при заполнении объявления человеку самостоятельно очень долго рассчитывать по карте такие значения и проще пропустить, однако, на ценник квадратного метра данные показатели могут влиять.\n",
        "\n",
        "в стоблце days_exposition (сколько дней было размещено объявление (от публикации до снятия) - скорее всего пропуски связаны с техническим сбоем, потому что форма заполняется автоматически, очень сомнительно, что при снятии объявления продавца спрашивают, сколько дней он продавал квартиру и имеется возможность поставить рандомное число. Поэтому необходимо выяснить у отдела разработки причины такого технического сбоя.\n",
        "\n",
        "Также в некоторых столбцах пришлось заменить тип данных:\n",
        "\n",
        "first_day_exposition — дата публикации - указан тип данных int64 - заменим на datetime - чтобы разделить дату и время;\n",
        "\n",
        "days_exposition — сколько дней было размещено объявление (от публикации до снятия) - заменим на datetime - чтобы разделить дату и время;\n",
        "\n",
        "floors_total - всего этажей в доме - указан тип данных float64 - заменим на int64 - число этажей не может быть не целым\n",
        "\n",
        "balcony - количество балконов - указан тип данных float64 - заменим на int64 - число этажей не может быть не целым\n",
        "\n",
        "is_apartment - апартаменты(булев тип) - указан тип данных object - заменим на bool - позволит выбрать из двух вариантов\n",
        "\n",
        "\n",
        "Отметим редкие и выбивающиеся значения, которые были обнаружены.\n",
        "\n",
        "В столбце с видами населенных пунктов не хватает единообразия или привязки к встроенной карте, заменили ё на е для улучшения читаемости + чтобы анализировать эти виды поселков как одинаковые.\n",
        "\n",
        "В столбце высота потолков значения приведены к разумным, если высота потолка была больше или равна 10м - разделили значения на на 10, скорее всего техническая ошибка, если высота потолка была меньше или равна 2 м - записали как Nan и удалили, потому что точная информация неизвестна, а имеющаяся противоречит здравому смыслу.\n",
        "\n",
        "В столбце количество комнат были значения, равные 0, такого кол-ва комнат быть не может, заменили на 1.\n",
        "\n",
        "В столбце жилая площадь были минимальные значения в 2 м, проверили, сколько строчек до разумного минимума жилой площади студии в 7 м, таких строчек оказалось всего 8, их удалили.\n"
      ]
    }
  ],
  "metadata": {
    "ExecuteTimeLog": [
      {
        "duration": 899,
        "start_time": "2022-08-29T12:13:01.033Z"
      },
      {
        "duration": 104,
        "start_time": "2022-08-29T12:14:07.557Z"
      },
      {
        "duration": 94,
        "start_time": "2022-08-29T12:15:22.029Z"
      },
      {
        "duration": 100,
        "start_time": "2022-08-29T12:17:18.106Z"
      },
      {
        "duration": 15,
        "start_time": "2022-08-29T12:28:53.866Z"
      },
      {
        "duration": 12,
        "start_time": "2022-08-29T12:31:08.319Z"
      },
      {
        "duration": 65,
        "start_time": "2022-08-29T12:32:07.424Z"
      },
      {
        "duration": 1759,
        "start_time": "2022-08-29T12:40:11.722Z"
      },
      {
        "duration": 1743,
        "start_time": "2022-08-29T12:40:58.837Z"
      },
      {
        "duration": 9,
        "start_time": "2022-08-29T12:46:13.790Z"
      },
      {
        "duration": 46,
        "start_time": "2022-08-30T08:15:48.583Z"
      },
      {
        "duration": 1980,
        "start_time": "2022-08-30T08:16:02.066Z"
      },
      {
        "duration": 18,
        "start_time": "2022-08-30T08:16:04.048Z"
      },
      {
        "duration": 65,
        "start_time": "2022-08-30T08:16:04.067Z"
      },
      {
        "duration": 1949,
        "start_time": "2022-08-30T08:16:04.133Z"
      },
      {
        "duration": 9,
        "start_time": "2022-08-30T08:16:06.085Z"
      },
      {
        "duration": 92,
        "start_time": "2022-08-30T08:16:06.095Z"
      },
      {
        "duration": 5,
        "start_time": "2022-08-30T08:55:16.126Z"
      },
      {
        "duration": 8,
        "start_time": "2022-08-30T08:56:09.171Z"
      },
      {
        "duration": 9,
        "start_time": "2022-08-30T08:57:25.813Z"
      },
      {
        "duration": 103,
        "start_time": "2022-08-30T09:57:21.243Z"
      },
      {
        "duration": 6,
        "start_time": "2022-08-30T09:58:15.889Z"
      },
      {
        "duration": 7,
        "start_time": "2022-08-30T09:59:07.734Z"
      },
      {
        "duration": 1072,
        "start_time": "2022-08-30T10:08:23.869Z"
      },
      {
        "duration": 1006,
        "start_time": "2022-08-30T10:08:29.060Z"
      },
      {
        "duration": 1074,
        "start_time": "2022-08-30T10:08:30.526Z"
      },
      {
        "duration": 1011,
        "start_time": "2022-08-30T10:09:00.242Z"
      },
      {
        "duration": 28,
        "start_time": "2022-08-30T10:09:45.039Z"
      },
      {
        "duration": 9,
        "start_time": "2022-08-30T10:10:03.086Z"
      },
      {
        "duration": 7,
        "start_time": "2022-08-30T10:11:07.078Z"
      },
      {
        "duration": 26,
        "start_time": "2022-08-30T10:11:37.078Z"
      },
      {
        "duration": 8,
        "start_time": "2022-08-30T10:12:05.227Z"
      },
      {
        "duration": 83,
        "start_time": "2022-08-30T10:12:39.333Z"
      },
      {
        "duration": 7,
        "start_time": "2022-08-30T10:12:47.316Z"
      },
      {
        "duration": 46,
        "start_time": "2022-08-30T10:13:13.189Z"
      },
      {
        "duration": 7,
        "start_time": "2022-08-30T10:13:24.924Z"
      },
      {
        "duration": 15,
        "start_time": "2022-08-30T10:14:31.283Z"
      },
      {
        "duration": 14,
        "start_time": "2022-08-30T10:14:49.133Z"
      },
      {
        "duration": 7,
        "start_time": "2022-08-30T10:15:34.709Z"
      },
      {
        "duration": 10,
        "start_time": "2022-08-30T10:20:37.958Z"
      },
      {
        "duration": 12,
        "start_time": "2022-08-30T10:22:47.356Z"
      },
      {
        "duration": 10,
        "start_time": "2022-08-30T10:23:02.929Z"
      },
      {
        "duration": 9,
        "start_time": "2022-08-30T10:23:16.554Z"
      },
      {
        "duration": 11,
        "start_time": "2022-08-30T10:24:07.042Z"
      },
      {
        "duration": 9,
        "start_time": "2022-08-30T10:25:09.560Z"
      },
      {
        "duration": 10,
        "start_time": "2022-08-30T10:37:10.878Z"
      },
      {
        "duration": 10,
        "start_time": "2022-08-30T10:37:42.786Z"
      },
      {
        "duration": 11,
        "start_time": "2022-08-30T10:38:00.759Z"
      },
      {
        "duration": 11,
        "start_time": "2022-08-30T10:39:02.376Z"
      },
      {
        "duration": 11,
        "start_time": "2022-08-30T10:39:13.444Z"
      },
      {
        "duration": 5,
        "start_time": "2022-08-30T10:48:37.808Z"
      },
      {
        "duration": 6,
        "start_time": "2022-08-30T10:49:03.441Z"
      },
      {
        "duration": 15,
        "start_time": "2022-08-30T10:49:22.297Z"
      },
      {
        "duration": 34,
        "start_time": "2022-08-30T10:50:39.563Z"
      },
      {
        "duration": 39,
        "start_time": "2022-08-30T10:51:47.229Z"
      },
      {
        "duration": 46,
        "start_time": "2022-08-30T11:04:19.296Z"
      },
      {
        "duration": 34,
        "start_time": "2022-08-30T11:04:44.034Z"
      },
      {
        "duration": 20,
        "start_time": "2022-08-30T11:05:47.372Z"
      },
      {
        "duration": 32,
        "start_time": "2022-08-30T11:06:10.963Z"
      },
      {
        "duration": 62,
        "start_time": "2022-08-30T11:06:35.333Z"
      },
      {
        "duration": 34,
        "start_time": "2022-08-30T11:06:52.327Z"
      },
      {
        "duration": 35,
        "start_time": "2022-08-30T11:07:26.387Z"
      },
      {
        "duration": 35,
        "start_time": "2022-08-30T11:09:17.581Z"
      },
      {
        "duration": 1060,
        "start_time": "2022-08-30T12:25:08.404Z"
      },
      {
        "duration": 2040,
        "start_time": "2022-08-30T12:27:16.952Z"
      },
      {
        "duration": 814,
        "start_time": "2022-08-30T12:30:22.504Z"
      },
      {
        "duration": 50,
        "start_time": "2022-08-31T09:28:01.143Z"
      },
      {
        "duration": 2300,
        "start_time": "2022-08-31T09:28:11.455Z"
      },
      {
        "duration": 15,
        "start_time": "2022-08-31T09:28:13.757Z"
      },
      {
        "duration": 68,
        "start_time": "2022-08-31T09:28:13.774Z"
      },
      {
        "duration": 1909,
        "start_time": "2022-08-31T09:28:13.845Z"
      },
      {
        "duration": 10,
        "start_time": "2022-08-31T09:28:15.757Z"
      },
      {
        "duration": 8,
        "start_time": "2022-08-31T09:28:15.768Z"
      },
      {
        "duration": 11,
        "start_time": "2022-08-31T09:28:15.778Z"
      },
      {
        "duration": 8,
        "start_time": "2022-08-31T09:28:15.791Z"
      },
      {
        "duration": 18,
        "start_time": "2022-08-31T09:28:15.801Z"
      },
      {
        "duration": 14,
        "start_time": "2022-08-31T09:28:18.518Z"
      },
      {
        "duration": 140,
        "start_time": "2022-08-31T09:31:36.334Z"
      },
      {
        "duration": 22707,
        "start_time": "2022-08-31T09:31:52.626Z"
      },
      {
        "duration": 1194,
        "start_time": "2022-08-31T09:33:34.498Z"
      },
      {
        "duration": 16,
        "start_time": "2022-08-31T09:33:35.693Z"
      },
      {
        "duration": 64,
        "start_time": "2022-08-31T09:33:35.711Z"
      },
      {
        "duration": 2171,
        "start_time": "2022-08-31T09:33:35.787Z"
      },
      {
        "duration": 9,
        "start_time": "2022-08-31T09:33:37.960Z"
      },
      {
        "duration": 7,
        "start_time": "2022-08-31T09:33:37.970Z"
      },
      {
        "duration": 16,
        "start_time": "2022-08-31T09:33:37.978Z"
      },
      {
        "duration": 11,
        "start_time": "2022-08-31T09:33:37.995Z"
      },
      {
        "duration": 22311,
        "start_time": "2022-08-31T09:33:59.332Z"
      },
      {
        "duration": 16,
        "start_time": "2022-08-31T09:36:49.505Z"
      },
      {
        "duration": 7664,
        "start_time": "2022-08-31T09:37:47.268Z"
      },
      {
        "duration": 70,
        "start_time": "2022-08-31T09:39:11.266Z"
      },
      {
        "duration": 123,
        "start_time": "2022-08-31T09:39:17.674Z"
      },
      {
        "duration": 136,
        "start_time": "2022-08-31T09:39:46.333Z"
      },
      {
        "duration": 122,
        "start_time": "2022-08-31T09:39:55.542Z"
      },
      {
        "duration": 125,
        "start_time": "2022-08-31T09:40:12.781Z"
      },
      {
        "duration": 60,
        "start_time": "2022-08-31T09:42:05.603Z"
      },
      {
        "duration": 110,
        "start_time": "2022-08-31T09:42:14.851Z"
      },
      {
        "duration": 13,
        "start_time": "2022-08-31T09:42:30.167Z"
      },
      {
        "duration": 1213,
        "start_time": "2022-08-31T09:43:19.474Z"
      },
      {
        "duration": 14,
        "start_time": "2022-08-31T09:43:20.689Z"
      },
      {
        "duration": 63,
        "start_time": "2022-08-31T09:43:20.705Z"
      },
      {
        "duration": 1840,
        "start_time": "2022-08-31T09:43:20.786Z"
      },
      {
        "duration": 9,
        "start_time": "2022-08-31T09:43:22.628Z"
      },
      {
        "duration": 4,
        "start_time": "2022-08-31T09:43:22.639Z"
      },
      {
        "duration": 11,
        "start_time": "2022-08-31T09:43:22.644Z"
      },
      {
        "duration": 9,
        "start_time": "2022-08-31T09:43:22.657Z"
      },
      {
        "duration": 33,
        "start_time": "2022-08-31T09:43:22.668Z"
      },
      {
        "duration": 898,
        "start_time": "2022-08-31T09:43:39.135Z"
      },
      {
        "duration": 132,
        "start_time": "2022-08-31T09:44:41.575Z"
      },
      {
        "duration": 127,
        "start_time": "2022-08-31T09:45:02.056Z"
      },
      {
        "duration": 1231,
        "start_time": "2022-08-31T09:45:51.606Z"
      },
      {
        "duration": 14,
        "start_time": "2022-08-31T09:45:52.838Z"
      },
      {
        "duration": 66,
        "start_time": "2022-08-31T09:45:52.853Z"
      },
      {
        "duration": 1910,
        "start_time": "2022-08-31T09:45:52.920Z"
      },
      {
        "duration": 8,
        "start_time": "2022-08-31T09:45:54.833Z"
      },
      {
        "duration": 8,
        "start_time": "2022-08-31T09:45:54.843Z"
      },
      {
        "duration": 28,
        "start_time": "2022-08-31T09:45:54.852Z"
      },
      {
        "duration": 36,
        "start_time": "2022-08-31T09:45:54.881Z"
      },
      {
        "duration": 814,
        "start_time": "2022-08-31T09:45:54.919Z"
      },
      {
        "duration": 134,
        "start_time": "2022-08-31T09:46:25.206Z"
      },
      {
        "duration": 5,
        "start_time": "2022-08-31T10:12:03.072Z"
      },
      {
        "duration": 1310,
        "start_time": "2022-08-31T10:12:12.488Z"
      },
      {
        "duration": 16,
        "start_time": "2022-08-31T10:12:13.800Z"
      },
      {
        "duration": 75,
        "start_time": "2022-08-31T10:12:13.818Z"
      },
      {
        "duration": 1911,
        "start_time": "2022-08-31T10:12:13.895Z"
      },
      {
        "duration": 11,
        "start_time": "2022-08-31T10:12:15.809Z"
      },
      {
        "duration": 7,
        "start_time": "2022-08-31T10:12:15.822Z"
      },
      {
        "duration": 15,
        "start_time": "2022-08-31T10:12:15.831Z"
      },
      {
        "duration": 10,
        "start_time": "2022-08-31T10:12:15.848Z"
      },
      {
        "duration": 9,
        "start_time": "2022-08-31T10:12:15.861Z"
      },
      {
        "duration": 13,
        "start_time": "2022-08-31T10:12:15.872Z"
      },
      {
        "duration": 7,
        "start_time": "2022-08-31T10:12:15.886Z"
      },
      {
        "duration": 959,
        "start_time": "2022-08-31T10:12:15.894Z"
      },
      {
        "duration": 4,
        "start_time": "2022-08-31T10:12:16.855Z"
      },
      {
        "duration": 5,
        "start_time": "2022-08-31T10:12:16.862Z"
      },
      {
        "duration": 107,
        "start_time": "2022-08-31T10:12:52.169Z"
      },
      {
        "duration": 10,
        "start_time": "2022-08-31T10:13:22.360Z"
      },
      {
        "duration": 7,
        "start_time": "2022-08-31T10:13:35.331Z"
      },
      {
        "duration": 5,
        "start_time": "2022-08-31T10:15:21.171Z"
      },
      {
        "duration": 7,
        "start_time": "2022-08-31T10:15:25.419Z"
      },
      {
        "duration": 6,
        "start_time": "2022-08-31T10:15:34.418Z"
      },
      {
        "duration": 91,
        "start_time": "2022-08-31T10:30:57.095Z"
      },
      {
        "duration": 6,
        "start_time": "2022-08-31T10:31:04.934Z"
      },
      {
        "duration": 4,
        "start_time": "2022-08-31T10:31:07.754Z"
      },
      {
        "duration": 9,
        "start_time": "2022-08-31T10:35:14.419Z"
      },
      {
        "duration": 1289,
        "start_time": "2022-08-31T10:35:22.503Z"
      },
      {
        "duration": 14,
        "start_time": "2022-08-31T10:35:23.794Z"
      },
      {
        "duration": 64,
        "start_time": "2022-08-31T10:35:23.810Z"
      },
      {
        "duration": 1852,
        "start_time": "2022-08-31T10:35:23.886Z"
      },
      {
        "duration": 10,
        "start_time": "2022-08-31T10:35:25.740Z"
      },
      {
        "duration": 10,
        "start_time": "2022-08-31T10:35:25.751Z"
      },
      {
        "duration": 14,
        "start_time": "2022-08-31T10:35:25.762Z"
      },
      {
        "duration": 16,
        "start_time": "2022-08-31T10:35:25.778Z"
      },
      {
        "duration": 8,
        "start_time": "2022-08-31T10:35:25.795Z"
      },
      {
        "duration": 10,
        "start_time": "2022-08-31T10:35:25.804Z"
      },
      {
        "duration": 3,
        "start_time": "2022-08-31T10:35:25.815Z"
      },
      {
        "duration": 881,
        "start_time": "2022-08-31T10:35:25.820Z"
      },
      {
        "duration": 4,
        "start_time": "2022-08-31T10:35:26.703Z"
      },
      {
        "duration": 6,
        "start_time": "2022-08-31T10:35:26.710Z"
      },
      {
        "duration": 7,
        "start_time": "2022-08-31T10:35:26.717Z"
      },
      {
        "duration": 4,
        "start_time": "2022-08-31T10:35:26.725Z"
      },
      {
        "duration": 988,
        "start_time": "2022-08-31T10:35:26.730Z"
      },
      {
        "duration": 4,
        "start_time": "2022-08-31T10:35:27.720Z"
      },
      {
        "duration": 112,
        "start_time": "2022-08-31T10:37:23.633Z"
      },
      {
        "duration": 135,
        "start_time": "2022-08-31T10:37:36.409Z"
      },
      {
        "duration": 4,
        "start_time": "2022-08-31T10:38:08.813Z"
      },
      {
        "duration": 117,
        "start_time": "2022-08-31T10:38:13.316Z"
      },
      {
        "duration": 5,
        "start_time": "2022-08-31T10:38:44.812Z"
      },
      {
        "duration": 8,
        "start_time": "2022-08-31T11:04:54.324Z"
      },
      {
        "duration": 16,
        "start_time": "2022-08-31T11:16:41.074Z"
      },
      {
        "duration": 17,
        "start_time": "2022-08-31T11:17:35.585Z"
      },
      {
        "duration": 117,
        "start_time": "2022-08-31T11:21:04.445Z"
      },
      {
        "duration": 19,
        "start_time": "2022-08-31T11:21:10.285Z"
      },
      {
        "duration": 13,
        "start_time": "2022-08-31T11:21:49.473Z"
      },
      {
        "duration": 14,
        "start_time": "2022-08-31T11:24:23.427Z"
      },
      {
        "duration": 113,
        "start_time": "2022-08-31T11:25:21.386Z"
      },
      {
        "duration": 18,
        "start_time": "2022-08-31T11:25:33.532Z"
      },
      {
        "duration": 17,
        "start_time": "2022-08-31T11:26:21.869Z"
      },
      {
        "duration": 22,
        "start_time": "2022-08-31T11:34:26.654Z"
      },
      {
        "duration": 22,
        "start_time": "2022-08-31T11:37:26.110Z"
      },
      {
        "duration": 22,
        "start_time": "2022-08-31T11:38:02.867Z"
      },
      {
        "duration": 23,
        "start_time": "2022-08-31T11:38:18.286Z"
      },
      {
        "duration": 21,
        "start_time": "2022-08-31T11:38:40.091Z"
      },
      {
        "duration": 32,
        "start_time": "2022-08-31T11:38:45.990Z"
      },
      {
        "duration": 36,
        "start_time": "2022-08-31T11:39:23.140Z"
      },
      {
        "duration": 1207,
        "start_time": "2022-08-31T11:39:54.691Z"
      },
      {
        "duration": 17,
        "start_time": "2022-08-31T11:39:55.900Z"
      },
      {
        "duration": 78,
        "start_time": "2022-08-31T11:39:55.919Z"
      },
      {
        "duration": 2027,
        "start_time": "2022-08-31T11:39:55.999Z"
      },
      {
        "duration": 17,
        "start_time": "2022-08-31T11:39:58.029Z"
      },
      {
        "duration": 17,
        "start_time": "2022-08-31T11:39:58.048Z"
      },
      {
        "duration": 18,
        "start_time": "2022-08-31T11:39:58.067Z"
      },
      {
        "duration": 12,
        "start_time": "2022-08-31T11:39:58.087Z"
      },
      {
        "duration": 9,
        "start_time": "2022-08-31T11:39:58.101Z"
      },
      {
        "duration": 10,
        "start_time": "2022-08-31T11:39:58.114Z"
      },
      {
        "duration": 5,
        "start_time": "2022-08-31T11:39:58.126Z"
      },
      {
        "duration": 857,
        "start_time": "2022-08-31T11:39:58.133Z"
      },
      {
        "duration": 5,
        "start_time": "2022-08-31T11:39:58.991Z"
      },
      {
        "duration": 12,
        "start_time": "2022-08-31T11:39:58.997Z"
      },
      {
        "duration": 20,
        "start_time": "2022-08-31T11:39:59.011Z"
      },
      {
        "duration": 4,
        "start_time": "2022-08-31T11:39:59.032Z"
      },
      {
        "duration": 1004,
        "start_time": "2022-08-31T11:39:59.038Z"
      },
      {
        "duration": 6,
        "start_time": "2022-08-31T11:40:00.044Z"
      },
      {
        "duration": 36,
        "start_time": "2022-08-31T11:40:00.051Z"
      },
      {
        "duration": 4,
        "start_time": "2022-08-31T11:40:00.089Z"
      },
      {
        "duration": 1201,
        "start_time": "2022-08-31T11:40:21.395Z"
      },
      {
        "duration": 22,
        "start_time": "2022-08-31T11:40:22.598Z"
      },
      {
        "duration": 82,
        "start_time": "2022-08-31T11:40:22.622Z"
      },
      {
        "duration": 2003,
        "start_time": "2022-08-31T11:40:22.707Z"
      },
      {
        "duration": 9,
        "start_time": "2022-08-31T11:40:24.712Z"
      },
      {
        "duration": 8,
        "start_time": "2022-08-31T11:40:24.722Z"
      },
      {
        "duration": 30,
        "start_time": "2022-08-31T11:40:24.731Z"
      },
      {
        "duration": 13,
        "start_time": "2022-08-31T11:40:24.763Z"
      },
      {
        "duration": 25,
        "start_time": "2022-08-31T11:40:24.778Z"
      },
      {
        "duration": 11,
        "start_time": "2022-08-31T11:40:24.805Z"
      },
      {
        "duration": 23,
        "start_time": "2022-08-31T11:40:24.818Z"
      },
      {
        "duration": 907,
        "start_time": "2022-08-31T11:40:24.843Z"
      },
      {
        "duration": 4,
        "start_time": "2022-08-31T11:40:25.752Z"
      },
      {
        "duration": 19,
        "start_time": "2022-08-31T11:40:25.758Z"
      },
      {
        "duration": 23,
        "start_time": "2022-08-31T11:40:25.778Z"
      },
      {
        "duration": 8,
        "start_time": "2022-08-31T11:40:25.804Z"
      },
      {
        "duration": 1042,
        "start_time": "2022-08-31T11:40:25.814Z"
      },
      {
        "duration": 5,
        "start_time": "2022-08-31T11:40:26.857Z"
      },
      {
        "duration": 68,
        "start_time": "2022-08-31T11:40:26.864Z"
      },
      {
        "duration": 9,
        "start_time": "2022-08-31T11:40:26.934Z"
      },
      {
        "duration": 21,
        "start_time": "2022-08-31T11:43:41.375Z"
      },
      {
        "duration": 120,
        "start_time": "2022-08-31T11:47:07.382Z"
      },
      {
        "duration": 130,
        "start_time": "2022-08-31T11:49:33.662Z"
      },
      {
        "duration": 2081,
        "start_time": "2022-08-31T11:50:28.998Z"
      },
      {
        "duration": 3323,
        "start_time": "2022-08-31T11:50:48.218Z"
      },
      {
        "duration": 1348,
        "start_time": "2022-08-31T11:51:04.993Z"
      },
      {
        "duration": 20,
        "start_time": "2022-08-31T11:51:06.343Z"
      },
      {
        "duration": 91,
        "start_time": "2022-08-31T11:51:06.366Z"
      },
      {
        "duration": 2067,
        "start_time": "2022-08-31T11:51:06.460Z"
      },
      {
        "duration": 12,
        "start_time": "2022-08-31T11:51:08.530Z"
      },
      {
        "duration": 7,
        "start_time": "2022-08-31T11:51:08.543Z"
      },
      {
        "duration": 13,
        "start_time": "2022-08-31T11:51:08.552Z"
      },
      {
        "duration": 10,
        "start_time": "2022-08-31T11:51:08.567Z"
      },
      {
        "duration": 9,
        "start_time": "2022-08-31T11:51:08.579Z"
      },
      {
        "duration": 9,
        "start_time": "2022-08-31T11:51:08.591Z"
      },
      {
        "duration": 6,
        "start_time": "2022-08-31T11:51:08.601Z"
      },
      {
        "duration": 862,
        "start_time": "2022-08-31T11:51:08.609Z"
      },
      {
        "duration": 5,
        "start_time": "2022-08-31T11:51:09.473Z"
      },
      {
        "duration": 5,
        "start_time": "2022-08-31T11:51:09.486Z"
      },
      {
        "duration": 11,
        "start_time": "2022-08-31T11:51:09.493Z"
      },
      {
        "duration": 4,
        "start_time": "2022-08-31T11:51:09.506Z"
      },
      {
        "duration": 1038,
        "start_time": "2022-08-31T11:51:09.511Z"
      },
      {
        "duration": 5,
        "start_time": "2022-08-31T11:51:10.550Z"
      },
      {
        "duration": 3505,
        "start_time": "2022-08-31T11:51:10.557Z"
      },
      {
        "duration": 2,
        "start_time": "2022-08-31T11:51:14.064Z"
      },
      {
        "duration": 147,
        "start_time": "2022-08-31T11:55:27.579Z"
      },
      {
        "duration": 119,
        "start_time": "2022-08-31T11:55:33.603Z"
      },
      {
        "duration": 1259,
        "start_time": "2022-08-31T12:03:11.439Z"
      },
      {
        "duration": 15,
        "start_time": "2022-08-31T12:03:12.700Z"
      },
      {
        "duration": 76,
        "start_time": "2022-08-31T12:03:12.716Z"
      },
      {
        "duration": 2033,
        "start_time": "2022-08-31T12:03:12.793Z"
      },
      {
        "duration": 9,
        "start_time": "2022-08-31T12:03:14.829Z"
      },
      {
        "duration": 9,
        "start_time": "2022-08-31T12:03:14.840Z"
      },
      {
        "duration": 14,
        "start_time": "2022-08-31T12:03:14.850Z"
      },
      {
        "duration": 22,
        "start_time": "2022-08-31T12:03:14.866Z"
      },
      {
        "duration": 9,
        "start_time": "2022-08-31T12:03:14.890Z"
      },
      {
        "duration": 11,
        "start_time": "2022-08-31T12:03:14.901Z"
      },
      {
        "duration": 9,
        "start_time": "2022-08-31T12:03:14.915Z"
      },
      {
        "duration": 855,
        "start_time": "2022-08-31T12:03:14.925Z"
      },
      {
        "duration": 5,
        "start_time": "2022-08-31T12:03:15.782Z"
      },
      {
        "duration": 6,
        "start_time": "2022-08-31T12:03:15.791Z"
      },
      {
        "duration": 8,
        "start_time": "2022-08-31T12:03:15.798Z"
      },
      {
        "duration": 4,
        "start_time": "2022-08-31T12:03:15.808Z"
      },
      {
        "duration": 1111,
        "start_time": "2022-08-31T12:03:15.814Z"
      },
      {
        "duration": 5,
        "start_time": "2022-08-31T12:03:16.927Z"
      },
      {
        "duration": 3468,
        "start_time": "2022-08-31T12:03:16.933Z"
      },
      {
        "duration": 4,
        "start_time": "2022-08-31T12:03:20.402Z"
      },
      {
        "duration": 6,
        "start_time": "2022-08-31T12:03:20.408Z"
      },
      {
        "duration": 14,
        "start_time": "2022-08-31T12:03:20.416Z"
      },
      {
        "duration": 127,
        "start_time": "2022-08-31T12:03:20.432Z"
      },
      {
        "duration": 10,
        "start_time": "2022-08-31T12:03:20.561Z"
      },
      {
        "duration": 3,
        "start_time": "2022-08-31T12:03:20.572Z"
      },
      {
        "duration": 129,
        "start_time": "2022-08-31T12:03:46.011Z"
      },
      {
        "duration": 112,
        "start_time": "2022-08-31T12:03:53.780Z"
      },
      {
        "duration": 126,
        "start_time": "2022-08-31T12:03:58.730Z"
      },
      {
        "duration": 8,
        "start_time": "2022-08-31T12:04:30.635Z"
      },
      {
        "duration": 108,
        "start_time": "2022-08-31T12:04:54.490Z"
      },
      {
        "duration": 9,
        "start_time": "2022-08-31T17:47:57.187Z"
      },
      {
        "duration": 42,
        "start_time": "2022-08-31T17:48:21.348Z"
      },
      {
        "duration": 1981,
        "start_time": "2022-08-31T17:48:31.926Z"
      },
      {
        "duration": 14,
        "start_time": "2022-08-31T17:48:33.909Z"
      },
      {
        "duration": 70,
        "start_time": "2022-08-31T17:48:33.925Z"
      },
      {
        "duration": 1949,
        "start_time": "2022-08-31T17:48:33.997Z"
      },
      {
        "duration": 10,
        "start_time": "2022-08-31T17:48:35.949Z"
      },
      {
        "duration": 4,
        "start_time": "2022-08-31T17:48:35.960Z"
      },
      {
        "duration": 16,
        "start_time": "2022-08-31T17:48:35.965Z"
      },
      {
        "duration": 10,
        "start_time": "2022-08-31T17:48:35.983Z"
      },
      {
        "duration": 22,
        "start_time": "2022-08-31T17:48:35.995Z"
      },
      {
        "duration": 11,
        "start_time": "2022-08-31T17:48:36.019Z"
      },
      {
        "duration": 10,
        "start_time": "2022-08-31T17:48:36.032Z"
      },
      {
        "duration": 935,
        "start_time": "2022-08-31T17:48:36.043Z"
      },
      {
        "duration": 9,
        "start_time": "2022-08-31T17:48:36.980Z"
      },
      {
        "duration": 8,
        "start_time": "2022-08-31T17:48:36.992Z"
      },
      {
        "duration": 12,
        "start_time": "2022-08-31T17:48:37.001Z"
      },
      {
        "duration": 6,
        "start_time": "2022-08-31T17:48:37.015Z"
      },
      {
        "duration": 982,
        "start_time": "2022-08-31T17:48:37.023Z"
      },
      {
        "duration": 4,
        "start_time": "2022-08-31T17:48:38.007Z"
      },
      {
        "duration": 20,
        "start_time": "2022-08-31T17:48:38.013Z"
      },
      {
        "duration": 7,
        "start_time": "2022-08-31T17:48:38.036Z"
      },
      {
        "duration": 5,
        "start_time": "2022-08-31T17:48:38.045Z"
      },
      {
        "duration": 10,
        "start_time": "2022-08-31T17:48:38.051Z"
      },
      {
        "duration": 3283,
        "start_time": "2022-08-31T17:48:38.063Z"
      },
      {
        "duration": 10,
        "start_time": "2022-08-31T17:48:41.348Z"
      },
      {
        "duration": 9,
        "start_time": "2022-08-31T17:48:41.359Z"
      },
      {
        "duration": 8,
        "start_time": "2022-08-31T17:48:41.370Z"
      },
      {
        "duration": 44,
        "start_time": "2022-09-01T09:49:27.385Z"
      },
      {
        "duration": 1815,
        "start_time": "2022-09-01T09:49:33.917Z"
      },
      {
        "duration": 14,
        "start_time": "2022-09-01T09:49:35.735Z"
      },
      {
        "duration": 92,
        "start_time": "2022-09-01T09:49:35.751Z"
      },
      {
        "duration": 2225,
        "start_time": "2022-09-01T09:49:35.845Z"
      },
      {
        "duration": 50,
        "start_time": "2022-09-01T09:49:38.071Z"
      },
      {
        "duration": 3,
        "start_time": "2022-09-01T09:49:38.123Z"
      },
      {
        "duration": 14,
        "start_time": "2022-09-01T09:49:38.128Z"
      },
      {
        "duration": 7,
        "start_time": "2022-09-01T09:49:38.144Z"
      },
      {
        "duration": 50,
        "start_time": "2022-09-01T09:49:38.152Z"
      },
      {
        "duration": 15,
        "start_time": "2022-09-01T09:49:38.205Z"
      },
      {
        "duration": 21,
        "start_time": "2022-09-01T09:49:38.222Z"
      },
      {
        "duration": 1002,
        "start_time": "2022-09-01T09:49:38.244Z"
      },
      {
        "duration": 21,
        "start_time": "2022-09-01T09:49:39.248Z"
      },
      {
        "duration": 63,
        "start_time": "2022-09-01T09:49:39.271Z"
      },
      {
        "duration": 28,
        "start_time": "2022-09-01T09:49:39.335Z"
      },
      {
        "duration": 47,
        "start_time": "2022-09-01T09:49:39.364Z"
      },
      {
        "duration": 1008,
        "start_time": "2022-09-01T09:49:39.413Z"
      },
      {
        "duration": 6,
        "start_time": "2022-09-01T09:49:40.422Z"
      },
      {
        "duration": 22,
        "start_time": "2022-09-01T09:49:40.430Z"
      },
      {
        "duration": 11,
        "start_time": "2022-09-01T09:49:40.454Z"
      },
      {
        "duration": 42,
        "start_time": "2022-09-01T09:49:40.466Z"
      },
      {
        "duration": 10,
        "start_time": "2022-09-01T09:49:40.509Z"
      },
      {
        "duration": 3563,
        "start_time": "2022-09-01T09:49:40.521Z"
      },
      {
        "duration": 10,
        "start_time": "2022-09-01T09:49:44.086Z"
      },
      {
        "duration": 15,
        "start_time": "2022-09-01T09:49:44.099Z"
      },
      {
        "duration": 105,
        "start_time": "2022-09-01T10:01:54.305Z"
      },
      {
        "duration": 13,
        "start_time": "2022-09-01T10:03:02.382Z"
      },
      {
        "duration": 9,
        "start_time": "2022-09-01T10:05:52.970Z"
      },
      {
        "duration": 6,
        "start_time": "2022-09-01T10:06:31.702Z"
      },
      {
        "duration": 16,
        "start_time": "2022-09-01T10:06:48.907Z"
      },
      {
        "duration": 117,
        "start_time": "2022-09-01T10:17:54.570Z"
      },
      {
        "duration": 121,
        "start_time": "2022-09-01T10:18:01.708Z"
      },
      {
        "duration": 6,
        "start_time": "2022-09-01T10:26:52.583Z"
      },
      {
        "duration": 8,
        "start_time": "2022-09-01T10:27:09.000Z"
      },
      {
        "duration": 12,
        "start_time": "2022-09-01T10:28:14.255Z"
      },
      {
        "duration": 1219,
        "start_time": "2022-09-01T10:28:22.236Z"
      },
      {
        "duration": 23,
        "start_time": "2022-09-01T10:28:23.460Z"
      },
      {
        "duration": 66,
        "start_time": "2022-09-01T10:28:23.484Z"
      },
      {
        "duration": 2021,
        "start_time": "2022-09-01T10:28:23.552Z"
      },
      {
        "duration": 9,
        "start_time": "2022-09-01T10:28:25.575Z"
      },
      {
        "duration": 3,
        "start_time": "2022-09-01T10:28:25.586Z"
      },
      {
        "duration": 16,
        "start_time": "2022-09-01T10:28:25.591Z"
      },
      {
        "duration": 23,
        "start_time": "2022-09-01T10:28:25.609Z"
      },
      {
        "duration": 10,
        "start_time": "2022-09-01T10:28:25.634Z"
      },
      {
        "duration": 5,
        "start_time": "2022-09-01T10:28:25.646Z"
      },
      {
        "duration": 22,
        "start_time": "2022-09-01T10:28:25.653Z"
      },
      {
        "duration": 946,
        "start_time": "2022-09-01T10:28:25.677Z"
      },
      {
        "duration": 5,
        "start_time": "2022-09-01T10:28:26.624Z"
      },
      {
        "duration": 8,
        "start_time": "2022-09-01T10:28:26.630Z"
      },
      {
        "duration": 24,
        "start_time": "2022-09-01T10:28:26.639Z"
      },
      {
        "duration": 5,
        "start_time": "2022-09-01T10:28:26.669Z"
      },
      {
        "duration": 955,
        "start_time": "2022-09-01T10:28:26.675Z"
      },
      {
        "duration": 4,
        "start_time": "2022-09-01T10:28:27.632Z"
      },
      {
        "duration": 34,
        "start_time": "2022-09-01T10:28:27.638Z"
      },
      {
        "duration": 25,
        "start_time": "2022-09-01T10:28:27.674Z"
      },
      {
        "duration": 3,
        "start_time": "2022-09-01T10:28:27.701Z"
      },
      {
        "duration": 9,
        "start_time": "2022-09-01T10:28:27.706Z"
      },
      {
        "duration": 3237,
        "start_time": "2022-09-01T10:28:27.716Z"
      },
      {
        "duration": 26,
        "start_time": "2022-09-01T10:28:30.955Z"
      },
      {
        "duration": 13,
        "start_time": "2022-09-01T10:28:30.982Z"
      },
      {
        "duration": 6,
        "start_time": "2022-09-01T10:28:30.996Z"
      },
      {
        "duration": 13,
        "start_time": "2022-09-01T10:28:31.004Z"
      },
      {
        "duration": 6,
        "start_time": "2022-09-01T10:28:34.512Z"
      },
      {
        "duration": 11,
        "start_time": "2022-09-01T10:30:34.308Z"
      },
      {
        "duration": 4,
        "start_time": "2022-09-01T10:31:16.217Z"
      },
      {
        "duration": 11,
        "start_time": "2022-09-01T10:31:23.745Z"
      },
      {
        "duration": 12,
        "start_time": "2022-09-01T10:31:47.197Z"
      },
      {
        "duration": 10,
        "start_time": "2022-09-01T10:31:59.717Z"
      },
      {
        "duration": 4,
        "start_time": "2022-09-01T10:37:02.227Z"
      },
      {
        "duration": 4,
        "start_time": "2022-09-01T10:37:04.271Z"
      },
      {
        "duration": 4,
        "start_time": "2022-09-01T10:37:10.999Z"
      },
      {
        "duration": 61,
        "start_time": "2022-09-01T10:38:58.940Z"
      },
      {
        "duration": 4,
        "start_time": "2022-09-01T10:39:20.819Z"
      },
      {
        "duration": 3,
        "start_time": "2022-09-01T10:39:23.920Z"
      },
      {
        "duration": 105,
        "start_time": "2022-09-01T10:39:40.076Z"
      },
      {
        "duration": 18,
        "start_time": "2022-09-01T10:39:47.996Z"
      },
      {
        "duration": 3,
        "start_time": "2022-09-01T10:40:11.351Z"
      },
      {
        "duration": 16,
        "start_time": "2022-09-01T11:23:06.300Z"
      },
      {
        "duration": 6,
        "start_time": "2022-09-01T11:25:12.528Z"
      },
      {
        "duration": 13,
        "start_time": "2022-09-01T11:25:15.097Z"
      },
      {
        "duration": 21,
        "start_time": "2022-09-01T11:25:34.333Z"
      },
      {
        "duration": 21,
        "start_time": "2022-09-01T11:27:11.896Z"
      },
      {
        "duration": 11,
        "start_time": "2022-09-01T11:27:27.993Z"
      },
      {
        "duration": 16,
        "start_time": "2022-09-01T11:31:47.337Z"
      },
      {
        "duration": 10,
        "start_time": "2022-09-01T11:31:59.189Z"
      },
      {
        "duration": 9,
        "start_time": "2022-09-01T11:32:14.497Z"
      },
      {
        "duration": 4,
        "start_time": "2022-09-01T11:36:00.037Z"
      },
      {
        "duration": 5,
        "start_time": "2022-09-01T11:40:11.236Z"
      },
      {
        "duration": 13,
        "start_time": "2022-09-01T11:43:19.842Z"
      },
      {
        "duration": 4,
        "start_time": "2022-09-01T11:44:03.881Z"
      },
      {
        "duration": 13,
        "start_time": "2022-09-01T11:44:07.695Z"
      },
      {
        "duration": 12,
        "start_time": "2022-09-01T11:44:28.979Z"
      },
      {
        "duration": 5,
        "start_time": "2022-09-01T12:12:10.149Z"
      },
      {
        "duration": 4,
        "start_time": "2022-09-01T12:12:14.314Z"
      },
      {
        "duration": 4,
        "start_time": "2022-09-01T12:12:17.669Z"
      },
      {
        "duration": 5,
        "start_time": "2022-09-01T12:12:21.536Z"
      },
      {
        "duration": 47,
        "start_time": "2022-09-01T16:42:58.984Z"
      },
      {
        "duration": 1681,
        "start_time": "2022-09-01T16:43:06.016Z"
      },
      {
        "duration": 18,
        "start_time": "2022-09-01T16:43:07.700Z"
      },
      {
        "duration": 90,
        "start_time": "2022-09-01T16:43:07.720Z"
      },
      {
        "duration": 2108,
        "start_time": "2022-09-01T16:43:07.813Z"
      },
      {
        "duration": 10,
        "start_time": "2022-09-01T16:43:09.924Z"
      },
      {
        "duration": 7,
        "start_time": "2022-09-01T16:43:09.936Z"
      },
      {
        "duration": 14,
        "start_time": "2022-09-01T16:43:09.944Z"
      },
      {
        "duration": 10,
        "start_time": "2022-09-01T16:43:09.960Z"
      },
      {
        "duration": 8,
        "start_time": "2022-09-01T16:43:09.972Z"
      },
      {
        "duration": 8,
        "start_time": "2022-09-01T16:43:09.982Z"
      },
      {
        "duration": 4,
        "start_time": "2022-09-01T16:43:09.992Z"
      },
      {
        "duration": 921,
        "start_time": "2022-09-01T16:43:09.997Z"
      },
      {
        "duration": 5,
        "start_time": "2022-09-01T16:43:10.920Z"
      },
      {
        "duration": 9,
        "start_time": "2022-09-01T16:43:10.929Z"
      },
      {
        "duration": 12,
        "start_time": "2022-09-01T16:43:10.940Z"
      },
      {
        "duration": 5,
        "start_time": "2022-09-01T16:43:10.954Z"
      },
      {
        "duration": 1074,
        "start_time": "2022-09-01T16:43:10.986Z"
      },
      {
        "duration": 7,
        "start_time": "2022-09-01T16:43:12.061Z"
      },
      {
        "duration": 23,
        "start_time": "2022-09-01T16:43:12.070Z"
      },
      {
        "duration": 5,
        "start_time": "2022-09-01T16:43:12.095Z"
      },
      {
        "duration": 10,
        "start_time": "2022-09-01T16:43:12.102Z"
      },
      {
        "duration": 10,
        "start_time": "2022-09-01T16:43:12.113Z"
      },
      {
        "duration": 3442,
        "start_time": "2022-09-01T16:43:12.125Z"
      },
      {
        "duration": 25,
        "start_time": "2022-09-01T16:43:15.568Z"
      },
      {
        "duration": 11,
        "start_time": "2022-09-01T16:43:15.596Z"
      },
      {
        "duration": 13,
        "start_time": "2022-09-01T16:43:15.609Z"
      },
      {
        "duration": 5,
        "start_time": "2022-09-01T16:43:15.624Z"
      },
      {
        "duration": 28,
        "start_time": "2022-09-01T16:43:15.631Z"
      },
      {
        "duration": 11,
        "start_time": "2022-09-01T16:43:15.661Z"
      },
      {
        "duration": 4,
        "start_time": "2022-09-01T16:43:15.685Z"
      },
      {
        "duration": 22,
        "start_time": "2022-09-01T16:43:15.691Z"
      },
      {
        "duration": 7,
        "start_time": "2022-09-01T16:43:15.715Z"
      },
      {
        "duration": 7,
        "start_time": "2022-09-01T16:43:15.723Z"
      },
      {
        "duration": 13,
        "start_time": "2022-09-01T16:51:35.605Z"
      },
      {
        "duration": 20,
        "start_time": "2022-09-01T16:51:49.593Z"
      },
      {
        "duration": 12,
        "start_time": "2022-09-01T16:52:19.582Z"
      },
      {
        "duration": 1784,
        "start_time": "2022-09-02T07:04:07.351Z"
      },
      {
        "duration": 22,
        "start_time": "2022-09-02T07:04:09.138Z"
      },
      {
        "duration": 93,
        "start_time": "2022-09-02T07:04:09.166Z"
      },
      {
        "duration": 2096,
        "start_time": "2022-09-02T07:04:09.262Z"
      },
      {
        "duration": 14,
        "start_time": "2022-09-02T07:04:11.369Z"
      },
      {
        "duration": 4,
        "start_time": "2022-09-02T07:04:11.385Z"
      },
      {
        "duration": 13,
        "start_time": "2022-09-02T07:04:11.390Z"
      },
      {
        "duration": 9,
        "start_time": "2022-09-02T07:04:11.405Z"
      },
      {
        "duration": 10,
        "start_time": "2022-09-02T07:04:11.416Z"
      },
      {
        "duration": 29,
        "start_time": "2022-09-02T07:04:11.429Z"
      },
      {
        "duration": 7,
        "start_time": "2022-09-02T07:04:11.460Z"
      },
      {
        "duration": 878,
        "start_time": "2022-09-02T07:04:11.469Z"
      },
      {
        "duration": 26,
        "start_time": "2022-09-02T07:04:12.349Z"
      },
      {
        "duration": 5,
        "start_time": "2022-09-02T07:04:12.376Z"
      },
      {
        "duration": 9,
        "start_time": "2022-09-02T07:04:12.382Z"
      },
      {
        "duration": 4,
        "start_time": "2022-09-02T07:04:12.392Z"
      },
      {
        "duration": 1094,
        "start_time": "2022-09-02T07:04:12.398Z"
      },
      {
        "duration": 4,
        "start_time": "2022-09-02T07:04:13.494Z"
      },
      {
        "duration": 11,
        "start_time": "2022-09-02T07:04:13.500Z"
      },
      {
        "duration": 5,
        "start_time": "2022-09-02T07:04:13.513Z"
      },
      {
        "duration": 5,
        "start_time": "2022-09-02T07:04:13.519Z"
      },
      {
        "duration": 41,
        "start_time": "2022-09-02T07:04:13.526Z"
      },
      {
        "duration": 3451,
        "start_time": "2022-09-02T07:04:13.568Z"
      },
      {
        "duration": 9,
        "start_time": "2022-09-02T07:04:17.020Z"
      },
      {
        "duration": 22,
        "start_time": "2022-09-02T07:04:17.030Z"
      },
      {
        "duration": 17,
        "start_time": "2022-09-02T07:04:17.053Z"
      },
      {
        "duration": 8,
        "start_time": "2022-09-02T07:04:17.075Z"
      },
      {
        "duration": 7,
        "start_time": "2022-09-02T07:04:17.088Z"
      },
      {
        "duration": 17,
        "start_time": "2022-09-02T07:04:17.097Z"
      },
      {
        "duration": 6,
        "start_time": "2022-09-02T07:04:17.116Z"
      },
      {
        "duration": 21,
        "start_time": "2022-09-02T07:04:17.124Z"
      },
      {
        "duration": 19,
        "start_time": "2022-09-02T07:04:17.159Z"
      },
      {
        "duration": 10,
        "start_time": "2022-09-02T07:04:17.180Z"
      },
      {
        "duration": 8,
        "start_time": "2022-09-02T07:04:17.192Z"
      },
      {
        "duration": 4,
        "start_time": "2022-09-02T07:04:17.202Z"
      },
      {
        "duration": 9,
        "start_time": "2022-09-02T07:09:14.431Z"
      },
      {
        "duration": 14,
        "start_time": "2022-09-02T07:09:49.019Z"
      },
      {
        "duration": 11,
        "start_time": "2022-09-02T07:09:57.690Z"
      },
      {
        "duration": 106,
        "start_time": "2022-09-02T08:01:13.504Z"
      },
      {
        "duration": 16,
        "start_time": "2022-09-02T08:01:19.109Z"
      },
      {
        "duration": 10,
        "start_time": "2022-09-02T08:18:01.175Z"
      },
      {
        "duration": 13,
        "start_time": "2022-09-02T08:19:11.842Z"
      },
      {
        "duration": 49,
        "start_time": "2022-09-02T08:21:48.914Z"
      },
      {
        "duration": 6,
        "start_time": "2022-09-02T08:21:54.998Z"
      },
      {
        "duration": 8,
        "start_time": "2022-09-02T08:22:04.558Z"
      },
      {
        "duration": 791,
        "start_time": "2022-09-02T08:22:53.539Z"
      },
      {
        "duration": 7,
        "start_time": "2022-09-02T08:23:06.165Z"
      },
      {
        "duration": 946,
        "start_time": "2022-09-02T08:23:30.748Z"
      },
      {
        "duration": 818,
        "start_time": "2022-09-02T08:23:52.669Z"
      },
      {
        "duration": 1101,
        "start_time": "2022-09-02T08:23:57.458Z"
      },
      {
        "duration": 1070,
        "start_time": "2022-09-02T08:28:29.845Z"
      },
      {
        "duration": 1070,
        "start_time": "2022-09-02T08:35:18.779Z"
      },
      {
        "duration": 70,
        "start_time": "2022-09-02T09:01:35.298Z"
      },
      {
        "duration": 1178,
        "start_time": "2022-09-02T09:01:56.275Z"
      },
      {
        "duration": 13,
        "start_time": "2022-09-02T09:01:57.455Z"
      },
      {
        "duration": 67,
        "start_time": "2022-09-02T09:01:57.470Z"
      },
      {
        "duration": 1910,
        "start_time": "2022-09-02T09:01:57.539Z"
      },
      {
        "duration": 9,
        "start_time": "2022-09-02T09:01:59.451Z"
      },
      {
        "duration": 4,
        "start_time": "2022-09-02T09:01:59.462Z"
      },
      {
        "duration": 21,
        "start_time": "2022-09-02T09:01:59.468Z"
      },
      {
        "duration": 8,
        "start_time": "2022-09-02T09:01:59.490Z"
      },
      {
        "duration": 10,
        "start_time": "2022-09-02T09:01:59.500Z"
      },
      {
        "duration": 14,
        "start_time": "2022-09-02T09:01:59.511Z"
      },
      {
        "duration": 10,
        "start_time": "2022-09-02T09:01:59.526Z"
      },
      {
        "duration": 797,
        "start_time": "2022-09-02T09:01:59.538Z"
      },
      {
        "duration": 5,
        "start_time": "2022-09-02T09:02:00.336Z"
      },
      {
        "duration": 22,
        "start_time": "2022-09-02T09:02:00.344Z"
      },
      {
        "duration": 48,
        "start_time": "2022-09-02T09:02:00.368Z"
      },
      {
        "duration": 15,
        "start_time": "2022-09-02T09:02:00.418Z"
      },
      {
        "duration": 1110,
        "start_time": "2022-09-02T09:02:00.434Z"
      },
      {
        "duration": 5,
        "start_time": "2022-09-02T09:02:01.546Z"
      },
      {
        "duration": 30,
        "start_time": "2022-09-02T09:02:01.559Z"
      },
      {
        "duration": 33,
        "start_time": "2022-09-02T09:02:01.591Z"
      },
      {
        "duration": 58,
        "start_time": "2022-09-02T09:02:01.626Z"
      },
      {
        "duration": 48,
        "start_time": "2022-09-02T09:02:01.686Z"
      },
      {
        "duration": 3342,
        "start_time": "2022-09-02T09:02:01.736Z"
      },
      {
        "duration": 10,
        "start_time": "2022-09-02T09:02:05.080Z"
      },
      {
        "duration": 9,
        "start_time": "2022-09-02T09:02:05.091Z"
      },
      {
        "duration": 30,
        "start_time": "2022-09-02T09:02:05.102Z"
      },
      {
        "duration": 6,
        "start_time": "2022-09-02T09:02:05.134Z"
      },
      {
        "duration": 27,
        "start_time": "2022-09-02T09:02:05.141Z"
      },
      {
        "duration": 22,
        "start_time": "2022-09-02T09:02:05.169Z"
      },
      {
        "duration": 20,
        "start_time": "2022-09-02T09:02:05.193Z"
      },
      {
        "duration": 33,
        "start_time": "2022-09-02T09:02:05.215Z"
      },
      {
        "duration": 31,
        "start_time": "2022-09-02T09:02:05.250Z"
      },
      {
        "duration": 45,
        "start_time": "2022-09-02T09:02:05.283Z"
      },
      {
        "duration": 1006,
        "start_time": "2022-09-02T09:02:05.331Z"
      },
      {
        "duration": 0,
        "start_time": "2022-09-02T09:02:06.338Z"
      },
      {
        "duration": 1,
        "start_time": "2022-09-02T09:02:06.339Z"
      },
      {
        "duration": 61,
        "start_time": "2022-09-02T09:03:02.192Z"
      },
      {
        "duration": 11,
        "start_time": "2022-09-02T09:32:16.565Z"
      },
      {
        "duration": 8,
        "start_time": "2022-09-02T09:32:43.534Z"
      },
      {
        "duration": 4,
        "start_time": "2022-09-02T09:33:16.662Z"
      },
      {
        "duration": 63,
        "start_time": "2022-09-02T09:33:25.719Z"
      },
      {
        "duration": 55,
        "start_time": "2022-09-02T09:33:53.600Z"
      },
      {
        "duration": 6,
        "start_time": "2022-09-02T09:39:59.733Z"
      },
      {
        "duration": 46,
        "start_time": "2022-09-02T09:41:39.387Z"
      },
      {
        "duration": 10,
        "start_time": "2022-09-02T09:41:45.744Z"
      },
      {
        "duration": 9,
        "start_time": "2022-09-02T09:42:26.252Z"
      },
      {
        "duration": 8,
        "start_time": "2022-09-02T09:42:55.384Z"
      },
      {
        "duration": 7,
        "start_time": "2022-09-02T09:43:15.792Z"
      },
      {
        "duration": 9,
        "start_time": "2022-09-02T09:43:35.468Z"
      },
      {
        "duration": 23,
        "start_time": "2022-09-02T09:45:23.739Z"
      },
      {
        "duration": 21,
        "start_time": "2022-09-02T09:45:36.449Z"
      },
      {
        "duration": 15,
        "start_time": "2022-09-02T09:45:40.904Z"
      },
      {
        "duration": 63,
        "start_time": "2022-09-02T10:02:18.104Z"
      },
      {
        "duration": 20,
        "start_time": "2022-09-02T10:03:25.584Z"
      },
      {
        "duration": 19,
        "start_time": "2022-09-02T10:03:42.136Z"
      },
      {
        "duration": 20,
        "start_time": "2022-09-02T10:04:02.344Z"
      },
      {
        "duration": 18,
        "start_time": "2022-09-02T10:04:06.590Z"
      },
      {
        "duration": 17,
        "start_time": "2022-09-02T10:04:21.617Z"
      },
      {
        "duration": 17,
        "start_time": "2022-09-02T10:14:18.985Z"
      },
      {
        "duration": 17,
        "start_time": "2022-09-02T10:14:44.168Z"
      },
      {
        "duration": 4,
        "start_time": "2022-09-02T10:14:54.590Z"
      },
      {
        "duration": 17,
        "start_time": "2022-09-02T10:14:57.828Z"
      },
      {
        "duration": 16,
        "start_time": "2022-09-02T10:15:47.887Z"
      },
      {
        "duration": 5,
        "start_time": "2022-09-02T10:16:03.759Z"
      },
      {
        "duration": 8,
        "start_time": "2022-09-02T10:16:11.220Z"
      },
      {
        "duration": 1256,
        "start_time": "2022-09-02T10:16:21.624Z"
      },
      {
        "duration": 15,
        "start_time": "2022-09-02T10:16:22.882Z"
      },
      {
        "duration": 83,
        "start_time": "2022-09-02T10:16:22.898Z"
      },
      {
        "duration": 1972,
        "start_time": "2022-09-02T10:16:22.985Z"
      },
      {
        "duration": 9,
        "start_time": "2022-09-02T10:16:24.959Z"
      },
      {
        "duration": 12,
        "start_time": "2022-09-02T10:16:24.969Z"
      },
      {
        "duration": 29,
        "start_time": "2022-09-02T10:16:24.983Z"
      },
      {
        "duration": 18,
        "start_time": "2022-09-02T10:16:25.013Z"
      },
      {
        "duration": 11,
        "start_time": "2022-09-02T10:16:25.033Z"
      },
      {
        "duration": 23,
        "start_time": "2022-09-02T10:16:25.048Z"
      },
      {
        "duration": 6,
        "start_time": "2022-09-02T10:16:25.073Z"
      },
      {
        "duration": 938,
        "start_time": "2022-09-02T10:16:25.081Z"
      },
      {
        "duration": 4,
        "start_time": "2022-09-02T10:16:26.021Z"
      },
      {
        "duration": 20,
        "start_time": "2022-09-02T10:16:26.027Z"
      },
      {
        "duration": 16,
        "start_time": "2022-09-02T10:16:26.048Z"
      },
      {
        "duration": 17,
        "start_time": "2022-09-02T10:16:26.065Z"
      },
      {
        "duration": 972,
        "start_time": "2022-09-02T10:16:26.084Z"
      },
      {
        "duration": 6,
        "start_time": "2022-09-02T10:16:27.059Z"
      },
      {
        "duration": 33,
        "start_time": "2022-09-02T10:16:27.066Z"
      },
      {
        "duration": 9,
        "start_time": "2022-09-02T10:16:27.101Z"
      },
      {
        "duration": 14,
        "start_time": "2022-09-02T10:16:27.112Z"
      },
      {
        "duration": 17,
        "start_time": "2022-09-02T10:16:27.127Z"
      },
      {
        "duration": 3192,
        "start_time": "2022-09-02T10:16:27.146Z"
      },
      {
        "duration": 9,
        "start_time": "2022-09-02T10:16:30.340Z"
      },
      {
        "duration": 28,
        "start_time": "2022-09-02T10:16:30.350Z"
      },
      {
        "duration": 26,
        "start_time": "2022-09-02T10:16:30.380Z"
      },
      {
        "duration": 22,
        "start_time": "2022-09-02T10:16:30.408Z"
      },
      {
        "duration": 18,
        "start_time": "2022-09-02T10:16:30.433Z"
      },
      {
        "duration": 20,
        "start_time": "2022-09-02T10:16:30.452Z"
      },
      {
        "duration": 18,
        "start_time": "2022-09-02T10:16:30.474Z"
      },
      {
        "duration": 55,
        "start_time": "2022-09-02T10:16:30.494Z"
      },
      {
        "duration": 21,
        "start_time": "2022-09-02T10:16:30.551Z"
      },
      {
        "duration": 28,
        "start_time": "2022-09-02T10:16:30.574Z"
      },
      {
        "duration": 1232,
        "start_time": "2022-09-02T10:16:30.603Z"
      },
      {
        "duration": 0,
        "start_time": "2022-09-02T10:16:31.837Z"
      },
      {
        "duration": 0,
        "start_time": "2022-09-02T10:16:31.839Z"
      },
      {
        "duration": 0,
        "start_time": "2022-09-02T10:16:31.840Z"
      },
      {
        "duration": 0,
        "start_time": "2022-09-02T10:16:31.841Z"
      },
      {
        "duration": 12,
        "start_time": "2022-09-02T10:16:41.395Z"
      },
      {
        "duration": 29,
        "start_time": "2022-09-02T10:17:00.353Z"
      },
      {
        "duration": 28,
        "start_time": "2022-09-02T10:18:03.668Z"
      },
      {
        "duration": 23,
        "start_time": "2022-09-02T10:18:33.696Z"
      },
      {
        "duration": 7,
        "start_time": "2022-09-02T10:18:44.897Z"
      },
      {
        "duration": 7,
        "start_time": "2022-09-02T10:19:40.412Z"
      },
      {
        "duration": 7,
        "start_time": "2022-09-02T10:19:53.129Z"
      },
      {
        "duration": 7,
        "start_time": "2022-09-02T10:20:09.558Z"
      },
      {
        "duration": 60,
        "start_time": "2022-09-02T10:20:37.125Z"
      },
      {
        "duration": 1139,
        "start_time": "2022-09-02T10:21:10.819Z"
      },
      {
        "duration": 14,
        "start_time": "2022-09-02T10:21:11.960Z"
      },
      {
        "duration": 62,
        "start_time": "2022-09-02T10:21:11.977Z"
      },
      {
        "duration": 1891,
        "start_time": "2022-09-02T10:21:12.058Z"
      },
      {
        "duration": 9,
        "start_time": "2022-09-02T10:21:13.951Z"
      },
      {
        "duration": 2,
        "start_time": "2022-09-02T10:21:13.962Z"
      },
      {
        "duration": 11,
        "start_time": "2022-09-02T10:21:13.966Z"
      },
      {
        "duration": 7,
        "start_time": "2022-09-02T10:21:13.979Z"
      },
      {
        "duration": 10,
        "start_time": "2022-09-02T10:21:13.988Z"
      },
      {
        "duration": 7,
        "start_time": "2022-09-02T10:21:13.999Z"
      },
      {
        "duration": 4,
        "start_time": "2022-09-02T10:21:14.007Z"
      },
      {
        "duration": 886,
        "start_time": "2022-09-02T10:21:14.012Z"
      },
      {
        "duration": 5,
        "start_time": "2022-09-02T10:21:14.901Z"
      },
      {
        "duration": 9,
        "start_time": "2022-09-02T10:21:14.907Z"
      },
      {
        "duration": 12,
        "start_time": "2022-09-02T10:21:14.918Z"
      },
      {
        "duration": 4,
        "start_time": "2022-09-02T10:21:14.932Z"
      },
      {
        "duration": 1076,
        "start_time": "2022-09-02T10:21:14.938Z"
      },
      {
        "duration": 4,
        "start_time": "2022-09-02T10:21:16.016Z"
      },
      {
        "duration": 11,
        "start_time": "2022-09-02T10:21:16.022Z"
      },
      {
        "duration": 22,
        "start_time": "2022-09-02T10:21:16.035Z"
      },
      {
        "duration": 3,
        "start_time": "2022-09-02T10:21:16.059Z"
      },
      {
        "duration": 11,
        "start_time": "2022-09-02T10:21:16.063Z"
      },
      {
        "duration": 3405,
        "start_time": "2022-09-02T10:21:16.076Z"
      },
      {
        "duration": 11,
        "start_time": "2022-09-02T10:21:19.483Z"
      },
      {
        "duration": 7,
        "start_time": "2022-09-02T10:21:19.496Z"
      },
      {
        "duration": 19,
        "start_time": "2022-09-02T10:21:19.505Z"
      },
      {
        "duration": 4,
        "start_time": "2022-09-02T10:21:19.527Z"
      },
      {
        "duration": 28,
        "start_time": "2022-09-02T10:21:19.532Z"
      },
      {
        "duration": 9,
        "start_time": "2022-09-02T10:21:19.562Z"
      },
      {
        "duration": 6,
        "start_time": "2022-09-02T10:21:19.572Z"
      },
      {
        "duration": 16,
        "start_time": "2022-09-02T10:21:19.580Z"
      },
      {
        "duration": 6,
        "start_time": "2022-09-02T10:21:19.597Z"
      },
      {
        "duration": 13,
        "start_time": "2022-09-02T10:21:19.605Z"
      },
      {
        "duration": 1030,
        "start_time": "2022-09-02T10:21:19.620Z"
      },
      {
        "duration": 0,
        "start_time": "2022-09-02T10:21:20.652Z"
      },
      {
        "duration": 0,
        "start_time": "2022-09-02T10:21:20.653Z"
      },
      {
        "duration": 0,
        "start_time": "2022-09-02T10:21:20.654Z"
      },
      {
        "duration": 0,
        "start_time": "2022-09-02T10:21:20.655Z"
      },
      {
        "duration": 0,
        "start_time": "2022-09-02T10:21:20.656Z"
      },
      {
        "duration": 0,
        "start_time": "2022-09-02T10:21:20.657Z"
      },
      {
        "duration": 830,
        "start_time": "2022-09-02T10:21:35.258Z"
      },
      {
        "duration": 16,
        "start_time": "2022-09-02T10:22:27.907Z"
      },
      {
        "duration": 56,
        "start_time": "2022-09-02T10:22:59.327Z"
      },
      {
        "duration": 1194,
        "start_time": "2022-09-02T10:23:39.652Z"
      },
      {
        "duration": 15,
        "start_time": "2022-09-02T10:23:40.848Z"
      },
      {
        "duration": 65,
        "start_time": "2022-09-02T10:23:40.864Z"
      },
      {
        "duration": 1950,
        "start_time": "2022-09-02T10:23:40.931Z"
      },
      {
        "duration": 11,
        "start_time": "2022-09-02T10:23:42.883Z"
      },
      {
        "duration": 5,
        "start_time": "2022-09-02T10:23:42.895Z"
      },
      {
        "duration": 15,
        "start_time": "2022-09-02T10:23:42.901Z"
      },
      {
        "duration": 10,
        "start_time": "2022-09-02T10:23:42.918Z"
      },
      {
        "duration": 12,
        "start_time": "2022-09-02T10:23:42.929Z"
      },
      {
        "duration": 9,
        "start_time": "2022-09-02T10:23:42.943Z"
      },
      {
        "duration": 5,
        "start_time": "2022-09-02T10:23:42.953Z"
      },
      {
        "duration": 826,
        "start_time": "2022-09-02T10:23:42.959Z"
      },
      {
        "duration": 4,
        "start_time": "2022-09-02T10:23:43.787Z"
      },
      {
        "duration": 7,
        "start_time": "2022-09-02T10:23:43.793Z"
      },
      {
        "duration": 10,
        "start_time": "2022-09-02T10:23:43.802Z"
      },
      {
        "duration": 6,
        "start_time": "2022-09-02T10:23:43.814Z"
      },
      {
        "duration": 986,
        "start_time": "2022-09-02T10:23:43.822Z"
      },
      {
        "duration": 6,
        "start_time": "2022-09-02T10:23:44.810Z"
      },
      {
        "duration": 9,
        "start_time": "2022-09-02T10:23:44.818Z"
      },
      {
        "duration": 29,
        "start_time": "2022-09-02T10:23:44.829Z"
      },
      {
        "duration": 3,
        "start_time": "2022-09-02T10:23:44.860Z"
      },
      {
        "duration": 8,
        "start_time": "2022-09-02T10:23:44.864Z"
      },
      {
        "duration": 3208,
        "start_time": "2022-09-02T10:23:44.874Z"
      },
      {
        "duration": 9,
        "start_time": "2022-09-02T10:23:48.084Z"
      },
      {
        "duration": 6,
        "start_time": "2022-09-02T10:23:48.095Z"
      },
      {
        "duration": 20,
        "start_time": "2022-09-02T10:23:48.102Z"
      },
      {
        "duration": 3,
        "start_time": "2022-09-02T10:23:48.124Z"
      },
      {
        "duration": 27,
        "start_time": "2022-09-02T10:23:48.130Z"
      },
      {
        "duration": 6,
        "start_time": "2022-09-02T10:23:48.159Z"
      },
      {
        "duration": 5,
        "start_time": "2022-09-02T10:23:48.166Z"
      },
      {
        "duration": 13,
        "start_time": "2022-09-02T10:23:48.172Z"
      },
      {
        "duration": 6,
        "start_time": "2022-09-02T10:23:48.186Z"
      },
      {
        "duration": 10,
        "start_time": "2022-09-02T10:23:48.193Z"
      },
      {
        "duration": 1119,
        "start_time": "2022-09-02T10:23:48.204Z"
      },
      {
        "duration": 0,
        "start_time": "2022-09-02T10:23:49.325Z"
      },
      {
        "duration": 0,
        "start_time": "2022-09-02T10:23:49.326Z"
      },
      {
        "duration": 0,
        "start_time": "2022-09-02T10:23:49.327Z"
      },
      {
        "duration": 0,
        "start_time": "2022-09-02T10:23:49.328Z"
      },
      {
        "duration": 0,
        "start_time": "2022-09-02T10:23:49.329Z"
      },
      {
        "duration": 55,
        "start_time": "2022-09-02T10:24:58.789Z"
      },
      {
        "duration": 64,
        "start_time": "2022-09-02T10:25:17.637Z"
      },
      {
        "duration": 6641,
        "start_time": "2022-09-02T10:26:37.966Z"
      },
      {
        "duration": 0,
        "start_time": "2022-09-02T10:26:44.609Z"
      },
      {
        "duration": 18,
        "start_time": "2022-09-02T10:27:27.357Z"
      },
      {
        "duration": 37,
        "start_time": "2022-09-02T10:27:49.418Z"
      },
      {
        "duration": 65,
        "start_time": "2022-09-02T10:28:26.909Z"
      },
      {
        "duration": 56,
        "start_time": "2022-09-02T10:30:13.378Z"
      },
      {
        "duration": 67,
        "start_time": "2022-09-02T10:58:56.463Z"
      },
      {
        "duration": 146,
        "start_time": "2022-09-02T10:59:39.307Z"
      },
      {
        "duration": 51,
        "start_time": "2022-09-02T10:59:47.055Z"
      },
      {
        "duration": 19,
        "start_time": "2022-09-02T11:01:54.869Z"
      },
      {
        "duration": 17,
        "start_time": "2022-09-02T11:02:04.303Z"
      },
      {
        "duration": 17,
        "start_time": "2022-09-02T11:02:51.949Z"
      },
      {
        "duration": 26,
        "start_time": "2022-09-02T11:03:17.516Z"
      },
      {
        "duration": 11,
        "start_time": "2022-09-02T12:41:58.183Z"
      },
      {
        "duration": 8,
        "start_time": "2022-09-02T12:42:28.284Z"
      },
      {
        "duration": 1074,
        "start_time": "2022-09-02T12:49:44.912Z"
      },
      {
        "duration": 20,
        "start_time": "2022-09-02T12:50:05.877Z"
      },
      {
        "duration": 35,
        "start_time": "2022-09-02T12:50:21.081Z"
      },
      {
        "duration": 15,
        "start_time": "2022-09-02T12:51:11.304Z"
      },
      {
        "duration": 15,
        "start_time": "2022-09-02T12:58:10.172Z"
      },
      {
        "duration": 21,
        "start_time": "2022-09-02T12:59:53.354Z"
      },
      {
        "duration": 12,
        "start_time": "2022-09-02T13:06:20.883Z"
      },
      {
        "duration": 1973,
        "start_time": "2022-09-02T13:06:40.025Z"
      },
      {
        "duration": 1952,
        "start_time": "2022-09-02T13:07:05.606Z"
      },
      {
        "duration": 456,
        "start_time": "2022-09-02T13:07:14.792Z"
      },
      {
        "duration": 355,
        "start_time": "2022-09-02T13:07:37.788Z"
      },
      {
        "duration": 450,
        "start_time": "2022-09-02T13:08:23.904Z"
      },
      {
        "duration": 7,
        "start_time": "2022-09-02T13:14:26.423Z"
      },
      {
        "duration": 12,
        "start_time": "2022-09-02T13:15:19.957Z"
      },
      {
        "duration": 10,
        "start_time": "2022-09-02T13:15:35.982Z"
      },
      {
        "duration": 5,
        "start_time": "2022-09-02T13:15:46.758Z"
      },
      {
        "duration": 6,
        "start_time": "2022-09-02T13:15:58.930Z"
      },
      {
        "duration": 71,
        "start_time": "2022-09-02T17:43:12.349Z"
      },
      {
        "duration": 1698,
        "start_time": "2022-09-02T17:43:19.464Z"
      },
      {
        "duration": 16,
        "start_time": "2022-09-02T17:43:21.164Z"
      },
      {
        "duration": 67,
        "start_time": "2022-09-02T17:43:21.182Z"
      },
      {
        "duration": 2069,
        "start_time": "2022-09-02T17:43:21.251Z"
      },
      {
        "duration": 10,
        "start_time": "2022-09-02T17:43:23.321Z"
      },
      {
        "duration": 7,
        "start_time": "2022-09-02T17:43:23.332Z"
      },
      {
        "duration": 16,
        "start_time": "2022-09-02T17:43:23.340Z"
      },
      {
        "duration": 9,
        "start_time": "2022-09-02T17:43:23.358Z"
      },
      {
        "duration": 16,
        "start_time": "2022-09-02T17:43:23.369Z"
      },
      {
        "duration": 8,
        "start_time": "2022-09-02T17:43:23.388Z"
      },
      {
        "duration": 7,
        "start_time": "2022-09-02T17:43:23.398Z"
      },
      {
        "duration": 877,
        "start_time": "2022-09-02T17:43:23.407Z"
      },
      {
        "duration": 5,
        "start_time": "2022-09-02T17:43:24.286Z"
      },
      {
        "duration": 8,
        "start_time": "2022-09-02T17:43:24.293Z"
      },
      {
        "duration": 8,
        "start_time": "2022-09-02T17:43:24.303Z"
      },
      {
        "duration": 4,
        "start_time": "2022-09-02T17:43:24.313Z"
      },
      {
        "duration": 1008,
        "start_time": "2022-09-02T17:43:24.319Z"
      },
      {
        "duration": 6,
        "start_time": "2022-09-02T17:43:25.329Z"
      },
      {
        "duration": 14,
        "start_time": "2022-09-02T17:43:25.336Z"
      },
      {
        "duration": 5,
        "start_time": "2022-09-02T17:43:25.352Z"
      },
      {
        "duration": 5,
        "start_time": "2022-09-02T17:43:25.358Z"
      },
      {
        "duration": 10,
        "start_time": "2022-09-02T17:43:25.385Z"
      },
      {
        "duration": 3367,
        "start_time": "2022-09-02T17:43:25.397Z"
      },
      {
        "duration": 19,
        "start_time": "2022-09-02T17:43:28.766Z"
      },
      {
        "duration": 7,
        "start_time": "2022-09-02T17:43:28.787Z"
      },
      {
        "duration": 50,
        "start_time": "2022-09-02T17:43:28.796Z"
      },
      {
        "duration": 5,
        "start_time": "2022-09-02T17:43:28.847Z"
      },
      {
        "duration": 24,
        "start_time": "2022-09-02T17:43:28.855Z"
      },
      {
        "duration": 27,
        "start_time": "2022-09-02T17:43:28.880Z"
      },
      {
        "duration": 10,
        "start_time": "2022-09-02T17:43:28.909Z"
      },
      {
        "duration": 35,
        "start_time": "2022-09-02T17:43:28.920Z"
      },
      {
        "duration": 17,
        "start_time": "2022-09-02T17:43:28.956Z"
      },
      {
        "duration": 21,
        "start_time": "2022-09-02T17:43:28.975Z"
      },
      {
        "duration": 1070,
        "start_time": "2022-09-02T17:43:28.999Z"
      },
      {
        "duration": 0,
        "start_time": "2022-09-02T17:43:30.072Z"
      },
      {
        "duration": 0,
        "start_time": "2022-09-02T17:43:30.073Z"
      },
      {
        "duration": 0,
        "start_time": "2022-09-02T17:43:30.074Z"
      },
      {
        "duration": 0,
        "start_time": "2022-09-02T17:43:30.076Z"
      },
      {
        "duration": 0,
        "start_time": "2022-09-02T17:43:30.077Z"
      },
      {
        "duration": 0,
        "start_time": "2022-09-02T17:43:30.078Z"
      },
      {
        "duration": 0,
        "start_time": "2022-09-02T17:43:30.079Z"
      },
      {
        "duration": 0,
        "start_time": "2022-09-02T17:43:30.080Z"
      },
      {
        "duration": 0,
        "start_time": "2022-09-02T17:43:30.082Z"
      },
      {
        "duration": 0,
        "start_time": "2022-09-02T17:43:30.083Z"
      },
      {
        "duration": 0,
        "start_time": "2022-09-02T17:43:30.084Z"
      },
      {
        "duration": 24,
        "start_time": "2022-09-02T17:43:43.851Z"
      },
      {
        "duration": 15,
        "start_time": "2022-09-02T17:45:54.430Z"
      },
      {
        "duration": 25,
        "start_time": "2022-09-02T17:46:06.978Z"
      },
      {
        "duration": 57,
        "start_time": "2022-09-02T18:01:57.023Z"
      },
      {
        "duration": 12,
        "start_time": "2022-09-02T18:02:02.512Z"
      },
      {
        "duration": 17,
        "start_time": "2022-09-02T18:02:05.259Z"
      },
      {
        "duration": 4,
        "start_time": "2022-09-02T18:06:32.904Z"
      },
      {
        "duration": 1325,
        "start_time": "2022-09-02T18:06:38.714Z"
      },
      {
        "duration": 15,
        "start_time": "2022-09-02T18:06:40.042Z"
      },
      {
        "duration": 96,
        "start_time": "2022-09-02T18:06:40.059Z"
      },
      {
        "duration": 2297,
        "start_time": "2022-09-02T18:06:40.157Z"
      },
      {
        "duration": 14,
        "start_time": "2022-09-02T18:06:42.458Z"
      },
      {
        "duration": 4,
        "start_time": "2022-09-02T18:06:42.474Z"
      },
      {
        "duration": 27,
        "start_time": "2022-09-02T18:06:42.480Z"
      },
      {
        "duration": 9,
        "start_time": "2022-09-02T18:06:42.509Z"
      },
      {
        "duration": 11,
        "start_time": "2022-09-02T18:06:42.519Z"
      },
      {
        "duration": 7,
        "start_time": "2022-09-02T18:06:42.532Z"
      },
      {
        "duration": 6,
        "start_time": "2022-09-02T18:06:42.541Z"
      },
      {
        "duration": 883,
        "start_time": "2022-09-02T18:06:42.549Z"
      },
      {
        "duration": 5,
        "start_time": "2022-09-02T18:06:43.433Z"
      },
      {
        "duration": 7,
        "start_time": "2022-09-02T18:06:43.442Z"
      },
      {
        "duration": 17,
        "start_time": "2022-09-02T18:06:43.451Z"
      },
      {
        "duration": 37,
        "start_time": "2022-09-02T18:06:43.469Z"
      },
      {
        "duration": 1065,
        "start_time": "2022-09-02T18:06:43.508Z"
      },
      {
        "duration": 15,
        "start_time": "2022-09-02T18:06:44.575Z"
      },
      {
        "duration": 32,
        "start_time": "2022-09-02T18:06:44.596Z"
      },
      {
        "duration": 7,
        "start_time": "2022-09-02T18:06:44.630Z"
      },
      {
        "duration": 16,
        "start_time": "2022-09-02T18:06:44.639Z"
      },
      {
        "duration": 29,
        "start_time": "2022-09-02T18:06:44.657Z"
      },
      {
        "duration": 3521,
        "start_time": "2022-09-02T18:06:44.688Z"
      },
      {
        "duration": 13,
        "start_time": "2022-09-02T18:06:48.211Z"
      },
      {
        "duration": 12,
        "start_time": "2022-09-02T18:06:48.226Z"
      },
      {
        "duration": 84,
        "start_time": "2022-09-02T18:06:48.240Z"
      },
      {
        "duration": 5,
        "start_time": "2022-09-02T18:06:48.327Z"
      },
      {
        "duration": 4,
        "start_time": "2022-09-02T18:06:48.334Z"
      },
      {
        "duration": 14,
        "start_time": "2022-09-02T18:06:48.340Z"
      },
      {
        "duration": 6,
        "start_time": "2022-09-02T18:06:48.356Z"
      },
      {
        "duration": 40,
        "start_time": "2022-09-02T18:06:48.365Z"
      },
      {
        "duration": 9,
        "start_time": "2022-09-02T18:06:48.407Z"
      },
      {
        "duration": 15,
        "start_time": "2022-09-02T18:06:48.418Z"
      },
      {
        "duration": 1533,
        "start_time": "2022-09-02T18:06:48.435Z"
      },
      {
        "duration": 0,
        "start_time": "2022-09-02T18:06:49.970Z"
      },
      {
        "duration": 0,
        "start_time": "2022-09-02T18:06:49.971Z"
      },
      {
        "duration": 0,
        "start_time": "2022-09-02T18:06:49.973Z"
      },
      {
        "duration": 1,
        "start_time": "2022-09-02T18:06:49.974Z"
      },
      {
        "duration": 0,
        "start_time": "2022-09-02T18:06:49.976Z"
      },
      {
        "duration": 0,
        "start_time": "2022-09-02T18:06:49.978Z"
      },
      {
        "duration": 0,
        "start_time": "2022-09-02T18:06:49.979Z"
      },
      {
        "duration": 0,
        "start_time": "2022-09-02T18:06:49.981Z"
      },
      {
        "duration": 0,
        "start_time": "2022-09-02T18:06:49.982Z"
      },
      {
        "duration": 0,
        "start_time": "2022-09-02T18:06:49.987Z"
      },
      {
        "duration": 0,
        "start_time": "2022-09-02T18:06:49.989Z"
      },
      {
        "duration": 34,
        "start_time": "2022-09-02T18:06:58.830Z"
      },
      {
        "duration": 459,
        "start_time": "2022-09-02T18:17:53.080Z"
      },
      {
        "duration": 524,
        "start_time": "2022-09-02T18:24:22.252Z"
      },
      {
        "duration": 690,
        "start_time": "2022-09-02T18:28:44.116Z"
      },
      {
        "duration": 655,
        "start_time": "2022-09-02T18:29:00.264Z"
      },
      {
        "duration": 466,
        "start_time": "2022-09-02T18:29:21.508Z"
      },
      {
        "duration": 502,
        "start_time": "2022-09-02T18:29:40.232Z"
      },
      {
        "duration": 587,
        "start_time": "2022-09-02T18:30:15.306Z"
      },
      {
        "duration": 456,
        "start_time": "2022-09-02T18:30:38.946Z"
      },
      {
        "duration": 119,
        "start_time": "2022-09-02T18:35:36.092Z"
      },
      {
        "duration": 1721,
        "start_time": "2022-09-03T06:09:19.166Z"
      },
      {
        "duration": 20,
        "start_time": "2022-09-03T06:09:20.889Z"
      },
      {
        "duration": 82,
        "start_time": "2022-09-03T06:09:20.911Z"
      },
      {
        "duration": 2161,
        "start_time": "2022-09-03T06:09:20.996Z"
      },
      {
        "duration": 10,
        "start_time": "2022-09-03T06:09:23.160Z"
      },
      {
        "duration": 3,
        "start_time": "2022-09-03T06:09:23.172Z"
      },
      {
        "duration": 11,
        "start_time": "2022-09-03T06:09:23.177Z"
      },
      {
        "duration": 8,
        "start_time": "2022-09-03T06:09:23.189Z"
      },
      {
        "duration": 7,
        "start_time": "2022-09-03T06:09:23.199Z"
      },
      {
        "duration": 7,
        "start_time": "2022-09-03T06:09:23.208Z"
      },
      {
        "duration": 3,
        "start_time": "2022-09-03T06:09:23.216Z"
      },
      {
        "duration": 931,
        "start_time": "2022-09-03T06:09:23.258Z"
      },
      {
        "duration": 5,
        "start_time": "2022-09-03T06:09:24.191Z"
      },
      {
        "duration": 7,
        "start_time": "2022-09-03T06:09:24.198Z"
      },
      {
        "duration": 7,
        "start_time": "2022-09-03T06:09:24.207Z"
      },
      {
        "duration": 4,
        "start_time": "2022-09-03T06:09:24.216Z"
      },
      {
        "duration": 1046,
        "start_time": "2022-09-03T06:09:24.222Z"
      },
      {
        "duration": 7,
        "start_time": "2022-09-03T06:09:25.270Z"
      },
      {
        "duration": 20,
        "start_time": "2022-09-03T06:09:25.280Z"
      },
      {
        "duration": 23,
        "start_time": "2022-09-03T06:09:25.302Z"
      },
      {
        "duration": 8,
        "start_time": "2022-09-03T06:09:25.328Z"
      },
      {
        "duration": 18,
        "start_time": "2022-09-03T06:09:25.338Z"
      },
      {
        "duration": 3277,
        "start_time": "2022-09-03T06:09:25.358Z"
      },
      {
        "duration": 8,
        "start_time": "2022-09-03T06:09:28.637Z"
      },
      {
        "duration": 15,
        "start_time": "2022-09-03T06:09:28.647Z"
      },
      {
        "duration": 41,
        "start_time": "2022-09-03T06:09:28.664Z"
      },
      {
        "duration": 4,
        "start_time": "2022-09-03T06:09:28.707Z"
      },
      {
        "duration": 8,
        "start_time": "2022-09-03T06:09:28.714Z"
      },
      {
        "duration": 11,
        "start_time": "2022-09-03T06:09:28.723Z"
      },
      {
        "duration": 21,
        "start_time": "2022-09-03T06:09:28.736Z"
      },
      {
        "duration": 12,
        "start_time": "2022-09-03T06:09:28.759Z"
      },
      {
        "duration": 5,
        "start_time": "2022-09-03T06:09:28.773Z"
      },
      {
        "duration": 15,
        "start_time": "2022-09-03T06:09:28.780Z"
      },
      {
        "duration": 2402,
        "start_time": "2022-09-03T06:09:28.797Z"
      },
      {
        "duration": 0,
        "start_time": "2022-09-03T06:09:31.202Z"
      },
      {
        "duration": 0,
        "start_time": "2022-09-03T06:09:31.203Z"
      },
      {
        "duration": 0,
        "start_time": "2022-09-03T06:09:31.204Z"
      },
      {
        "duration": 0,
        "start_time": "2022-09-03T06:09:31.206Z"
      },
      {
        "duration": 0,
        "start_time": "2022-09-03T06:09:31.207Z"
      },
      {
        "duration": 0,
        "start_time": "2022-09-03T06:09:31.208Z"
      },
      {
        "duration": 0,
        "start_time": "2022-09-03T06:09:31.210Z"
      },
      {
        "duration": 0,
        "start_time": "2022-09-03T06:09:31.211Z"
      },
      {
        "duration": 0,
        "start_time": "2022-09-03T06:09:31.212Z"
      },
      {
        "duration": 0,
        "start_time": "2022-09-03T06:09:31.213Z"
      },
      {
        "duration": 0,
        "start_time": "2022-09-03T06:09:31.214Z"
      },
      {
        "duration": 0,
        "start_time": "2022-09-03T06:09:31.216Z"
      },
      {
        "duration": 486,
        "start_time": "2022-09-03T06:10:16.318Z"
      },
      {
        "duration": 118,
        "start_time": "2022-09-03T06:14:02.326Z"
      },
      {
        "duration": 496,
        "start_time": "2022-09-03T06:14:41.876Z"
      },
      {
        "duration": 366,
        "start_time": "2022-09-03T06:15:33.091Z"
      },
      {
        "duration": 375,
        "start_time": "2022-09-03T06:16:20.712Z"
      },
      {
        "duration": 285,
        "start_time": "2022-09-03T06:16:26.679Z"
      },
      {
        "duration": 265,
        "start_time": "2022-09-03T06:16:33.760Z"
      },
      {
        "duration": 201,
        "start_time": "2022-09-03T06:37:37.129Z"
      },
      {
        "duration": 828,
        "start_time": "2022-09-03T07:21:34.659Z"
      },
      {
        "duration": 356,
        "start_time": "2022-09-03T07:22:29.948Z"
      },
      {
        "duration": 248,
        "start_time": "2022-09-03T07:23:44.686Z"
      },
      {
        "duration": 342,
        "start_time": "2022-09-03T07:24:01.323Z"
      },
      {
        "duration": 186,
        "start_time": "2022-09-03T07:24:09.009Z"
      },
      {
        "duration": 154,
        "start_time": "2022-09-03T07:25:33.047Z"
      },
      {
        "duration": 232,
        "start_time": "2022-09-03T07:26:09.178Z"
      },
      {
        "duration": 64,
        "start_time": "2022-09-03T07:26:39.149Z"
      },
      {
        "duration": 262,
        "start_time": "2022-09-03T07:26:45.358Z"
      },
      {
        "duration": 8,
        "start_time": "2022-09-03T07:28:00.917Z"
      },
      {
        "duration": 200,
        "start_time": "2022-09-03T07:29:11.009Z"
      },
      {
        "duration": 213,
        "start_time": "2022-09-03T07:29:24.686Z"
      },
      {
        "duration": 310,
        "start_time": "2022-09-03T07:32:58.641Z"
      },
      {
        "duration": 217,
        "start_time": "2022-09-03T07:35:40.608Z"
      },
      {
        "duration": 1217,
        "start_time": "2022-09-03T07:36:17.141Z"
      },
      {
        "duration": 18,
        "start_time": "2022-09-03T07:36:18.360Z"
      },
      {
        "duration": 88,
        "start_time": "2022-09-03T07:36:18.380Z"
      },
      {
        "duration": 1943,
        "start_time": "2022-09-03T07:36:18.470Z"
      },
      {
        "duration": 9,
        "start_time": "2022-09-03T07:36:20.414Z"
      },
      {
        "duration": 3,
        "start_time": "2022-09-03T07:36:20.425Z"
      },
      {
        "duration": 11,
        "start_time": "2022-09-03T07:36:20.430Z"
      },
      {
        "duration": 17,
        "start_time": "2022-09-03T07:36:20.443Z"
      },
      {
        "duration": 8,
        "start_time": "2022-09-03T07:36:20.461Z"
      },
      {
        "duration": 15,
        "start_time": "2022-09-03T07:36:20.472Z"
      },
      {
        "duration": 5,
        "start_time": "2022-09-03T07:36:20.489Z"
      },
      {
        "duration": 896,
        "start_time": "2022-09-03T07:36:20.496Z"
      },
      {
        "duration": 4,
        "start_time": "2022-09-03T07:36:21.394Z"
      },
      {
        "duration": 10,
        "start_time": "2022-09-03T07:36:21.400Z"
      },
      {
        "duration": 13,
        "start_time": "2022-09-03T07:36:21.412Z"
      },
      {
        "duration": 5,
        "start_time": "2022-09-03T07:36:21.427Z"
      },
      {
        "duration": 973,
        "start_time": "2022-09-03T07:36:21.434Z"
      },
      {
        "duration": 4,
        "start_time": "2022-09-03T07:36:22.409Z"
      },
      {
        "duration": 13,
        "start_time": "2022-09-03T07:36:22.415Z"
      },
      {
        "duration": 25,
        "start_time": "2022-09-03T07:36:22.430Z"
      },
      {
        "duration": 21,
        "start_time": "2022-09-03T07:36:22.457Z"
      },
      {
        "duration": 10,
        "start_time": "2022-09-03T07:36:22.480Z"
      },
      {
        "duration": 3196,
        "start_time": "2022-09-03T07:36:22.492Z"
      },
      {
        "duration": 11,
        "start_time": "2022-09-03T07:36:25.690Z"
      },
      {
        "duration": 8,
        "start_time": "2022-09-03T07:36:25.704Z"
      },
      {
        "duration": 69,
        "start_time": "2022-09-03T07:36:25.714Z"
      },
      {
        "duration": 4,
        "start_time": "2022-09-03T07:36:25.785Z"
      },
      {
        "duration": 8,
        "start_time": "2022-09-03T07:36:25.793Z"
      },
      {
        "duration": 19,
        "start_time": "2022-09-03T07:36:25.802Z"
      },
      {
        "duration": 4,
        "start_time": "2022-09-03T07:36:25.823Z"
      },
      {
        "duration": 28,
        "start_time": "2022-09-03T07:36:25.829Z"
      },
      {
        "duration": 8,
        "start_time": "2022-09-03T07:36:25.859Z"
      },
      {
        "duration": 11,
        "start_time": "2022-09-03T07:36:25.869Z"
      },
      {
        "duration": 1090,
        "start_time": "2022-09-03T07:36:25.882Z"
      },
      {
        "duration": 0,
        "start_time": "2022-09-03T07:36:26.974Z"
      },
      {
        "duration": 0,
        "start_time": "2022-09-03T07:36:26.976Z"
      },
      {
        "duration": 0,
        "start_time": "2022-09-03T07:36:26.977Z"
      },
      {
        "duration": 1,
        "start_time": "2022-09-03T07:36:26.978Z"
      },
      {
        "duration": 0,
        "start_time": "2022-09-03T07:36:26.980Z"
      },
      {
        "duration": 0,
        "start_time": "2022-09-03T07:36:26.981Z"
      },
      {
        "duration": 0,
        "start_time": "2022-09-03T07:36:26.982Z"
      },
      {
        "duration": 0,
        "start_time": "2022-09-03T07:36:26.984Z"
      },
      {
        "duration": 0,
        "start_time": "2022-09-03T07:36:26.985Z"
      },
      {
        "duration": 0,
        "start_time": "2022-09-03T07:36:26.987Z"
      },
      {
        "duration": 0,
        "start_time": "2022-09-03T07:36:26.988Z"
      },
      {
        "duration": 0,
        "start_time": "2022-09-03T07:36:26.989Z"
      },
      {
        "duration": 1040,
        "start_time": "2022-09-03T07:37:08.616Z"
      },
      {
        "duration": 35,
        "start_time": "2022-09-03T07:37:27.731Z"
      },
      {
        "duration": 7,
        "start_time": "2022-09-03T07:38:05.874Z"
      },
      {
        "duration": 222,
        "start_time": "2022-09-03T07:38:16.222Z"
      },
      {
        "duration": 209,
        "start_time": "2022-09-03T07:42:54.515Z"
      },
      {
        "duration": 241,
        "start_time": "2022-09-03T07:43:05.422Z"
      },
      {
        "duration": 189,
        "start_time": "2022-09-03T07:48:22.143Z"
      },
      {
        "duration": 220,
        "start_time": "2022-09-03T07:48:38.733Z"
      },
      {
        "duration": 212,
        "start_time": "2022-09-03T07:48:46.193Z"
      },
      {
        "duration": 201,
        "start_time": "2022-09-03T07:49:37.790Z"
      },
      {
        "duration": 230,
        "start_time": "2022-09-03T07:53:17.568Z"
      },
      {
        "duration": 384,
        "start_time": "2022-09-03T07:56:52.795Z"
      },
      {
        "duration": 211,
        "start_time": "2022-09-03T07:57:16.264Z"
      },
      {
        "duration": 225,
        "start_time": "2022-09-03T07:57:36.357Z"
      },
      {
        "duration": 61,
        "start_time": "2022-09-03T07:58:50.134Z"
      },
      {
        "duration": 239,
        "start_time": "2022-09-03T07:59:07.361Z"
      },
      {
        "duration": 223,
        "start_time": "2022-09-03T08:08:17.045Z"
      },
      {
        "duration": 205,
        "start_time": "2022-09-03T08:08:27.226Z"
      },
      {
        "duration": 329,
        "start_time": "2022-09-03T08:08:39.752Z"
      },
      {
        "duration": 228,
        "start_time": "2022-09-03T08:12:55.002Z"
      },
      {
        "duration": 212,
        "start_time": "2022-09-03T08:13:02.576Z"
      },
      {
        "duration": 234,
        "start_time": "2022-09-03T08:13:11.378Z"
      },
      {
        "duration": 213,
        "start_time": "2022-09-03T08:13:36.873Z"
      },
      {
        "duration": 229,
        "start_time": "2022-09-03T08:13:51.774Z"
      },
      {
        "duration": 313,
        "start_time": "2022-09-03T08:14:16.362Z"
      },
      {
        "duration": 228,
        "start_time": "2022-09-03T08:15:02.719Z"
      },
      {
        "duration": 203,
        "start_time": "2022-09-03T08:15:17.719Z"
      },
      {
        "duration": 202,
        "start_time": "2022-09-03T08:15:30.214Z"
      },
      {
        "duration": 199,
        "start_time": "2022-09-03T08:15:37.003Z"
      },
      {
        "duration": 1005,
        "start_time": "2022-09-03T08:23:19.127Z"
      },
      {
        "duration": 396,
        "start_time": "2022-09-03T08:23:43.258Z"
      },
      {
        "duration": 189,
        "start_time": "2022-09-03T08:23:54.209Z"
      },
      {
        "duration": 246,
        "start_time": "2022-09-03T08:24:15.522Z"
      },
      {
        "duration": 196,
        "start_time": "2022-09-03T08:24:20.809Z"
      },
      {
        "duration": 225,
        "start_time": "2022-09-03T08:34:26.367Z"
      },
      {
        "duration": 197,
        "start_time": "2022-09-03T08:34:35.780Z"
      },
      {
        "duration": 196,
        "start_time": "2022-09-03T08:35:02.783Z"
      },
      {
        "duration": 202,
        "start_time": "2022-09-03T08:41:26.491Z"
      },
      {
        "duration": 335,
        "start_time": "2022-09-03T08:42:01.370Z"
      },
      {
        "duration": 209,
        "start_time": "2022-09-03T08:49:59.796Z"
      },
      {
        "duration": 244,
        "start_time": "2022-09-03T08:53:18.717Z"
      },
      {
        "duration": 227,
        "start_time": "2022-09-03T08:53:36.348Z"
      },
      {
        "duration": 320,
        "start_time": "2022-09-03T09:06:39.554Z"
      },
      {
        "duration": 18,
        "start_time": "2022-09-03T09:08:15.684Z"
      },
      {
        "duration": 333,
        "start_time": "2022-09-03T09:08:34.628Z"
      },
      {
        "duration": 269,
        "start_time": "2022-09-03T09:08:56.341Z"
      },
      {
        "duration": 233,
        "start_time": "2022-09-03T09:23:19.190Z"
      },
      {
        "duration": 952,
        "start_time": "2022-09-03T09:28:50.373Z"
      },
      {
        "duration": 16,
        "start_time": "2022-09-03T09:29:05.785Z"
      },
      {
        "duration": 224,
        "start_time": "2022-09-03T09:29:15.066Z"
      },
      {
        "duration": 64,
        "start_time": "2022-09-03T09:48:46.881Z"
      },
      {
        "duration": 252,
        "start_time": "2022-09-03T09:49:17.034Z"
      },
      {
        "duration": 200,
        "start_time": "2022-09-03T09:49:56.681Z"
      },
      {
        "duration": 446,
        "start_time": "2022-09-03T09:50:13.309Z"
      },
      {
        "duration": 1885,
        "start_time": "2022-09-03T09:50:26.049Z"
      },
      {
        "duration": 331,
        "start_time": "2022-09-03T09:51:54.517Z"
      },
      {
        "duration": 1249,
        "start_time": "2022-09-03T09:55:52.334Z"
      },
      {
        "duration": 14,
        "start_time": "2022-09-03T09:55:53.585Z"
      },
      {
        "duration": 76,
        "start_time": "2022-09-03T09:55:53.601Z"
      },
      {
        "duration": 2209,
        "start_time": "2022-09-03T09:55:53.684Z"
      },
      {
        "duration": 8,
        "start_time": "2022-09-03T09:55:55.895Z"
      },
      {
        "duration": 8,
        "start_time": "2022-09-03T09:55:55.904Z"
      },
      {
        "duration": 26,
        "start_time": "2022-09-03T09:55:55.914Z"
      },
      {
        "duration": 22,
        "start_time": "2022-09-03T09:55:55.941Z"
      },
      {
        "duration": 40,
        "start_time": "2022-09-03T09:55:55.964Z"
      },
      {
        "duration": 18,
        "start_time": "2022-09-03T09:55:56.006Z"
      },
      {
        "duration": 4,
        "start_time": "2022-09-03T09:55:56.025Z"
      },
      {
        "duration": 888,
        "start_time": "2022-09-03T09:55:56.030Z"
      },
      {
        "duration": 4,
        "start_time": "2022-09-03T09:55:56.920Z"
      },
      {
        "duration": 9,
        "start_time": "2022-09-03T09:55:56.926Z"
      },
      {
        "duration": 22,
        "start_time": "2022-09-03T09:55:56.937Z"
      },
      {
        "duration": 15,
        "start_time": "2022-09-03T09:55:56.961Z"
      },
      {
        "duration": 1002,
        "start_time": "2022-09-03T09:55:56.982Z"
      },
      {
        "duration": 5,
        "start_time": "2022-09-03T09:55:57.989Z"
      },
      {
        "duration": 15,
        "start_time": "2022-09-03T09:55:57.995Z"
      },
      {
        "duration": 5,
        "start_time": "2022-09-03T09:55:58.011Z"
      },
      {
        "duration": 5,
        "start_time": "2022-09-03T09:55:58.018Z"
      },
      {
        "duration": 8,
        "start_time": "2022-09-03T09:55:58.024Z"
      },
      {
        "duration": 3308,
        "start_time": "2022-09-03T09:55:58.033Z"
      },
      {
        "duration": 24,
        "start_time": "2022-09-03T09:56:01.343Z"
      },
      {
        "duration": 22,
        "start_time": "2022-09-03T09:56:01.368Z"
      },
      {
        "duration": 73,
        "start_time": "2022-09-03T09:56:01.391Z"
      },
      {
        "duration": 11,
        "start_time": "2022-09-03T09:56:01.472Z"
      },
      {
        "duration": 5,
        "start_time": "2022-09-03T09:56:01.487Z"
      },
      {
        "duration": 11,
        "start_time": "2022-09-03T09:56:01.494Z"
      },
      {
        "duration": 14,
        "start_time": "2022-09-03T09:56:01.506Z"
      },
      {
        "duration": 18,
        "start_time": "2022-09-03T09:56:01.522Z"
      },
      {
        "duration": 6,
        "start_time": "2022-09-03T09:56:01.542Z"
      },
      {
        "duration": 42,
        "start_time": "2022-09-03T09:56:01.550Z"
      },
      {
        "duration": 1396,
        "start_time": "2022-09-03T09:56:01.594Z"
      },
      {
        "duration": 0,
        "start_time": "2022-09-03T09:56:02.991Z"
      },
      {
        "duration": 0,
        "start_time": "2022-09-03T09:56:02.993Z"
      },
      {
        "duration": 0,
        "start_time": "2022-09-03T09:56:02.994Z"
      },
      {
        "duration": 0,
        "start_time": "2022-09-03T09:56:02.995Z"
      },
      {
        "duration": 0,
        "start_time": "2022-09-03T09:56:02.996Z"
      },
      {
        "duration": 0,
        "start_time": "2022-09-03T09:56:02.997Z"
      },
      {
        "duration": 0,
        "start_time": "2022-09-03T09:56:02.998Z"
      },
      {
        "duration": 0,
        "start_time": "2022-09-03T09:56:02.999Z"
      },
      {
        "duration": 0,
        "start_time": "2022-09-03T09:56:03.000Z"
      },
      {
        "duration": 0,
        "start_time": "2022-09-03T09:56:03.001Z"
      },
      {
        "duration": 0,
        "start_time": "2022-09-03T09:56:03.002Z"
      },
      {
        "duration": 0,
        "start_time": "2022-09-03T09:56:03.003Z"
      },
      {
        "duration": 0,
        "start_time": "2022-09-03T09:56:03.004Z"
      },
      {
        "duration": 0,
        "start_time": "2022-09-03T09:56:03.005Z"
      },
      {
        "duration": 0,
        "start_time": "2022-09-03T09:56:03.006Z"
      },
      {
        "duration": 0,
        "start_time": "2022-09-03T09:56:03.007Z"
      },
      {
        "duration": 0,
        "start_time": "2022-09-03T09:56:03.008Z"
      },
      {
        "duration": 0,
        "start_time": "2022-09-03T09:56:03.009Z"
      },
      {
        "duration": 0,
        "start_time": "2022-09-03T09:56:03.010Z"
      },
      {
        "duration": 0,
        "start_time": "2022-09-03T09:56:03.011Z"
      },
      {
        "duration": 0,
        "start_time": "2022-09-03T09:56:03.012Z"
      },
      {
        "duration": 0,
        "start_time": "2022-09-03T09:56:03.013Z"
      },
      {
        "duration": 0,
        "start_time": "2022-09-03T09:56:03.014Z"
      },
      {
        "duration": 0,
        "start_time": "2022-09-03T09:56:03.016Z"
      },
      {
        "duration": 0,
        "start_time": "2022-09-03T09:56:03.017Z"
      },
      {
        "duration": 303,
        "start_time": "2022-09-03T09:56:12.702Z"
      },
      {
        "duration": 458,
        "start_time": "2022-09-03T10:06:12.566Z"
      },
      {
        "duration": 284,
        "start_time": "2022-09-03T10:06:36.150Z"
      },
      {
        "duration": 356,
        "start_time": "2022-09-03T10:07:22.639Z"
      },
      {
        "duration": 414,
        "start_time": "2022-09-03T10:08:01.975Z"
      },
      {
        "duration": 298,
        "start_time": "2022-09-03T10:08:43.569Z"
      },
      {
        "duration": 300,
        "start_time": "2022-09-03T10:08:57.577Z"
      },
      {
        "duration": 64,
        "start_time": "2022-09-03T10:43:28.618Z"
      },
      {
        "duration": 16922,
        "start_time": "2022-09-03T10:43:51.157Z"
      },
      {
        "duration": 15,
        "start_time": "2022-09-03T11:16:23.308Z"
      },
      {
        "duration": 1321,
        "start_time": "2022-09-03T11:16:36.928Z"
      },
      {
        "duration": 20,
        "start_time": "2022-09-03T11:16:38.252Z"
      },
      {
        "duration": 66,
        "start_time": "2022-09-03T11:16:38.277Z"
      },
      {
        "duration": 2147,
        "start_time": "2022-09-03T11:16:38.346Z"
      },
      {
        "duration": 10,
        "start_time": "2022-09-03T11:16:40.495Z"
      },
      {
        "duration": 3,
        "start_time": "2022-09-03T11:16:40.508Z"
      },
      {
        "duration": 12,
        "start_time": "2022-09-03T11:16:40.513Z"
      },
      {
        "duration": 9,
        "start_time": "2022-09-03T11:16:40.527Z"
      },
      {
        "duration": 9,
        "start_time": "2022-09-03T11:16:40.538Z"
      },
      {
        "duration": 15,
        "start_time": "2022-09-03T11:16:40.550Z"
      },
      {
        "duration": 14,
        "start_time": "2022-09-03T11:16:40.568Z"
      },
      {
        "duration": 849,
        "start_time": "2022-09-03T11:16:40.583Z"
      },
      {
        "duration": 5,
        "start_time": "2022-09-03T11:16:41.434Z"
      },
      {
        "duration": 18,
        "start_time": "2022-09-03T11:16:41.440Z"
      },
      {
        "duration": 19,
        "start_time": "2022-09-03T11:16:41.460Z"
      },
      {
        "duration": 4,
        "start_time": "2022-09-03T11:16:41.481Z"
      },
      {
        "duration": 962,
        "start_time": "2022-09-03T11:16:41.486Z"
      },
      {
        "duration": 15,
        "start_time": "2022-09-03T11:16:42.449Z"
      },
      {
        "duration": 23,
        "start_time": "2022-09-03T11:16:42.466Z"
      },
      {
        "duration": 6,
        "start_time": "2022-09-03T11:16:42.491Z"
      },
      {
        "duration": 6,
        "start_time": "2022-09-03T11:16:42.499Z"
      },
      {
        "duration": 8,
        "start_time": "2022-09-03T11:16:42.507Z"
      },
      {
        "duration": 3466,
        "start_time": "2022-09-03T11:16:42.517Z"
      },
      {
        "duration": 9,
        "start_time": "2022-09-03T11:16:45.985Z"
      },
      {
        "duration": 6,
        "start_time": "2022-09-03T11:16:45.996Z"
      },
      {
        "duration": 73,
        "start_time": "2022-09-03T11:16:46.004Z"
      },
      {
        "duration": 5,
        "start_time": "2022-09-03T11:16:46.079Z"
      },
      {
        "duration": 3,
        "start_time": "2022-09-03T11:16:46.089Z"
      },
      {
        "duration": 10,
        "start_time": "2022-09-03T11:16:46.093Z"
      },
      {
        "duration": 6,
        "start_time": "2022-09-03T11:16:46.105Z"
      },
      {
        "duration": 17,
        "start_time": "2022-09-03T11:16:46.113Z"
      },
      {
        "duration": 6,
        "start_time": "2022-09-03T11:16:46.131Z"
      },
      {
        "duration": 26,
        "start_time": "2022-09-03T11:16:46.139Z"
      },
      {
        "duration": 1017,
        "start_time": "2022-09-03T11:16:46.166Z"
      },
      {
        "duration": 0,
        "start_time": "2022-09-03T11:16:47.184Z"
      },
      {
        "duration": 0,
        "start_time": "2022-09-03T11:16:47.186Z"
      },
      {
        "duration": 0,
        "start_time": "2022-09-03T11:16:47.187Z"
      },
      {
        "duration": 0,
        "start_time": "2022-09-03T11:16:47.188Z"
      },
      {
        "duration": 0,
        "start_time": "2022-09-03T11:16:47.189Z"
      },
      {
        "duration": 0,
        "start_time": "2022-09-03T11:16:47.190Z"
      },
      {
        "duration": 0,
        "start_time": "2022-09-03T11:16:47.191Z"
      },
      {
        "duration": 0,
        "start_time": "2022-09-03T11:16:47.192Z"
      },
      {
        "duration": 0,
        "start_time": "2022-09-03T11:16:47.194Z"
      },
      {
        "duration": 0,
        "start_time": "2022-09-03T11:16:47.195Z"
      },
      {
        "duration": 0,
        "start_time": "2022-09-03T11:16:47.196Z"
      },
      {
        "duration": 0,
        "start_time": "2022-09-03T11:16:47.198Z"
      },
      {
        "duration": 0,
        "start_time": "2022-09-03T11:16:47.199Z"
      },
      {
        "duration": 0,
        "start_time": "2022-09-03T11:16:47.200Z"
      },
      {
        "duration": 0,
        "start_time": "2022-09-03T11:16:47.201Z"
      },
      {
        "duration": 0,
        "start_time": "2022-09-03T11:16:47.202Z"
      },
      {
        "duration": 0,
        "start_time": "2022-09-03T11:16:47.203Z"
      },
      {
        "duration": 0,
        "start_time": "2022-09-03T11:16:47.205Z"
      },
      {
        "duration": 0,
        "start_time": "2022-09-03T11:16:47.206Z"
      },
      {
        "duration": 0,
        "start_time": "2022-09-03T11:16:47.207Z"
      },
      {
        "duration": 0,
        "start_time": "2022-09-03T11:16:47.208Z"
      },
      {
        "duration": 0,
        "start_time": "2022-09-03T11:16:47.209Z"
      },
      {
        "duration": 0,
        "start_time": "2022-09-03T11:16:47.211Z"
      },
      {
        "duration": 0,
        "start_time": "2022-09-03T11:16:47.212Z"
      },
      {
        "duration": 0,
        "start_time": "2022-09-03T11:16:47.213Z"
      },
      {
        "duration": 0,
        "start_time": "2022-09-03T11:16:47.215Z"
      },
      {
        "duration": 14,
        "start_time": "2022-09-03T11:16:54.731Z"
      },
      {
        "duration": 886,
        "start_time": "2022-09-03T11:17:09.505Z"
      },
      {
        "duration": 21,
        "start_time": "2022-09-03T11:17:16.857Z"
      },
      {
        "duration": 18,
        "start_time": "2022-09-03T11:17:26.052Z"
      },
      {
        "duration": 15,
        "start_time": "2022-09-03T11:17:32.332Z"
      },
      {
        "duration": 14,
        "start_time": "2022-09-03T11:17:45.297Z"
      },
      {
        "duration": 14,
        "start_time": "2022-09-03T11:18:54.459Z"
      },
      {
        "duration": 16,
        "start_time": "2022-09-03T11:19:45.021Z"
      },
      {
        "duration": 52,
        "start_time": "2022-09-03T11:22:52.539Z"
      },
      {
        "duration": 1498,
        "start_time": "2022-09-03T11:23:01.216Z"
      },
      {
        "duration": 48,
        "start_time": "2022-09-03T11:25:40.974Z"
      },
      {
        "duration": 1485,
        "start_time": "2022-09-03T11:25:50.192Z"
      },
      {
        "duration": 1019,
        "start_time": "2022-09-03T11:26:05.195Z"
      },
      {
        "duration": 836,
        "start_time": "2022-09-03T11:26:09.470Z"
      },
      {
        "duration": 47,
        "start_time": "2022-09-03T11:28:07.496Z"
      },
      {
        "duration": 8,
        "start_time": "2022-09-03T11:33:40.992Z"
      },
      {
        "duration": 8,
        "start_time": "2022-09-03T11:34:18.529Z"
      },
      {
        "duration": 1765,
        "start_time": "2022-09-03T11:34:25.247Z"
      },
      {
        "duration": 15,
        "start_time": "2022-09-03T11:34:27.014Z"
      },
      {
        "duration": 78,
        "start_time": "2022-09-03T11:34:27.030Z"
      },
      {
        "duration": 2266,
        "start_time": "2022-09-03T11:34:27.110Z"
      },
      {
        "duration": 12,
        "start_time": "2022-09-03T11:34:29.384Z"
      },
      {
        "duration": 9,
        "start_time": "2022-09-03T11:34:29.397Z"
      },
      {
        "duration": 27,
        "start_time": "2022-09-03T11:34:29.407Z"
      },
      {
        "duration": 12,
        "start_time": "2022-09-03T11:34:29.435Z"
      },
      {
        "duration": 42,
        "start_time": "2022-09-03T11:34:29.449Z"
      },
      {
        "duration": 17,
        "start_time": "2022-09-03T11:34:29.493Z"
      },
      {
        "duration": 30,
        "start_time": "2022-09-03T11:34:29.511Z"
      },
      {
        "duration": 1006,
        "start_time": "2022-09-03T11:34:29.542Z"
      },
      {
        "duration": 8,
        "start_time": "2022-09-03T11:34:30.550Z"
      },
      {
        "duration": 45,
        "start_time": "2022-09-03T11:34:30.561Z"
      },
      {
        "duration": 33,
        "start_time": "2022-09-03T11:34:30.608Z"
      },
      {
        "duration": 40,
        "start_time": "2022-09-03T11:34:30.643Z"
      },
      {
        "duration": 1117,
        "start_time": "2022-09-03T11:34:30.686Z"
      },
      {
        "duration": 5,
        "start_time": "2022-09-03T11:34:31.804Z"
      },
      {
        "duration": 11,
        "start_time": "2022-09-03T11:34:31.811Z"
      },
      {
        "duration": 5,
        "start_time": "2022-09-03T11:34:31.824Z"
      },
      {
        "duration": 7,
        "start_time": "2022-09-03T11:34:31.830Z"
      },
      {
        "duration": 8,
        "start_time": "2022-09-03T11:34:31.858Z"
      },
      {
        "duration": 3728,
        "start_time": "2022-09-03T11:34:31.867Z"
      },
      {
        "duration": 14,
        "start_time": "2022-09-03T11:34:35.599Z"
      },
      {
        "duration": 10,
        "start_time": "2022-09-03T11:34:35.615Z"
      },
      {
        "duration": 59,
        "start_time": "2022-09-03T11:34:35.627Z"
      },
      {
        "duration": 14,
        "start_time": "2022-09-03T11:34:35.689Z"
      },
      {
        "duration": 3,
        "start_time": "2022-09-03T11:34:35.707Z"
      },
      {
        "duration": 10,
        "start_time": "2022-09-03T11:34:35.713Z"
      },
      {
        "duration": 21,
        "start_time": "2022-09-03T11:34:35.724Z"
      },
      {
        "duration": 59,
        "start_time": "2022-09-03T11:34:35.746Z"
      },
      {
        "duration": 9,
        "start_time": "2022-09-03T11:34:35.809Z"
      },
      {
        "duration": 12,
        "start_time": "2022-09-03T11:34:35.821Z"
      },
      {
        "duration": 1309,
        "start_time": "2022-09-03T11:34:35.835Z"
      },
      {
        "duration": 0,
        "start_time": "2022-09-03T11:34:37.146Z"
      },
      {
        "duration": 0,
        "start_time": "2022-09-03T11:34:37.147Z"
      },
      {
        "duration": 0,
        "start_time": "2022-09-03T11:34:37.148Z"
      },
      {
        "duration": 0,
        "start_time": "2022-09-03T11:34:37.149Z"
      },
      {
        "duration": 0,
        "start_time": "2022-09-03T11:34:37.150Z"
      },
      {
        "duration": 0,
        "start_time": "2022-09-03T11:34:37.151Z"
      },
      {
        "duration": 0,
        "start_time": "2022-09-03T11:34:37.152Z"
      },
      {
        "duration": 0,
        "start_time": "2022-09-03T11:34:37.154Z"
      },
      {
        "duration": 0,
        "start_time": "2022-09-03T11:34:37.155Z"
      },
      {
        "duration": 0,
        "start_time": "2022-09-03T11:34:37.156Z"
      },
      {
        "duration": 1,
        "start_time": "2022-09-03T11:34:37.160Z"
      },
      {
        "duration": 0,
        "start_time": "2022-09-03T11:34:37.161Z"
      },
      {
        "duration": 0,
        "start_time": "2022-09-03T11:34:37.162Z"
      },
      {
        "duration": 0,
        "start_time": "2022-09-03T11:34:37.162Z"
      },
      {
        "duration": 0,
        "start_time": "2022-09-03T11:34:37.163Z"
      },
      {
        "duration": 0,
        "start_time": "2022-09-03T11:34:37.167Z"
      },
      {
        "duration": 0,
        "start_time": "2022-09-03T11:34:37.169Z"
      },
      {
        "duration": 1,
        "start_time": "2022-09-03T11:34:37.170Z"
      },
      {
        "duration": 0,
        "start_time": "2022-09-03T11:34:37.172Z"
      },
      {
        "duration": 0,
        "start_time": "2022-09-03T11:34:37.173Z"
      },
      {
        "duration": 0,
        "start_time": "2022-09-03T11:34:37.175Z"
      },
      {
        "duration": 0,
        "start_time": "2022-09-03T11:34:37.177Z"
      },
      {
        "duration": 0,
        "start_time": "2022-09-03T11:34:37.178Z"
      },
      {
        "duration": 0,
        "start_time": "2022-09-03T11:34:37.179Z"
      },
      {
        "duration": 0,
        "start_time": "2022-09-03T11:34:37.181Z"
      },
      {
        "duration": 0,
        "start_time": "2022-09-03T11:34:37.182Z"
      },
      {
        "duration": 59,
        "start_time": "2022-09-03T11:58:55.195Z"
      },
      {
        "duration": 1696,
        "start_time": "2022-09-03T11:59:01.952Z"
      },
      {
        "duration": 22,
        "start_time": "2022-09-03T11:59:03.650Z"
      },
      {
        "duration": 71,
        "start_time": "2022-09-03T11:59:03.680Z"
      },
      {
        "duration": 2448,
        "start_time": "2022-09-03T11:59:03.753Z"
      },
      {
        "duration": 10,
        "start_time": "2022-09-03T11:59:06.203Z"
      },
      {
        "duration": 3,
        "start_time": "2022-09-03T11:59:06.215Z"
      },
      {
        "duration": 11,
        "start_time": "2022-09-03T11:59:06.219Z"
      },
      {
        "duration": 8,
        "start_time": "2022-09-03T11:59:06.232Z"
      },
      {
        "duration": 36,
        "start_time": "2022-09-03T11:59:06.242Z"
      },
      {
        "duration": 9,
        "start_time": "2022-09-03T11:59:06.287Z"
      },
      {
        "duration": 4,
        "start_time": "2022-09-03T11:59:06.298Z"
      },
      {
        "duration": 973,
        "start_time": "2022-09-03T11:59:06.304Z"
      },
      {
        "duration": 7,
        "start_time": "2022-09-03T11:59:07.282Z"
      },
      {
        "duration": 24,
        "start_time": "2022-09-03T11:59:07.290Z"
      },
      {
        "duration": 22,
        "start_time": "2022-09-03T11:59:07.315Z"
      },
      {
        "duration": 11,
        "start_time": "2022-09-03T11:59:07.339Z"
      },
      {
        "duration": 1174,
        "start_time": "2022-09-03T11:59:07.351Z"
      },
      {
        "duration": 5,
        "start_time": "2022-09-03T11:59:08.527Z"
      },
      {
        "duration": 27,
        "start_time": "2022-09-03T11:59:08.534Z"
      },
      {
        "duration": 21,
        "start_time": "2022-09-03T11:59:08.567Z"
      },
      {
        "duration": 14,
        "start_time": "2022-09-03T11:59:08.591Z"
      },
      {
        "duration": 10,
        "start_time": "2022-09-03T11:59:08.607Z"
      },
      {
        "duration": 3736,
        "start_time": "2022-09-03T11:59:08.619Z"
      },
      {
        "duration": 30,
        "start_time": "2022-09-03T11:59:12.357Z"
      },
      {
        "duration": 11,
        "start_time": "2022-09-03T11:59:12.389Z"
      },
      {
        "duration": 44,
        "start_time": "2022-09-03T11:59:12.401Z"
      },
      {
        "duration": 4,
        "start_time": "2022-09-03T11:59:12.447Z"
      },
      {
        "duration": 5,
        "start_time": "2022-09-03T11:59:12.454Z"
      },
      {
        "duration": 41,
        "start_time": "2022-09-03T11:59:12.462Z"
      },
      {
        "duration": 4,
        "start_time": "2022-09-03T11:59:12.505Z"
      },
      {
        "duration": 15,
        "start_time": "2022-09-03T11:59:12.511Z"
      },
      {
        "duration": 5,
        "start_time": "2022-09-03T11:59:12.528Z"
      },
      {
        "duration": 12,
        "start_time": "2022-09-03T11:59:12.535Z"
      },
      {
        "duration": 1192,
        "start_time": "2022-09-03T11:59:12.549Z"
      },
      {
        "duration": 0,
        "start_time": "2022-09-03T11:59:13.742Z"
      },
      {
        "duration": 0,
        "start_time": "2022-09-03T11:59:13.744Z"
      },
      {
        "duration": 0,
        "start_time": "2022-09-03T11:59:13.745Z"
      },
      {
        "duration": 0,
        "start_time": "2022-09-03T11:59:13.746Z"
      },
      {
        "duration": 0,
        "start_time": "2022-09-03T11:59:13.746Z"
      },
      {
        "duration": 0,
        "start_time": "2022-09-03T11:59:13.747Z"
      },
      {
        "duration": 0,
        "start_time": "2022-09-03T11:59:13.749Z"
      },
      {
        "duration": 0,
        "start_time": "2022-09-03T11:59:13.750Z"
      },
      {
        "duration": 0,
        "start_time": "2022-09-03T11:59:13.751Z"
      },
      {
        "duration": 0,
        "start_time": "2022-09-03T11:59:13.752Z"
      },
      {
        "duration": 0,
        "start_time": "2022-09-03T11:59:13.753Z"
      },
      {
        "duration": 0,
        "start_time": "2022-09-03T11:59:13.754Z"
      },
      {
        "duration": 0,
        "start_time": "2022-09-03T11:59:13.756Z"
      },
      {
        "duration": 0,
        "start_time": "2022-09-03T11:59:13.757Z"
      },
      {
        "duration": 0,
        "start_time": "2022-09-03T11:59:13.758Z"
      },
      {
        "duration": 0,
        "start_time": "2022-09-03T11:59:13.759Z"
      },
      {
        "duration": 0,
        "start_time": "2022-09-03T11:59:13.768Z"
      },
      {
        "duration": 0,
        "start_time": "2022-09-03T11:59:13.770Z"
      },
      {
        "duration": 0,
        "start_time": "2022-09-03T11:59:13.775Z"
      },
      {
        "duration": 0,
        "start_time": "2022-09-03T11:59:13.776Z"
      },
      {
        "duration": 0,
        "start_time": "2022-09-03T11:59:13.777Z"
      },
      {
        "duration": 0,
        "start_time": "2022-09-03T11:59:13.778Z"
      },
      {
        "duration": 0,
        "start_time": "2022-09-03T11:59:13.783Z"
      },
      {
        "duration": 0,
        "start_time": "2022-09-03T11:59:13.784Z"
      },
      {
        "duration": 0,
        "start_time": "2022-09-03T11:59:13.785Z"
      },
      {
        "duration": 0,
        "start_time": "2022-09-03T11:59:13.787Z"
      },
      {
        "duration": 14,
        "start_time": "2022-09-03T11:59:30.502Z"
      },
      {
        "duration": 1088,
        "start_time": "2022-09-03T12:01:55.756Z"
      },
      {
        "duration": 1446,
        "start_time": "2022-09-03T12:02:09.288Z"
      },
      {
        "duration": 14,
        "start_time": "2022-09-03T12:02:10.736Z"
      },
      {
        "duration": 89,
        "start_time": "2022-09-03T12:02:10.752Z"
      },
      {
        "duration": 2474,
        "start_time": "2022-09-03T12:02:10.843Z"
      },
      {
        "duration": 9,
        "start_time": "2022-09-03T12:02:13.320Z"
      },
      {
        "duration": 4,
        "start_time": "2022-09-03T12:02:13.331Z"
      },
      {
        "duration": 11,
        "start_time": "2022-09-03T12:02:13.337Z"
      },
      {
        "duration": 10,
        "start_time": "2022-09-03T12:02:13.350Z"
      },
      {
        "duration": 28,
        "start_time": "2022-09-03T12:02:13.362Z"
      },
      {
        "duration": 18,
        "start_time": "2022-09-03T12:02:13.394Z"
      },
      {
        "duration": 3,
        "start_time": "2022-09-03T12:02:13.415Z"
      },
      {
        "duration": 979,
        "start_time": "2022-09-03T12:02:13.420Z"
      },
      {
        "duration": 5,
        "start_time": "2022-09-03T12:02:14.401Z"
      },
      {
        "duration": 5,
        "start_time": "2022-09-03T12:02:14.410Z"
      },
      {
        "duration": 11,
        "start_time": "2022-09-03T12:02:14.417Z"
      },
      {
        "duration": 4,
        "start_time": "2022-09-03T12:02:14.430Z"
      },
      {
        "duration": 1247,
        "start_time": "2022-09-03T12:02:14.436Z"
      },
      {
        "duration": 17,
        "start_time": "2022-09-03T12:02:15.692Z"
      },
      {
        "duration": 21,
        "start_time": "2022-09-03T12:02:15.711Z"
      },
      {
        "duration": 6,
        "start_time": "2022-09-03T12:02:15.734Z"
      },
      {
        "duration": 8,
        "start_time": "2022-09-03T12:02:15.742Z"
      },
      {
        "duration": 12,
        "start_time": "2022-09-03T12:02:15.752Z"
      },
      {
        "duration": 4238,
        "start_time": "2022-09-03T12:02:15.768Z"
      },
      {
        "duration": 10,
        "start_time": "2022-09-03T12:02:20.008Z"
      },
      {
        "duration": 8,
        "start_time": "2022-09-03T12:02:20.020Z"
      },
      {
        "duration": 70,
        "start_time": "2022-09-03T12:02:20.030Z"
      },
      {
        "duration": 5,
        "start_time": "2022-09-03T12:02:20.102Z"
      },
      {
        "duration": 7,
        "start_time": "2022-09-03T12:02:20.109Z"
      },
      {
        "duration": 18,
        "start_time": "2022-09-03T12:02:20.118Z"
      },
      {
        "duration": 17,
        "start_time": "2022-09-03T12:02:20.138Z"
      },
      {
        "duration": 51,
        "start_time": "2022-09-03T12:02:20.156Z"
      },
      {
        "duration": 8,
        "start_time": "2022-09-03T12:02:20.209Z"
      },
      {
        "duration": 23,
        "start_time": "2022-09-03T12:02:20.219Z"
      },
      {
        "duration": 1958,
        "start_time": "2022-09-03T12:02:20.244Z"
      },
      {
        "duration": 0,
        "start_time": "2022-09-03T12:02:22.205Z"
      },
      {
        "duration": 0,
        "start_time": "2022-09-03T12:02:22.207Z"
      },
      {
        "duration": 0,
        "start_time": "2022-09-03T12:02:22.209Z"
      },
      {
        "duration": 0,
        "start_time": "2022-09-03T12:02:22.211Z"
      },
      {
        "duration": 0,
        "start_time": "2022-09-03T12:02:22.212Z"
      },
      {
        "duration": 0,
        "start_time": "2022-09-03T12:02:22.213Z"
      },
      {
        "duration": 0,
        "start_time": "2022-09-03T12:02:22.215Z"
      },
      {
        "duration": 0,
        "start_time": "2022-09-03T12:02:22.216Z"
      },
      {
        "duration": 0,
        "start_time": "2022-09-03T12:02:22.218Z"
      },
      {
        "duration": 0,
        "start_time": "2022-09-03T12:02:22.219Z"
      },
      {
        "duration": 0,
        "start_time": "2022-09-03T12:02:22.221Z"
      },
      {
        "duration": 0,
        "start_time": "2022-09-03T12:02:22.222Z"
      },
      {
        "duration": 0,
        "start_time": "2022-09-03T12:02:22.223Z"
      },
      {
        "duration": 0,
        "start_time": "2022-09-03T12:02:22.224Z"
      },
      {
        "duration": 0,
        "start_time": "2022-09-03T12:02:22.226Z"
      },
      {
        "duration": 0,
        "start_time": "2022-09-03T12:02:22.227Z"
      },
      {
        "duration": 0,
        "start_time": "2022-09-03T12:02:22.228Z"
      },
      {
        "duration": 0,
        "start_time": "2022-09-03T12:02:22.229Z"
      },
      {
        "duration": 0,
        "start_time": "2022-09-03T12:02:22.231Z"
      },
      {
        "duration": 0,
        "start_time": "2022-09-03T12:02:22.232Z"
      },
      {
        "duration": 0,
        "start_time": "2022-09-03T12:02:22.233Z"
      },
      {
        "duration": 0,
        "start_time": "2022-09-03T12:02:22.234Z"
      },
      {
        "duration": 0,
        "start_time": "2022-09-03T12:02:22.235Z"
      },
      {
        "duration": 0,
        "start_time": "2022-09-03T12:02:22.237Z"
      },
      {
        "duration": 0,
        "start_time": "2022-09-03T12:02:22.238Z"
      },
      {
        "duration": 0,
        "start_time": "2022-09-03T12:02:22.239Z"
      },
      {
        "duration": 10,
        "start_time": "2022-09-03T12:02:28.922Z"
      },
      {
        "duration": 1877,
        "start_time": "2022-09-03T12:02:38.932Z"
      },
      {
        "duration": 74194,
        "start_time": "2022-09-03T12:06:33.733Z"
      },
      {
        "duration": 1809,
        "start_time": "2022-09-03T12:17:20.112Z"
      },
      {
        "duration": 857,
        "start_time": "2022-09-03T12:17:22.925Z"
      },
      {
        "duration": 958,
        "start_time": "2022-09-03T12:17:27.875Z"
      },
      {
        "duration": 845,
        "start_time": "2022-09-03T12:17:31.634Z"
      },
      {
        "duration": 184,
        "start_time": "2022-09-03T12:21:10.071Z"
      },
      {
        "duration": 186,
        "start_time": "2022-09-03T12:21:30.079Z"
      },
      {
        "duration": 180,
        "start_time": "2022-09-03T12:22:23.916Z"
      },
      {
        "duration": 755,
        "start_time": "2022-09-03T12:22:31.856Z"
      },
      {
        "duration": 238,
        "start_time": "2022-09-03T12:28:32.871Z"
      },
      {
        "duration": 224,
        "start_time": "2022-09-03T12:31:04.677Z"
      },
      {
        "duration": 181,
        "start_time": "2022-09-03T12:33:40.592Z"
      },
      {
        "duration": 1177,
        "start_time": "2022-09-03T12:35:19.976Z"
      },
      {
        "duration": 11,
        "start_time": "2022-09-03T12:36:17.020Z"
      },
      {
        "duration": 22,
        "start_time": "2022-09-03T12:36:41.360Z"
      },
      {
        "duration": 1182,
        "start_time": "2022-09-03T12:37:12.771Z"
      },
      {
        "duration": 14,
        "start_time": "2022-09-03T12:37:13.954Z"
      },
      {
        "duration": 59,
        "start_time": "2022-09-03T12:37:13.969Z"
      },
      {
        "duration": 1995,
        "start_time": "2022-09-03T12:37:14.030Z"
      },
      {
        "duration": 9,
        "start_time": "2022-09-03T12:37:16.027Z"
      },
      {
        "duration": 15,
        "start_time": "2022-09-03T12:37:16.038Z"
      },
      {
        "duration": 10,
        "start_time": "2022-09-03T12:37:16.055Z"
      },
      {
        "duration": 7,
        "start_time": "2022-09-03T12:37:16.067Z"
      },
      {
        "duration": 6,
        "start_time": "2022-09-03T12:37:16.076Z"
      },
      {
        "duration": 6,
        "start_time": "2022-09-03T12:37:16.084Z"
      },
      {
        "duration": 4,
        "start_time": "2022-09-03T12:37:16.091Z"
      },
      {
        "duration": 902,
        "start_time": "2022-09-03T12:37:16.097Z"
      },
      {
        "duration": 4,
        "start_time": "2022-09-03T12:37:17.001Z"
      },
      {
        "duration": 6,
        "start_time": "2022-09-03T12:37:17.007Z"
      },
      {
        "duration": 14,
        "start_time": "2022-09-03T12:37:17.014Z"
      },
      {
        "duration": 4,
        "start_time": "2022-09-03T12:37:17.029Z"
      },
      {
        "duration": 929,
        "start_time": "2022-09-03T12:37:17.034Z"
      },
      {
        "duration": 5,
        "start_time": "2022-09-03T12:37:17.965Z"
      },
      {
        "duration": 25,
        "start_time": "2022-09-03T12:37:17.972Z"
      },
      {
        "duration": 19,
        "start_time": "2022-09-03T12:37:17.999Z"
      },
      {
        "duration": 14,
        "start_time": "2022-09-03T12:37:18.019Z"
      },
      {
        "duration": 13,
        "start_time": "2022-09-03T12:37:18.034Z"
      },
      {
        "duration": 3229,
        "start_time": "2022-09-03T12:37:18.049Z"
      },
      {
        "duration": 9,
        "start_time": "2022-09-03T12:37:21.279Z"
      },
      {
        "duration": 6,
        "start_time": "2022-09-03T12:37:21.290Z"
      },
      {
        "duration": 39,
        "start_time": "2022-09-03T12:37:21.298Z"
      },
      {
        "duration": 4,
        "start_time": "2022-09-03T12:37:21.357Z"
      },
      {
        "duration": 3,
        "start_time": "2022-09-03T12:37:21.365Z"
      },
      {
        "duration": 14,
        "start_time": "2022-09-03T12:37:21.370Z"
      },
      {
        "duration": 5,
        "start_time": "2022-09-03T12:37:21.386Z"
      },
      {
        "duration": 15,
        "start_time": "2022-09-03T12:37:21.392Z"
      },
      {
        "duration": 6,
        "start_time": "2022-09-03T12:37:21.408Z"
      },
      {
        "duration": 10,
        "start_time": "2022-09-03T12:37:21.415Z"
      },
      {
        "duration": 1130,
        "start_time": "2022-09-03T12:37:21.426Z"
      },
      {
        "duration": 0,
        "start_time": "2022-09-03T12:37:22.557Z"
      },
      {
        "duration": 0,
        "start_time": "2022-09-03T12:37:22.559Z"
      },
      {
        "duration": 0,
        "start_time": "2022-09-03T12:37:22.560Z"
      },
      {
        "duration": 0,
        "start_time": "2022-09-03T12:37:22.561Z"
      },
      {
        "duration": 0,
        "start_time": "2022-09-03T12:37:22.562Z"
      },
      {
        "duration": 0,
        "start_time": "2022-09-03T12:37:22.563Z"
      },
      {
        "duration": 0,
        "start_time": "2022-09-03T12:37:22.563Z"
      },
      {
        "duration": 0,
        "start_time": "2022-09-03T12:37:22.565Z"
      },
      {
        "duration": 0,
        "start_time": "2022-09-03T12:37:22.566Z"
      },
      {
        "duration": 0,
        "start_time": "2022-09-03T12:37:22.567Z"
      },
      {
        "duration": 0,
        "start_time": "2022-09-03T12:37:22.568Z"
      },
      {
        "duration": 0,
        "start_time": "2022-09-03T12:37:22.569Z"
      },
      {
        "duration": 0,
        "start_time": "2022-09-03T12:37:22.570Z"
      },
      {
        "duration": 0,
        "start_time": "2022-09-03T12:37:22.571Z"
      },
      {
        "duration": 0,
        "start_time": "2022-09-03T12:37:22.572Z"
      },
      {
        "duration": 0,
        "start_time": "2022-09-03T12:37:22.573Z"
      },
      {
        "duration": 0,
        "start_time": "2022-09-03T12:37:22.574Z"
      },
      {
        "duration": 0,
        "start_time": "2022-09-03T12:37:22.576Z"
      },
      {
        "duration": 0,
        "start_time": "2022-09-03T12:37:22.577Z"
      },
      {
        "duration": 0,
        "start_time": "2022-09-03T12:37:22.578Z"
      },
      {
        "duration": 0,
        "start_time": "2022-09-03T12:37:22.580Z"
      },
      {
        "duration": 0,
        "start_time": "2022-09-03T12:37:22.581Z"
      },
      {
        "duration": 0,
        "start_time": "2022-09-03T12:37:22.582Z"
      },
      {
        "duration": 0,
        "start_time": "2022-09-03T12:37:22.584Z"
      },
      {
        "duration": 0,
        "start_time": "2022-09-03T12:37:22.585Z"
      },
      {
        "duration": 0,
        "start_time": "2022-09-03T12:37:22.586Z"
      },
      {
        "duration": 0,
        "start_time": "2022-09-03T12:37:22.587Z"
      },
      {
        "duration": 0,
        "start_time": "2022-09-03T12:37:22.588Z"
      },
      {
        "duration": 0,
        "start_time": "2022-09-03T12:37:22.589Z"
      },
      {
        "duration": 0,
        "start_time": "2022-09-03T12:37:22.590Z"
      },
      {
        "duration": 0,
        "start_time": "2022-09-03T12:37:22.591Z"
      },
      {
        "duration": 101,
        "start_time": "2022-09-03T12:38:15.886Z"
      },
      {
        "duration": 14,
        "start_time": "2022-09-03T12:38:15.989Z"
      },
      {
        "duration": 76,
        "start_time": "2022-09-03T12:38:16.004Z"
      },
      {
        "duration": 1803,
        "start_time": "2022-09-03T12:38:16.082Z"
      },
      {
        "duration": 8,
        "start_time": "2022-09-03T12:38:17.888Z"
      },
      {
        "duration": 2,
        "start_time": "2022-09-03T12:38:17.898Z"
      },
      {
        "duration": 11,
        "start_time": "2022-09-03T12:38:17.902Z"
      },
      {
        "duration": 7,
        "start_time": "2022-09-03T12:38:17.914Z"
      },
      {
        "duration": 6,
        "start_time": "2022-09-03T12:38:17.922Z"
      },
      {
        "duration": 31,
        "start_time": "2022-09-03T12:38:17.929Z"
      },
      {
        "duration": 4,
        "start_time": "2022-09-03T12:38:17.962Z"
      },
      {
        "duration": 920,
        "start_time": "2022-09-03T12:38:17.967Z"
      },
      {
        "duration": 4,
        "start_time": "2022-09-03T12:38:18.889Z"
      },
      {
        "duration": 5,
        "start_time": "2022-09-03T12:38:18.896Z"
      },
      {
        "duration": 7,
        "start_time": "2022-09-03T12:38:18.902Z"
      },
      {
        "duration": 3,
        "start_time": "2022-09-03T12:38:18.910Z"
      },
      {
        "duration": 1089,
        "start_time": "2022-09-03T12:38:18.915Z"
      },
      {
        "duration": 4,
        "start_time": "2022-09-03T12:38:20.006Z"
      },
      {
        "duration": 11,
        "start_time": "2022-09-03T12:38:20.011Z"
      },
      {
        "duration": 4,
        "start_time": "2022-09-03T12:38:20.023Z"
      },
      {
        "duration": 9,
        "start_time": "2022-09-03T12:38:20.029Z"
      },
      {
        "duration": 21,
        "start_time": "2022-09-03T12:38:20.039Z"
      },
      {
        "duration": 3299,
        "start_time": "2022-09-03T12:38:20.062Z"
      },
      {
        "duration": 10,
        "start_time": "2022-09-03T12:38:23.363Z"
      },
      {
        "duration": 7,
        "start_time": "2022-09-03T12:38:23.375Z"
      },
      {
        "duration": 34,
        "start_time": "2022-09-03T12:38:23.384Z"
      },
      {
        "duration": 4,
        "start_time": "2022-09-03T12:38:23.420Z"
      },
      {
        "duration": 31,
        "start_time": "2022-09-03T12:38:23.426Z"
      },
      {
        "duration": 8,
        "start_time": "2022-09-03T12:38:23.458Z"
      },
      {
        "duration": 8,
        "start_time": "2022-09-03T12:38:23.467Z"
      },
      {
        "duration": 19,
        "start_time": "2022-09-03T12:38:23.476Z"
      },
      {
        "duration": 5,
        "start_time": "2022-09-03T12:38:23.497Z"
      },
      {
        "duration": 12,
        "start_time": "2022-09-03T12:38:23.503Z"
      },
      {
        "duration": 1164,
        "start_time": "2022-09-03T12:38:23.516Z"
      },
      {
        "duration": 0,
        "start_time": "2022-09-03T12:38:24.682Z"
      },
      {
        "duration": 0,
        "start_time": "2022-09-03T12:38:24.683Z"
      },
      {
        "duration": 0,
        "start_time": "2022-09-03T12:38:24.684Z"
      },
      {
        "duration": 0,
        "start_time": "2022-09-03T12:38:24.685Z"
      },
      {
        "duration": 0,
        "start_time": "2022-09-03T12:38:24.686Z"
      },
      {
        "duration": 0,
        "start_time": "2022-09-03T12:38:24.687Z"
      },
      {
        "duration": 0,
        "start_time": "2022-09-03T12:38:24.688Z"
      },
      {
        "duration": 0,
        "start_time": "2022-09-03T12:38:24.689Z"
      },
      {
        "duration": 0,
        "start_time": "2022-09-03T12:38:24.690Z"
      },
      {
        "duration": 0,
        "start_time": "2022-09-03T12:38:24.691Z"
      },
      {
        "duration": 0,
        "start_time": "2022-09-03T12:38:24.692Z"
      },
      {
        "duration": 0,
        "start_time": "2022-09-03T12:38:24.693Z"
      },
      {
        "duration": 0,
        "start_time": "2022-09-03T12:38:24.694Z"
      },
      {
        "duration": 0,
        "start_time": "2022-09-03T12:38:24.695Z"
      },
      {
        "duration": 0,
        "start_time": "2022-09-03T12:38:24.696Z"
      },
      {
        "duration": 0,
        "start_time": "2022-09-03T12:38:24.697Z"
      },
      {
        "duration": 0,
        "start_time": "2022-09-03T12:38:24.698Z"
      },
      {
        "duration": 0,
        "start_time": "2022-09-03T12:38:24.699Z"
      },
      {
        "duration": 0,
        "start_time": "2022-09-03T12:38:24.700Z"
      },
      {
        "duration": 0,
        "start_time": "2022-09-03T12:38:24.701Z"
      },
      {
        "duration": 0,
        "start_time": "2022-09-03T12:38:24.702Z"
      },
      {
        "duration": 0,
        "start_time": "2022-09-03T12:38:24.703Z"
      },
      {
        "duration": 0,
        "start_time": "2022-09-03T12:38:24.704Z"
      },
      {
        "duration": 0,
        "start_time": "2022-09-03T12:38:24.705Z"
      },
      {
        "duration": 0,
        "start_time": "2022-09-03T12:38:24.706Z"
      },
      {
        "duration": 0,
        "start_time": "2022-09-03T12:38:24.707Z"
      },
      {
        "duration": 0,
        "start_time": "2022-09-03T12:38:24.708Z"
      },
      {
        "duration": 0,
        "start_time": "2022-09-03T12:38:24.709Z"
      },
      {
        "duration": 0,
        "start_time": "2022-09-03T12:38:24.710Z"
      },
      {
        "duration": 0,
        "start_time": "2022-09-03T12:38:24.710Z"
      },
      {
        "duration": 0,
        "start_time": "2022-09-03T12:38:24.711Z"
      },
      {
        "duration": 823,
        "start_time": "2022-09-03T12:39:20.032Z"
      },
      {
        "duration": 787,
        "start_time": "2022-09-03T12:39:23.318Z"
      },
      {
        "duration": 3,
        "start_time": "2022-09-03T12:40:10.321Z"
      },
      {
        "duration": 1207,
        "start_time": "2022-09-03T12:40:16.132Z"
      },
      {
        "duration": 18,
        "start_time": "2022-09-03T12:40:17.341Z"
      },
      {
        "duration": 65,
        "start_time": "2022-09-03T12:40:17.361Z"
      },
      {
        "duration": 1905,
        "start_time": "2022-09-03T12:40:17.428Z"
      },
      {
        "duration": 9,
        "start_time": "2022-09-03T12:40:19.335Z"
      },
      {
        "duration": 8,
        "start_time": "2022-09-03T12:40:19.346Z"
      },
      {
        "duration": 32,
        "start_time": "2022-09-03T12:40:19.355Z"
      },
      {
        "duration": 25,
        "start_time": "2022-09-03T12:40:19.389Z"
      },
      {
        "duration": 10,
        "start_time": "2022-09-03T12:40:19.416Z"
      },
      {
        "duration": 22,
        "start_time": "2022-09-03T12:40:19.428Z"
      },
      {
        "duration": 12,
        "start_time": "2022-09-03T12:40:19.452Z"
      },
      {
        "duration": 818,
        "start_time": "2022-09-03T12:40:19.466Z"
      },
      {
        "duration": 4,
        "start_time": "2022-09-03T12:40:20.286Z"
      },
      {
        "duration": 21,
        "start_time": "2022-09-03T12:40:20.291Z"
      },
      {
        "duration": 15,
        "start_time": "2022-09-03T12:40:20.313Z"
      },
      {
        "duration": 13,
        "start_time": "2022-09-03T12:40:20.329Z"
      },
      {
        "duration": 977,
        "start_time": "2022-09-03T12:40:20.343Z"
      },
      {
        "duration": 4,
        "start_time": "2022-09-03T12:40:21.322Z"
      },
      {
        "duration": 12,
        "start_time": "2022-09-03T12:40:21.328Z"
      },
      {
        "duration": 15,
        "start_time": "2022-09-03T12:40:21.342Z"
      },
      {
        "duration": 3,
        "start_time": "2022-09-03T12:40:21.359Z"
      },
      {
        "duration": 10,
        "start_time": "2022-09-03T12:40:21.363Z"
      },
      {
        "duration": 3275,
        "start_time": "2022-09-03T12:40:21.374Z"
      },
      {
        "duration": 12,
        "start_time": "2022-09-03T12:40:24.651Z"
      },
      {
        "duration": 9,
        "start_time": "2022-09-03T12:40:24.665Z"
      },
      {
        "duration": 45,
        "start_time": "2022-09-03T12:40:24.676Z"
      },
      {
        "duration": 5,
        "start_time": "2022-09-03T12:40:24.722Z"
      },
      {
        "duration": 28,
        "start_time": "2022-09-03T12:40:24.730Z"
      },
      {
        "duration": 11,
        "start_time": "2022-09-03T12:40:24.759Z"
      },
      {
        "duration": 4,
        "start_time": "2022-09-03T12:40:24.771Z"
      },
      {
        "duration": 18,
        "start_time": "2022-09-03T12:40:24.777Z"
      },
      {
        "duration": 6,
        "start_time": "2022-09-03T12:40:24.796Z"
      },
      {
        "duration": 10,
        "start_time": "2022-09-03T12:40:24.804Z"
      },
      {
        "duration": 3,
        "start_time": "2022-09-03T12:40:24.815Z"
      },
      {
        "duration": 86,
        "start_time": "2022-09-03T12:40:24.819Z"
      },
      {
        "duration": 70,
        "start_time": "2022-09-03T12:40:24.907Z"
      },
      {
        "duration": 7,
        "start_time": "2022-09-03T12:40:24.979Z"
      },
      {
        "duration": 6,
        "start_time": "2022-09-03T12:40:24.987Z"
      },
      {
        "duration": 27,
        "start_time": "2022-09-03T12:40:24.994Z"
      },
      {
        "duration": 36,
        "start_time": "2022-09-03T12:40:25.022Z"
      },
      {
        "duration": 23,
        "start_time": "2022-09-03T12:40:25.060Z"
      },
      {
        "duration": 15,
        "start_time": "2022-09-03T12:40:25.085Z"
      },
      {
        "duration": 384,
        "start_time": "2022-09-03T12:40:25.101Z"
      },
      {
        "duration": 20,
        "start_time": "2022-09-03T12:40:25.487Z"
      },
      {
        "duration": 266,
        "start_time": "2022-09-03T12:40:25.508Z"
      },
      {
        "duration": 216,
        "start_time": "2022-09-03T12:40:25.776Z"
      },
      {
        "duration": 212,
        "start_time": "2022-09-03T12:40:25.994Z"
      },
      {
        "duration": 336,
        "start_time": "2022-09-03T12:40:26.207Z"
      },
      {
        "duration": 231,
        "start_time": "2022-09-03T12:40:26.545Z"
      },
      {
        "duration": 209,
        "start_time": "2022-09-03T12:40:26.778Z"
      },
      {
        "duration": 217,
        "start_time": "2022-09-03T12:40:26.989Z"
      },
      {
        "duration": 207,
        "start_time": "2022-09-03T12:40:27.207Z"
      },
      {
        "duration": 211,
        "start_time": "2022-09-03T12:40:27.416Z"
      },
      {
        "duration": 229,
        "start_time": "2022-09-03T12:40:27.629Z"
      },
      {
        "duration": 300,
        "start_time": "2022-09-03T12:40:27.860Z"
      },
      {
        "duration": 205,
        "start_time": "2022-09-03T12:40:28.162Z"
      },
      {
        "duration": 202,
        "start_time": "2022-09-03T12:40:28.369Z"
      },
      {
        "duration": 195,
        "start_time": "2022-09-03T12:40:28.573Z"
      },
      {
        "duration": 274,
        "start_time": "2022-09-03T12:40:28.770Z"
      },
      {
        "duration": 172,
        "start_time": "2022-09-03T12:40:29.045Z"
      },
      {
        "duration": 202,
        "start_time": "2022-09-03T12:40:29.219Z"
      },
      {
        "duration": 175,
        "start_time": "2022-09-03T12:40:29.423Z"
      },
      {
        "duration": 286,
        "start_time": "2022-09-03T12:40:29.600Z"
      },
      {
        "duration": 45,
        "start_time": "2022-09-03T12:40:29.888Z"
      },
      {
        "duration": 0,
        "start_time": "2022-09-03T12:40:29.934Z"
      },
      {
        "duration": 104,
        "start_time": "2022-09-03T12:40:54.981Z"
      },
      {
        "duration": 154,
        "start_time": "2022-09-03T12:41:02.045Z"
      },
      {
        "duration": 118,
        "start_time": "2022-09-03T12:41:08.021Z"
      },
      {
        "duration": 509,
        "start_time": "2022-09-03T12:43:02.071Z"
      },
      {
        "duration": 512,
        "start_time": "2022-09-03T12:43:53.171Z"
      },
      {
        "duration": 380,
        "start_time": "2022-09-03T12:44:43.044Z"
      },
      {
        "duration": 10,
        "start_time": "2022-09-03T12:48:23.826Z"
      },
      {
        "duration": 45,
        "start_time": "2022-09-03T12:49:14.174Z"
      },
      {
        "duration": 28,
        "start_time": "2022-09-03T12:49:39.524Z"
      },
      {
        "duration": 114,
        "start_time": "2022-09-03T12:50:03.994Z"
      },
      {
        "duration": 21,
        "start_time": "2022-09-03T12:50:07.276Z"
      },
      {
        "duration": 22,
        "start_time": "2022-09-03T12:50:12.984Z"
      },
      {
        "duration": 17,
        "start_time": "2022-09-03T12:50:24.380Z"
      },
      {
        "duration": 19,
        "start_time": "2022-09-03T12:51:15.020Z"
      },
      {
        "duration": 33,
        "start_time": "2022-09-03T12:52:11.228Z"
      },
      {
        "duration": 34,
        "start_time": "2022-09-03T12:52:25.676Z"
      },
      {
        "duration": 23,
        "start_time": "2022-09-03T12:53:18.117Z"
      },
      {
        "duration": 29,
        "start_time": "2022-09-03T12:53:26.353Z"
      },
      {
        "duration": 11,
        "start_time": "2022-09-03T12:54:47.206Z"
      },
      {
        "duration": 9,
        "start_time": "2022-09-03T12:55:01.926Z"
      },
      {
        "duration": 11,
        "start_time": "2022-09-03T12:55:29.042Z"
      },
      {
        "duration": 8,
        "start_time": "2022-09-03T12:55:42.116Z"
      },
      {
        "duration": 12,
        "start_time": "2022-09-03T12:58:54.581Z"
      },
      {
        "duration": 13,
        "start_time": "2022-09-03T12:59:08.270Z"
      },
      {
        "duration": 12,
        "start_time": "2022-09-03T12:59:22.371Z"
      },
      {
        "duration": 17,
        "start_time": "2022-09-03T12:59:44.858Z"
      },
      {
        "duration": 14,
        "start_time": "2022-09-03T13:00:05.996Z"
      },
      {
        "duration": 3,
        "start_time": "2022-09-03T13:00:07.212Z"
      },
      {
        "duration": 4,
        "start_time": "2022-09-03T13:00:17.612Z"
      },
      {
        "duration": 25,
        "start_time": "2022-09-03T13:00:25.029Z"
      },
      {
        "duration": 18,
        "start_time": "2022-09-03T13:02:14.827Z"
      },
      {
        "duration": 24,
        "start_time": "2022-09-03T13:02:50.027Z"
      },
      {
        "duration": 154,
        "start_time": "2022-09-03T13:04:15.044Z"
      },
      {
        "duration": 21,
        "start_time": "2022-09-03T13:04:18.555Z"
      },
      {
        "duration": 31,
        "start_time": "2022-09-03T13:04:33.851Z"
      },
      {
        "duration": 22,
        "start_time": "2022-09-03T13:04:59.771Z"
      },
      {
        "duration": 34,
        "start_time": "2022-09-03T13:05:02.295Z"
      },
      {
        "duration": 12,
        "start_time": "2022-09-03T13:06:43.623Z"
      },
      {
        "duration": 12,
        "start_time": "2022-09-03T13:06:50.858Z"
      },
      {
        "duration": 23,
        "start_time": "2022-09-03T13:07:43.405Z"
      },
      {
        "duration": 38,
        "start_time": "2022-09-03T13:08:59.872Z"
      },
      {
        "duration": 46,
        "start_time": "2022-09-03T13:09:25.576Z"
      },
      {
        "duration": 44,
        "start_time": "2022-09-03T13:10:54.027Z"
      },
      {
        "duration": 10,
        "start_time": "2022-09-03T13:12:08.764Z"
      },
      {
        "duration": 75,
        "start_time": "2022-09-03T13:12:36.087Z"
      },
      {
        "duration": 17,
        "start_time": "2022-09-03T13:13:03.170Z"
      },
      {
        "duration": 14,
        "start_time": "2022-09-03T13:14:02.852Z"
      },
      {
        "duration": 1854,
        "start_time": "2022-09-03T13:14:31.868Z"
      },
      {
        "duration": 239,
        "start_time": "2022-09-03T13:14:47.152Z"
      },
      {
        "duration": 34,
        "start_time": "2022-09-03T13:18:07.385Z"
      },
      {
        "duration": 8,
        "start_time": "2022-09-03T13:18:29.295Z"
      },
      {
        "duration": 18,
        "start_time": "2022-09-03T13:19:13.509Z"
      },
      {
        "duration": 22,
        "start_time": "2022-09-03T13:19:26.543Z"
      },
      {
        "duration": 13,
        "start_time": "2022-09-03T13:22:55.342Z"
      },
      {
        "duration": 22,
        "start_time": "2022-09-03T13:23:05.190Z"
      },
      {
        "duration": 778,
        "start_time": "2022-09-03T13:23:38.864Z"
      },
      {
        "duration": 25,
        "start_time": "2022-09-03T13:23:50.274Z"
      },
      {
        "duration": 925,
        "start_time": "2022-09-03T13:24:01.914Z"
      },
      {
        "duration": 17,
        "start_time": "2022-09-03T13:24:17.238Z"
      },
      {
        "duration": 19,
        "start_time": "2022-09-03T13:24:22.214Z"
      },
      {
        "duration": 16,
        "start_time": "2022-09-03T13:24:39.103Z"
      },
      {
        "duration": 13,
        "start_time": "2022-09-03T13:25:07.960Z"
      },
      {
        "duration": 14,
        "start_time": "2022-09-03T13:25:16.634Z"
      },
      {
        "duration": 48,
        "start_time": "2022-09-03T13:25:19.973Z"
      },
      {
        "duration": 14,
        "start_time": "2022-09-03T13:25:22.500Z"
      },
      {
        "duration": 15,
        "start_time": "2022-09-03T13:26:00.579Z"
      },
      {
        "duration": 871,
        "start_time": "2022-09-03T13:26:07.955Z"
      },
      {
        "duration": 827,
        "start_time": "2022-09-03T13:26:22.664Z"
      },
      {
        "duration": 788,
        "start_time": "2022-09-03T13:26:36.092Z"
      },
      {
        "duration": 16,
        "start_time": "2022-09-03T13:27:12.321Z"
      },
      {
        "duration": 17,
        "start_time": "2022-09-03T13:27:34.120Z"
      },
      {
        "duration": 19,
        "start_time": "2022-09-03T13:28:19.251Z"
      },
      {
        "duration": 1304,
        "start_time": "2022-09-03T13:43:10.296Z"
      },
      {
        "duration": 14,
        "start_time": "2022-09-03T13:43:11.603Z"
      },
      {
        "duration": 87,
        "start_time": "2022-09-03T13:43:11.621Z"
      },
      {
        "duration": 2111,
        "start_time": "2022-09-03T13:43:11.710Z"
      },
      {
        "duration": 8,
        "start_time": "2022-09-03T13:43:13.823Z"
      },
      {
        "duration": 3,
        "start_time": "2022-09-03T13:43:13.833Z"
      },
      {
        "duration": 13,
        "start_time": "2022-09-03T13:43:13.837Z"
      },
      {
        "duration": 18,
        "start_time": "2022-09-03T13:43:13.851Z"
      },
      {
        "duration": 13,
        "start_time": "2022-09-03T13:43:13.872Z"
      },
      {
        "duration": 6,
        "start_time": "2022-09-03T13:43:13.887Z"
      },
      {
        "duration": 4,
        "start_time": "2022-09-03T13:43:13.895Z"
      },
      {
        "duration": 904,
        "start_time": "2022-09-03T13:43:13.900Z"
      },
      {
        "duration": 5,
        "start_time": "2022-09-03T13:43:14.806Z"
      },
      {
        "duration": 10,
        "start_time": "2022-09-03T13:43:14.813Z"
      },
      {
        "duration": 10,
        "start_time": "2022-09-03T13:43:14.824Z"
      },
      {
        "duration": 5,
        "start_time": "2022-09-03T13:43:14.836Z"
      },
      {
        "duration": 1085,
        "start_time": "2022-09-03T13:43:14.842Z"
      },
      {
        "duration": 4,
        "start_time": "2022-09-03T13:43:15.929Z"
      },
      {
        "duration": 14,
        "start_time": "2022-09-03T13:43:15.935Z"
      },
      {
        "duration": 18,
        "start_time": "2022-09-03T13:43:15.950Z"
      },
      {
        "duration": 10,
        "start_time": "2022-09-03T13:43:15.973Z"
      },
      {
        "duration": 8,
        "start_time": "2022-09-03T13:43:15.985Z"
      },
      {
        "duration": 3222,
        "start_time": "2022-09-03T13:43:15.994Z"
      },
      {
        "duration": 10,
        "start_time": "2022-09-03T13:43:19.217Z"
      },
      {
        "duration": 17,
        "start_time": "2022-09-03T13:43:19.229Z"
      },
      {
        "duration": 57,
        "start_time": "2022-09-03T13:43:19.248Z"
      },
      {
        "duration": 4,
        "start_time": "2022-09-03T13:43:19.307Z"
      },
      {
        "duration": 5,
        "start_time": "2022-09-03T13:43:19.312Z"
      },
      {
        "duration": 10,
        "start_time": "2022-09-03T13:43:19.319Z"
      },
      {
        "duration": 6,
        "start_time": "2022-09-03T13:43:19.330Z"
      },
      {
        "duration": 36,
        "start_time": "2022-09-03T13:43:19.338Z"
      },
      {
        "duration": 6,
        "start_time": "2022-09-03T13:43:19.376Z"
      },
      {
        "duration": 11,
        "start_time": "2022-09-03T13:43:19.384Z"
      },
      {
        "duration": 3,
        "start_time": "2022-09-03T13:43:19.397Z"
      },
      {
        "duration": 75,
        "start_time": "2022-09-03T13:43:19.401Z"
      },
      {
        "duration": 59,
        "start_time": "2022-09-03T13:43:19.477Z"
      },
      {
        "duration": 30,
        "start_time": "2022-09-03T13:43:19.538Z"
      },
      {
        "duration": 6,
        "start_time": "2022-09-03T13:43:19.569Z"
      },
      {
        "duration": 29,
        "start_time": "2022-09-03T13:43:19.577Z"
      },
      {
        "duration": 16,
        "start_time": "2022-09-03T13:43:19.609Z"
      },
      {
        "duration": 14,
        "start_time": "2022-09-03T13:43:19.626Z"
      },
      {
        "duration": 33,
        "start_time": "2022-09-03T13:43:19.642Z"
      },
      {
        "duration": 347,
        "start_time": "2022-09-03T13:43:19.677Z"
      },
      {
        "duration": 20,
        "start_time": "2022-09-03T13:43:20.025Z"
      },
      {
        "duration": 228,
        "start_time": "2022-09-03T13:43:20.057Z"
      },
      {
        "duration": 229,
        "start_time": "2022-09-03T13:43:20.287Z"
      },
      {
        "duration": 213,
        "start_time": "2022-09-03T13:43:20.517Z"
      },
      {
        "duration": 343,
        "start_time": "2022-09-03T13:43:20.732Z"
      },
      {
        "duration": 240,
        "start_time": "2022-09-03T13:43:21.077Z"
      },
      {
        "duration": 221,
        "start_time": "2022-09-03T13:43:21.319Z"
      },
      {
        "duration": 237,
        "start_time": "2022-09-03T13:43:21.542Z"
      },
      {
        "duration": 197,
        "start_time": "2022-09-03T13:43:21.780Z"
      },
      {
        "duration": 257,
        "start_time": "2022-09-03T13:43:21.979Z"
      },
      {
        "duration": 265,
        "start_time": "2022-09-03T13:43:22.238Z"
      },
      {
        "duration": 332,
        "start_time": "2022-09-03T13:43:22.505Z"
      },
      {
        "duration": 239,
        "start_time": "2022-09-03T13:43:22.838Z"
      },
      {
        "duration": 258,
        "start_time": "2022-09-03T13:43:23.078Z"
      },
      {
        "duration": 218,
        "start_time": "2022-09-03T13:43:23.338Z"
      },
      {
        "duration": 311,
        "start_time": "2022-09-03T13:43:23.559Z"
      },
      {
        "duration": 198,
        "start_time": "2022-09-03T13:43:23.872Z"
      },
      {
        "duration": 199,
        "start_time": "2022-09-03T13:43:24.072Z"
      },
      {
        "duration": 191,
        "start_time": "2022-09-03T13:43:24.273Z"
      },
      {
        "duration": 302,
        "start_time": "2022-09-03T13:43:24.466Z"
      },
      {
        "duration": 117,
        "start_time": "2022-09-03T13:43:24.769Z"
      },
      {
        "duration": 446,
        "start_time": "2022-09-03T13:43:24.887Z"
      },
      {
        "duration": 95,
        "start_time": "2022-09-03T13:43:25.335Z"
      },
      {
        "duration": 0,
        "start_time": "2022-09-03T13:43:25.432Z"
      },
      {
        "duration": 0,
        "start_time": "2022-09-03T13:43:25.435Z"
      },
      {
        "duration": 244,
        "start_time": "2022-09-03T13:48:24.617Z"
      },
      {
        "duration": 246,
        "start_time": "2022-09-03T13:50:10.341Z"
      },
      {
        "duration": 261,
        "start_time": "2022-09-03T13:51:15.390Z"
      },
      {
        "duration": 1408,
        "start_time": "2022-09-03T14:05:06.515Z"
      },
      {
        "duration": 14,
        "start_time": "2022-09-03T14:05:07.925Z"
      },
      {
        "duration": 75,
        "start_time": "2022-09-03T14:05:07.940Z"
      },
      {
        "duration": 1981,
        "start_time": "2022-09-03T14:05:08.016Z"
      },
      {
        "duration": 10,
        "start_time": "2022-09-03T14:05:10.000Z"
      },
      {
        "duration": 35,
        "start_time": "2022-09-03T14:05:10.011Z"
      },
      {
        "duration": 34,
        "start_time": "2022-09-03T14:05:10.047Z"
      },
      {
        "duration": 21,
        "start_time": "2022-09-03T14:05:10.082Z"
      },
      {
        "duration": 47,
        "start_time": "2022-09-03T14:05:10.104Z"
      },
      {
        "duration": 17,
        "start_time": "2022-09-03T14:05:10.153Z"
      },
      {
        "duration": 29,
        "start_time": "2022-09-03T14:05:10.172Z"
      },
      {
        "duration": 832,
        "start_time": "2022-09-03T14:05:10.203Z"
      },
      {
        "duration": 4,
        "start_time": "2022-09-03T14:05:11.037Z"
      },
      {
        "duration": 4,
        "start_time": "2022-09-03T14:05:11.058Z"
      },
      {
        "duration": 9,
        "start_time": "2022-09-03T14:05:11.063Z"
      },
      {
        "duration": 3,
        "start_time": "2022-09-03T14:05:11.074Z"
      },
      {
        "duration": 988,
        "start_time": "2022-09-03T14:05:11.079Z"
      },
      {
        "duration": 5,
        "start_time": "2022-09-03T14:05:12.069Z"
      },
      {
        "duration": 12,
        "start_time": "2022-09-03T14:05:12.075Z"
      },
      {
        "duration": 5,
        "start_time": "2022-09-03T14:05:12.089Z"
      },
      {
        "duration": 7,
        "start_time": "2022-09-03T14:05:12.095Z"
      },
      {
        "duration": 10,
        "start_time": "2022-09-03T14:05:12.103Z"
      },
      {
        "duration": 3200,
        "start_time": "2022-09-03T14:05:12.115Z"
      },
      {
        "duration": 11,
        "start_time": "2022-09-03T14:05:15.317Z"
      },
      {
        "duration": 11,
        "start_time": "2022-09-03T14:05:15.330Z"
      },
      {
        "duration": 61,
        "start_time": "2022-09-03T14:05:15.343Z"
      },
      {
        "duration": 5,
        "start_time": "2022-09-03T14:05:15.406Z"
      },
      {
        "duration": 10,
        "start_time": "2022-09-03T14:05:15.413Z"
      },
      {
        "duration": 20,
        "start_time": "2022-09-03T14:05:15.425Z"
      },
      {
        "duration": 9,
        "start_time": "2022-09-03T14:05:15.447Z"
      },
      {
        "duration": 22,
        "start_time": "2022-09-03T14:05:15.457Z"
      },
      {
        "duration": 5,
        "start_time": "2022-09-03T14:05:15.481Z"
      },
      {
        "duration": 10,
        "start_time": "2022-09-03T14:05:15.488Z"
      },
      {
        "duration": 3,
        "start_time": "2022-09-03T14:05:15.500Z"
      },
      {
        "duration": 68,
        "start_time": "2022-09-03T14:05:15.504Z"
      },
      {
        "duration": 68,
        "start_time": "2022-09-03T14:05:15.574Z"
      },
      {
        "duration": 21,
        "start_time": "2022-09-03T14:05:15.643Z"
      },
      {
        "duration": 7,
        "start_time": "2022-09-03T14:05:15.665Z"
      },
      {
        "duration": 44,
        "start_time": "2022-09-03T14:05:15.674Z"
      },
      {
        "duration": 17,
        "start_time": "2022-09-03T14:05:15.719Z"
      },
      {
        "duration": 14,
        "start_time": "2022-09-03T14:05:15.757Z"
      },
      {
        "duration": 14,
        "start_time": "2022-09-03T14:05:15.773Z"
      },
      {
        "duration": 321,
        "start_time": "2022-09-03T14:05:15.788Z"
      },
      {
        "duration": 19,
        "start_time": "2022-09-03T14:05:16.111Z"
      },
      {
        "duration": 226,
        "start_time": "2022-09-03T14:05:16.131Z"
      },
      {
        "duration": 210,
        "start_time": "2022-09-03T14:05:16.359Z"
      },
      {
        "duration": 198,
        "start_time": "2022-09-03T14:05:16.571Z"
      },
      {
        "duration": 319,
        "start_time": "2022-09-03T14:05:16.771Z"
      },
      {
        "duration": 227,
        "start_time": "2022-09-03T14:05:17.092Z"
      },
      {
        "duration": 202,
        "start_time": "2022-09-03T14:05:17.320Z"
      },
      {
        "duration": 218,
        "start_time": "2022-09-03T14:05:17.523Z"
      },
      {
        "duration": 205,
        "start_time": "2022-09-03T14:05:17.743Z"
      },
      {
        "duration": 211,
        "start_time": "2022-09-03T14:05:17.951Z"
      },
      {
        "duration": 227,
        "start_time": "2022-09-03T14:05:18.164Z"
      },
      {
        "duration": 305,
        "start_time": "2022-09-03T14:05:18.393Z"
      },
      {
        "duration": 215,
        "start_time": "2022-09-03T14:05:18.699Z"
      },
      {
        "duration": 208,
        "start_time": "2022-09-03T14:05:18.916Z"
      },
      {
        "duration": 204,
        "start_time": "2022-09-03T14:05:19.126Z"
      },
      {
        "duration": 278,
        "start_time": "2022-09-03T14:05:19.332Z"
      },
      {
        "duration": 193,
        "start_time": "2022-09-03T14:05:19.612Z"
      },
      {
        "duration": 197,
        "start_time": "2022-09-03T14:05:19.807Z"
      },
      {
        "duration": 189,
        "start_time": "2022-09-03T14:05:20.005Z"
      },
      {
        "duration": 288,
        "start_time": "2022-09-03T14:05:20.195Z"
      },
      {
        "duration": 113,
        "start_time": "2022-09-03T14:05:20.484Z"
      },
      {
        "duration": 252,
        "start_time": "2022-09-03T14:05:20.598Z"
      },
      {
        "duration": 0,
        "start_time": "2022-09-03T14:05:20.851Z"
      },
      {
        "duration": 0,
        "start_time": "2022-09-03T14:05:20.852Z"
      },
      {
        "duration": 0,
        "start_time": "2022-09-03T14:05:20.853Z"
      },
      {
        "duration": 0,
        "start_time": "2022-09-03T14:05:20.854Z"
      },
      {
        "duration": 101,
        "start_time": "2022-09-03T14:05:36.891Z"
      },
      {
        "duration": 14,
        "start_time": "2022-09-03T14:05:36.993Z"
      },
      {
        "duration": 82,
        "start_time": "2022-09-03T14:05:37.009Z"
      },
      {
        "duration": 1762,
        "start_time": "2022-09-03T14:05:37.093Z"
      },
      {
        "duration": 9,
        "start_time": "2022-09-03T14:05:38.857Z"
      },
      {
        "duration": 4,
        "start_time": "2022-09-03T14:05:38.868Z"
      },
      {
        "duration": 11,
        "start_time": "2022-09-03T14:05:38.873Z"
      },
      {
        "duration": 8,
        "start_time": "2022-09-03T14:05:38.886Z"
      },
      {
        "duration": 8,
        "start_time": "2022-09-03T14:05:38.896Z"
      },
      {
        "duration": 5,
        "start_time": "2022-09-03T14:05:38.906Z"
      },
      {
        "duration": 3,
        "start_time": "2022-09-03T14:05:38.913Z"
      },
      {
        "duration": 993,
        "start_time": "2022-09-03T14:05:38.917Z"
      },
      {
        "duration": 5,
        "start_time": "2022-09-03T14:05:39.912Z"
      },
      {
        "duration": 8,
        "start_time": "2022-09-03T14:05:39.920Z"
      },
      {
        "duration": 11,
        "start_time": "2022-09-03T14:05:39.930Z"
      },
      {
        "duration": 14,
        "start_time": "2022-09-03T14:05:39.943Z"
      },
      {
        "duration": 1026,
        "start_time": "2022-09-03T14:05:39.959Z"
      },
      {
        "duration": 5,
        "start_time": "2022-09-03T14:05:40.986Z"
      },
      {
        "duration": 21,
        "start_time": "2022-09-03T14:05:40.992Z"
      },
      {
        "duration": 11,
        "start_time": "2022-09-03T14:05:41.015Z"
      },
      {
        "duration": 25,
        "start_time": "2022-09-03T14:05:41.027Z"
      },
      {
        "duration": 18,
        "start_time": "2022-09-03T14:05:41.053Z"
      },
      {
        "duration": 3339,
        "start_time": "2022-09-03T14:05:41.073Z"
      },
      {
        "duration": 9,
        "start_time": "2022-09-03T14:05:44.414Z"
      },
      {
        "duration": 6,
        "start_time": "2022-09-03T14:05:44.425Z"
      },
      {
        "duration": 54,
        "start_time": "2022-09-03T14:05:44.432Z"
      },
      {
        "duration": 3,
        "start_time": "2022-09-03T14:05:44.488Z"
      },
      {
        "duration": 5,
        "start_time": "2022-09-03T14:05:44.493Z"
      },
      {
        "duration": 10,
        "start_time": "2022-09-03T14:05:44.499Z"
      },
      {
        "duration": 6,
        "start_time": "2022-09-03T14:05:44.511Z"
      },
      {
        "duration": 14,
        "start_time": "2022-09-03T14:05:44.519Z"
      },
      {
        "duration": 23,
        "start_time": "2022-09-03T14:05:44.534Z"
      },
      {
        "duration": 8,
        "start_time": "2022-09-03T14:05:44.559Z"
      },
      {
        "duration": 3,
        "start_time": "2022-09-03T14:05:44.568Z"
      },
      {
        "duration": 58,
        "start_time": "2022-09-03T14:05:44.573Z"
      },
      {
        "duration": 76,
        "start_time": "2022-09-03T14:05:44.633Z"
      },
      {
        "duration": 9,
        "start_time": "2022-09-03T14:05:44.711Z"
      },
      {
        "duration": 9,
        "start_time": "2022-09-03T14:05:44.721Z"
      },
      {
        "duration": 46,
        "start_time": "2022-09-03T14:05:44.731Z"
      },
      {
        "duration": 16,
        "start_time": "2022-09-03T14:05:44.778Z"
      },
      {
        "duration": 14,
        "start_time": "2022-09-03T14:05:44.798Z"
      },
      {
        "duration": 18,
        "start_time": "2022-09-03T14:05:44.813Z"
      },
      {
        "duration": 326,
        "start_time": "2022-09-03T14:05:44.832Z"
      },
      {
        "duration": 18,
        "start_time": "2022-09-03T14:05:45.160Z"
      },
      {
        "duration": 294,
        "start_time": "2022-09-03T14:05:45.180Z"
      },
      {
        "duration": 250,
        "start_time": "2022-09-03T14:05:45.476Z"
      },
      {
        "duration": 208,
        "start_time": "2022-09-03T14:05:45.727Z"
      },
      {
        "duration": 243,
        "start_time": "2022-09-03T14:05:45.937Z"
      },
      {
        "duration": 249,
        "start_time": "2022-09-03T14:05:46.182Z"
      },
      {
        "duration": 346,
        "start_time": "2022-09-03T14:05:46.433Z"
      },
      {
        "duration": 216,
        "start_time": "2022-09-03T14:05:46.781Z"
      },
      {
        "duration": 207,
        "start_time": "2022-09-03T14:05:46.999Z"
      },
      {
        "duration": 211,
        "start_time": "2022-09-03T14:05:47.208Z"
      },
      {
        "duration": 227,
        "start_time": "2022-09-03T14:05:47.421Z"
      },
      {
        "duration": 212,
        "start_time": "2022-09-03T14:05:47.650Z"
      },
      {
        "duration": 212,
        "start_time": "2022-09-03T14:05:47.864Z"
      },
      {
        "duration": 212,
        "start_time": "2022-09-03T14:05:48.078Z"
      },
      {
        "duration": 193,
        "start_time": "2022-09-03T14:05:48.292Z"
      },
      {
        "duration": 429,
        "start_time": "2022-09-03T14:05:48.487Z"
      },
      {
        "duration": 176,
        "start_time": "2022-09-03T14:05:48.918Z"
      },
      {
        "duration": 200,
        "start_time": "2022-09-03T14:05:49.096Z"
      },
      {
        "duration": 182,
        "start_time": "2022-09-03T14:05:49.298Z"
      },
      {
        "duration": 175,
        "start_time": "2022-09-03T14:05:49.482Z"
      },
      {
        "duration": 111,
        "start_time": "2022-09-03T14:05:49.659Z"
      },
      {
        "duration": 360,
        "start_time": "2022-09-03T14:05:49.772Z"
      },
      {
        "duration": 43,
        "start_time": "2022-09-03T14:05:50.134Z"
      },
      {
        "duration": 0,
        "start_time": "2022-09-03T14:05:50.178Z"
      },
      {
        "duration": 0,
        "start_time": "2022-09-03T14:05:50.179Z"
      },
      {
        "duration": 48,
        "start_time": "2022-09-03T14:06:46.842Z"
      },
      {
        "duration": 142,
        "start_time": "2022-09-03T14:06:52.769Z"
      },
      {
        "duration": 18,
        "start_time": "2022-09-03T14:07:01.759Z"
      },
      {
        "duration": 17,
        "start_time": "2022-09-03T14:08:35.120Z"
      },
      {
        "duration": 17,
        "start_time": "2022-09-03T14:08:45.606Z"
      },
      {
        "duration": 18,
        "start_time": "2022-09-03T14:08:53.204Z"
      },
      {
        "duration": 856,
        "start_time": "2022-09-03T14:09:08.596Z"
      },
      {
        "duration": 14,
        "start_time": "2022-09-03T14:09:16.714Z"
      },
      {
        "duration": 752,
        "start_time": "2022-09-03T14:10:22.520Z"
      },
      {
        "duration": 17,
        "start_time": "2022-09-03T14:11:19.490Z"
      },
      {
        "duration": 1069,
        "start_time": "2022-09-03T14:11:52.798Z"
      },
      {
        "duration": 18,
        "start_time": "2022-09-03T14:12:06.433Z"
      },
      {
        "duration": 13,
        "start_time": "2022-09-03T14:12:31.582Z"
      },
      {
        "duration": 18,
        "start_time": "2022-09-03T14:12:54.717Z"
      },
      {
        "duration": 24,
        "start_time": "2022-09-03T14:13:40.062Z"
      },
      {
        "duration": 16,
        "start_time": "2022-09-03T14:16:53.829Z"
      },
      {
        "duration": 173,
        "start_time": "2022-09-03T14:17:33.183Z"
      },
      {
        "duration": 42,
        "start_time": "2022-09-03T14:17:51.968Z"
      },
      {
        "duration": 38,
        "start_time": "2022-09-03T14:17:58.084Z"
      },
      {
        "duration": 37,
        "start_time": "2022-09-03T14:19:21.258Z"
      },
      {
        "duration": 41,
        "start_time": "2022-09-03T14:19:38.053Z"
      },
      {
        "duration": 37,
        "start_time": "2022-09-03T14:19:49.308Z"
      },
      {
        "duration": 39,
        "start_time": "2022-09-03T14:20:05.033Z"
      },
      {
        "duration": 260,
        "start_time": "2022-09-03T14:21:12.229Z"
      },
      {
        "duration": 372,
        "start_time": "2022-09-03T14:22:09.962Z"
      },
      {
        "duration": 487,
        "start_time": "2022-09-03T14:22:30.664Z"
      },
      {
        "duration": 881,
        "start_time": "2022-09-03T15:02:49.958Z"
      },
      {
        "duration": 843,
        "start_time": "2022-09-03T15:02:54.258Z"
      },
      {
        "duration": 20,
        "start_time": "2022-09-03T15:06:29.432Z"
      },
      {
        "duration": 7,
        "start_time": "2022-09-03T15:06:45.253Z"
      },
      {
        "duration": 419,
        "start_time": "2022-09-03T15:12:39.989Z"
      },
      {
        "duration": 1309,
        "start_time": "2022-09-03T19:36:59.649Z"
      },
      {
        "duration": 13,
        "start_time": "2022-09-03T19:37:00.960Z"
      },
      {
        "duration": 66,
        "start_time": "2022-09-03T19:37:00.975Z"
      },
      {
        "duration": 1812,
        "start_time": "2022-09-03T19:37:01.043Z"
      },
      {
        "duration": 8,
        "start_time": "2022-09-03T19:37:02.857Z"
      },
      {
        "duration": 2,
        "start_time": "2022-09-03T19:37:02.866Z"
      },
      {
        "duration": 12,
        "start_time": "2022-09-03T19:37:02.870Z"
      },
      {
        "duration": 10,
        "start_time": "2022-09-03T19:37:02.883Z"
      },
      {
        "duration": 12,
        "start_time": "2022-09-03T19:37:02.894Z"
      },
      {
        "duration": 5,
        "start_time": "2022-09-03T19:37:02.908Z"
      },
      {
        "duration": 4,
        "start_time": "2022-09-03T19:37:02.914Z"
      },
      {
        "duration": 814,
        "start_time": "2022-09-03T19:37:02.919Z"
      },
      {
        "duration": 4,
        "start_time": "2022-09-03T19:37:03.735Z"
      },
      {
        "duration": 21,
        "start_time": "2022-09-03T19:37:03.741Z"
      },
      {
        "duration": 30,
        "start_time": "2022-09-03T19:37:03.764Z"
      },
      {
        "duration": 10,
        "start_time": "2022-09-03T19:37:03.796Z"
      },
      {
        "duration": 901,
        "start_time": "2022-09-03T19:37:03.808Z"
      },
      {
        "duration": 5,
        "start_time": "2022-09-03T19:37:04.711Z"
      },
      {
        "duration": 14,
        "start_time": "2022-09-03T19:37:04.717Z"
      },
      {
        "duration": 23,
        "start_time": "2022-09-03T19:37:04.733Z"
      },
      {
        "duration": 13,
        "start_time": "2022-09-03T19:37:04.757Z"
      },
      {
        "duration": 20,
        "start_time": "2022-09-03T19:37:04.771Z"
      },
      {
        "duration": 3100,
        "start_time": "2022-09-03T19:37:04.792Z"
      },
      {
        "duration": 8,
        "start_time": "2022-09-03T19:37:07.894Z"
      },
      {
        "duration": 22,
        "start_time": "2022-09-03T19:37:07.904Z"
      },
      {
        "duration": 44,
        "start_time": "2022-09-03T19:37:07.928Z"
      },
      {
        "duration": 4,
        "start_time": "2022-09-03T19:37:07.973Z"
      },
      {
        "duration": 2,
        "start_time": "2022-09-03T19:37:07.981Z"
      },
      {
        "duration": 12,
        "start_time": "2022-09-03T19:37:07.985Z"
      },
      {
        "duration": 3,
        "start_time": "2022-09-03T19:37:07.998Z"
      },
      {
        "duration": 13,
        "start_time": "2022-09-03T19:37:08.003Z"
      },
      {
        "duration": 5,
        "start_time": "2022-09-03T19:37:08.018Z"
      },
      {
        "duration": 9,
        "start_time": "2022-09-03T19:37:08.054Z"
      },
      {
        "duration": 3,
        "start_time": "2022-09-03T19:37:08.065Z"
      },
      {
        "duration": 54,
        "start_time": "2022-09-03T19:37:08.070Z"
      },
      {
        "duration": 78,
        "start_time": "2022-09-03T19:37:08.126Z"
      },
      {
        "duration": 6,
        "start_time": "2022-09-03T19:37:08.206Z"
      },
      {
        "duration": 8,
        "start_time": "2022-09-03T19:37:08.214Z"
      },
      {
        "duration": 38,
        "start_time": "2022-09-03T19:37:08.223Z"
      },
      {
        "duration": 15,
        "start_time": "2022-09-03T19:37:08.262Z"
      },
      {
        "duration": 14,
        "start_time": "2022-09-03T19:37:08.278Z"
      },
      {
        "duration": 14,
        "start_time": "2022-09-03T19:37:08.294Z"
      },
      {
        "duration": 308,
        "start_time": "2022-09-03T19:37:08.310Z"
      },
      {
        "duration": 5,
        "start_time": "2022-09-03T19:37:08.619Z"
      },
      {
        "duration": 205,
        "start_time": "2022-09-03T19:37:08.626Z"
      },
      {
        "duration": 207,
        "start_time": "2022-09-03T19:37:08.832Z"
      },
      {
        "duration": 194,
        "start_time": "2022-09-03T19:37:09.041Z"
      },
      {
        "duration": 309,
        "start_time": "2022-09-03T19:37:09.236Z"
      },
      {
        "duration": 220,
        "start_time": "2022-09-03T19:37:09.546Z"
      },
      {
        "duration": 196,
        "start_time": "2022-09-03T19:37:09.768Z"
      },
      {
        "duration": 208,
        "start_time": "2022-09-03T19:37:09.966Z"
      },
      {
        "duration": 232,
        "start_time": "2022-09-03T19:37:10.175Z"
      },
      {
        "duration": 209,
        "start_time": "2022-09-03T19:37:10.409Z"
      },
      {
        "duration": 241,
        "start_time": "2022-09-03T19:37:10.620Z"
      },
      {
        "duration": 292,
        "start_time": "2022-09-03T19:37:10.863Z"
      },
      {
        "duration": 217,
        "start_time": "2022-09-03T19:37:11.157Z"
      },
      {
        "duration": 209,
        "start_time": "2022-09-03T19:37:11.376Z"
      },
      {
        "duration": 187,
        "start_time": "2022-09-03T19:37:11.587Z"
      },
      {
        "duration": 262,
        "start_time": "2022-09-03T19:37:11.776Z"
      },
      {
        "duration": 169,
        "start_time": "2022-09-03T19:37:12.040Z"
      },
      {
        "duration": 186,
        "start_time": "2022-09-03T19:37:12.211Z"
      },
      {
        "duration": 183,
        "start_time": "2022-09-03T19:37:12.398Z"
      },
      {
        "duration": 262,
        "start_time": "2022-09-03T19:37:12.582Z"
      },
      {
        "duration": 109,
        "start_time": "2022-09-03T19:37:12.846Z"
      },
      {
        "duration": 345,
        "start_time": "2022-09-03T19:37:12.956Z"
      },
      {
        "duration": 38,
        "start_time": "2022-09-03T19:37:13.302Z"
      },
      {
        "duration": 11,
        "start_time": "2022-09-03T19:37:13.354Z"
      },
      {
        "duration": 243,
        "start_time": "2022-09-03T19:37:13.366Z"
      },
      {
        "duration": 85,
        "start_time": "2022-09-03T19:40:22.816Z"
      },
      {
        "duration": 70,
        "start_time": "2022-09-03T19:40:27.512Z"
      },
      {
        "duration": 78,
        "start_time": "2022-09-03T19:41:09.753Z"
      },
      {
        "duration": 3,
        "start_time": "2022-09-03T19:42:09.008Z"
      },
      {
        "duration": 9,
        "start_time": "2022-09-03T19:49:19.969Z"
      },
      {
        "duration": 9,
        "start_time": "2022-09-03T19:49:26.498Z"
      },
      {
        "duration": 8,
        "start_time": "2022-09-03T19:49:37.211Z"
      },
      {
        "duration": 5,
        "start_time": "2022-09-03T20:10:15.060Z"
      },
      {
        "duration": 5,
        "start_time": "2022-09-03T20:10:30.918Z"
      },
      {
        "duration": 1169,
        "start_time": "2022-09-03T20:10:44.235Z"
      },
      {
        "duration": 12,
        "start_time": "2022-09-03T20:10:45.406Z"
      },
      {
        "duration": 75,
        "start_time": "2022-09-03T20:10:45.419Z"
      },
      {
        "duration": 1742,
        "start_time": "2022-09-03T20:10:45.496Z"
      },
      {
        "duration": 16,
        "start_time": "2022-09-03T20:10:47.240Z"
      },
      {
        "duration": 3,
        "start_time": "2022-09-03T20:10:47.258Z"
      },
      {
        "duration": 13,
        "start_time": "2022-09-03T20:10:47.263Z"
      },
      {
        "duration": 12,
        "start_time": "2022-09-03T20:10:47.278Z"
      },
      {
        "duration": 9,
        "start_time": "2022-09-03T20:10:47.292Z"
      },
      {
        "duration": 11,
        "start_time": "2022-09-03T20:10:47.304Z"
      },
      {
        "duration": 18,
        "start_time": "2022-09-03T20:10:47.317Z"
      },
      {
        "duration": 818,
        "start_time": "2022-09-03T20:10:47.339Z"
      },
      {
        "duration": 4,
        "start_time": "2022-09-03T20:10:48.159Z"
      },
      {
        "duration": 6,
        "start_time": "2022-09-03T20:10:48.165Z"
      },
      {
        "duration": 21,
        "start_time": "2022-09-03T20:10:48.172Z"
      },
      {
        "duration": 10,
        "start_time": "2022-09-03T20:10:48.195Z"
      },
      {
        "duration": 893,
        "start_time": "2022-09-03T20:10:48.206Z"
      },
      {
        "duration": 4,
        "start_time": "2022-09-03T20:10:49.101Z"
      },
      {
        "duration": 11,
        "start_time": "2022-09-03T20:10:49.107Z"
      },
      {
        "duration": 4,
        "start_time": "2022-09-03T20:10:49.119Z"
      },
      {
        "duration": 3,
        "start_time": "2022-09-03T20:10:49.125Z"
      },
      {
        "duration": 27,
        "start_time": "2022-09-03T20:10:49.130Z"
      },
      {
        "duration": 6,
        "start_time": "2022-09-03T20:10:49.158Z"
      },
      {
        "duration": 2957,
        "start_time": "2022-09-03T20:10:49.165Z"
      },
      {
        "duration": 8,
        "start_time": "2022-09-03T20:10:52.124Z"
      },
      {
        "duration": 7,
        "start_time": "2022-09-03T20:10:52.134Z"
      },
      {
        "duration": 35,
        "start_time": "2022-09-03T20:10:52.154Z"
      },
      {
        "duration": 3,
        "start_time": "2022-09-03T20:10:52.192Z"
      },
      {
        "duration": 3,
        "start_time": "2022-09-03T20:10:52.197Z"
      },
      {
        "duration": 8,
        "start_time": "2022-09-03T20:10:52.201Z"
      },
      {
        "duration": 4,
        "start_time": "2022-09-03T20:10:52.210Z"
      },
      {
        "duration": 15,
        "start_time": "2022-09-03T20:10:52.215Z"
      },
      {
        "duration": 26,
        "start_time": "2022-09-03T20:10:52.231Z"
      },
      {
        "duration": 16,
        "start_time": "2022-09-03T20:10:52.258Z"
      },
      {
        "duration": 4,
        "start_time": "2022-09-03T20:10:52.275Z"
      },
      {
        "duration": 61,
        "start_time": "2022-09-03T20:10:52.280Z"
      },
      {
        "duration": 55,
        "start_time": "2022-09-03T20:10:52.354Z"
      },
      {
        "duration": 7,
        "start_time": "2022-09-03T20:10:52.410Z"
      },
      {
        "duration": 6,
        "start_time": "2022-09-03T20:10:52.419Z"
      },
      {
        "duration": 41,
        "start_time": "2022-09-03T20:10:52.426Z"
      },
      {
        "duration": 14,
        "start_time": "2022-09-03T20:10:52.468Z"
      },
      {
        "duration": 13,
        "start_time": "2022-09-03T20:10:52.484Z"
      },
      {
        "duration": 12,
        "start_time": "2022-09-03T20:10:52.499Z"
      },
      {
        "duration": 310,
        "start_time": "2022-09-03T20:10:52.513Z"
      },
      {
        "duration": 5,
        "start_time": "2022-09-03T20:10:52.825Z"
      },
      {
        "duration": 199,
        "start_time": "2022-09-03T20:10:52.831Z"
      },
      {
        "duration": 199,
        "start_time": "2022-09-03T20:10:53.032Z"
      },
      {
        "duration": 185,
        "start_time": "2022-09-03T20:10:53.233Z"
      },
      {
        "duration": 307,
        "start_time": "2022-09-03T20:10:53.420Z"
      },
      {
        "duration": 202,
        "start_time": "2022-09-03T20:10:53.729Z"
      },
      {
        "duration": 197,
        "start_time": "2022-09-03T20:10:53.933Z"
      },
      {
        "duration": 238,
        "start_time": "2022-09-03T20:10:54.132Z"
      },
      {
        "duration": 209,
        "start_time": "2022-09-03T20:10:54.372Z"
      },
      {
        "duration": 221,
        "start_time": "2022-09-03T20:10:54.583Z"
      },
      {
        "duration": 241,
        "start_time": "2022-09-03T20:10:54.806Z"
      },
      {
        "duration": 319,
        "start_time": "2022-09-03T20:10:55.049Z"
      },
      {
        "duration": 225,
        "start_time": "2022-09-03T20:10:55.369Z"
      },
      {
        "duration": 226,
        "start_time": "2022-09-03T20:10:55.595Z"
      },
      {
        "duration": 188,
        "start_time": "2022-09-03T20:10:55.823Z"
      },
      {
        "duration": 249,
        "start_time": "2022-09-03T20:10:56.013Z"
      },
      {
        "duration": 167,
        "start_time": "2022-09-03T20:10:56.263Z"
      },
      {
        "duration": 180,
        "start_time": "2022-09-03T20:10:56.431Z"
      },
      {
        "duration": 174,
        "start_time": "2022-09-03T20:10:56.612Z"
      },
      {
        "duration": 268,
        "start_time": "2022-09-03T20:10:56.788Z"
      },
      {
        "duration": 111,
        "start_time": "2022-09-03T20:10:57.058Z"
      },
      {
        "duration": 407,
        "start_time": "2022-09-03T20:10:57.171Z"
      },
      {
        "duration": 34,
        "start_time": "2022-09-03T20:10:57.580Z"
      },
      {
        "duration": 10,
        "start_time": "2022-09-03T20:10:57.616Z"
      },
      {
        "duration": 241,
        "start_time": "2022-09-03T20:10:57.627Z"
      },
      {
        "duration": 1204,
        "start_time": "2022-09-03T20:12:35.539Z"
      },
      {
        "duration": 14,
        "start_time": "2022-09-03T20:12:36.745Z"
      },
      {
        "duration": 69,
        "start_time": "2022-09-03T20:12:36.761Z"
      },
      {
        "duration": 1770,
        "start_time": "2022-09-03T20:12:36.832Z"
      },
      {
        "duration": 8,
        "start_time": "2022-09-03T20:12:38.603Z"
      },
      {
        "duration": 4,
        "start_time": "2022-09-03T20:12:38.613Z"
      },
      {
        "duration": 10,
        "start_time": "2022-09-03T20:12:38.618Z"
      },
      {
        "duration": 26,
        "start_time": "2022-09-03T20:12:38.629Z"
      },
      {
        "duration": 5,
        "start_time": "2022-09-03T20:12:38.656Z"
      },
      {
        "duration": 6,
        "start_time": "2022-09-03T20:12:38.663Z"
      },
      {
        "duration": 6,
        "start_time": "2022-09-03T20:12:38.670Z"
      },
      {
        "duration": 786,
        "start_time": "2022-09-03T20:12:38.677Z"
      },
      {
        "duration": 4,
        "start_time": "2022-09-03T20:12:39.465Z"
      },
      {
        "duration": 6,
        "start_time": "2022-09-03T20:12:39.470Z"
      },
      {
        "duration": 6,
        "start_time": "2022-09-03T20:12:39.478Z"
      },
      {
        "duration": 3,
        "start_time": "2022-09-03T20:12:39.486Z"
      },
      {
        "duration": 900,
        "start_time": "2022-09-03T20:12:39.491Z"
      },
      {
        "duration": 4,
        "start_time": "2022-09-03T20:12:40.393Z"
      },
      {
        "duration": 13,
        "start_time": "2022-09-03T20:12:40.400Z"
      },
      {
        "duration": 4,
        "start_time": "2022-09-03T20:12:40.415Z"
      },
      {
        "duration": 6,
        "start_time": "2022-09-03T20:12:40.421Z"
      },
      {
        "duration": 27,
        "start_time": "2022-09-03T20:12:40.428Z"
      },
      {
        "duration": 69,
        "start_time": "2022-09-03T20:12:40.456Z"
      },
      {
        "duration": 0,
        "start_time": "2022-09-03T20:12:40.528Z"
      },
      {
        "duration": 0,
        "start_time": "2022-09-03T20:12:40.530Z"
      },
      {
        "duration": 0,
        "start_time": "2022-09-03T20:12:40.532Z"
      },
      {
        "duration": 0,
        "start_time": "2022-09-03T20:12:40.533Z"
      },
      {
        "duration": 0,
        "start_time": "2022-09-03T20:12:40.535Z"
      },
      {
        "duration": 0,
        "start_time": "2022-09-03T20:12:40.536Z"
      },
      {
        "duration": 0,
        "start_time": "2022-09-03T20:12:40.537Z"
      },
      {
        "duration": 0,
        "start_time": "2022-09-03T20:12:40.538Z"
      },
      {
        "duration": 0,
        "start_time": "2022-09-03T20:12:40.540Z"
      },
      {
        "duration": 0,
        "start_time": "2022-09-03T20:12:40.541Z"
      },
      {
        "duration": 0,
        "start_time": "2022-09-03T20:12:40.542Z"
      },
      {
        "duration": 0,
        "start_time": "2022-09-03T20:12:40.544Z"
      },
      {
        "duration": 0,
        "start_time": "2022-09-03T20:12:40.545Z"
      },
      {
        "duration": 0,
        "start_time": "2022-09-03T20:12:40.546Z"
      },
      {
        "duration": 0,
        "start_time": "2022-09-03T20:12:40.548Z"
      },
      {
        "duration": 0,
        "start_time": "2022-09-03T20:12:40.549Z"
      },
      {
        "duration": 0,
        "start_time": "2022-09-03T20:12:40.551Z"
      },
      {
        "duration": 0,
        "start_time": "2022-09-03T20:12:40.552Z"
      },
      {
        "duration": 0,
        "start_time": "2022-09-03T20:12:40.553Z"
      },
      {
        "duration": 0,
        "start_time": "2022-09-03T20:12:40.555Z"
      },
      {
        "duration": 0,
        "start_time": "2022-09-03T20:12:40.556Z"
      },
      {
        "duration": 0,
        "start_time": "2022-09-03T20:12:40.557Z"
      },
      {
        "duration": 0,
        "start_time": "2022-09-03T20:12:40.559Z"
      },
      {
        "duration": 0,
        "start_time": "2022-09-03T20:12:40.560Z"
      },
      {
        "duration": 0,
        "start_time": "2022-09-03T20:12:40.561Z"
      },
      {
        "duration": 0,
        "start_time": "2022-09-03T20:12:40.563Z"
      },
      {
        "duration": 0,
        "start_time": "2022-09-03T20:12:40.564Z"
      },
      {
        "duration": 0,
        "start_time": "2022-09-03T20:12:40.566Z"
      },
      {
        "duration": 0,
        "start_time": "2022-09-03T20:12:40.567Z"
      },
      {
        "duration": 0,
        "start_time": "2022-09-03T20:12:40.568Z"
      },
      {
        "duration": 0,
        "start_time": "2022-09-03T20:12:40.569Z"
      },
      {
        "duration": 0,
        "start_time": "2022-09-03T20:12:40.570Z"
      },
      {
        "duration": 0,
        "start_time": "2022-09-03T20:12:40.570Z"
      },
      {
        "duration": 0,
        "start_time": "2022-09-03T20:12:40.571Z"
      },
      {
        "duration": 0,
        "start_time": "2022-09-03T20:12:40.572Z"
      },
      {
        "duration": 0,
        "start_time": "2022-09-03T20:12:40.573Z"
      },
      {
        "duration": 0,
        "start_time": "2022-09-03T20:12:40.574Z"
      },
      {
        "duration": 0,
        "start_time": "2022-09-03T20:12:40.574Z"
      },
      {
        "duration": 0,
        "start_time": "2022-09-03T20:12:40.575Z"
      },
      {
        "duration": 0,
        "start_time": "2022-09-03T20:12:40.576Z"
      },
      {
        "duration": 0,
        "start_time": "2022-09-03T20:12:40.577Z"
      },
      {
        "duration": 0,
        "start_time": "2022-09-03T20:12:40.578Z"
      },
      {
        "duration": 0,
        "start_time": "2022-09-03T20:12:40.578Z"
      },
      {
        "duration": 0,
        "start_time": "2022-09-03T20:12:40.579Z"
      },
      {
        "duration": 0,
        "start_time": "2022-09-03T20:12:40.581Z"
      },
      {
        "duration": 0,
        "start_time": "2022-09-03T20:12:40.582Z"
      },
      {
        "duration": 5,
        "start_time": "2022-09-03T20:12:51.860Z"
      },
      {
        "duration": 5,
        "start_time": "2022-09-03T20:13:07.096Z"
      },
      {
        "duration": 1102,
        "start_time": "2022-09-03T20:16:03.219Z"
      },
      {
        "duration": 12,
        "start_time": "2022-09-03T20:16:04.323Z"
      },
      {
        "duration": 79,
        "start_time": "2022-09-03T20:16:04.337Z"
      },
      {
        "duration": 1747,
        "start_time": "2022-09-03T20:16:04.418Z"
      },
      {
        "duration": 8,
        "start_time": "2022-09-03T20:16:06.167Z"
      },
      {
        "duration": 3,
        "start_time": "2022-09-03T20:16:06.176Z"
      },
      {
        "duration": 11,
        "start_time": "2022-09-03T20:16:06.180Z"
      },
      {
        "duration": 8,
        "start_time": "2022-09-03T20:16:06.192Z"
      },
      {
        "duration": 7,
        "start_time": "2022-09-03T20:16:06.202Z"
      },
      {
        "duration": 7,
        "start_time": "2022-09-03T20:16:06.210Z"
      },
      {
        "duration": 37,
        "start_time": "2022-09-03T20:16:06.218Z"
      },
      {
        "duration": 818,
        "start_time": "2022-09-03T20:16:06.257Z"
      },
      {
        "duration": 4,
        "start_time": "2022-09-03T20:16:07.077Z"
      },
      {
        "duration": 6,
        "start_time": "2022-09-03T20:16:07.083Z"
      },
      {
        "duration": 10,
        "start_time": "2022-09-03T20:16:07.090Z"
      },
      {
        "duration": 4,
        "start_time": "2022-09-03T20:16:07.101Z"
      },
      {
        "duration": 956,
        "start_time": "2022-09-03T20:16:07.106Z"
      },
      {
        "duration": 4,
        "start_time": "2022-09-03T20:16:08.063Z"
      },
      {
        "duration": 10,
        "start_time": "2022-09-03T20:16:08.069Z"
      },
      {
        "duration": 4,
        "start_time": "2022-09-03T20:16:08.081Z"
      },
      {
        "duration": 6,
        "start_time": "2022-09-03T20:16:08.086Z"
      },
      {
        "duration": 7,
        "start_time": "2022-09-03T20:16:08.094Z"
      },
      {
        "duration": 3565,
        "start_time": "2022-09-03T20:16:08.103Z"
      },
      {
        "duration": 9,
        "start_time": "2022-09-03T20:16:11.669Z"
      },
      {
        "duration": 5,
        "start_time": "2022-09-03T20:16:11.679Z"
      },
      {
        "duration": 37,
        "start_time": "2022-09-03T20:16:11.686Z"
      },
      {
        "duration": 3,
        "start_time": "2022-09-03T20:16:11.725Z"
      },
      {
        "duration": 4,
        "start_time": "2022-09-03T20:16:11.729Z"
      },
      {
        "duration": 7,
        "start_time": "2022-09-03T20:16:11.755Z"
      },
      {
        "duration": 6,
        "start_time": "2022-09-03T20:16:11.763Z"
      },
      {
        "duration": 14,
        "start_time": "2022-09-03T20:16:11.770Z"
      },
      {
        "duration": 5,
        "start_time": "2022-09-03T20:16:11.785Z"
      },
      {
        "duration": 10,
        "start_time": "2022-09-03T20:16:11.792Z"
      },
      {
        "duration": 3,
        "start_time": "2022-09-03T20:16:11.803Z"
      },
      {
        "duration": 78,
        "start_time": "2022-09-03T20:16:11.807Z"
      },
      {
        "duration": 52,
        "start_time": "2022-09-03T20:16:11.887Z"
      },
      {
        "duration": 17,
        "start_time": "2022-09-03T20:16:11.941Z"
      },
      {
        "duration": 4,
        "start_time": "2022-09-03T20:16:11.959Z"
      },
      {
        "duration": 22,
        "start_time": "2022-09-03T20:16:11.965Z"
      },
      {
        "duration": 13,
        "start_time": "2022-09-03T20:16:11.989Z"
      },
      {
        "duration": 13,
        "start_time": "2022-09-03T20:16:12.006Z"
      },
      {
        "duration": 42,
        "start_time": "2022-09-03T20:16:12.020Z"
      },
      {
        "duration": 303,
        "start_time": "2022-09-03T20:16:12.063Z"
      },
      {
        "duration": 6,
        "start_time": "2022-09-03T20:16:12.368Z"
      },
      {
        "duration": 198,
        "start_time": "2022-09-03T20:16:12.375Z"
      },
      {
        "duration": 194,
        "start_time": "2022-09-03T20:16:12.575Z"
      },
      {
        "duration": 185,
        "start_time": "2022-09-03T20:16:12.770Z"
      },
      {
        "duration": 313,
        "start_time": "2022-09-03T20:16:12.956Z"
      },
      {
        "duration": 207,
        "start_time": "2022-09-03T20:16:13.271Z"
      },
      {
        "duration": 203,
        "start_time": "2022-09-03T20:16:13.479Z"
      },
      {
        "duration": 198,
        "start_time": "2022-09-03T20:16:13.683Z"
      },
      {
        "duration": 186,
        "start_time": "2022-09-03T20:16:13.882Z"
      },
      {
        "duration": 191,
        "start_time": "2022-09-03T20:16:14.070Z"
      },
      {
        "duration": 204,
        "start_time": "2022-09-03T20:16:14.263Z"
      },
      {
        "duration": 289,
        "start_time": "2022-09-03T20:16:14.469Z"
      },
      {
        "duration": 199,
        "start_time": "2022-09-03T20:16:14.759Z"
      },
      {
        "duration": 204,
        "start_time": "2022-09-03T20:16:14.959Z"
      },
      {
        "duration": 182,
        "start_time": "2022-09-03T20:16:15.165Z"
      },
      {
        "duration": 252,
        "start_time": "2022-09-03T20:16:15.354Z"
      },
      {
        "duration": 178,
        "start_time": "2022-09-03T20:16:15.607Z"
      },
      {
        "duration": 189,
        "start_time": "2022-09-03T20:16:15.786Z"
      },
      {
        "duration": 181,
        "start_time": "2022-09-03T20:16:15.977Z"
      },
      {
        "duration": 289,
        "start_time": "2022-09-03T20:16:16.160Z"
      },
      {
        "duration": 114,
        "start_time": "2022-09-03T20:16:16.451Z"
      },
      {
        "duration": 405,
        "start_time": "2022-09-03T20:16:16.567Z"
      },
      {
        "duration": 43,
        "start_time": "2022-09-03T20:16:16.974Z"
      },
      {
        "duration": 12,
        "start_time": "2022-09-03T20:16:17.019Z"
      },
      {
        "duration": 296,
        "start_time": "2022-09-03T20:16:17.054Z"
      },
      {
        "duration": 48,
        "start_time": "2022-09-03T20:20:25.048Z"
      },
      {
        "duration": 33,
        "start_time": "2022-09-03T20:20:32.150Z"
      },
      {
        "duration": 6,
        "start_time": "2022-09-03T21:15:01.465Z"
      },
      {
        "duration": 6,
        "start_time": "2022-09-03T21:15:12.248Z"
      },
      {
        "duration": 2,
        "start_time": "2022-09-03T21:15:22.832Z"
      },
      {
        "duration": 1292,
        "start_time": "2022-09-03T21:17:50.144Z"
      },
      {
        "duration": 18,
        "start_time": "2022-09-03T21:17:51.438Z"
      },
      {
        "duration": 72,
        "start_time": "2022-09-03T21:17:51.457Z"
      },
      {
        "duration": 1770,
        "start_time": "2022-09-03T21:17:51.531Z"
      },
      {
        "duration": 13,
        "start_time": "2022-09-03T21:17:53.303Z"
      },
      {
        "duration": 4,
        "start_time": "2022-09-03T21:17:53.318Z"
      },
      {
        "duration": 32,
        "start_time": "2022-09-03T21:17:53.324Z"
      },
      {
        "duration": 10,
        "start_time": "2022-09-03T21:17:53.359Z"
      },
      {
        "duration": 11,
        "start_time": "2022-09-03T21:17:53.371Z"
      },
      {
        "duration": 7,
        "start_time": "2022-09-03T21:17:53.386Z"
      },
      {
        "duration": 4,
        "start_time": "2022-09-03T21:17:53.395Z"
      },
      {
        "duration": 804,
        "start_time": "2022-09-03T21:17:53.401Z"
      },
      {
        "duration": 5,
        "start_time": "2022-09-03T21:17:54.206Z"
      },
      {
        "duration": 6,
        "start_time": "2022-09-03T21:17:54.212Z"
      },
      {
        "duration": 8,
        "start_time": "2022-09-03T21:17:54.220Z"
      },
      {
        "duration": 4,
        "start_time": "2022-09-03T21:17:54.230Z"
      },
      {
        "duration": 934,
        "start_time": "2022-09-03T21:17:54.236Z"
      },
      {
        "duration": 6,
        "start_time": "2022-09-03T21:17:55.172Z"
      },
      {
        "duration": 11,
        "start_time": "2022-09-03T21:17:55.179Z"
      },
      {
        "duration": 4,
        "start_time": "2022-09-03T21:17:55.191Z"
      },
      {
        "duration": 6,
        "start_time": "2022-09-03T21:17:55.196Z"
      },
      {
        "duration": 7,
        "start_time": "2022-09-03T21:17:55.203Z"
      },
      {
        "duration": 3108,
        "start_time": "2022-09-03T21:17:55.211Z"
      },
      {
        "duration": 9,
        "start_time": "2022-09-03T21:17:58.321Z"
      },
      {
        "duration": 6,
        "start_time": "2022-09-03T21:17:58.331Z"
      },
      {
        "duration": 51,
        "start_time": "2022-09-03T21:17:58.338Z"
      },
      {
        "duration": 3,
        "start_time": "2022-09-03T21:17:58.391Z"
      },
      {
        "duration": 2,
        "start_time": "2022-09-03T21:17:58.398Z"
      },
      {
        "duration": 8,
        "start_time": "2022-09-03T21:17:58.401Z"
      },
      {
        "duration": 4,
        "start_time": "2022-09-03T21:17:58.411Z"
      },
      {
        "duration": 14,
        "start_time": "2022-09-03T21:17:58.416Z"
      },
      {
        "duration": 6,
        "start_time": "2022-09-03T21:17:58.454Z"
      },
      {
        "duration": 10,
        "start_time": "2022-09-03T21:17:58.462Z"
      },
      {
        "duration": 4,
        "start_time": "2022-09-03T21:17:58.474Z"
      },
      {
        "duration": 57,
        "start_time": "2022-09-03T21:17:58.479Z"
      },
      {
        "duration": 69,
        "start_time": "2022-09-03T21:17:58.537Z"
      },
      {
        "duration": 75,
        "start_time": "2022-09-03T21:17:58.608Z"
      },
      {
        "duration": 1,
        "start_time": "2022-09-03T21:17:58.684Z"
      },
      {
        "duration": 0,
        "start_time": "2022-09-03T21:17:58.686Z"
      },
      {
        "duration": 0,
        "start_time": "2022-09-03T21:17:58.687Z"
      },
      {
        "duration": 0,
        "start_time": "2022-09-03T21:17:58.688Z"
      },
      {
        "duration": 0,
        "start_time": "2022-09-03T21:17:58.689Z"
      },
      {
        "duration": 0,
        "start_time": "2022-09-03T21:17:58.690Z"
      },
      {
        "duration": 0,
        "start_time": "2022-09-03T21:17:58.691Z"
      },
      {
        "duration": 0,
        "start_time": "2022-09-03T21:17:58.692Z"
      },
      {
        "duration": 0,
        "start_time": "2022-09-03T21:17:58.693Z"
      },
      {
        "duration": 0,
        "start_time": "2022-09-03T21:17:58.694Z"
      },
      {
        "duration": 0,
        "start_time": "2022-09-03T21:17:58.695Z"
      },
      {
        "duration": 0,
        "start_time": "2022-09-03T21:17:58.696Z"
      },
      {
        "duration": 0,
        "start_time": "2022-09-03T21:17:58.697Z"
      },
      {
        "duration": 0,
        "start_time": "2022-09-03T21:17:58.698Z"
      },
      {
        "duration": 0,
        "start_time": "2022-09-03T21:17:58.699Z"
      },
      {
        "duration": 0,
        "start_time": "2022-09-03T21:17:58.700Z"
      },
      {
        "duration": 0,
        "start_time": "2022-09-03T21:17:58.701Z"
      },
      {
        "duration": 0,
        "start_time": "2022-09-03T21:17:58.702Z"
      },
      {
        "duration": 0,
        "start_time": "2022-09-03T21:17:58.703Z"
      },
      {
        "duration": 0,
        "start_time": "2022-09-03T21:17:58.704Z"
      },
      {
        "duration": 0,
        "start_time": "2022-09-03T21:17:58.705Z"
      },
      {
        "duration": 0,
        "start_time": "2022-09-03T21:17:58.706Z"
      },
      {
        "duration": 0,
        "start_time": "2022-09-03T21:17:58.707Z"
      },
      {
        "duration": 0,
        "start_time": "2022-09-03T21:17:58.708Z"
      },
      {
        "duration": 0,
        "start_time": "2022-09-03T21:17:58.710Z"
      },
      {
        "duration": 0,
        "start_time": "2022-09-03T21:17:58.711Z"
      },
      {
        "duration": 0,
        "start_time": "2022-09-03T21:17:58.712Z"
      },
      {
        "duration": 0,
        "start_time": "2022-09-03T21:17:58.714Z"
      },
      {
        "duration": 0,
        "start_time": "2022-09-03T21:17:58.715Z"
      },
      {
        "duration": 0,
        "start_time": "2022-09-03T21:17:58.716Z"
      },
      {
        "duration": 0,
        "start_time": "2022-09-03T21:17:58.717Z"
      },
      {
        "duration": 60,
        "start_time": "2022-09-03T21:18:45.600Z"
      },
      {
        "duration": 7,
        "start_time": "2022-09-03T21:19:32.615Z"
      },
      {
        "duration": 61,
        "start_time": "2022-09-03T21:24:08.644Z"
      },
      {
        "duration": 1124,
        "start_time": "2022-09-03T21:31:07.498Z"
      },
      {
        "duration": 12,
        "start_time": "2022-09-03T21:31:08.624Z"
      },
      {
        "duration": 77,
        "start_time": "2022-09-03T21:31:08.637Z"
      },
      {
        "duration": 1861,
        "start_time": "2022-09-03T21:31:08.716Z"
      },
      {
        "duration": 8,
        "start_time": "2022-09-03T21:31:10.578Z"
      },
      {
        "duration": 6,
        "start_time": "2022-09-03T21:31:10.587Z"
      },
      {
        "duration": 11,
        "start_time": "2022-09-03T21:31:10.595Z"
      },
      {
        "duration": 7,
        "start_time": "2022-09-03T21:31:10.608Z"
      },
      {
        "duration": 14,
        "start_time": "2022-09-03T21:31:10.616Z"
      },
      {
        "duration": 25,
        "start_time": "2022-09-03T21:31:10.632Z"
      },
      {
        "duration": 3,
        "start_time": "2022-09-03T21:31:10.658Z"
      },
      {
        "duration": 800,
        "start_time": "2022-09-03T21:31:10.662Z"
      },
      {
        "duration": 4,
        "start_time": "2022-09-03T21:31:11.464Z"
      },
      {
        "duration": 6,
        "start_time": "2022-09-03T21:31:11.469Z"
      },
      {
        "duration": 7,
        "start_time": "2022-09-03T21:31:11.476Z"
      },
      {
        "duration": 4,
        "start_time": "2022-09-03T21:31:11.484Z"
      },
      {
        "duration": 952,
        "start_time": "2022-09-03T21:31:11.489Z"
      },
      {
        "duration": 4,
        "start_time": "2022-09-03T21:31:12.442Z"
      },
      {
        "duration": 11,
        "start_time": "2022-09-03T21:31:12.448Z"
      },
      {
        "duration": 4,
        "start_time": "2022-09-03T21:31:12.461Z"
      },
      {
        "duration": 4,
        "start_time": "2022-09-03T21:31:12.466Z"
      },
      {
        "duration": 8,
        "start_time": "2022-09-03T21:31:12.471Z"
      },
      {
        "duration": 3013,
        "start_time": "2022-09-03T21:31:12.480Z"
      },
      {
        "duration": 8,
        "start_time": "2022-09-03T21:31:15.495Z"
      },
      {
        "duration": 6,
        "start_time": "2022-09-03T21:31:15.504Z"
      },
      {
        "duration": 49,
        "start_time": "2022-09-03T21:31:15.511Z"
      },
      {
        "duration": 3,
        "start_time": "2022-09-03T21:31:15.562Z"
      },
      {
        "duration": 2,
        "start_time": "2022-09-03T21:31:15.568Z"
      },
      {
        "duration": 8,
        "start_time": "2022-09-03T21:31:15.572Z"
      },
      {
        "duration": 4,
        "start_time": "2022-09-03T21:31:15.582Z"
      },
      {
        "duration": 13,
        "start_time": "2022-09-03T21:31:15.588Z"
      },
      {
        "duration": 5,
        "start_time": "2022-09-03T21:31:15.603Z"
      },
      {
        "duration": 8,
        "start_time": "2022-09-03T21:31:15.609Z"
      },
      {
        "duration": 4,
        "start_time": "2022-09-03T21:31:15.618Z"
      },
      {
        "duration": 90,
        "start_time": "2022-09-03T21:31:15.623Z"
      },
      {
        "duration": 57,
        "start_time": "2022-09-03T21:31:15.714Z"
      },
      {
        "duration": 8,
        "start_time": "2022-09-03T21:31:15.773Z"
      },
      {
        "duration": 14,
        "start_time": "2022-09-03T21:31:15.782Z"
      },
      {
        "duration": 27,
        "start_time": "2022-09-03T21:31:15.798Z"
      },
      {
        "duration": 14,
        "start_time": "2022-09-03T21:31:15.826Z"
      },
      {
        "duration": 17,
        "start_time": "2022-09-03T21:31:15.854Z"
      },
      {
        "duration": 23,
        "start_time": "2022-09-03T21:31:15.873Z"
      },
      {
        "duration": 325,
        "start_time": "2022-09-03T21:31:15.898Z"
      },
      {
        "duration": 5,
        "start_time": "2022-09-03T21:31:16.225Z"
      },
      {
        "duration": 192,
        "start_time": "2022-09-03T21:31:16.231Z"
      },
      {
        "duration": 203,
        "start_time": "2022-09-03T21:31:16.425Z"
      },
      {
        "duration": 211,
        "start_time": "2022-09-03T21:31:16.630Z"
      },
      {
        "duration": 336,
        "start_time": "2022-09-03T21:31:16.842Z"
      },
      {
        "duration": 262,
        "start_time": "2022-09-03T21:31:17.180Z"
      },
      {
        "duration": 255,
        "start_time": "2022-09-03T21:31:17.444Z"
      },
      {
        "duration": 205,
        "start_time": "2022-09-03T21:31:17.701Z"
      },
      {
        "duration": 209,
        "start_time": "2022-09-03T21:31:17.907Z"
      },
      {
        "duration": 202,
        "start_time": "2022-09-03T21:31:18.117Z"
      },
      {
        "duration": 210,
        "start_time": "2022-09-03T21:31:18.320Z"
      },
      {
        "duration": 333,
        "start_time": "2022-09-03T21:31:18.532Z"
      },
      {
        "duration": 229,
        "start_time": "2022-09-03T21:31:18.868Z"
      },
      {
        "duration": 198,
        "start_time": "2022-09-03T21:31:19.098Z"
      },
      {
        "duration": 204,
        "start_time": "2022-09-03T21:31:19.297Z"
      },
      {
        "duration": 301,
        "start_time": "2022-09-03T21:31:19.503Z"
      },
      {
        "duration": 201,
        "start_time": "2022-09-03T21:31:19.806Z"
      },
      {
        "duration": 188,
        "start_time": "2022-09-03T21:31:20.009Z"
      },
      {
        "duration": 160,
        "start_time": "2022-09-03T21:31:20.199Z"
      },
      {
        "duration": 303,
        "start_time": "2022-09-03T21:31:20.360Z"
      },
      {
        "duration": 122,
        "start_time": "2022-09-03T21:31:20.665Z"
      },
      {
        "duration": 379,
        "start_time": "2022-09-03T21:31:20.789Z"
      },
      {
        "duration": 37,
        "start_time": "2022-09-03T21:31:21.170Z"
      },
      {
        "duration": 12,
        "start_time": "2022-09-03T21:31:21.208Z"
      },
      {
        "duration": 254,
        "start_time": "2022-09-03T21:31:21.222Z"
      },
      {
        "duration": 37,
        "start_time": "2022-09-03T21:36:33.031Z"
      },
      {
        "duration": 53,
        "start_time": "2022-09-03T21:36:52.639Z"
      },
      {
        "duration": 1420,
        "start_time": "2022-09-03T21:45:29.858Z"
      },
      {
        "duration": 5,
        "start_time": "2022-09-03T21:46:01.570Z"
      },
      {
        "duration": 1202,
        "start_time": "2022-09-03T21:46:16.338Z"
      },
      {
        "duration": 74,
        "start_time": "2022-09-03T21:46:26.544Z"
      },
      {
        "duration": 8,
        "start_time": "2022-09-03T21:46:36.553Z"
      },
      {
        "duration": 13,
        "start_time": "2022-09-03T21:46:46.816Z"
      },
      {
        "duration": 6,
        "start_time": "2022-09-03T21:47:20.119Z"
      },
      {
        "duration": 11,
        "start_time": "2022-09-03T21:47:29.928Z"
      },
      {
        "duration": 8,
        "start_time": "2022-09-03T21:47:37.393Z"
      },
      {
        "duration": 5,
        "start_time": "2022-09-03T21:47:53.304Z"
      },
      {
        "duration": 7,
        "start_time": "2022-09-03T21:48:07.136Z"
      },
      {
        "duration": 10,
        "start_time": "2022-09-03T21:48:12.672Z"
      },
      {
        "duration": 1127,
        "start_time": "2022-09-03T21:48:15.576Z"
      },
      {
        "duration": 1187,
        "start_time": "2022-09-03T21:48:19.824Z"
      },
      {
        "duration": 73,
        "start_time": "2022-09-03T21:48:36.319Z"
      },
      {
        "duration": 10,
        "start_time": "2022-09-03T21:48:41.000Z"
      },
      {
        "duration": 9,
        "start_time": "2022-09-03T21:48:53.304Z"
      },
      {
        "duration": 6,
        "start_time": "2022-09-03T21:48:58.831Z"
      },
      {
        "duration": 8,
        "start_time": "2022-09-03T21:49:17.887Z"
      },
      {
        "duration": 1177,
        "start_time": "2022-09-03T21:51:11.267Z"
      },
      {
        "duration": 15,
        "start_time": "2022-09-03T21:51:12.446Z"
      },
      {
        "duration": 66,
        "start_time": "2022-09-03T21:51:12.463Z"
      },
      {
        "duration": 1785,
        "start_time": "2022-09-03T21:51:12.531Z"
      },
      {
        "duration": 8,
        "start_time": "2022-09-03T21:51:14.319Z"
      },
      {
        "duration": 3,
        "start_time": "2022-09-03T21:51:14.328Z"
      },
      {
        "duration": 26,
        "start_time": "2022-09-03T21:51:14.333Z"
      },
      {
        "duration": 9,
        "start_time": "2022-09-03T21:51:14.360Z"
      },
      {
        "duration": 9,
        "start_time": "2022-09-03T21:51:14.370Z"
      },
      {
        "duration": 7,
        "start_time": "2022-09-03T21:51:14.380Z"
      },
      {
        "duration": 4,
        "start_time": "2022-09-03T21:51:14.388Z"
      },
      {
        "duration": 83,
        "start_time": "2022-09-03T21:51:14.393Z"
      },
      {
        "duration": 0,
        "start_time": "2022-09-03T21:51:14.479Z"
      },
      {
        "duration": 0,
        "start_time": "2022-09-03T21:51:14.481Z"
      },
      {
        "duration": 0,
        "start_time": "2022-09-03T21:51:14.482Z"
      },
      {
        "duration": 0,
        "start_time": "2022-09-03T21:51:14.484Z"
      },
      {
        "duration": 0,
        "start_time": "2022-09-03T21:51:14.485Z"
      },
      {
        "duration": 0,
        "start_time": "2022-09-03T21:51:14.486Z"
      },
      {
        "duration": 0,
        "start_time": "2022-09-03T21:51:14.487Z"
      },
      {
        "duration": 0,
        "start_time": "2022-09-03T21:51:14.488Z"
      },
      {
        "duration": 0,
        "start_time": "2022-09-03T21:51:14.490Z"
      },
      {
        "duration": 0,
        "start_time": "2022-09-03T21:51:14.491Z"
      },
      {
        "duration": 0,
        "start_time": "2022-09-03T21:51:14.492Z"
      },
      {
        "duration": 0,
        "start_time": "2022-09-03T21:51:14.494Z"
      },
      {
        "duration": 0,
        "start_time": "2022-09-03T21:51:14.495Z"
      },
      {
        "duration": 0,
        "start_time": "2022-09-03T21:51:14.496Z"
      },
      {
        "duration": 0,
        "start_time": "2022-09-03T21:51:14.497Z"
      },
      {
        "duration": 0,
        "start_time": "2022-09-03T21:51:14.498Z"
      },
      {
        "duration": 0,
        "start_time": "2022-09-03T21:51:14.499Z"
      },
      {
        "duration": 0,
        "start_time": "2022-09-03T21:51:14.499Z"
      },
      {
        "duration": 0,
        "start_time": "2022-09-03T21:51:14.500Z"
      },
      {
        "duration": 0,
        "start_time": "2022-09-03T21:51:14.502Z"
      },
      {
        "duration": 0,
        "start_time": "2022-09-03T21:51:14.503Z"
      },
      {
        "duration": 0,
        "start_time": "2022-09-03T21:51:14.503Z"
      },
      {
        "duration": 0,
        "start_time": "2022-09-03T21:51:14.505Z"
      },
      {
        "duration": 0,
        "start_time": "2022-09-03T21:51:14.505Z"
      },
      {
        "duration": 0,
        "start_time": "2022-09-03T21:51:14.506Z"
      },
      {
        "duration": 0,
        "start_time": "2022-09-03T21:51:14.507Z"
      },
      {
        "duration": 0,
        "start_time": "2022-09-03T21:51:14.508Z"
      },
      {
        "duration": 0,
        "start_time": "2022-09-03T21:51:14.509Z"
      },
      {
        "duration": 0,
        "start_time": "2022-09-03T21:51:14.510Z"
      },
      {
        "duration": 0,
        "start_time": "2022-09-03T21:51:14.511Z"
      },
      {
        "duration": 0,
        "start_time": "2022-09-03T21:51:14.512Z"
      },
      {
        "duration": 0,
        "start_time": "2022-09-03T21:51:14.514Z"
      },
      {
        "duration": 0,
        "start_time": "2022-09-03T21:51:14.514Z"
      },
      {
        "duration": 0,
        "start_time": "2022-09-03T21:51:14.515Z"
      },
      {
        "duration": 0,
        "start_time": "2022-09-03T21:51:14.516Z"
      },
      {
        "duration": 0,
        "start_time": "2022-09-03T21:51:14.555Z"
      },
      {
        "duration": 0,
        "start_time": "2022-09-03T21:51:14.556Z"
      },
      {
        "duration": 0,
        "start_time": "2022-09-03T21:51:14.557Z"
      },
      {
        "duration": 0,
        "start_time": "2022-09-03T21:51:14.558Z"
      },
      {
        "duration": 0,
        "start_time": "2022-09-03T21:51:14.558Z"
      },
      {
        "duration": 0,
        "start_time": "2022-09-03T21:51:14.560Z"
      },
      {
        "duration": 0,
        "start_time": "2022-09-03T21:51:14.561Z"
      },
      {
        "duration": 0,
        "start_time": "2022-09-03T21:51:14.561Z"
      },
      {
        "duration": 0,
        "start_time": "2022-09-03T21:51:14.563Z"
      },
      {
        "duration": 0,
        "start_time": "2022-09-03T21:51:14.564Z"
      },
      {
        "duration": 0,
        "start_time": "2022-09-03T21:51:14.565Z"
      },
      {
        "duration": 0,
        "start_time": "2022-09-03T21:51:14.566Z"
      },
      {
        "duration": 0,
        "start_time": "2022-09-03T21:51:14.567Z"
      },
      {
        "duration": 0,
        "start_time": "2022-09-03T21:51:14.568Z"
      },
      {
        "duration": 0,
        "start_time": "2022-09-03T21:51:14.569Z"
      },
      {
        "duration": 0,
        "start_time": "2022-09-03T21:51:14.570Z"
      },
      {
        "duration": 0,
        "start_time": "2022-09-03T21:51:14.571Z"
      },
      {
        "duration": 0,
        "start_time": "2022-09-03T21:51:14.572Z"
      },
      {
        "duration": 0,
        "start_time": "2022-09-03T21:51:14.573Z"
      },
      {
        "duration": 0,
        "start_time": "2022-09-03T21:51:14.574Z"
      },
      {
        "duration": 0,
        "start_time": "2022-09-03T21:51:14.575Z"
      },
      {
        "duration": 7,
        "start_time": "2022-09-03T21:52:03.613Z"
      },
      {
        "duration": 6,
        "start_time": "2022-09-03T21:52:11.254Z"
      },
      {
        "duration": 785,
        "start_time": "2022-09-03T21:52:17.694Z"
      },
      {
        "duration": 5,
        "start_time": "2022-09-03T21:52:21.941Z"
      },
      {
        "duration": 1208,
        "start_time": "2022-09-03T21:57:26.373Z"
      },
      {
        "duration": 14,
        "start_time": "2022-09-03T21:57:27.583Z"
      },
      {
        "duration": 79,
        "start_time": "2022-09-03T21:57:27.598Z"
      },
      {
        "duration": 1930,
        "start_time": "2022-09-03T21:57:27.679Z"
      },
      {
        "duration": 8,
        "start_time": "2022-09-03T21:57:29.610Z"
      },
      {
        "duration": 2,
        "start_time": "2022-09-03T21:57:29.620Z"
      },
      {
        "duration": 12,
        "start_time": "2022-09-03T21:57:29.623Z"
      },
      {
        "duration": 22,
        "start_time": "2022-09-03T21:57:29.637Z"
      },
      {
        "duration": 5,
        "start_time": "2022-09-03T21:57:29.660Z"
      },
      {
        "duration": 10,
        "start_time": "2022-09-03T21:57:29.668Z"
      },
      {
        "duration": 3,
        "start_time": "2022-09-03T21:57:29.680Z"
      },
      {
        "duration": 5,
        "start_time": "2022-09-03T21:57:29.684Z"
      },
      {
        "duration": 816,
        "start_time": "2022-09-03T21:57:29.690Z"
      },
      {
        "duration": 4,
        "start_time": "2022-09-03T21:57:30.507Z"
      },
      {
        "duration": 12,
        "start_time": "2022-09-03T21:57:30.513Z"
      },
      {
        "duration": 20,
        "start_time": "2022-09-03T21:57:30.527Z"
      },
      {
        "duration": 22,
        "start_time": "2022-09-03T21:57:30.549Z"
      },
      {
        "duration": 971,
        "start_time": "2022-09-03T21:57:30.573Z"
      },
      {
        "duration": 12,
        "start_time": "2022-09-03T21:57:31.546Z"
      },
      {
        "duration": 38,
        "start_time": "2022-09-03T21:57:31.559Z"
      },
      {
        "duration": 5,
        "start_time": "2022-09-03T21:57:31.599Z"
      },
      {
        "duration": 4,
        "start_time": "2022-09-03T21:57:31.606Z"
      },
      {
        "duration": 8,
        "start_time": "2022-09-03T21:57:31.611Z"
      },
      {
        "duration": 3024,
        "start_time": "2022-09-03T21:57:31.621Z"
      },
      {
        "duration": 11,
        "start_time": "2022-09-03T21:57:34.647Z"
      },
      {
        "duration": 8,
        "start_time": "2022-09-03T21:57:34.661Z"
      },
      {
        "duration": 39,
        "start_time": "2022-09-03T21:57:34.670Z"
      },
      {
        "duration": 3,
        "start_time": "2022-09-03T21:57:34.713Z"
      },
      {
        "duration": 5,
        "start_time": "2022-09-03T21:57:34.717Z"
      },
      {
        "duration": 34,
        "start_time": "2022-09-03T21:57:34.723Z"
      },
      {
        "duration": 3,
        "start_time": "2022-09-03T21:57:34.758Z"
      },
      {
        "duration": 23,
        "start_time": "2022-09-03T21:57:34.763Z"
      },
      {
        "duration": 6,
        "start_time": "2022-09-03T21:57:34.788Z"
      },
      {
        "duration": 9,
        "start_time": "2022-09-03T21:57:34.795Z"
      },
      {
        "duration": 2,
        "start_time": "2022-09-03T21:57:34.805Z"
      },
      {
        "duration": 67,
        "start_time": "2022-09-03T21:57:34.809Z"
      },
      {
        "duration": 52,
        "start_time": "2022-09-03T21:57:34.877Z"
      },
      {
        "duration": 26,
        "start_time": "2022-09-03T21:57:34.930Z"
      },
      {
        "duration": 6,
        "start_time": "2022-09-03T21:57:34.959Z"
      },
      {
        "duration": 32,
        "start_time": "2022-09-03T21:57:34.966Z"
      },
      {
        "duration": 16,
        "start_time": "2022-09-03T21:57:34.999Z"
      },
      {
        "duration": 14,
        "start_time": "2022-09-03T21:57:35.017Z"
      },
      {
        "duration": 40,
        "start_time": "2022-09-03T21:57:35.033Z"
      },
      {
        "duration": 318,
        "start_time": "2022-09-03T21:57:35.075Z"
      },
      {
        "duration": 6,
        "start_time": "2022-09-03T21:57:35.395Z"
      },
      {
        "duration": 210,
        "start_time": "2022-09-03T21:57:35.403Z"
      },
      {
        "duration": 200,
        "start_time": "2022-09-03T21:57:35.614Z"
      },
      {
        "duration": 194,
        "start_time": "2022-09-03T21:57:35.816Z"
      },
      {
        "duration": 309,
        "start_time": "2022-09-03T21:57:36.012Z"
      },
      {
        "duration": 220,
        "start_time": "2022-09-03T21:57:36.323Z"
      },
      {
        "duration": 209,
        "start_time": "2022-09-03T21:57:36.545Z"
      },
      {
        "duration": 210,
        "start_time": "2022-09-03T21:57:36.757Z"
      },
      {
        "duration": 186,
        "start_time": "2022-09-03T21:57:36.969Z"
      },
      {
        "duration": 241,
        "start_time": "2022-09-03T21:57:37.157Z"
      },
      {
        "duration": 233,
        "start_time": "2022-09-03T21:57:37.399Z"
      },
      {
        "duration": 308,
        "start_time": "2022-09-03T21:57:37.633Z"
      },
      {
        "duration": 203,
        "start_time": "2022-09-03T21:57:37.943Z"
      },
      {
        "duration": 193,
        "start_time": "2022-09-03T21:57:38.148Z"
      },
      {
        "duration": 193,
        "start_time": "2022-09-03T21:57:38.342Z"
      },
      {
        "duration": 268,
        "start_time": "2022-09-03T21:57:38.537Z"
      },
      {
        "duration": 179,
        "start_time": "2022-09-03T21:57:38.806Z"
      },
      {
        "duration": 201,
        "start_time": "2022-09-03T21:57:38.986Z"
      },
      {
        "duration": 179,
        "start_time": "2022-09-03T21:57:39.189Z"
      },
      {
        "duration": 288,
        "start_time": "2022-09-03T21:57:39.370Z"
      },
      {
        "duration": 121,
        "start_time": "2022-09-03T21:57:39.659Z"
      },
      {
        "duration": 360,
        "start_time": "2022-09-03T21:57:39.782Z"
      },
      {
        "duration": 44,
        "start_time": "2022-09-03T21:57:40.144Z"
      },
      {
        "duration": 10,
        "start_time": "2022-09-03T21:57:40.190Z"
      },
      {
        "duration": 283,
        "start_time": "2022-09-03T21:57:40.201Z"
      },
      {
        "duration": 5,
        "start_time": "2022-09-03T22:11:32.774Z"
      },
      {
        "duration": 66,
        "start_time": "2022-09-03T22:12:21.022Z"
      },
      {
        "duration": 6,
        "start_time": "2022-09-03T22:12:23.061Z"
      },
      {
        "duration": 72,
        "start_time": "2022-09-03T22:28:19.172Z"
      },
      {
        "duration": 1280,
        "start_time": "2022-09-04T05:52:41.282Z"
      },
      {
        "duration": 364,
        "start_time": "2022-09-04T05:52:44.416Z"
      },
      {
        "duration": 124,
        "start_time": "2022-09-04T05:52:56.849Z"
      },
      {
        "duration": 1978,
        "start_time": "2022-09-04T05:53:59.986Z"
      },
      {
        "duration": 76,
        "start_time": "2022-09-04T05:56:46.044Z"
      },
      {
        "duration": 7,
        "start_time": "2022-09-04T05:59:25.801Z"
      },
      {
        "duration": 6,
        "start_time": "2022-09-04T05:59:51.673Z"
      },
      {
        "duration": 7,
        "start_time": "2022-09-04T06:00:27.934Z"
      },
      {
        "duration": 10,
        "start_time": "2022-09-04T06:00:51.966Z"
      },
      {
        "duration": 11,
        "start_time": "2022-09-04T06:02:04.695Z"
      },
      {
        "duration": 106,
        "start_time": "2022-09-04T06:02:49.437Z"
      },
      {
        "duration": 9,
        "start_time": "2022-09-04T06:03:03.588Z"
      },
      {
        "duration": 14,
        "start_time": "2022-09-04T06:03:05.678Z"
      },
      {
        "duration": 1232,
        "start_time": "2022-09-04T06:03:14.437Z"
      },
      {
        "duration": 142,
        "start_time": "2022-09-04T06:03:15.671Z"
      },
      {
        "duration": 15,
        "start_time": "2022-09-04T06:03:15.814Z"
      },
      {
        "duration": 89,
        "start_time": "2022-09-04T06:03:15.832Z"
      },
      {
        "duration": 2102,
        "start_time": "2022-09-04T06:03:15.923Z"
      },
      {
        "duration": 8,
        "start_time": "2022-09-04T06:03:18.028Z"
      },
      {
        "duration": 2,
        "start_time": "2022-09-04T06:03:18.038Z"
      },
      {
        "duration": 12,
        "start_time": "2022-09-04T06:03:18.042Z"
      },
      {
        "duration": 43,
        "start_time": "2022-09-04T06:03:18.056Z"
      },
      {
        "duration": 7,
        "start_time": "2022-09-04T06:03:18.102Z"
      },
      {
        "duration": 12,
        "start_time": "2022-09-04T06:03:18.110Z"
      },
      {
        "duration": 4,
        "start_time": "2022-09-04T06:03:18.124Z"
      },
      {
        "duration": 8,
        "start_time": "2022-09-04T06:03:18.129Z"
      },
      {
        "duration": 7,
        "start_time": "2022-09-04T06:03:18.138Z"
      },
      {
        "duration": 13,
        "start_time": "2022-09-04T06:03:18.146Z"
      },
      {
        "duration": 32,
        "start_time": "2022-09-04T06:03:18.161Z"
      },
      {
        "duration": 11,
        "start_time": "2022-09-04T06:03:18.195Z"
      },
      {
        "duration": 5,
        "start_time": "2022-09-04T06:03:18.208Z"
      },
      {
        "duration": 1036,
        "start_time": "2022-09-04T06:03:18.215Z"
      },
      {
        "duration": 20,
        "start_time": "2022-09-04T06:03:19.253Z"
      },
      {
        "duration": 42,
        "start_time": "2022-09-04T06:03:19.274Z"
      },
      {
        "duration": 5,
        "start_time": "2022-09-04T06:03:19.318Z"
      },
      {
        "duration": 5,
        "start_time": "2022-09-04T06:03:19.325Z"
      },
      {
        "duration": 13,
        "start_time": "2022-09-04T06:03:19.332Z"
      },
      {
        "duration": 3516,
        "start_time": "2022-09-04T06:03:19.346Z"
      },
      {
        "duration": 12,
        "start_time": "2022-09-04T06:03:22.864Z"
      },
      {
        "duration": 25,
        "start_time": "2022-09-04T06:03:22.878Z"
      },
      {
        "duration": 43,
        "start_time": "2022-09-04T06:03:22.907Z"
      },
      {
        "duration": 17,
        "start_time": "2022-09-04T06:03:22.952Z"
      },
      {
        "duration": 20,
        "start_time": "2022-09-04T06:03:22.971Z"
      },
      {
        "duration": 10,
        "start_time": "2022-09-04T06:03:22.993Z"
      },
      {
        "duration": 5,
        "start_time": "2022-09-04T06:03:23.005Z"
      },
      {
        "duration": 17,
        "start_time": "2022-09-04T06:03:23.011Z"
      },
      {
        "duration": 6,
        "start_time": "2022-09-04T06:03:23.029Z"
      },
      {
        "duration": 10,
        "start_time": "2022-09-04T06:03:23.037Z"
      },
      {
        "duration": 4,
        "start_time": "2022-09-04T06:03:23.048Z"
      },
      {
        "duration": 74,
        "start_time": "2022-09-04T06:03:23.057Z"
      },
      {
        "duration": 75,
        "start_time": "2022-09-04T06:03:23.133Z"
      },
      {
        "duration": 7,
        "start_time": "2022-09-04T06:03:23.210Z"
      },
      {
        "duration": 5,
        "start_time": "2022-09-04T06:03:23.219Z"
      },
      {
        "duration": 44,
        "start_time": "2022-09-04T06:03:23.225Z"
      },
      {
        "duration": 22,
        "start_time": "2022-09-04T06:03:23.280Z"
      },
      {
        "duration": 19,
        "start_time": "2022-09-04T06:03:23.303Z"
      },
      {
        "duration": 15,
        "start_time": "2022-09-04T06:03:23.323Z"
      },
      {
        "duration": 415,
        "start_time": "2022-09-04T06:03:23.358Z"
      },
      {
        "duration": 9,
        "start_time": "2022-09-04T06:03:23.777Z"
      },
      {
        "duration": 233,
        "start_time": "2022-09-04T06:03:23.788Z"
      },
      {
        "duration": 254,
        "start_time": "2022-09-04T06:03:24.023Z"
      },
      {
        "duration": 254,
        "start_time": "2022-09-04T06:03:24.281Z"
      },
      {
        "duration": 396,
        "start_time": "2022-09-04T06:03:24.537Z"
      },
      {
        "duration": 274,
        "start_time": "2022-09-04T06:03:24.934Z"
      },
      {
        "duration": 285,
        "start_time": "2022-09-04T06:03:25.210Z"
      },
      {
        "duration": 317,
        "start_time": "2022-09-04T06:03:25.497Z"
      },
      {
        "duration": 273,
        "start_time": "2022-09-04T06:03:25.816Z"
      },
      {
        "duration": 252,
        "start_time": "2022-09-04T06:03:26.091Z"
      },
      {
        "duration": 370,
        "start_time": "2022-09-04T06:03:26.344Z"
      },
      {
        "duration": 235,
        "start_time": "2022-09-04T06:03:26.716Z"
      },
      {
        "duration": 248,
        "start_time": "2022-09-04T06:03:26.958Z"
      },
      {
        "duration": 293,
        "start_time": "2022-09-04T06:03:27.208Z"
      },
      {
        "duration": 231,
        "start_time": "2022-09-04T06:03:27.503Z"
      },
      {
        "duration": 329,
        "start_time": "2022-09-04T06:03:27.736Z"
      },
      {
        "duration": 201,
        "start_time": "2022-09-04T06:03:28.074Z"
      },
      {
        "duration": 303,
        "start_time": "2022-09-04T06:03:28.277Z"
      },
      {
        "duration": 255,
        "start_time": "2022-09-04T06:03:28.582Z"
      },
      {
        "duration": 212,
        "start_time": "2022-09-04T06:03:28.839Z"
      },
      {
        "duration": 226,
        "start_time": "2022-09-04T06:03:29.053Z"
      },
      {
        "duration": 547,
        "start_time": "2022-09-04T06:03:29.281Z"
      },
      {
        "duration": 68,
        "start_time": "2022-09-04T06:03:29.829Z"
      },
      {
        "duration": 12,
        "start_time": "2022-09-04T06:03:29.900Z"
      },
      {
        "duration": 297,
        "start_time": "2022-09-04T06:03:29.914Z"
      },
      {
        "duration": 9,
        "start_time": "2022-09-04T06:03:38.778Z"
      },
      {
        "duration": 6,
        "start_time": "2022-09-04T06:03:40.944Z"
      },
      {
        "duration": 5,
        "start_time": "2022-09-04T06:03:43.801Z"
      },
      {
        "duration": 7,
        "start_time": "2022-09-04T06:03:56.773Z"
      },
      {
        "duration": 7,
        "start_time": "2022-09-04T06:04:29.848Z"
      },
      {
        "duration": 4,
        "start_time": "2022-09-04T06:05:30.509Z"
      },
      {
        "duration": 14,
        "start_time": "2022-09-04T06:05:54.994Z"
      },
      {
        "duration": 6,
        "start_time": "2022-09-04T06:06:22.786Z"
      },
      {
        "duration": 44,
        "start_time": "2022-09-04T06:37:58.078Z"
      },
      {
        "duration": 54,
        "start_time": "2022-09-04T06:38:11.523Z"
      },
      {
        "duration": 64,
        "start_time": "2022-09-04T06:38:25.628Z"
      },
      {
        "duration": 62,
        "start_time": "2022-09-04T06:39:25.941Z"
      },
      {
        "duration": 71,
        "start_time": "2022-09-04T06:39:39.319Z"
      },
      {
        "duration": 9,
        "start_time": "2022-09-04T06:40:11.552Z"
      },
      {
        "duration": 8,
        "start_time": "2022-09-04T06:41:35.626Z"
      },
      {
        "duration": 7,
        "start_time": "2022-09-04T06:43:17.913Z"
      },
      {
        "duration": 10,
        "start_time": "2022-09-04T06:43:35.938Z"
      },
      {
        "duration": 5,
        "start_time": "2022-09-04T06:43:42.947Z"
      },
      {
        "duration": 7,
        "start_time": "2022-09-04T06:43:55.785Z"
      },
      {
        "duration": 101,
        "start_time": "2022-09-04T06:44:58.377Z"
      },
      {
        "duration": 6,
        "start_time": "2022-09-04T06:45:07.690Z"
      },
      {
        "duration": 6,
        "start_time": "2022-09-04T06:45:16.116Z"
      },
      {
        "duration": 1328,
        "start_time": "2022-09-04T06:45:26.644Z"
      },
      {
        "duration": 125,
        "start_time": "2022-09-04T06:45:27.974Z"
      },
      {
        "duration": 14,
        "start_time": "2022-09-04T06:45:28.101Z"
      },
      {
        "duration": 86,
        "start_time": "2022-09-04T06:45:28.117Z"
      },
      {
        "duration": 2064,
        "start_time": "2022-09-04T06:45:28.205Z"
      },
      {
        "duration": 10,
        "start_time": "2022-09-04T06:45:30.271Z"
      },
      {
        "duration": 2,
        "start_time": "2022-09-04T06:45:30.283Z"
      },
      {
        "duration": 14,
        "start_time": "2022-09-04T06:45:30.286Z"
      },
      {
        "duration": 8,
        "start_time": "2022-09-04T06:45:30.302Z"
      },
      {
        "duration": 11,
        "start_time": "2022-09-04T06:45:30.312Z"
      },
      {
        "duration": 9,
        "start_time": "2022-09-04T06:45:30.324Z"
      },
      {
        "duration": 6,
        "start_time": "2022-09-04T06:45:30.334Z"
      },
      {
        "duration": 20,
        "start_time": "2022-09-04T06:45:30.341Z"
      },
      {
        "duration": 33,
        "start_time": "2022-09-04T06:45:30.363Z"
      },
      {
        "duration": 18,
        "start_time": "2022-09-04T06:45:30.398Z"
      },
      {
        "duration": 16,
        "start_time": "2022-09-04T06:45:30.418Z"
      },
      {
        "duration": 13,
        "start_time": "2022-09-04T06:45:30.440Z"
      },
      {
        "duration": 28,
        "start_time": "2022-09-04T06:45:30.455Z"
      },
      {
        "duration": 11,
        "start_time": "2022-09-04T06:45:30.485Z"
      },
      {
        "duration": 41,
        "start_time": "2022-09-04T06:45:30.498Z"
      },
      {
        "duration": 31,
        "start_time": "2022-09-04T06:45:30.541Z"
      },
      {
        "duration": 8,
        "start_time": "2022-09-04T06:45:30.573Z"
      },
      {
        "duration": 6,
        "start_time": "2022-09-04T06:45:30.583Z"
      },
      {
        "duration": 12,
        "start_time": "2022-09-04T06:45:30.590Z"
      },
      {
        "duration": 3180,
        "start_time": "2022-09-04T06:45:30.604Z"
      },
      {
        "duration": 10,
        "start_time": "2022-09-04T06:45:33.786Z"
      },
      {
        "duration": 5,
        "start_time": "2022-09-04T06:45:33.798Z"
      },
      {
        "duration": 65,
        "start_time": "2022-09-04T06:45:33.807Z"
      },
      {
        "duration": 4,
        "start_time": "2022-09-04T06:45:33.874Z"
      },
      {
        "duration": 4,
        "start_time": "2022-09-04T06:45:33.880Z"
      },
      {
        "duration": 13,
        "start_time": "2022-09-04T06:45:33.885Z"
      },
      {
        "duration": 6,
        "start_time": "2022-09-04T06:45:33.900Z"
      },
      {
        "duration": 17,
        "start_time": "2022-09-04T06:45:33.908Z"
      },
      {
        "duration": 7,
        "start_time": "2022-09-04T06:45:33.927Z"
      },
      {
        "duration": 16,
        "start_time": "2022-09-04T06:45:33.956Z"
      },
      {
        "duration": 7,
        "start_time": "2022-09-04T06:45:33.974Z"
      },
      {
        "duration": 81,
        "start_time": "2022-09-04T06:45:33.983Z"
      },
      {
        "duration": 69,
        "start_time": "2022-09-04T06:45:34.065Z"
      },
      {
        "duration": 9,
        "start_time": "2022-09-04T06:45:34.136Z"
      },
      {
        "duration": 35,
        "start_time": "2022-09-04T06:45:34.147Z"
      },
      {
        "duration": 26,
        "start_time": "2022-09-04T06:45:34.185Z"
      },
      {
        "duration": 16,
        "start_time": "2022-09-04T06:45:34.212Z"
      },
      {
        "duration": 14,
        "start_time": "2022-09-04T06:45:34.230Z"
      },
      {
        "duration": 20,
        "start_time": "2022-09-04T06:45:34.246Z"
      },
      {
        "duration": 338,
        "start_time": "2022-09-04T06:45:34.268Z"
      },
      {
        "duration": 6,
        "start_time": "2022-09-04T06:45:34.608Z"
      },
      {
        "duration": 228,
        "start_time": "2022-09-04T06:45:34.616Z"
      },
      {
        "duration": 282,
        "start_time": "2022-09-04T06:45:34.846Z"
      },
      {
        "duration": 262,
        "start_time": "2022-09-04T06:45:35.131Z"
      },
      {
        "duration": 412,
        "start_time": "2022-09-04T06:45:35.395Z"
      },
      {
        "duration": 454,
        "start_time": "2022-09-04T06:45:35.809Z"
      },
      {
        "duration": 537,
        "start_time": "2022-09-04T06:45:36.265Z"
      },
      {
        "duration": 433,
        "start_time": "2022-09-04T06:45:36.864Z"
      },
      {
        "duration": 469,
        "start_time": "2022-09-04T06:45:37.298Z"
      },
      {
        "duration": 238,
        "start_time": "2022-09-04T06:45:37.777Z"
      },
      {
        "duration": 333,
        "start_time": "2022-09-04T06:45:38.017Z"
      },
      {
        "duration": 228,
        "start_time": "2022-09-04T06:45:38.357Z"
      },
      {
        "duration": 239,
        "start_time": "2022-09-04T06:45:38.587Z"
      },
      {
        "duration": 241,
        "start_time": "2022-09-04T06:45:38.828Z"
      },
      {
        "duration": 211,
        "start_time": "2022-09-04T06:45:39.071Z"
      },
      {
        "duration": 306,
        "start_time": "2022-09-04T06:45:39.284Z"
      },
      {
        "duration": 186,
        "start_time": "2022-09-04T06:45:39.592Z"
      },
      {
        "duration": 287,
        "start_time": "2022-09-04T06:45:39.780Z"
      },
      {
        "duration": 208,
        "start_time": "2022-09-04T06:45:40.070Z"
      },
      {
        "duration": 197,
        "start_time": "2022-09-04T06:45:40.280Z"
      },
      {
        "duration": 116,
        "start_time": "2022-09-04T06:45:40.479Z"
      },
      {
        "duration": 380,
        "start_time": "2022-09-04T06:45:40.597Z"
      },
      {
        "duration": 36,
        "start_time": "2022-09-04T06:45:40.980Z"
      },
      {
        "duration": 11,
        "start_time": "2022-09-04T06:45:41.018Z"
      },
      {
        "duration": 287,
        "start_time": "2022-09-04T06:45:41.031Z"
      },
      {
        "duration": 16,
        "start_time": "2022-09-04T06:47:41.956Z"
      },
      {
        "duration": 13,
        "start_time": "2022-09-04T06:47:54.644Z"
      },
      {
        "duration": 16,
        "start_time": "2022-09-04T06:48:01.713Z"
      },
      {
        "duration": 54,
        "start_time": "2022-09-04T06:49:53.654Z"
      },
      {
        "duration": 35,
        "start_time": "2022-09-04T06:50:53.808Z"
      },
      {
        "duration": 1199,
        "start_time": "2022-09-04T06:51:10.779Z"
      },
      {
        "duration": 125,
        "start_time": "2022-09-04T06:51:11.980Z"
      },
      {
        "duration": 16,
        "start_time": "2022-09-04T06:51:12.107Z"
      },
      {
        "duration": 87,
        "start_time": "2022-09-04T06:51:12.125Z"
      },
      {
        "duration": 1991,
        "start_time": "2022-09-04T06:51:12.214Z"
      },
      {
        "duration": 9,
        "start_time": "2022-09-04T06:51:14.207Z"
      },
      {
        "duration": 2,
        "start_time": "2022-09-04T06:51:14.217Z"
      },
      {
        "duration": 10,
        "start_time": "2022-09-04T06:51:14.221Z"
      },
      {
        "duration": 9,
        "start_time": "2022-09-04T06:51:14.233Z"
      },
      {
        "duration": 7,
        "start_time": "2022-09-04T06:51:14.244Z"
      },
      {
        "duration": 13,
        "start_time": "2022-09-04T06:51:14.252Z"
      },
      {
        "duration": 4,
        "start_time": "2022-09-04T06:51:14.266Z"
      },
      {
        "duration": 7,
        "start_time": "2022-09-04T06:51:14.272Z"
      },
      {
        "duration": 11,
        "start_time": "2022-09-04T06:51:14.282Z"
      },
      {
        "duration": 4,
        "start_time": "2022-09-04T06:51:14.295Z"
      },
      {
        "duration": 6,
        "start_time": "2022-09-04T06:51:14.300Z"
      },
      {
        "duration": 7,
        "start_time": "2022-09-04T06:51:14.308Z"
      },
      {
        "duration": 5,
        "start_time": "2022-09-04T06:51:14.316Z"
      },
      {
        "duration": 36,
        "start_time": "2022-09-04T06:51:14.322Z"
      },
      {
        "duration": 12,
        "start_time": "2022-09-04T06:51:14.361Z"
      },
      {
        "duration": 14,
        "start_time": "2022-09-04T06:51:14.375Z"
      },
      {
        "duration": 8,
        "start_time": "2022-09-04T06:51:14.391Z"
      },
      {
        "duration": 6,
        "start_time": "2022-09-04T06:51:14.401Z"
      },
      {
        "duration": 12,
        "start_time": "2022-09-04T06:51:14.409Z"
      },
      {
        "duration": 3422,
        "start_time": "2022-09-04T06:51:14.422Z"
      },
      {
        "duration": 20,
        "start_time": "2022-09-04T06:51:17.846Z"
      },
      {
        "duration": 10,
        "start_time": "2022-09-04T06:51:17.868Z"
      },
      {
        "duration": 44,
        "start_time": "2022-09-04T06:51:17.882Z"
      },
      {
        "duration": 5,
        "start_time": "2022-09-04T06:51:17.928Z"
      },
      {
        "duration": 5,
        "start_time": "2022-09-04T06:51:17.935Z"
      },
      {
        "duration": 26,
        "start_time": "2022-09-04T06:51:17.941Z"
      },
      {
        "duration": 9,
        "start_time": "2022-09-04T06:51:17.969Z"
      },
      {
        "duration": 18,
        "start_time": "2022-09-04T06:51:17.980Z"
      },
      {
        "duration": 7,
        "start_time": "2022-09-04T06:51:18.000Z"
      },
      {
        "duration": 14,
        "start_time": "2022-09-04T06:51:18.009Z"
      },
      {
        "duration": 67,
        "start_time": "2022-09-04T06:51:18.025Z"
      },
      {
        "duration": 65,
        "start_time": "2022-09-04T06:51:18.094Z"
      },
      {
        "duration": 70,
        "start_time": "2022-09-04T06:51:18.160Z"
      },
      {
        "duration": 8,
        "start_time": "2022-09-04T06:51:18.231Z"
      },
      {
        "duration": 18,
        "start_time": "2022-09-04T06:51:18.240Z"
      },
      {
        "duration": 31,
        "start_time": "2022-09-04T06:51:18.260Z"
      },
      {
        "duration": 19,
        "start_time": "2022-09-04T06:51:18.292Z"
      },
      {
        "duration": 15,
        "start_time": "2022-09-04T06:51:18.312Z"
      },
      {
        "duration": 35,
        "start_time": "2022-09-04T06:51:18.328Z"
      },
      {
        "duration": 330,
        "start_time": "2022-09-04T06:51:18.369Z"
      },
      {
        "duration": 7,
        "start_time": "2022-09-04T06:51:18.700Z"
      },
      {
        "duration": 224,
        "start_time": "2022-09-04T06:51:18.708Z"
      },
      {
        "duration": 232,
        "start_time": "2022-09-04T06:51:18.934Z"
      },
      {
        "duration": 389,
        "start_time": "2022-09-04T06:51:19.171Z"
      },
      {
        "duration": 806,
        "start_time": "2022-09-04T06:51:19.568Z"
      },
      {
        "duration": 499,
        "start_time": "2022-09-04T06:51:20.377Z"
      },
      {
        "duration": 392,
        "start_time": "2022-09-04T06:51:20.878Z"
      },
      {
        "duration": 222,
        "start_time": "2022-09-04T06:51:21.272Z"
      },
      {
        "duration": 217,
        "start_time": "2022-09-04T06:51:21.495Z"
      },
      {
        "duration": 227,
        "start_time": "2022-09-04T06:51:21.714Z"
      },
      {
        "duration": 337,
        "start_time": "2022-09-04T06:51:21.942Z"
      },
      {
        "duration": 216,
        "start_time": "2022-09-04T06:51:22.280Z"
      },
      {
        "duration": 237,
        "start_time": "2022-09-04T06:51:22.498Z"
      },
      {
        "duration": 240,
        "start_time": "2022-09-04T06:51:22.737Z"
      },
      {
        "duration": 216,
        "start_time": "2022-09-04T06:51:22.979Z"
      },
      {
        "duration": 302,
        "start_time": "2022-09-04T06:51:23.197Z"
      },
      {
        "duration": 208,
        "start_time": "2022-09-04T06:51:23.500Z"
      },
      {
        "duration": 319,
        "start_time": "2022-09-04T06:51:23.711Z"
      },
      {
        "duration": 198,
        "start_time": "2022-09-04T06:51:24.032Z"
      },
      {
        "duration": 197,
        "start_time": "2022-09-04T06:51:24.232Z"
      },
      {
        "duration": 127,
        "start_time": "2022-09-04T06:51:24.431Z"
      },
      {
        "duration": 372,
        "start_time": "2022-09-04T06:51:24.567Z"
      },
      {
        "duration": 64,
        "start_time": "2022-09-04T06:51:24.941Z"
      },
      {
        "duration": 12,
        "start_time": "2022-09-04T06:51:25.007Z"
      },
      {
        "duration": 383,
        "start_time": "2022-09-04T06:51:25.021Z"
      },
      {
        "duration": 6,
        "start_time": "2022-09-04T06:53:07.280Z"
      },
      {
        "duration": 45,
        "start_time": "2022-09-04T06:55:36.525Z"
      },
      {
        "duration": 109,
        "start_time": "2022-09-04T07:08:06.977Z"
      },
      {
        "duration": 26,
        "start_time": "2022-09-04T07:09:51.226Z"
      },
      {
        "duration": 53,
        "start_time": "2022-09-04T07:22:03.388Z"
      },
      {
        "duration": 88,
        "start_time": "2022-09-04T07:22:12.594Z"
      },
      {
        "duration": 48,
        "start_time": "2022-09-04T07:22:21.392Z"
      },
      {
        "duration": 6,
        "start_time": "2022-09-04T07:22:34.586Z"
      },
      {
        "duration": 7,
        "start_time": "2022-09-04T07:23:08.468Z"
      },
      {
        "duration": 10,
        "start_time": "2022-09-04T07:29:25.087Z"
      },
      {
        "duration": 19,
        "start_time": "2022-09-04T07:29:58.547Z"
      },
      {
        "duration": 12,
        "start_time": "2022-09-04T07:31:12.062Z"
      },
      {
        "duration": 10,
        "start_time": "2022-09-04T07:32:17.030Z"
      },
      {
        "duration": 20,
        "start_time": "2022-09-04T07:35:04.138Z"
      },
      {
        "duration": 81,
        "start_time": "2022-09-04T07:35:52.082Z"
      },
      {
        "duration": 75,
        "start_time": "2022-09-04T07:35:57.292Z"
      },
      {
        "duration": 225,
        "start_time": "2022-09-04T07:41:21.420Z"
      },
      {
        "duration": 281,
        "start_time": "2022-09-04T07:42:54.136Z"
      },
      {
        "duration": 203,
        "start_time": "2022-09-04T07:44:22.850Z"
      },
      {
        "duration": 238,
        "start_time": "2022-09-04T07:45:25.528Z"
      },
      {
        "duration": 208,
        "start_time": "2022-09-04T07:46:05.927Z"
      },
      {
        "duration": 226,
        "start_time": "2022-09-04T07:46:45.025Z"
      },
      {
        "duration": 210,
        "start_time": "2022-09-04T07:48:57.169Z"
      },
      {
        "duration": 180,
        "start_time": "2022-09-04T07:49:07.447Z"
      },
      {
        "duration": 192,
        "start_time": "2022-09-04T07:49:41.944Z"
      },
      {
        "duration": 210,
        "start_time": "2022-09-04T07:49:45.675Z"
      },
      {
        "duration": 301,
        "start_time": "2022-09-04T07:50:58.125Z"
      },
      {
        "duration": 1104,
        "start_time": "2022-09-04T07:51:27.819Z"
      },
      {
        "duration": 1190,
        "start_time": "2022-09-04T07:51:42.137Z"
      },
      {
        "duration": 132,
        "start_time": "2022-09-04T07:51:43.329Z"
      },
      {
        "duration": 17,
        "start_time": "2022-09-04T07:51:43.463Z"
      },
      {
        "duration": 81,
        "start_time": "2022-09-04T07:51:43.483Z"
      },
      {
        "duration": 2119,
        "start_time": "2022-09-04T07:51:43.566Z"
      },
      {
        "duration": 11,
        "start_time": "2022-09-04T07:51:45.688Z"
      },
      {
        "duration": 48,
        "start_time": "2022-09-04T07:51:45.701Z"
      },
      {
        "duration": 12,
        "start_time": "2022-09-04T07:51:45.751Z"
      },
      {
        "duration": 39,
        "start_time": "2022-09-04T07:51:45.765Z"
      },
      {
        "duration": 20,
        "start_time": "2022-09-04T07:51:45.807Z"
      },
      {
        "duration": 18,
        "start_time": "2022-09-04T07:51:45.828Z"
      },
      {
        "duration": 28,
        "start_time": "2022-09-04T07:51:45.847Z"
      },
      {
        "duration": 14,
        "start_time": "2022-09-04T07:51:45.876Z"
      },
      {
        "duration": 14,
        "start_time": "2022-09-04T07:51:45.892Z"
      },
      {
        "duration": 11,
        "start_time": "2022-09-04T07:51:45.908Z"
      },
      {
        "duration": 11,
        "start_time": "2022-09-04T07:51:45.921Z"
      },
      {
        "duration": 12,
        "start_time": "2022-09-04T07:51:45.934Z"
      },
      {
        "duration": 31,
        "start_time": "2022-09-04T07:51:45.947Z"
      },
      {
        "duration": 10,
        "start_time": "2022-09-04T07:51:45.981Z"
      },
      {
        "duration": 10,
        "start_time": "2022-09-04T07:51:45.993Z"
      },
      {
        "duration": 19,
        "start_time": "2022-09-04T07:51:46.005Z"
      },
      {
        "duration": 10,
        "start_time": "2022-09-04T07:51:46.026Z"
      },
      {
        "duration": 18,
        "start_time": "2022-09-04T07:51:46.038Z"
      },
      {
        "duration": 25,
        "start_time": "2022-09-04T07:51:46.058Z"
      },
      {
        "duration": 14,
        "start_time": "2022-09-04T07:51:46.085Z"
      },
      {
        "duration": 22,
        "start_time": "2022-09-04T07:51:46.101Z"
      },
      {
        "duration": 10,
        "start_time": "2022-09-04T07:51:46.125Z"
      },
      {
        "duration": 23,
        "start_time": "2022-09-04T07:51:46.140Z"
      },
      {
        "duration": 30,
        "start_time": "2022-09-04T07:51:46.165Z"
      },
      {
        "duration": 4,
        "start_time": "2022-09-04T07:51:46.197Z"
      },
      {
        "duration": 15,
        "start_time": "2022-09-04T07:51:46.203Z"
      },
      {
        "duration": 25,
        "start_time": "2022-09-04T07:51:46.220Z"
      },
      {
        "duration": 44,
        "start_time": "2022-09-04T07:51:46.246Z"
      },
      {
        "duration": 16,
        "start_time": "2022-09-04T07:51:46.292Z"
      },
      {
        "duration": 22,
        "start_time": "2022-09-04T07:51:46.310Z"
      },
      {
        "duration": 35,
        "start_time": "2022-09-04T07:51:46.333Z"
      },
      {
        "duration": 79,
        "start_time": "2022-09-04T07:51:46.370Z"
      },
      {
        "duration": 82,
        "start_time": "2022-09-04T07:51:46.451Z"
      },
      {
        "duration": 8,
        "start_time": "2022-09-04T07:51:46.534Z"
      },
      {
        "duration": 20,
        "start_time": "2022-09-04T07:51:46.543Z"
      },
      {
        "duration": 43,
        "start_time": "2022-09-04T07:51:46.564Z"
      },
      {
        "duration": 16,
        "start_time": "2022-09-04T07:51:46.609Z"
      },
      {
        "duration": 14,
        "start_time": "2022-09-04T07:51:46.626Z"
      },
      {
        "duration": 26,
        "start_time": "2022-09-04T07:51:46.642Z"
      },
      {
        "duration": 334,
        "start_time": "2022-09-04T07:51:46.669Z"
      },
      {
        "duration": 6,
        "start_time": "2022-09-04T07:51:47.005Z"
      },
      {
        "duration": 222,
        "start_time": "2022-09-04T07:51:47.012Z"
      },
      {
        "duration": 212,
        "start_time": "2022-09-04T07:51:47.236Z"
      },
      {
        "duration": 293,
        "start_time": "2022-09-04T07:51:47.450Z"
      },
      {
        "duration": 219,
        "start_time": "2022-09-04T07:51:47.744Z"
      },
      {
        "duration": 205,
        "start_time": "2022-09-04T07:51:47.965Z"
      },
      {
        "duration": 209,
        "start_time": "2022-09-04T07:51:48.171Z"
      },
      {
        "duration": 229,
        "start_time": "2022-09-04T07:51:48.382Z"
      },
      {
        "duration": 296,
        "start_time": "2022-09-04T07:51:48.613Z"
      },
      {
        "duration": 232,
        "start_time": "2022-09-04T07:51:48.910Z"
      },
      {
        "duration": 364,
        "start_time": "2022-09-04T07:51:49.144Z"
      },
      {
        "duration": 228,
        "start_time": "2022-09-04T07:51:49.510Z"
      },
      {
        "duration": 232,
        "start_time": "2022-09-04T07:51:49.740Z"
      },
      {
        "duration": 224,
        "start_time": "2022-09-04T07:51:49.974Z"
      },
      {
        "duration": 217,
        "start_time": "2022-09-04T07:51:50.199Z"
      },
      {
        "duration": 303,
        "start_time": "2022-09-04T07:51:50.418Z"
      },
      {
        "duration": 199,
        "start_time": "2022-09-04T07:51:50.722Z"
      },
      {
        "duration": 290,
        "start_time": "2022-09-04T07:51:50.923Z"
      },
      {
        "duration": 205,
        "start_time": "2022-09-04T07:51:51.214Z"
      },
      {
        "duration": 197,
        "start_time": "2022-09-04T07:51:51.421Z"
      },
      {
        "duration": 144,
        "start_time": "2022-09-04T07:51:51.620Z"
      },
      {
        "duration": 373,
        "start_time": "2022-09-04T07:51:51.766Z"
      },
      {
        "duration": 50,
        "start_time": "2022-09-04T07:51:52.141Z"
      },
      {
        "duration": 11,
        "start_time": "2022-09-04T07:51:52.192Z"
      },
      {
        "duration": 265,
        "start_time": "2022-09-04T07:51:52.204Z"
      },
      {
        "duration": 1071,
        "start_time": "2022-09-04T07:58:41.681Z"
      },
      {
        "duration": 116,
        "start_time": "2022-09-04T07:58:42.754Z"
      },
      {
        "duration": 13,
        "start_time": "2022-09-04T07:58:42.872Z"
      },
      {
        "duration": 80,
        "start_time": "2022-09-04T07:58:42.887Z"
      },
      {
        "duration": 1872,
        "start_time": "2022-09-04T07:58:42.969Z"
      },
      {
        "duration": 9,
        "start_time": "2022-09-04T07:58:44.842Z"
      },
      {
        "duration": 24,
        "start_time": "2022-09-04T07:58:44.853Z"
      },
      {
        "duration": 9,
        "start_time": "2022-09-04T07:58:44.878Z"
      },
      {
        "duration": 10,
        "start_time": "2022-09-04T07:58:44.890Z"
      },
      {
        "duration": 6,
        "start_time": "2022-09-04T07:58:44.903Z"
      },
      {
        "duration": 9,
        "start_time": "2022-09-04T07:58:44.910Z"
      },
      {
        "duration": 4,
        "start_time": "2022-09-04T07:58:44.920Z"
      },
      {
        "duration": 33,
        "start_time": "2022-09-04T07:58:44.925Z"
      },
      {
        "duration": 7,
        "start_time": "2022-09-04T07:58:44.960Z"
      },
      {
        "duration": 6,
        "start_time": "2022-09-04T07:58:44.968Z"
      },
      {
        "duration": 5,
        "start_time": "2022-09-04T07:58:44.976Z"
      },
      {
        "duration": 10,
        "start_time": "2022-09-04T07:58:44.982Z"
      },
      {
        "duration": 11,
        "start_time": "2022-09-04T07:58:44.994Z"
      },
      {
        "duration": 8,
        "start_time": "2022-09-04T07:58:45.006Z"
      },
      {
        "duration": 14,
        "start_time": "2022-09-04T07:58:45.015Z"
      },
      {
        "duration": 14,
        "start_time": "2022-09-04T07:58:45.058Z"
      },
      {
        "duration": 11,
        "start_time": "2022-09-04T07:58:45.073Z"
      },
      {
        "duration": 14,
        "start_time": "2022-09-04T07:58:45.085Z"
      },
      {
        "duration": 6,
        "start_time": "2022-09-04T07:58:45.100Z"
      },
      {
        "duration": 52,
        "start_time": "2022-09-04T07:58:45.107Z"
      },
      {
        "duration": 4,
        "start_time": "2022-09-04T07:58:45.160Z"
      },
      {
        "duration": 12,
        "start_time": "2022-09-04T07:58:45.166Z"
      },
      {
        "duration": 5,
        "start_time": "2022-09-04T07:58:45.182Z"
      },
      {
        "duration": 20,
        "start_time": "2022-09-04T07:58:45.188Z"
      },
      {
        "duration": 4,
        "start_time": "2022-09-04T07:58:45.209Z"
      },
      {
        "duration": 56,
        "start_time": "2022-09-04T07:58:45.215Z"
      },
      {
        "duration": 19,
        "start_time": "2022-09-04T07:58:45.274Z"
      },
      {
        "duration": 33,
        "start_time": "2022-09-04T07:58:45.295Z"
      },
      {
        "duration": 10,
        "start_time": "2022-09-04T07:58:45.331Z"
      },
      {
        "duration": 25,
        "start_time": "2022-09-04T07:58:45.343Z"
      },
      {
        "duration": 52,
        "start_time": "2022-09-04T07:58:45.370Z"
      },
      {
        "duration": 82,
        "start_time": "2022-09-04T07:58:45.424Z"
      },
      {
        "duration": 83,
        "start_time": "2022-09-04T07:58:45.508Z"
      },
      {
        "duration": 7,
        "start_time": "2022-09-04T07:58:45.593Z"
      },
      {
        "duration": 15,
        "start_time": "2022-09-04T07:58:45.602Z"
      },
      {
        "duration": 39,
        "start_time": "2022-09-04T07:58:45.618Z"
      },
      {
        "duration": 20,
        "start_time": "2022-09-04T07:58:45.659Z"
      },
      {
        "duration": 29,
        "start_time": "2022-09-04T07:58:45.681Z"
      },
      {
        "duration": 16,
        "start_time": "2022-09-04T07:58:45.712Z"
      },
      {
        "duration": 348,
        "start_time": "2022-09-04T07:58:45.730Z"
      },
      {
        "duration": 8,
        "start_time": "2022-09-04T07:58:46.080Z"
      },
      {
        "duration": 282,
        "start_time": "2022-09-04T07:58:46.090Z"
      },
      {
        "duration": 208,
        "start_time": "2022-09-04T07:58:46.373Z"
      },
      {
        "duration": 285,
        "start_time": "2022-09-04T07:58:46.582Z"
      },
      {
        "duration": 217,
        "start_time": "2022-09-04T07:58:46.868Z"
      },
      {
        "duration": 212,
        "start_time": "2022-09-04T07:58:47.086Z"
      },
      {
        "duration": 195,
        "start_time": "2022-09-04T07:58:47.300Z"
      },
      {
        "duration": 184,
        "start_time": "2022-09-04T07:58:47.496Z"
      },
      {
        "duration": 271,
        "start_time": "2022-09-04T07:58:47.682Z"
      },
      {
        "duration": 202,
        "start_time": "2022-09-04T07:58:47.957Z"
      },
      {
        "duration": 287,
        "start_time": "2022-09-04T07:58:48.161Z"
      },
      {
        "duration": 207,
        "start_time": "2022-09-04T07:58:48.450Z"
      },
      {
        "duration": 225,
        "start_time": "2022-09-04T07:58:48.659Z"
      },
      {
        "duration": 227,
        "start_time": "2022-09-04T07:58:48.885Z"
      },
      {
        "duration": 228,
        "start_time": "2022-09-04T07:58:49.113Z"
      },
      {
        "duration": 309,
        "start_time": "2022-09-04T07:58:49.343Z"
      },
      {
        "duration": 181,
        "start_time": "2022-09-04T07:58:49.657Z"
      },
      {
        "duration": 273,
        "start_time": "2022-09-04T07:58:49.841Z"
      },
      {
        "duration": 179,
        "start_time": "2022-09-04T07:58:50.116Z"
      },
      {
        "duration": 186,
        "start_time": "2022-09-04T07:58:50.298Z"
      },
      {
        "duration": 118,
        "start_time": "2022-09-04T07:58:50.485Z"
      },
      {
        "duration": 494,
        "start_time": "2022-09-04T07:58:50.605Z"
      },
      {
        "duration": 38,
        "start_time": "2022-09-04T07:58:51.100Z"
      },
      {
        "duration": 22,
        "start_time": "2022-09-04T07:58:51.139Z"
      },
      {
        "duration": 254,
        "start_time": "2022-09-04T07:58:51.162Z"
      },
      {
        "duration": 706,
        "start_time": "2022-09-04T07:59:48.427Z"
      },
      {
        "duration": 172,
        "start_time": "2022-09-04T08:06:40.581Z"
      },
      {
        "duration": 178,
        "start_time": "2022-09-04T08:07:01.716Z"
      },
      {
        "duration": 12,
        "start_time": "2022-09-04T08:08:47.810Z"
      },
      {
        "duration": 190,
        "start_time": "2022-09-04T08:10:27.693Z"
      },
      {
        "duration": 214,
        "start_time": "2022-09-04T08:11:11.270Z"
      },
      {
        "duration": 216,
        "start_time": "2022-09-04T08:11:46.315Z"
      },
      {
        "duration": 194,
        "start_time": "2022-09-04T08:12:14.748Z"
      },
      {
        "duration": 287,
        "start_time": "2022-09-04T08:13:17.414Z"
      },
      {
        "duration": 180,
        "start_time": "2022-09-04T08:13:58.634Z"
      },
      {
        "duration": 256,
        "start_time": "2022-09-04T08:14:33.184Z"
      },
      {
        "duration": 19,
        "start_time": "2022-09-04T08:16:59.517Z"
      },
      {
        "duration": 42,
        "start_time": "2022-09-04T08:17:48.001Z"
      },
      {
        "duration": 17,
        "start_time": "2022-09-04T08:18:03.874Z"
      },
      {
        "duration": 10,
        "start_time": "2022-09-04T08:25:42.503Z"
      },
      {
        "duration": 593,
        "start_time": "2022-09-04T08:29:47.253Z"
      },
      {
        "duration": 685,
        "start_time": "2022-09-04T08:33:55.544Z"
      },
      {
        "duration": 680,
        "start_time": "2022-09-04T08:34:29.890Z"
      },
      {
        "duration": 706,
        "start_time": "2022-09-04T08:35:08.448Z"
      },
      {
        "duration": 609,
        "start_time": "2022-09-04T08:35:35.747Z"
      },
      {
        "duration": 575,
        "start_time": "2022-09-04T08:36:33.894Z"
      },
      {
        "duration": 692,
        "start_time": "2022-09-04T08:37:49.798Z"
      },
      {
        "duration": 618,
        "start_time": "2022-09-04T08:38:36.656Z"
      },
      {
        "duration": 1272,
        "start_time": "2022-09-04T11:16:52.978Z"
      },
      {
        "duration": 375,
        "start_time": "2022-09-04T11:16:54.252Z"
      },
      {
        "duration": 13,
        "start_time": "2022-09-04T11:16:54.629Z"
      },
      {
        "duration": 75,
        "start_time": "2022-09-04T11:16:54.644Z"
      },
      {
        "duration": 1828,
        "start_time": "2022-09-04T11:16:54.721Z"
      },
      {
        "duration": 9,
        "start_time": "2022-09-04T11:16:56.550Z"
      },
      {
        "duration": 22,
        "start_time": "2022-09-04T11:16:56.560Z"
      },
      {
        "duration": 7,
        "start_time": "2022-09-04T11:16:56.584Z"
      },
      {
        "duration": 8,
        "start_time": "2022-09-04T11:16:56.592Z"
      },
      {
        "duration": 9,
        "start_time": "2022-09-04T11:16:56.602Z"
      },
      {
        "duration": 29,
        "start_time": "2022-09-04T11:16:56.612Z"
      },
      {
        "duration": 3,
        "start_time": "2022-09-04T11:16:56.643Z"
      },
      {
        "duration": 6,
        "start_time": "2022-09-04T11:16:56.648Z"
      },
      {
        "duration": 7,
        "start_time": "2022-09-04T11:16:56.656Z"
      },
      {
        "duration": 4,
        "start_time": "2022-09-04T11:16:56.664Z"
      },
      {
        "duration": 8,
        "start_time": "2022-09-04T11:16:56.669Z"
      },
      {
        "duration": 8,
        "start_time": "2022-09-04T11:16:56.678Z"
      },
      {
        "duration": 4,
        "start_time": "2022-09-04T11:16:56.688Z"
      },
      {
        "duration": 7,
        "start_time": "2022-09-04T11:16:56.693Z"
      },
      {
        "duration": 38,
        "start_time": "2022-09-04T11:16:56.701Z"
      },
      {
        "duration": 13,
        "start_time": "2022-09-04T11:16:56.741Z"
      },
      {
        "duration": 10,
        "start_time": "2022-09-04T11:16:56.756Z"
      },
      {
        "duration": 8,
        "start_time": "2022-09-04T11:16:56.768Z"
      },
      {
        "duration": 6,
        "start_time": "2022-09-04T11:16:56.778Z"
      },
      {
        "duration": 7,
        "start_time": "2022-09-04T11:16:56.785Z"
      },
      {
        "duration": 55,
        "start_time": "2022-09-04T11:16:56.793Z"
      },
      {
        "duration": 16,
        "start_time": "2022-09-04T11:16:56.850Z"
      },
      {
        "duration": 6,
        "start_time": "2022-09-04T11:16:56.869Z"
      },
      {
        "duration": 20,
        "start_time": "2022-09-04T11:16:56.877Z"
      },
      {
        "duration": 5,
        "start_time": "2022-09-04T11:16:56.898Z"
      },
      {
        "duration": 39,
        "start_time": "2022-09-04T11:16:56.904Z"
      },
      {
        "duration": 6,
        "start_time": "2022-09-04T11:16:56.944Z"
      },
      {
        "duration": 13,
        "start_time": "2022-09-04T11:16:56.952Z"
      },
      {
        "duration": 6,
        "start_time": "2022-09-04T11:16:56.966Z"
      },
      {
        "duration": 10,
        "start_time": "2022-09-04T11:16:56.974Z"
      },
      {
        "duration": 30,
        "start_time": "2022-09-04T11:16:56.985Z"
      },
      {
        "duration": 62,
        "start_time": "2022-09-04T11:16:57.038Z"
      },
      {
        "duration": 72,
        "start_time": "2022-09-04T11:16:57.102Z"
      },
      {
        "duration": 6,
        "start_time": "2022-09-04T11:16:57.176Z"
      },
      {
        "duration": 5,
        "start_time": "2022-09-04T11:16:57.183Z"
      },
      {
        "duration": 68,
        "start_time": "2022-09-04T11:16:57.189Z"
      },
      {
        "duration": 15,
        "start_time": "2022-09-04T11:16:57.259Z"
      },
      {
        "duration": 17,
        "start_time": "2022-09-04T11:16:57.275Z"
      },
      {
        "duration": 14,
        "start_time": "2022-09-04T11:16:57.293Z"
      },
      {
        "duration": 320,
        "start_time": "2022-09-04T11:16:57.309Z"
      },
      {
        "duration": 12,
        "start_time": "2022-09-04T11:16:57.630Z"
      },
      {
        "duration": 204,
        "start_time": "2022-09-04T11:16:57.644Z"
      },
      {
        "duration": 222,
        "start_time": "2022-09-04T11:16:57.850Z"
      },
      {
        "duration": 268,
        "start_time": "2022-09-04T11:16:58.073Z"
      },
      {
        "duration": 212,
        "start_time": "2022-09-04T11:16:58.343Z"
      },
      {
        "duration": 196,
        "start_time": "2022-09-04T11:16:58.556Z"
      },
      {
        "duration": 207,
        "start_time": "2022-09-04T11:16:58.754Z"
      },
      {
        "duration": 197,
        "start_time": "2022-09-04T11:16:58.963Z"
      },
      {
        "duration": 254,
        "start_time": "2022-09-04T11:16:59.161Z"
      },
      {
        "duration": 179,
        "start_time": "2022-09-04T11:16:59.417Z"
      },
      {
        "duration": 197,
        "start_time": "2022-09-04T11:16:59.598Z"
      },
      {
        "duration": 291,
        "start_time": "2022-09-04T11:16:59.797Z"
      },
      {
        "duration": 195,
        "start_time": "2022-09-04T11:17:00.090Z"
      },
      {
        "duration": 193,
        "start_time": "2022-09-04T11:17:00.286Z"
      },
      {
        "duration": 179,
        "start_time": "2022-09-04T11:17:00.481Z"
      },
      {
        "duration": 235,
        "start_time": "2022-09-04T11:17:00.662Z"
      },
      {
        "duration": 188,
        "start_time": "2022-09-04T11:17:00.899Z"
      },
      {
        "duration": 192,
        "start_time": "2022-09-04T11:17:01.088Z"
      },
      {
        "duration": 177,
        "start_time": "2022-09-04T11:17:01.282Z"
      },
      {
        "duration": 285,
        "start_time": "2022-09-04T11:17:01.461Z"
      },
      {
        "duration": 13,
        "start_time": "2022-09-04T11:17:01.748Z"
      },
      {
        "duration": 114,
        "start_time": "2022-09-04T11:17:01.763Z"
      },
      {
        "duration": 570,
        "start_time": "2022-09-04T11:17:01.879Z"
      },
      {
        "duration": 92,
        "start_time": "2022-09-04T11:17:02.450Z"
      },
      {
        "duration": 12,
        "start_time": "2022-09-04T11:17:02.544Z"
      },
      {
        "duration": 248,
        "start_time": "2022-09-04T11:17:02.557Z"
      },
      {
        "duration": 96,
        "start_time": "2022-09-04T11:17:30.324Z"
      },
      {
        "duration": 47,
        "start_time": "2022-09-04T11:37:46.285Z"
      }
    ],
    "kernelspec": {
      "display_name": "Python 3 (ipykernel)",
      "language": "python",
      "name": "python3"
    },
    "language_info": {
      "codemirror_mode": {
        "name": "ipython",
        "version": 3
      },
      "file_extension": ".py",
      "mimetype": "text/x-python",
      "name": "python",
      "nbconvert_exporter": "python",
      "pygments_lexer": "ipython3",
      "version": "3.9.5"
    },
    "toc": {
      "base_numbering": 1,
      "nav_menu": {},
      "number_sections": true,
      "sideBar": true,
      "skip_h1_title": true,
      "title_cell": "Table of Contents",
      "title_sidebar": "Contents",
      "toc_cell": false,
      "toc_position": {
        "height": "calc(100% - 180px)",
        "left": "10px",
        "top": "150px",
        "width": "165px"
      },
      "toc_section_display": true,
      "toc_window_display": true
    },
    "colab": {
      "provenance": []
    }
  },
  "nbformat": 4,
  "nbformat_minor": 0
}